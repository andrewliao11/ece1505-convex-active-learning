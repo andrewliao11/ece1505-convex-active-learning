{
 "cells": [
  {
   "cell_type": "code",
   "execution_count": 1,
   "metadata": {},
   "outputs": [],
   "source": [
    "import json\n",
    "import numpy as np\n",
    "import plotly.graph_objects as go\n",
    "import plotly.express as px\n",
    "from glob import glob\n",
    "from pathlib import Path\n",
    "template = \"plotly_white\"\n",
    "colors = px.colors.qualitative.Vivid"
   ]
  },
  {
   "cell_type": "code",
   "execution_count": 2,
   "metadata": {},
   "outputs": [],
   "source": [
    "root_dir = Path(\"/Users/andrew/Desktop/exp\")\n",
    "def get_data(pattern, x_axis):\n",
    "    xs = []\n",
    "    ys = []\n",
    "    for p in root_dir.glob(pattern):\n",
    "        p = p / \"results.json\"\n",
    "        if p.exists():\n",
    "            data = json.load(p.open())\n",
    "            x = np.array([i[\"perc_labeled\"] * 100 for i in data])\n",
    "            y = np.array([i[\"accuracy\"] * 100 for i in data])\n",
    "            xs.append(x)\n",
    "            ys.append(y)\n",
    "        else:\n",
    "            print(\"Cannot find file\", p)\n",
    "\n",
    "    y_mean_list = []\n",
    "    y_std_list = []\n",
    "    for x_q in x_axis:\n",
    "        vs = []\n",
    "        for x, y in zip(xs, ys):\n",
    "            idx = np.where(x >= x_q)[0][0]\n",
    "            if idx >= 1:\n",
    "                v = y[idx-1] + (y[idx] - y[idx-1]) / (x[idx] - x[idx-1]) * (x_q - x[idx-1])\n",
    "            else:\n",
    "                v = y[0]\n",
    "            vs.append(v)\n",
    "        v_mean = np.mean(vs)\n",
    "        v_std = np.std(vs)\n",
    "        y_mean_list.append(v_mean)\n",
    "        y_std_list.append(v_std)\n",
    "        \n",
    "    y_mean_list = np.array(y_mean_list)\n",
    "    y_std_list = np.array(y_std_list)\n",
    "    return y_mean_list, y_std_list"
   ]
  },
  {
   "cell_type": "code",
   "execution_count": 3,
   "metadata": {},
   "outputs": [],
   "source": [
    "def plot(patterns, names, title=\"\", filename=None, opacity=0.1):\n",
    "    x_init = 10\n",
    "    x_axis = np.linspace(x_init, 100, 30)\n",
    "    y_min = []\n",
    "    y_max = []\n",
    "    fig = go.Figure()\n",
    "    for i, (pattern, name) in enumerate(zip(patterns, names)):\n",
    "\n",
    "        y_mean_list, y_std_list = get_data(pattern, x_axis)\n",
    "        y_min.append((y_mean_list-y_std_list).min())\n",
    "        y_max.append((y_mean_list+y_std_list).max())\n",
    "\n",
    "        fig.add_trace(go.Scatter(x=x_axis, \n",
    "                                 y=y_mean_list-y_std_list, \n",
    "                                 name=name, \n",
    "                                 mode=\"lines\", \n",
    "                                 line_color=colors[i], \n",
    "                                 fillcolor=colors[i].replace('rgb', 'rgba').replace(')', ', {})'.format(opacity)), \n",
    "                                 fill=None, \n",
    "                                 showlegend=False))\n",
    "        fig.add_trace(go.Scatter(x=x_axis, \n",
    "                                 y=y_mean_list+y_std_list, \n",
    "                                 name=name, \n",
    "                                 mode=\"lines\", \n",
    "                                 line_color=colors[i], \n",
    "                                 fillcolor=colors[i].replace('rgb', 'rgba').replace(')', ', {})'.format(opacity)), \n",
    "                                 fill=\"tonexty\", \n",
    "                                 showlegend=True))\n",
    "\n",
    "\n",
    "\n",
    "    fig.update_xaxes(showline=True, linewidth=1.5, linecolor='Black', mirror=True, range=[x_init, 100])\n",
    "    fig.update_yaxes(showline=True, linewidth=1.5, linecolor='Black', mirror=True, range=[max(0, min(y_min)), min(100, max(y_max)+10)])\n",
    "\n",
    "    fig.update_layout(width=500, \n",
    "                      height=400, \n",
    "                      font=dict(size=15), \n",
    "                      margin=dict(t=40, b=40, l=0, r=0),\n",
    "                      legend=dict(x=0.98,\n",
    "                                  y=0.05,\n",
    "                                  yanchor=\"bottom\",\n",
    "                                  xanchor=\"right\",\n",
    "                                  bgcolor= 'rgba(0,0,0,0)',\n",
    "                                  bordercolor=\"Black\",\n",
    "                                  borderwidth=1), \n",
    "                      title=title, \n",
    "                      title_x=0.5, \n",
    "                      xaxis_title=\"#labeled data (%)\", \n",
    "                      yaxis_title=\"Accuracy (%)\", \n",
    "                      template=template)\n",
    "    \n",
    "    if filename:\n",
    "        fig.write_image(filename)\n",
    "    fig.show()"
   ]
  },
  {
   "cell_type": "code",
   "execution_count": 57,
   "metadata": {},
   "outputs": [],
   "source": [
    "seed = \"*\"\n",
    "N = 100\n",
    "K = 10 # number of classes\n",
    "sigma = 3 # 3, 5\n",
    "alpha = 2 # 1, 2, 3\n",
    "random = seed + \"-N_{}-datatype_blob-K_{}-learner_SVMLearner-sampler_RandomSampler*\".format(N, K)\n",
    "optimal = seed + \"-N_{}-datatype_blob-K_{}-learner_SVMLearner-sampler_OptimalSampler*\".format(N, K)\n",
    "argmax = seed + \"-N_{}-datatype_blob-K_{}-learner_SVMLearner-sampler_CVXSampler-sigma_{}-alpha_{}-confidence_type_learner-clustering_type_none\".format(N, K, sigma, alpha)\n",
    "spectral = seed + \"-N_{}-datatype_blob-K_{}-learner_SVMLearner-sampler_CVXSampler-sigma_{}-alpha_{}-confidence_type_learner-clustering_type_spectral\".format(N, K, sigma, alpha)\n",
    "argmax_perfect_onehot = seed + \"-N_{}-datatype_blob-K_{}-learner_SVMLearner-sampler_CVXSampler-sigma_{}-alpha_{}-confidence_type_perfect_onehot_prob-clustering_type_none\".format(N, K, sigma, alpha)\n",
    "argmax_perfect_distributional = seed + \"-N_{}-datatype_blob-K_{}-learner_SVMLearner-sampler_CVXSampler-sigma_{}-alpha_{}-confidence_type_perfect_distributional_prob-clustering_type_none\".format(N, K, sigma, alpha)\n",
    "spectral_perfect_onehot = seed + \"-N_{}-datatype_blob-K_{}-learner_SVMLearner-sampler_CVXSampler-sigma_{}-alpha_{}-confidence_type_perfect_onehot_prob-clustering_type_spectral\".format(N, K, sigma, alpha)\n",
    "spectral_perfect_distributional = seed + \"-N_{}-datatype_blob-K_{}-learner_SVMLearner-sampler_CVXSampler-sigma_{}-alpha_{}-confidence_type_perfect_distributional_prob-clustering_type_spectral\".format(N, K, sigma, alpha)\n",
    "argmax_perfect_diversity = seed + \"-N_{}-datatype_blob-K_{}-learner_SVMLearner-sampler_CVXSampler-sigma_{}-alpha_{}-confidence_type_learner-clustering_type_none-diversity_type_optimal\".format(N, K, sigma, alpha)\n",
    "spectral_perfect_diversity = seed + \"-N_{}-datatype_blob-K_{}-learner_SVMLearner-sampler_CVXSampler-sigma_{}-alpha_{}-confidence_type_learner-clustering_type_spectral-diversity_type_optimal\".format(N, K, sigma, alpha)"
   ]
  },
  {
   "cell_type": "code",
   "execution_count": 55,
   "metadata": {},
   "outputs": [
    {
     "data": {
      "application/vnd.plotly.v1+json": {
       "config": {
        "plotlyServerURL": "https://plot.ly"
       },
       "data": [
        {
         "fillcolor": "rgba(229, 134, 6, 0.3)",
         "line": {
          "color": "rgb(229, 134, 6)"
         },
         "mode": "lines",
         "name": "RandomSampler",
         "showlegend": false,
         "type": "scatter",
         "x": [
          10,
          13.10344827586207,
          16.20689655172414,
          19.310344827586206,
          22.413793103448278,
          25.517241379310345,
          28.620689655172413,
          31.724137931034484,
          34.827586206896555,
          37.93103448275862,
          41.03448275862069,
          44.13793103448276,
          47.241379310344826,
          50.3448275862069,
          53.44827586206897,
          56.55172413793103,
          59.6551724137931,
          62.758620689655174,
          65.86206896551724,
          68.9655172413793,
          72.06896551724138,
          75.17241379310344,
          78.27586206896552,
          81.37931034482759,
          84.48275862068965,
          87.58620689655173,
          90.6896551724138,
          93.79310344827586,
          96.89655172413794,
          100
         ],
         "y": [
          24.269398718640137,
          41.93792531050774,
          50.64439924847156,
          50.04361028326693,
          72.71544835052813,
          78.49062352599711,
          83.05961609623729,
          85.5283249732721,
          89.64295545758007,
          89.97467959812533,
          90.08278079304617,
          90.1500686176837,
          90.16302586520489,
          90.1014853908857,
          89.8551126904325,
          89.75623547358362,
          89.77390457586725,
          89.86867428286452,
          89.95385508932672,
          90.03117069329763,
          90.52312392578536,
          91.18767827121842,
          91.47514346476521,
          91.64655405416276,
          91.67119558430123,
          91.61369614314562,
          91.54735428471234,
          91.50350515226762,
          91.40354240223951,
          91.27251255459173
         ]
        },
        {
         "fill": "tonexty",
         "fillcolor": "rgba(229, 134, 6, 0.3)",
         "line": {
          "color": "rgb(229, 134, 6)"
         },
         "mode": "lines",
         "name": "RandomSampler",
         "showlegend": true,
         "type": "scatter",
         "x": [
          10,
          13.10344827586207,
          16.20689655172414,
          19.310344827586206,
          22.413793103448278,
          25.517241379310345,
          28.620689655172413,
          31.724137931034484,
          34.827586206896555,
          37.93103448275862,
          41.03448275862069,
          44.13793103448276,
          47.241379310344826,
          50.3448275862069,
          53.44827586206897,
          56.55172413793103,
          59.6551724137931,
          62.758620689655174,
          65.86206896551724,
          68.9655172413793,
          72.06896551724138,
          75.17241379310344,
          78.27586206896552,
          81.37931034482759,
          84.48275862068965,
          87.58620689655173,
          90.6896551724138,
          93.79310344827586,
          96.89655172413794,
          100
         ],
         "y": [
          56.8239346146932,
          61.64644250558422,
          67.70410649865488,
          83.18734757113921,
          86.3331340249508,
          95.06983624411782,
          97.70084367387763,
          100.43305433707275,
          99.50033956157704,
          99.470531129844,
          99.62511192726035,
          99.6819620336573,
          99.829924326366,
          99.87062188880779,
          99.79791412949085,
          99.87227027354282,
          99.92969695669981,
          99.9360766749899,
          99.91035947006024,
          99.88821627988246,
          99.86430902440621,
          99.82473552188502,
          99.84317071148001,
          99.90808196116289,
          99.99531782566048,
          99.94247243922986,
          99.89203268846772,
          99.83902358336456,
          99.81975261691758,
          99.88304300096384
         ]
        },
        {
         "fillcolor": "rgba(93, 105, 177, 0.3)",
         "line": {
          "color": "rgb(93, 105, 177)"
         },
         "mode": "lines",
         "name": "GreedyCVXSampler",
         "showlegend": false,
         "type": "scatter",
         "x": [
          10,
          13.10344827586207,
          16.20689655172414,
          19.310344827586206,
          22.413793103448278,
          25.517241379310345,
          28.620689655172413,
          31.724137931034484,
          34.827586206896555,
          37.93103448275862,
          41.03448275862069,
          44.13793103448276,
          47.241379310344826,
          50.3448275862069,
          53.44827586206897,
          56.55172413793103,
          59.6551724137931,
          62.758620689655174,
          65.86206896551724,
          68.9655172413793,
          72.06896551724138,
          75.17241379310344,
          78.27586206896552,
          81.37931034482759,
          84.48275862068965,
          87.58620689655173,
          90.6896551724138,
          93.79310344827586,
          96.89655172413794,
          100
         ],
         "y": [
          23.41567224930511,
          53.63449185347623,
          73.34267913407986,
          84.48102115909671,
          81.20915797958784,
          87.06384021583709,
          88.69724848896095,
          87.53448073110941,
          83.58695224948603,
          82.79743763742532,
          84.331775971952,
          90.89287646610094,
          91.3045464295057,
          90.40678473630754,
          90.38295690817972,
          89.68333157325856,
          85.54301249583328,
          90.8322218436668,
          91.52357063019538,
          91.62249919027158,
          91.46134433666955,
          91.35605064783296,
          91.26290718065472,
          91.28416838298152,
          91.25820766037415,
          90.56617080878189,
          90.58868032005893,
          91.52720370287705,
          91.50021707242045,
          91.27251255459173
         ]
        },
        {
         "fill": "tonexty",
         "fillcolor": "rgba(93, 105, 177, 0.3)",
         "line": {
          "color": "rgb(93, 105, 177)"
         },
         "mode": "lines",
         "name": "GreedyCVXSampler",
         "showlegend": true,
         "type": "scatter",
         "x": [
          10,
          13.10344827586207,
          16.20689655172414,
          19.310344827586206,
          22.413793103448278,
          25.517241379310345,
          28.620689655172413,
          31.724137931034484,
          34.827586206896555,
          37.93103448275862,
          41.03448275862069,
          44.13793103448276,
          47.241379310344826,
          50.3448275862069,
          53.44827586206897,
          56.55172413793103,
          59.6551724137931,
          62.758620689655174,
          65.86206896551724,
          68.9655172413793,
          72.06896551724138,
          75.17241379310344,
          78.27586206896552,
          81.37931034482759,
          84.48275862068965,
          87.58620689655173,
          90.6896551724138,
          93.79310344827586,
          96.89655172413794,
          100
         ],
         "y": [
          57.65099441736157,
          66.37355412353526,
          83.88362993360853,
          93.62835304269126,
          99.37720217366888,
          97.68770877157395,
          97.9112572581655,
          100.20498287042314,
          101.84088938525214,
          102.13270284788756,
          101.75813462830345,
          100.21925635637672,
          100.13951487317627,
          100.17290875028249,
          100.1455488389467,
          100.41912053402115,
          101.64651496265968,
          99.98003869273167,
          99.62253409521968,
          99.65515087358537,
          99.84644621250033,
          99.86463900733945,
          99.77974926889827,
          99.8961636732126,
          99.96171571127334,
          100.19858014907251,
          100.12089822400236,
          99.81379246570532,
          99.84844193141096,
          99.88304300096384
         ]
        },
        {
         "fillcolor": "rgba(82, 188, 163, 0.3)",
         "line": {
          "color": "rgb(82, 188, 163)"
         },
         "mode": "lines",
         "name": "ClusterCVXSampler",
         "showlegend": false,
         "type": "scatter",
         "x": [
          10,
          13.10344827586207,
          16.20689655172414,
          19.310344827586206,
          22.413793103448278,
          25.517241379310345,
          28.620689655172413,
          31.724137931034484,
          34.827586206896555,
          37.93103448275862,
          41.03448275862069,
          44.13793103448276,
          47.241379310344826,
          50.3448275862069,
          53.44827586206897,
          56.55172413793103,
          59.6551724137931,
          62.758620689655174,
          65.86206896551724,
          68.9655172413793,
          72.06896551724138,
          75.17241379310344,
          78.27586206896552,
          81.37931034482759,
          84.48275862068965,
          87.58620689655173,
          90.6896551724138,
          93.79310344827586,
          96.89655172413794,
          100
         ],
         "y": [
          23.64547158665778,
          56.62281821312209,
          68.20330332044904,
          74.96911850441445,
          73.84757899352269,
          80.32612413286829,
          86.74763729039194,
          87.17241763566982,
          89.9921505443084,
          88.90110178863405,
          91.67144906482726,
          91.46616765534313,
          91.4506049534722,
          91.5145838585806,
          91.62868449212824,
          91.6368807758889,
          91.55587738415134,
          90.89023407147886,
          91.08188830631124,
          91.67292622528566,
          91.62685347959834,
          91.50073600378826,
          91.63972767975434,
          91.5463943245806,
          91.430493344692,
          91.33660127521252,
          91.30565358733962,
          91.27537609089376,
          91.2325612233575,
          91.27251255459173
         ]
        },
        {
         "fill": "tonexty",
         "fillcolor": "rgba(82, 188, 163, 0.3)",
         "line": {
          "color": "rgb(82, 188, 163)"
         },
         "mode": "lines",
         "name": "ClusterCVXSampler",
         "showlegend": true,
         "type": "scatter",
         "x": [
          10,
          13.10344827586207,
          16.20689655172414,
          19.310344827586206,
          22.413793103448278,
          25.517241379310345,
          28.620689655172413,
          31.724137931034484,
          34.827586206896555,
          37.93103448275862,
          41.03448275862069,
          44.13793103448276,
          47.241379310344826,
          50.3448275862069,
          53.44827586206897,
          56.55172413793103,
          59.6551724137931,
          62.758620689655174,
          65.86206896551724,
          68.9655172413793,
          72.06896551724138,
          75.17241379310344,
          78.27586206896552,
          81.37931034482759,
          84.48275862068965,
          87.58620689655173,
          90.6896551724138,
          93.79310344827586,
          96.89655172413794,
          100
         ],
         "y": [
          55.97675063556446,
          61.522775656609696,
          81.46183077916783,
          89.5600002695319,
          92.76483479958077,
          95.16445057977539,
          96.8192592613322,
          97.91815707697386,
          97.36784945569161,
          98.74464533780274,
          99.74035170145628,
          99.81291280442701,
          99.90188546798375,
          99.96863453222402,
          99.66326953086023,
          99.51944106319158,
          99.5981456043544,
          99.80555136913421,
          99.82232625307572,
          99.7483764567067,
          99.93467908745146,
          99.8748961801198,
          99.83130680300428,
          99.82341410453819,
          99.80920014189806,
          99.81466309260357,
          99.8888291712811,
          99.84309134205643,
          99.89663417894138,
          99.88304300096384
         ]
        }
       ],
       "layout": {
        "font": {
         "size": 15
        },
        "height": 400,
        "legend": {
         "bgcolor": "rgba(0,0,0,0)",
         "bordercolor": "Black",
         "borderwidth": 1,
         "x": 0.98,
         "xanchor": "right",
         "y": 0.05,
         "yanchor": "bottom"
        },
        "margin": {
         "b": 40,
         "l": 0,
         "r": 0,
         "t": 40
        },
        "template": {
         "data": {
          "bar": [
           {
            "error_x": {
             "color": "#2a3f5f"
            },
            "error_y": {
             "color": "#2a3f5f"
            },
            "marker": {
             "line": {
              "color": "white",
              "width": 0.5
             }
            },
            "type": "bar"
           }
          ],
          "barpolar": [
           {
            "marker": {
             "line": {
              "color": "white",
              "width": 0.5
             }
            },
            "type": "barpolar"
           }
          ],
          "carpet": [
           {
            "aaxis": {
             "endlinecolor": "#2a3f5f",
             "gridcolor": "#C8D4E3",
             "linecolor": "#C8D4E3",
             "minorgridcolor": "#C8D4E3",
             "startlinecolor": "#2a3f5f"
            },
            "baxis": {
             "endlinecolor": "#2a3f5f",
             "gridcolor": "#C8D4E3",
             "linecolor": "#C8D4E3",
             "minorgridcolor": "#C8D4E3",
             "startlinecolor": "#2a3f5f"
            },
            "type": "carpet"
           }
          ],
          "choropleth": [
           {
            "colorbar": {
             "outlinewidth": 0,
             "ticks": ""
            },
            "type": "choropleth"
           }
          ],
          "contour": [
           {
            "colorbar": {
             "outlinewidth": 0,
             "ticks": ""
            },
            "colorscale": [
             [
              0,
              "#0d0887"
             ],
             [
              0.1111111111111111,
              "#46039f"
             ],
             [
              0.2222222222222222,
              "#7201a8"
             ],
             [
              0.3333333333333333,
              "#9c179e"
             ],
             [
              0.4444444444444444,
              "#bd3786"
             ],
             [
              0.5555555555555556,
              "#d8576b"
             ],
             [
              0.6666666666666666,
              "#ed7953"
             ],
             [
              0.7777777777777778,
              "#fb9f3a"
             ],
             [
              0.8888888888888888,
              "#fdca26"
             ],
             [
              1,
              "#f0f921"
             ]
            ],
            "type": "contour"
           }
          ],
          "contourcarpet": [
           {
            "colorbar": {
             "outlinewidth": 0,
             "ticks": ""
            },
            "type": "contourcarpet"
           }
          ],
          "heatmap": [
           {
            "colorbar": {
             "outlinewidth": 0,
             "ticks": ""
            },
            "colorscale": [
             [
              0,
              "#0d0887"
             ],
             [
              0.1111111111111111,
              "#46039f"
             ],
             [
              0.2222222222222222,
              "#7201a8"
             ],
             [
              0.3333333333333333,
              "#9c179e"
             ],
             [
              0.4444444444444444,
              "#bd3786"
             ],
             [
              0.5555555555555556,
              "#d8576b"
             ],
             [
              0.6666666666666666,
              "#ed7953"
             ],
             [
              0.7777777777777778,
              "#fb9f3a"
             ],
             [
              0.8888888888888888,
              "#fdca26"
             ],
             [
              1,
              "#f0f921"
             ]
            ],
            "type": "heatmap"
           }
          ],
          "heatmapgl": [
           {
            "colorbar": {
             "outlinewidth": 0,
             "ticks": ""
            },
            "colorscale": [
             [
              0,
              "#0d0887"
             ],
             [
              0.1111111111111111,
              "#46039f"
             ],
             [
              0.2222222222222222,
              "#7201a8"
             ],
             [
              0.3333333333333333,
              "#9c179e"
             ],
             [
              0.4444444444444444,
              "#bd3786"
             ],
             [
              0.5555555555555556,
              "#d8576b"
             ],
             [
              0.6666666666666666,
              "#ed7953"
             ],
             [
              0.7777777777777778,
              "#fb9f3a"
             ],
             [
              0.8888888888888888,
              "#fdca26"
             ],
             [
              1,
              "#f0f921"
             ]
            ],
            "type": "heatmapgl"
           }
          ],
          "histogram": [
           {
            "marker": {
             "colorbar": {
              "outlinewidth": 0,
              "ticks": ""
             }
            },
            "type": "histogram"
           }
          ],
          "histogram2d": [
           {
            "colorbar": {
             "outlinewidth": 0,
             "ticks": ""
            },
            "colorscale": [
             [
              0,
              "#0d0887"
             ],
             [
              0.1111111111111111,
              "#46039f"
             ],
             [
              0.2222222222222222,
              "#7201a8"
             ],
             [
              0.3333333333333333,
              "#9c179e"
             ],
             [
              0.4444444444444444,
              "#bd3786"
             ],
             [
              0.5555555555555556,
              "#d8576b"
             ],
             [
              0.6666666666666666,
              "#ed7953"
             ],
             [
              0.7777777777777778,
              "#fb9f3a"
             ],
             [
              0.8888888888888888,
              "#fdca26"
             ],
             [
              1,
              "#f0f921"
             ]
            ],
            "type": "histogram2d"
           }
          ],
          "histogram2dcontour": [
           {
            "colorbar": {
             "outlinewidth": 0,
             "ticks": ""
            },
            "colorscale": [
             [
              0,
              "#0d0887"
             ],
             [
              0.1111111111111111,
              "#46039f"
             ],
             [
              0.2222222222222222,
              "#7201a8"
             ],
             [
              0.3333333333333333,
              "#9c179e"
             ],
             [
              0.4444444444444444,
              "#bd3786"
             ],
             [
              0.5555555555555556,
              "#d8576b"
             ],
             [
              0.6666666666666666,
              "#ed7953"
             ],
             [
              0.7777777777777778,
              "#fb9f3a"
             ],
             [
              0.8888888888888888,
              "#fdca26"
             ],
             [
              1,
              "#f0f921"
             ]
            ],
            "type": "histogram2dcontour"
           }
          ],
          "mesh3d": [
           {
            "colorbar": {
             "outlinewidth": 0,
             "ticks": ""
            },
            "type": "mesh3d"
           }
          ],
          "parcoords": [
           {
            "line": {
             "colorbar": {
              "outlinewidth": 0,
              "ticks": ""
             }
            },
            "type": "parcoords"
           }
          ],
          "pie": [
           {
            "automargin": true,
            "type": "pie"
           }
          ],
          "scatter": [
           {
            "marker": {
             "colorbar": {
              "outlinewidth": 0,
              "ticks": ""
             }
            },
            "type": "scatter"
           }
          ],
          "scatter3d": [
           {
            "line": {
             "colorbar": {
              "outlinewidth": 0,
              "ticks": ""
             }
            },
            "marker": {
             "colorbar": {
              "outlinewidth": 0,
              "ticks": ""
             }
            },
            "type": "scatter3d"
           }
          ],
          "scattercarpet": [
           {
            "marker": {
             "colorbar": {
              "outlinewidth": 0,
              "ticks": ""
             }
            },
            "type": "scattercarpet"
           }
          ],
          "scattergeo": [
           {
            "marker": {
             "colorbar": {
              "outlinewidth": 0,
              "ticks": ""
             }
            },
            "type": "scattergeo"
           }
          ],
          "scattergl": [
           {
            "marker": {
             "colorbar": {
              "outlinewidth": 0,
              "ticks": ""
             }
            },
            "type": "scattergl"
           }
          ],
          "scattermapbox": [
           {
            "marker": {
             "colorbar": {
              "outlinewidth": 0,
              "ticks": ""
             }
            },
            "type": "scattermapbox"
           }
          ],
          "scatterpolar": [
           {
            "marker": {
             "colorbar": {
              "outlinewidth": 0,
              "ticks": ""
             }
            },
            "type": "scatterpolar"
           }
          ],
          "scatterpolargl": [
           {
            "marker": {
             "colorbar": {
              "outlinewidth": 0,
              "ticks": ""
             }
            },
            "type": "scatterpolargl"
           }
          ],
          "scatterternary": [
           {
            "marker": {
             "colorbar": {
              "outlinewidth": 0,
              "ticks": ""
             }
            },
            "type": "scatterternary"
           }
          ],
          "surface": [
           {
            "colorbar": {
             "outlinewidth": 0,
             "ticks": ""
            },
            "colorscale": [
             [
              0,
              "#0d0887"
             ],
             [
              0.1111111111111111,
              "#46039f"
             ],
             [
              0.2222222222222222,
              "#7201a8"
             ],
             [
              0.3333333333333333,
              "#9c179e"
             ],
             [
              0.4444444444444444,
              "#bd3786"
             ],
             [
              0.5555555555555556,
              "#d8576b"
             ],
             [
              0.6666666666666666,
              "#ed7953"
             ],
             [
              0.7777777777777778,
              "#fb9f3a"
             ],
             [
              0.8888888888888888,
              "#fdca26"
             ],
             [
              1,
              "#f0f921"
             ]
            ],
            "type": "surface"
           }
          ],
          "table": [
           {
            "cells": {
             "fill": {
              "color": "#EBF0F8"
             },
             "line": {
              "color": "white"
             }
            },
            "header": {
             "fill": {
              "color": "#C8D4E3"
             },
             "line": {
              "color": "white"
             }
            },
            "type": "table"
           }
          ]
         },
         "layout": {
          "annotationdefaults": {
           "arrowcolor": "#2a3f5f",
           "arrowhead": 0,
           "arrowwidth": 1
          },
          "coloraxis": {
           "colorbar": {
            "outlinewidth": 0,
            "ticks": ""
           }
          },
          "colorscale": {
           "diverging": [
            [
             0,
             "#8e0152"
            ],
            [
             0.1,
             "#c51b7d"
            ],
            [
             0.2,
             "#de77ae"
            ],
            [
             0.3,
             "#f1b6da"
            ],
            [
             0.4,
             "#fde0ef"
            ],
            [
             0.5,
             "#f7f7f7"
            ],
            [
             0.6,
             "#e6f5d0"
            ],
            [
             0.7,
             "#b8e186"
            ],
            [
             0.8,
             "#7fbc41"
            ],
            [
             0.9,
             "#4d9221"
            ],
            [
             1,
             "#276419"
            ]
           ],
           "sequential": [
            [
             0,
             "#0d0887"
            ],
            [
             0.1111111111111111,
             "#46039f"
            ],
            [
             0.2222222222222222,
             "#7201a8"
            ],
            [
             0.3333333333333333,
             "#9c179e"
            ],
            [
             0.4444444444444444,
             "#bd3786"
            ],
            [
             0.5555555555555556,
             "#d8576b"
            ],
            [
             0.6666666666666666,
             "#ed7953"
            ],
            [
             0.7777777777777778,
             "#fb9f3a"
            ],
            [
             0.8888888888888888,
             "#fdca26"
            ],
            [
             1,
             "#f0f921"
            ]
           ],
           "sequentialminus": [
            [
             0,
             "#0d0887"
            ],
            [
             0.1111111111111111,
             "#46039f"
            ],
            [
             0.2222222222222222,
             "#7201a8"
            ],
            [
             0.3333333333333333,
             "#9c179e"
            ],
            [
             0.4444444444444444,
             "#bd3786"
            ],
            [
             0.5555555555555556,
             "#d8576b"
            ],
            [
             0.6666666666666666,
             "#ed7953"
            ],
            [
             0.7777777777777778,
             "#fb9f3a"
            ],
            [
             0.8888888888888888,
             "#fdca26"
            ],
            [
             1,
             "#f0f921"
            ]
           ]
          },
          "colorway": [
           "#636efa",
           "#EF553B",
           "#00cc96",
           "#ab63fa",
           "#FFA15A",
           "#19d3f3",
           "#FF6692",
           "#B6E880",
           "#FF97FF",
           "#FECB52"
          ],
          "font": {
           "color": "#2a3f5f"
          },
          "geo": {
           "bgcolor": "white",
           "lakecolor": "white",
           "landcolor": "white",
           "showlakes": true,
           "showland": true,
           "subunitcolor": "#C8D4E3"
          },
          "hoverlabel": {
           "align": "left"
          },
          "hovermode": "closest",
          "mapbox": {
           "style": "light"
          },
          "paper_bgcolor": "white",
          "plot_bgcolor": "white",
          "polar": {
           "angularaxis": {
            "gridcolor": "#EBF0F8",
            "linecolor": "#EBF0F8",
            "ticks": ""
           },
           "bgcolor": "white",
           "radialaxis": {
            "gridcolor": "#EBF0F8",
            "linecolor": "#EBF0F8",
            "ticks": ""
           }
          },
          "scene": {
           "xaxis": {
            "backgroundcolor": "white",
            "gridcolor": "#DFE8F3",
            "gridwidth": 2,
            "linecolor": "#EBF0F8",
            "showbackground": true,
            "ticks": "",
            "zerolinecolor": "#EBF0F8"
           },
           "yaxis": {
            "backgroundcolor": "white",
            "gridcolor": "#DFE8F3",
            "gridwidth": 2,
            "linecolor": "#EBF0F8",
            "showbackground": true,
            "ticks": "",
            "zerolinecolor": "#EBF0F8"
           },
           "zaxis": {
            "backgroundcolor": "white",
            "gridcolor": "#DFE8F3",
            "gridwidth": 2,
            "linecolor": "#EBF0F8",
            "showbackground": true,
            "ticks": "",
            "zerolinecolor": "#EBF0F8"
           }
          },
          "shapedefaults": {
           "line": {
            "color": "#2a3f5f"
           }
          },
          "ternary": {
           "aaxis": {
            "gridcolor": "#DFE8F3",
            "linecolor": "#A2B1C6",
            "ticks": ""
           },
           "baxis": {
            "gridcolor": "#DFE8F3",
            "linecolor": "#A2B1C6",
            "ticks": ""
           },
           "bgcolor": "white",
           "caxis": {
            "gridcolor": "#DFE8F3",
            "linecolor": "#A2B1C6",
            "ticks": ""
           }
          },
          "title": {
           "x": 0.05
          },
          "xaxis": {
           "automargin": true,
           "gridcolor": "#EBF0F8",
           "linecolor": "#EBF0F8",
           "ticks": "",
           "title": {
            "standoff": 15
           },
           "zerolinecolor": "#EBF0F8",
           "zerolinewidth": 2
          },
          "yaxis": {
           "automargin": true,
           "gridcolor": "#EBF0F8",
           "linecolor": "#EBF0F8",
           "ticks": "",
           "title": {
            "standoff": 15
           },
           "zerolinecolor": "#EBF0F8",
           "zerolinewidth": 2
          }
         }
        },
        "title": {
         "text": "Number of classes = 5",
         "x": 0.5
        },
        "width": 500,
        "xaxis": {
         "linecolor": "Black",
         "linewidth": 1.5,
         "mirror": true,
         "range": [
          10,
          100
         ],
         "showline": true,
         "title": {
          "text": "#labeled data (%)"
         }
        },
        "yaxis": {
         "linecolor": "Black",
         "linewidth": 1.5,
         "mirror": true,
         "range": [
          23.41567224930511,
          100
         ],
         "showline": true,
         "title": {
          "text": "Accuracy (%)"
         }
        }
       }
      },
      "text/html": [
       "<div>                            <div id=\"182a902d-a8fd-43b4-8d88-2b69b9661a3b\" class=\"plotly-graph-div\" style=\"height:400px; width:500px;\"></div>            <script type=\"text/javascript\">                require([\"plotly\"], function(Plotly) {                    window.PLOTLYENV=window.PLOTLYENV || {};                                    if (document.getElementById(\"182a902d-a8fd-43b4-8d88-2b69b9661a3b\")) {                    Plotly.newPlot(                        \"182a902d-a8fd-43b4-8d88-2b69b9661a3b\",                        [{\"fillcolor\": \"rgba(229, 134, 6, 0.3)\", \"line\": {\"color\": \"rgb(229, 134, 6)\"}, \"mode\": \"lines\", \"name\": \"RandomSampler\", \"showlegend\": false, \"type\": \"scatter\", \"x\": [10.0, 13.10344827586207, 16.20689655172414, 19.310344827586206, 22.413793103448278, 25.517241379310345, 28.620689655172413, 31.724137931034484, 34.827586206896555, 37.93103448275862, 41.03448275862069, 44.13793103448276, 47.241379310344826, 50.3448275862069, 53.44827586206897, 56.55172413793103, 59.6551724137931, 62.758620689655174, 65.86206896551724, 68.9655172413793, 72.06896551724138, 75.17241379310344, 78.27586206896552, 81.37931034482759, 84.48275862068965, 87.58620689655173, 90.6896551724138, 93.79310344827586, 96.89655172413794, 100.0], \"y\": [24.269398718640137, 41.93792531050774, 50.64439924847156, 50.04361028326693, 72.71544835052813, 78.49062352599711, 83.05961609623729, 85.5283249732721, 89.64295545758007, 89.97467959812533, 90.08278079304617, 90.1500686176837, 90.16302586520489, 90.1014853908857, 89.8551126904325, 89.75623547358362, 89.77390457586725, 89.86867428286452, 89.95385508932672, 90.03117069329763, 90.52312392578536, 91.18767827121842, 91.47514346476521, 91.64655405416276, 91.67119558430123, 91.61369614314562, 91.54735428471234, 91.50350515226762, 91.40354240223951, 91.27251255459173]}, {\"fill\": \"tonexty\", \"fillcolor\": \"rgba(229, 134, 6, 0.3)\", \"line\": {\"color\": \"rgb(229, 134, 6)\"}, \"mode\": \"lines\", \"name\": \"RandomSampler\", \"showlegend\": true, \"type\": \"scatter\", \"x\": [10.0, 13.10344827586207, 16.20689655172414, 19.310344827586206, 22.413793103448278, 25.517241379310345, 28.620689655172413, 31.724137931034484, 34.827586206896555, 37.93103448275862, 41.03448275862069, 44.13793103448276, 47.241379310344826, 50.3448275862069, 53.44827586206897, 56.55172413793103, 59.6551724137931, 62.758620689655174, 65.86206896551724, 68.9655172413793, 72.06896551724138, 75.17241379310344, 78.27586206896552, 81.37931034482759, 84.48275862068965, 87.58620689655173, 90.6896551724138, 93.79310344827586, 96.89655172413794, 100.0], \"y\": [56.8239346146932, 61.64644250558422, 67.70410649865488, 83.18734757113921, 86.3331340249508, 95.06983624411782, 97.70084367387763, 100.43305433707275, 99.50033956157704, 99.470531129844, 99.62511192726035, 99.6819620336573, 99.829924326366, 99.87062188880779, 99.79791412949085, 99.87227027354282, 99.92969695669981, 99.9360766749899, 99.91035947006024, 99.88821627988246, 99.86430902440621, 99.82473552188502, 99.84317071148001, 99.90808196116289, 99.99531782566048, 99.94247243922986, 99.89203268846772, 99.83902358336456, 99.81975261691758, 99.88304300096384]}, {\"fillcolor\": \"rgba(93, 105, 177, 0.3)\", \"line\": {\"color\": \"rgb(93, 105, 177)\"}, \"mode\": \"lines\", \"name\": \"GreedyCVXSampler\", \"showlegend\": false, \"type\": \"scatter\", \"x\": [10.0, 13.10344827586207, 16.20689655172414, 19.310344827586206, 22.413793103448278, 25.517241379310345, 28.620689655172413, 31.724137931034484, 34.827586206896555, 37.93103448275862, 41.03448275862069, 44.13793103448276, 47.241379310344826, 50.3448275862069, 53.44827586206897, 56.55172413793103, 59.6551724137931, 62.758620689655174, 65.86206896551724, 68.9655172413793, 72.06896551724138, 75.17241379310344, 78.27586206896552, 81.37931034482759, 84.48275862068965, 87.58620689655173, 90.6896551724138, 93.79310344827586, 96.89655172413794, 100.0], \"y\": [23.41567224930511, 53.63449185347623, 73.34267913407986, 84.48102115909671, 81.20915797958784, 87.06384021583709, 88.69724848896095, 87.53448073110941, 83.58695224948603, 82.79743763742532, 84.331775971952, 90.89287646610094, 91.3045464295057, 90.40678473630754, 90.38295690817972, 89.68333157325856, 85.54301249583328, 90.8322218436668, 91.52357063019538, 91.62249919027158, 91.46134433666955, 91.35605064783296, 91.26290718065472, 91.28416838298152, 91.25820766037415, 90.56617080878189, 90.58868032005893, 91.52720370287705, 91.50021707242045, 91.27251255459173]}, {\"fill\": \"tonexty\", \"fillcolor\": \"rgba(93, 105, 177, 0.3)\", \"line\": {\"color\": \"rgb(93, 105, 177)\"}, \"mode\": \"lines\", \"name\": \"GreedyCVXSampler\", \"showlegend\": true, \"type\": \"scatter\", \"x\": [10.0, 13.10344827586207, 16.20689655172414, 19.310344827586206, 22.413793103448278, 25.517241379310345, 28.620689655172413, 31.724137931034484, 34.827586206896555, 37.93103448275862, 41.03448275862069, 44.13793103448276, 47.241379310344826, 50.3448275862069, 53.44827586206897, 56.55172413793103, 59.6551724137931, 62.758620689655174, 65.86206896551724, 68.9655172413793, 72.06896551724138, 75.17241379310344, 78.27586206896552, 81.37931034482759, 84.48275862068965, 87.58620689655173, 90.6896551724138, 93.79310344827586, 96.89655172413794, 100.0], \"y\": [57.65099441736157, 66.37355412353526, 83.88362993360853, 93.62835304269126, 99.37720217366888, 97.68770877157395, 97.9112572581655, 100.20498287042314, 101.84088938525214, 102.13270284788756, 101.75813462830345, 100.21925635637672, 100.13951487317627, 100.17290875028249, 100.1455488389467, 100.41912053402115, 101.64651496265968, 99.98003869273167, 99.62253409521968, 99.65515087358537, 99.84644621250033, 99.86463900733945, 99.77974926889827, 99.8961636732126, 99.96171571127334, 100.19858014907251, 100.12089822400236, 99.81379246570532, 99.84844193141096, 99.88304300096384]}, {\"fillcolor\": \"rgba(82, 188, 163, 0.3)\", \"line\": {\"color\": \"rgb(82, 188, 163)\"}, \"mode\": \"lines\", \"name\": \"ClusterCVXSampler\", \"showlegend\": false, \"type\": \"scatter\", \"x\": [10.0, 13.10344827586207, 16.20689655172414, 19.310344827586206, 22.413793103448278, 25.517241379310345, 28.620689655172413, 31.724137931034484, 34.827586206896555, 37.93103448275862, 41.03448275862069, 44.13793103448276, 47.241379310344826, 50.3448275862069, 53.44827586206897, 56.55172413793103, 59.6551724137931, 62.758620689655174, 65.86206896551724, 68.9655172413793, 72.06896551724138, 75.17241379310344, 78.27586206896552, 81.37931034482759, 84.48275862068965, 87.58620689655173, 90.6896551724138, 93.79310344827586, 96.89655172413794, 100.0], \"y\": [23.64547158665778, 56.62281821312209, 68.20330332044904, 74.96911850441445, 73.84757899352269, 80.32612413286829, 86.74763729039194, 87.17241763566982, 89.9921505443084, 88.90110178863405, 91.67144906482726, 91.46616765534313, 91.4506049534722, 91.5145838585806, 91.62868449212824, 91.6368807758889, 91.55587738415134, 90.89023407147886, 91.08188830631124, 91.67292622528566, 91.62685347959834, 91.50073600378826, 91.63972767975434, 91.5463943245806, 91.430493344692, 91.33660127521252, 91.30565358733962, 91.27537609089376, 91.2325612233575, 91.27251255459173]}, {\"fill\": \"tonexty\", \"fillcolor\": \"rgba(82, 188, 163, 0.3)\", \"line\": {\"color\": \"rgb(82, 188, 163)\"}, \"mode\": \"lines\", \"name\": \"ClusterCVXSampler\", \"showlegend\": true, \"type\": \"scatter\", \"x\": [10.0, 13.10344827586207, 16.20689655172414, 19.310344827586206, 22.413793103448278, 25.517241379310345, 28.620689655172413, 31.724137931034484, 34.827586206896555, 37.93103448275862, 41.03448275862069, 44.13793103448276, 47.241379310344826, 50.3448275862069, 53.44827586206897, 56.55172413793103, 59.6551724137931, 62.758620689655174, 65.86206896551724, 68.9655172413793, 72.06896551724138, 75.17241379310344, 78.27586206896552, 81.37931034482759, 84.48275862068965, 87.58620689655173, 90.6896551724138, 93.79310344827586, 96.89655172413794, 100.0], \"y\": [55.97675063556446, 61.522775656609696, 81.46183077916783, 89.5600002695319, 92.76483479958077, 95.16445057977539, 96.8192592613322, 97.91815707697386, 97.36784945569161, 98.74464533780274, 99.74035170145628, 99.81291280442701, 99.90188546798375, 99.96863453222402, 99.66326953086023, 99.51944106319158, 99.5981456043544, 99.80555136913421, 99.82232625307572, 99.7483764567067, 99.93467908745146, 99.8748961801198, 99.83130680300428, 99.82341410453819, 99.80920014189806, 99.81466309260357, 99.8888291712811, 99.84309134205643, 99.89663417894138, 99.88304300096384]}],                        {\"font\": {\"size\": 15}, \"height\": 400, \"legend\": {\"bgcolor\": \"rgba(0,0,0,0)\", \"bordercolor\": \"Black\", \"borderwidth\": 1, \"x\": 0.98, \"xanchor\": \"right\", \"y\": 0.05, \"yanchor\": \"bottom\"}, \"margin\": {\"b\": 40, \"l\": 0, \"r\": 0, \"t\": 40}, \"template\": {\"data\": {\"bar\": [{\"error_x\": {\"color\": \"#2a3f5f\"}, \"error_y\": {\"color\": \"#2a3f5f\"}, \"marker\": {\"line\": {\"color\": \"white\", \"width\": 0.5}}, \"type\": \"bar\"}], \"barpolar\": [{\"marker\": {\"line\": {\"color\": \"white\", \"width\": 0.5}}, \"type\": \"barpolar\"}], \"carpet\": [{\"aaxis\": {\"endlinecolor\": \"#2a3f5f\", \"gridcolor\": \"#C8D4E3\", \"linecolor\": \"#C8D4E3\", \"minorgridcolor\": \"#C8D4E3\", \"startlinecolor\": \"#2a3f5f\"}, \"baxis\": {\"endlinecolor\": \"#2a3f5f\", \"gridcolor\": \"#C8D4E3\", \"linecolor\": \"#C8D4E3\", \"minorgridcolor\": \"#C8D4E3\", \"startlinecolor\": \"#2a3f5f\"}, \"type\": \"carpet\"}], \"choropleth\": [{\"colorbar\": {\"outlinewidth\": 0, \"ticks\": \"\"}, \"type\": \"choropleth\"}], \"contour\": [{\"colorbar\": {\"outlinewidth\": 0, \"ticks\": \"\"}, \"colorscale\": [[0.0, \"#0d0887\"], [0.1111111111111111, \"#46039f\"], [0.2222222222222222, \"#7201a8\"], [0.3333333333333333, \"#9c179e\"], [0.4444444444444444, \"#bd3786\"], [0.5555555555555556, \"#d8576b\"], [0.6666666666666666, \"#ed7953\"], [0.7777777777777778, \"#fb9f3a\"], [0.8888888888888888, \"#fdca26\"], [1.0, \"#f0f921\"]], \"type\": \"contour\"}], \"contourcarpet\": [{\"colorbar\": {\"outlinewidth\": 0, \"ticks\": \"\"}, \"type\": \"contourcarpet\"}], \"heatmap\": [{\"colorbar\": {\"outlinewidth\": 0, \"ticks\": \"\"}, \"colorscale\": [[0.0, \"#0d0887\"], [0.1111111111111111, \"#46039f\"], [0.2222222222222222, \"#7201a8\"], [0.3333333333333333, \"#9c179e\"], [0.4444444444444444, \"#bd3786\"], [0.5555555555555556, \"#d8576b\"], [0.6666666666666666, \"#ed7953\"], [0.7777777777777778, \"#fb9f3a\"], [0.8888888888888888, \"#fdca26\"], [1.0, \"#f0f921\"]], \"type\": \"heatmap\"}], \"heatmapgl\": [{\"colorbar\": {\"outlinewidth\": 0, \"ticks\": \"\"}, \"colorscale\": [[0.0, \"#0d0887\"], [0.1111111111111111, \"#46039f\"], [0.2222222222222222, \"#7201a8\"], [0.3333333333333333, \"#9c179e\"], [0.4444444444444444, \"#bd3786\"], [0.5555555555555556, \"#d8576b\"], [0.6666666666666666, \"#ed7953\"], [0.7777777777777778, \"#fb9f3a\"], [0.8888888888888888, \"#fdca26\"], [1.0, \"#f0f921\"]], \"type\": \"heatmapgl\"}], \"histogram\": [{\"marker\": {\"colorbar\": {\"outlinewidth\": 0, \"ticks\": \"\"}}, \"type\": \"histogram\"}], \"histogram2d\": [{\"colorbar\": {\"outlinewidth\": 0, \"ticks\": \"\"}, \"colorscale\": [[0.0, \"#0d0887\"], [0.1111111111111111, \"#46039f\"], [0.2222222222222222, \"#7201a8\"], [0.3333333333333333, \"#9c179e\"], [0.4444444444444444, \"#bd3786\"], [0.5555555555555556, \"#d8576b\"], [0.6666666666666666, \"#ed7953\"], [0.7777777777777778, \"#fb9f3a\"], [0.8888888888888888, \"#fdca26\"], [1.0, \"#f0f921\"]], \"type\": \"histogram2d\"}], \"histogram2dcontour\": [{\"colorbar\": {\"outlinewidth\": 0, \"ticks\": \"\"}, \"colorscale\": [[0.0, \"#0d0887\"], [0.1111111111111111, \"#46039f\"], [0.2222222222222222, \"#7201a8\"], [0.3333333333333333, \"#9c179e\"], [0.4444444444444444, \"#bd3786\"], [0.5555555555555556, \"#d8576b\"], [0.6666666666666666, \"#ed7953\"], [0.7777777777777778, \"#fb9f3a\"], [0.8888888888888888, \"#fdca26\"], [1.0, \"#f0f921\"]], \"type\": \"histogram2dcontour\"}], \"mesh3d\": [{\"colorbar\": {\"outlinewidth\": 0, \"ticks\": \"\"}, \"type\": \"mesh3d\"}], \"parcoords\": [{\"line\": {\"colorbar\": {\"outlinewidth\": 0, \"ticks\": \"\"}}, \"type\": \"parcoords\"}], \"pie\": [{\"automargin\": true, \"type\": \"pie\"}], \"scatter\": [{\"marker\": {\"colorbar\": {\"outlinewidth\": 0, \"ticks\": \"\"}}, \"type\": \"scatter\"}], \"scatter3d\": [{\"line\": {\"colorbar\": {\"outlinewidth\": 0, \"ticks\": \"\"}}, \"marker\": {\"colorbar\": {\"outlinewidth\": 0, \"ticks\": \"\"}}, \"type\": \"scatter3d\"}], \"scattercarpet\": [{\"marker\": {\"colorbar\": {\"outlinewidth\": 0, \"ticks\": \"\"}}, \"type\": \"scattercarpet\"}], \"scattergeo\": [{\"marker\": {\"colorbar\": {\"outlinewidth\": 0, \"ticks\": \"\"}}, \"type\": \"scattergeo\"}], \"scattergl\": [{\"marker\": {\"colorbar\": {\"outlinewidth\": 0, \"ticks\": \"\"}}, \"type\": \"scattergl\"}], \"scattermapbox\": [{\"marker\": {\"colorbar\": {\"outlinewidth\": 0, \"ticks\": \"\"}}, \"type\": \"scattermapbox\"}], \"scatterpolar\": [{\"marker\": {\"colorbar\": {\"outlinewidth\": 0, \"ticks\": \"\"}}, \"type\": \"scatterpolar\"}], \"scatterpolargl\": [{\"marker\": {\"colorbar\": {\"outlinewidth\": 0, \"ticks\": \"\"}}, \"type\": \"scatterpolargl\"}], \"scatterternary\": [{\"marker\": {\"colorbar\": {\"outlinewidth\": 0, \"ticks\": \"\"}}, \"type\": \"scatterternary\"}], \"surface\": [{\"colorbar\": {\"outlinewidth\": 0, \"ticks\": \"\"}, \"colorscale\": [[0.0, \"#0d0887\"], [0.1111111111111111, \"#46039f\"], [0.2222222222222222, \"#7201a8\"], [0.3333333333333333, \"#9c179e\"], [0.4444444444444444, \"#bd3786\"], [0.5555555555555556, \"#d8576b\"], [0.6666666666666666, \"#ed7953\"], [0.7777777777777778, \"#fb9f3a\"], [0.8888888888888888, \"#fdca26\"], [1.0, \"#f0f921\"]], \"type\": \"surface\"}], \"table\": [{\"cells\": {\"fill\": {\"color\": \"#EBF0F8\"}, \"line\": {\"color\": \"white\"}}, \"header\": {\"fill\": {\"color\": \"#C8D4E3\"}, \"line\": {\"color\": \"white\"}}, \"type\": \"table\"}]}, \"layout\": {\"annotationdefaults\": {\"arrowcolor\": \"#2a3f5f\", \"arrowhead\": 0, \"arrowwidth\": 1}, \"coloraxis\": {\"colorbar\": {\"outlinewidth\": 0, \"ticks\": \"\"}}, \"colorscale\": {\"diverging\": [[0, \"#8e0152\"], [0.1, \"#c51b7d\"], [0.2, \"#de77ae\"], [0.3, \"#f1b6da\"], [0.4, \"#fde0ef\"], [0.5, \"#f7f7f7\"], [0.6, \"#e6f5d0\"], [0.7, \"#b8e186\"], [0.8, \"#7fbc41\"], [0.9, \"#4d9221\"], [1, \"#276419\"]], \"sequential\": [[0.0, \"#0d0887\"], [0.1111111111111111, \"#46039f\"], [0.2222222222222222, \"#7201a8\"], [0.3333333333333333, \"#9c179e\"], [0.4444444444444444, \"#bd3786\"], [0.5555555555555556, \"#d8576b\"], [0.6666666666666666, \"#ed7953\"], [0.7777777777777778, \"#fb9f3a\"], [0.8888888888888888, \"#fdca26\"], [1.0, \"#f0f921\"]], \"sequentialminus\": [[0.0, \"#0d0887\"], [0.1111111111111111, \"#46039f\"], [0.2222222222222222, \"#7201a8\"], [0.3333333333333333, \"#9c179e\"], [0.4444444444444444, \"#bd3786\"], [0.5555555555555556, \"#d8576b\"], [0.6666666666666666, \"#ed7953\"], [0.7777777777777778, \"#fb9f3a\"], [0.8888888888888888, \"#fdca26\"], [1.0, \"#f0f921\"]]}, \"colorway\": [\"#636efa\", \"#EF553B\", \"#00cc96\", \"#ab63fa\", \"#FFA15A\", \"#19d3f3\", \"#FF6692\", \"#B6E880\", \"#FF97FF\", \"#FECB52\"], \"font\": {\"color\": \"#2a3f5f\"}, \"geo\": {\"bgcolor\": \"white\", \"lakecolor\": \"white\", \"landcolor\": \"white\", \"showlakes\": true, \"showland\": true, \"subunitcolor\": \"#C8D4E3\"}, \"hoverlabel\": {\"align\": \"left\"}, \"hovermode\": \"closest\", \"mapbox\": {\"style\": \"light\"}, \"paper_bgcolor\": \"white\", \"plot_bgcolor\": \"white\", \"polar\": {\"angularaxis\": {\"gridcolor\": \"#EBF0F8\", \"linecolor\": \"#EBF0F8\", \"ticks\": \"\"}, \"bgcolor\": \"white\", \"radialaxis\": {\"gridcolor\": \"#EBF0F8\", \"linecolor\": \"#EBF0F8\", \"ticks\": \"\"}}, \"scene\": {\"xaxis\": {\"backgroundcolor\": \"white\", \"gridcolor\": \"#DFE8F3\", \"gridwidth\": 2, \"linecolor\": \"#EBF0F8\", \"showbackground\": true, \"ticks\": \"\", \"zerolinecolor\": \"#EBF0F8\"}, \"yaxis\": {\"backgroundcolor\": \"white\", \"gridcolor\": \"#DFE8F3\", \"gridwidth\": 2, \"linecolor\": \"#EBF0F8\", \"showbackground\": true, \"ticks\": \"\", \"zerolinecolor\": \"#EBF0F8\"}, \"zaxis\": {\"backgroundcolor\": \"white\", \"gridcolor\": \"#DFE8F3\", \"gridwidth\": 2, \"linecolor\": \"#EBF0F8\", \"showbackground\": true, \"ticks\": \"\", \"zerolinecolor\": \"#EBF0F8\"}}, \"shapedefaults\": {\"line\": {\"color\": \"#2a3f5f\"}}, \"ternary\": {\"aaxis\": {\"gridcolor\": \"#DFE8F3\", \"linecolor\": \"#A2B1C6\", \"ticks\": \"\"}, \"baxis\": {\"gridcolor\": \"#DFE8F3\", \"linecolor\": \"#A2B1C6\", \"ticks\": \"\"}, \"bgcolor\": \"white\", \"caxis\": {\"gridcolor\": \"#DFE8F3\", \"linecolor\": \"#A2B1C6\", \"ticks\": \"\"}}, \"title\": {\"x\": 0.05}, \"xaxis\": {\"automargin\": true, \"gridcolor\": \"#EBF0F8\", \"linecolor\": \"#EBF0F8\", \"ticks\": \"\", \"title\": {\"standoff\": 15}, \"zerolinecolor\": \"#EBF0F8\", \"zerolinewidth\": 2}, \"yaxis\": {\"automargin\": true, \"gridcolor\": \"#EBF0F8\", \"linecolor\": \"#EBF0F8\", \"ticks\": \"\", \"title\": {\"standoff\": 15}, \"zerolinecolor\": \"#EBF0F8\", \"zerolinewidth\": 2}}}, \"title\": {\"text\": \"Number of classes = 5\", \"x\": 0.5}, \"width\": 500, \"xaxis\": {\"linecolor\": \"Black\", \"linewidth\": 1.5, \"mirror\": true, \"range\": [10, 100], \"showline\": true, \"title\": {\"text\": \"#labeled data (%)\"}}, \"yaxis\": {\"linecolor\": \"Black\", \"linewidth\": 1.5, \"mirror\": true, \"range\": [23.41567224930511, 100], \"showline\": true, \"title\": {\"text\": \"Accuracy (%)\"}}},                        {\"responsive\": true}                    ).then(function(){\n",
       "                            \n",
       "var gd = document.getElementById('182a902d-a8fd-43b4-8d88-2b69b9661a3b');\n",
       "var x = new MutationObserver(function (mutations, observer) {{\n",
       "        var display = window.getComputedStyle(gd).display;\n",
       "        if (!display || display === 'none') {{\n",
       "            console.log([gd, 'removed!']);\n",
       "            Plotly.purge(gd);\n",
       "            observer.disconnect();\n",
       "        }}\n",
       "}});\n",
       "\n",
       "// Listen for the removal of the full notebook cells\n",
       "var notebookContainer = gd.closest('#notebook-container');\n",
       "if (notebookContainer) {{\n",
       "    x.observe(notebookContainer, {childList: true});\n",
       "}}\n",
       "\n",
       "// Listen for the clearing of the current output cell\n",
       "var outputEl = gd.closest('.output');\n",
       "if (outputEl) {{\n",
       "    x.observe(outputEl, {childList: true});\n",
       "}}\n",
       "\n",
       "                        })                };                });            </script>        </div>"
      ]
     },
     "metadata": {},
     "output_type": "display_data"
    }
   ],
   "source": [
    "plot([random, argmax, spectral], \n",
    "     [\"RandomSampler\", \"GreedyCVXSampler\", \"ClusterCVXSampler\"], \n",
    "     filename=\"plots/cvx_random_N={}_K={}_sigma={}_alpha={}.pdf\".format(N, K, sigma, alpha), \n",
    "     title=\"Number of classes = {}\".format(K), \n",
    "     opacity=0.3)"
   ]
  },
  {
   "cell_type": "code",
   "execution_count": 58,
   "metadata": {},
   "outputs": [
    {
     "data": {
      "application/vnd.plotly.v1+json": {
       "config": {
        "plotlyServerURL": "https://plot.ly"
       },
       "data": [
        {
         "fillcolor": "rgba(229, 134, 6, 0.3)",
         "line": {
          "color": "rgb(229, 134, 6)"
         },
         "mode": "lines",
         "name": "OptimalSampler",
         "showlegend": false,
         "type": "scatter",
         "x": [
          10,
          13.10344827586207,
          16.20689655172414,
          19.310344827586206,
          22.413793103448278,
          25.517241379310345,
          28.620689655172413,
          31.724137931034484,
          34.827586206896555,
          37.93103448275862,
          41.03448275862069,
          44.13793103448276,
          47.241379310344826,
          50.3448275862069,
          53.44827586206897,
          56.55172413793103,
          59.6551724137931,
          62.758620689655174,
          65.86206896551724,
          68.9655172413793,
          72.06896551724138,
          75.17241379310344,
          78.27586206896552,
          81.37931034482759,
          84.48275862068965,
          87.58620689655173,
          90.6896551724138,
          93.79310344827586,
          96.89655172413794,
          100
         ],
         "y": [
          0,
          14.650194627697756,
          27.646438588671717,
          37.92058440840592,
          44.531961872139135,
          47.75581650389762,
          55.1912720727038,
          57.25321822884905,
          54.80814443210082,
          60.24485827310241,
          63.285475130009345,
          67.40085416064666,
          65.53537242221421,
          62.40075602467372,
          68.92165173139479,
          72.61906597328185,
          74.11985870002553,
          73.9118300285795,
          73.55050667324963,
          73.39502838393958,
          73.537163760738,
          73.78967094843107,
          74.11030266132929,
          74.05551400633384,
          73.67523578845007,
          73.93693770719824,
          74.40079053114923,
          75.13203849760474,
          72.27720674305593,
          64.91259569192667
         ]
        },
        {
         "fill": "tonexty",
         "fillcolor": "rgba(229, 134, 6, 0.3)",
         "line": {
          "color": "rgb(229, 134, 6)"
         },
         "mode": "lines",
         "name": "OptimalSampler",
         "showlegend": true,
         "type": "scatter",
         "x": [
          10,
          13.10344827586207,
          16.20689655172414,
          19.310344827586206,
          22.413793103448278,
          25.517241379310345,
          28.620689655172413,
          31.724137931034484,
          34.827586206896555,
          37.93103448275862,
          41.03448275862069,
          44.13793103448276,
          47.241379310344826,
          50.3448275862069,
          53.44827586206897,
          56.55172413793103,
          59.6551724137931,
          62.758620689655174,
          65.86206896551724,
          68.9655172413793,
          72.06896551724138,
          75.17241379310344,
          78.27586206896552,
          81.37931034482759,
          84.48275862068965,
          87.58620689655173,
          90.6896551724138,
          93.79310344827586,
          96.89655172413794,
          100
         ],
         "y": [
          0,
          19.30842606195742,
          36.601837273397265,
          50.85182938469752,
          60.93317222747771,
          70.95529460721349,
          70.7198390384073,
          74.64716491291341,
          82.11292836483406,
          80.91529498360256,
          81.76433329910942,
          80.9317128891618,
          83.4500681908126,
          86.78391830482818,
          84.92509156362438,
          85.47595318380625,
          87.80964321568328,
          88.6889362549454,
          89.20351631525611,
          89.19347736318687,
          89.54789371052638,
          90.10151679103255,
          90.22226438847912,
          90.1912292886853,
          89.82667992036218,
          89.99256420851057,
          90.11721713168603,
          89.7170036479891,
          87.6936744829977,
          86.8651820858511
         ]
        },
        {
         "fillcolor": "rgba(93, 105, 177, 0.3)",
         "line": {
          "color": "rgb(93, 105, 177)"
         },
         "mode": "lines",
         "name": "GreedyCVXSampler",
         "showlegend": false,
         "type": "scatter",
         "x": [
          10,
          13.10344827586207,
          16.20689655172414,
          19.310344827586206,
          22.413793103448278,
          25.517241379310345,
          28.620689655172413,
          31.724137931034484,
          34.827586206896555,
          37.93103448275862,
          41.03448275862069,
          44.13793103448276,
          47.241379310344826,
          50.3448275862069,
          53.44827586206897,
          56.55172413793103,
          59.6551724137931,
          62.758620689655174,
          65.86206896551724,
          68.9655172413793,
          72.06896551724138,
          75.17241379310344,
          78.27586206896552,
          81.37931034482759,
          84.48275862068965,
          87.58620689655173,
          90.6896551724138,
          93.79310344827586,
          96.89655172413794,
          100
         ],
         "y": [
          0,
          3.785360895809523,
          7.570721791619046,
          12.274807001131114,
          25.147199082186297,
          35.87248955892512,
          41.59903961376078,
          41.84425552603278,
          46.34656339636914,
          49.03460916893859,
          48.75915981165218,
          49.79367312507169,
          56.303383278175126,
          60.39337424339539,
          67.79347548400658,
          70.71491931153668,
          72.19316875706356,
          70.27333563351425,
          68.6586047952715,
          68.69479777410704,
          72.64692037243593,
          71.92949044619246,
          72.45708468993092,
          72.24343550989829,
          73.46001699657447,
          74.28826484416147,
          74.56621873379568,
          67.85421038247483,
          65.16827228078836,
          64.91259569192667
         ]
        },
        {
         "fill": "tonexty",
         "fillcolor": "rgba(93, 105, 177, 0.3)",
         "line": {
          "color": "rgb(93, 105, 177)"
         },
         "mode": "lines",
         "name": "GreedyCVXSampler",
         "showlegend": true,
         "type": "scatter",
         "x": [
          10,
          13.10344827586207,
          16.20689655172414,
          19.310344827586206,
          22.413793103448278,
          25.517241379310345,
          28.620689655172413,
          31.724137931034484,
          34.827586206896555,
          37.93103448275862,
          41.03448275862069,
          44.13793103448276,
          47.241379310344826,
          50.3448275862069,
          53.44827586206897,
          56.55172413793103,
          59.6551724137931,
          62.758620689655174,
          65.86206896551724,
          68.9655172413793,
          72.06896551724138,
          75.17241379310344,
          78.27586206896552,
          81.37931034482759,
          84.48275862068965,
          87.58620689655173,
          90.6896551724138,
          93.79310344827586,
          96.89655172413794,
          100
         ],
         "y": [
          0,
          9.258317265110021,
          18.516634530220042,
          27.470376359569485,
          36.57497752792136,
          49.06602531062425,
          54.02010287848516,
          60.55999917201504,
          67.15999866651475,
          70.13099321505462,
          70.9636693557747,
          76.92591819038172,
          78.03832808836384,
          82.10113405800948,
          83.65153090168947,
          82.88640891323985,
          84.37439190704883,
          84.48988275729036,
          88.27549482158675,
          88.23240529102706,
          86.35844361223842,
          85.06974327028263,
          85.48965860508827,
          85.49449552458447,
          86.08506601747408,
          86.42322940871206,
          86.59661651524645,
          87.5266325294026,
          87.24398825561013,
          86.8651820858511
         ]
        },
        {
         "fillcolor": "rgba(82, 188, 163, 0.3)",
         "line": {
          "color": "rgb(82, 188, 163)"
         },
         "mode": "lines",
         "name": "ClusterCVXSampler",
         "showlegend": false,
         "type": "scatter",
         "x": [
          10,
          13.10344827586207,
          16.20689655172414,
          19.310344827586206,
          22.413793103448278,
          25.517241379310345,
          28.620689655172413,
          31.724137931034484,
          34.827586206896555,
          37.93103448275862,
          41.03448275862069,
          44.13793103448276,
          47.241379310344826,
          50.3448275862069,
          53.44827586206897,
          56.55172413793103,
          59.6551724137931,
          62.758620689655174,
          65.86206896551724,
          68.9655172413793,
          72.06896551724138,
          75.17241379310344,
          78.27586206896552,
          81.37931034482759,
          84.48275862068965,
          87.58620689655173,
          90.6896551724138,
          93.79310344827586,
          96.89655172413794,
          100
         ],
         "y": [
          0,
          0.49639709682000577,
          5.668651919931828,
          16.781637502417183,
          22.375278520443402,
          32.300612464404935,
          42.781497132900355,
          52.635890837546164,
          53.103286277741034,
          53.92206258989913,
          61.108214624115845,
          63.991495323170994,
          61.94219420310082,
          64.95726726075958,
          63.21612715324554,
          64.44949757100528,
          69.22667960610883,
          70.92542696335309,
          71.54367824987014,
          71.72792630525092,
          72.45932970312765,
          71.65049728277339,
          72.93720000541391,
          74.13079796105036,
          74.90432966303605,
          74.41187180782404,
          73.29709790574132,
          72.89188797466286,
          73.16474617026077,
          64.91259569192667
         ]
        },
        {
         "fill": "tonexty",
         "fillcolor": "rgba(82, 188, 163, 0.3)",
         "line": {
          "color": "rgb(82, 188, 163)"
         },
         "mode": "lines",
         "name": "ClusterCVXSampler",
         "showlegend": true,
         "type": "scatter",
         "x": [
          10,
          13.10344827586207,
          16.20689655172414,
          19.310344827586206,
          22.413793103448278,
          25.517241379310345,
          28.620689655172413,
          31.724137931034484,
          34.827586206896555,
          37.93103448275862,
          41.03448275862069,
          44.13793103448276,
          47.241379310344826,
          50.3448275862069,
          53.44827586206897,
          56.55172413793103,
          59.6551724137931,
          62.758620689655174,
          65.86206896551724,
          68.9655172413793,
          72.06896551724138,
          75.17241379310344,
          78.27586206896552,
          81.37931034482759,
          84.48275862068965,
          87.58620689655173,
          90.6896551724138,
          93.79310344827586,
          96.89655172413794,
          100
         ],
         "y": [
          0,
          6.648430489386893,
          14.982689076236763,
          26.789013838578988,
          37.74173297380949,
          47.157471826782796,
          55.671529687022996,
          63.50977966053812,
          66.12552598279535,
          68.3952554177637,
          69.58465893910252,
          73.5101138722313,
          77.51205867046242,
          77.53529978904885,
          80.42870043296136,
          82.35395070485677,
          85.71998706055783,
          88.19656537381167,
          88.50904205664327,
          88.04249515068776,
          87.2859576531942,
          86.11931114634538,
          85.05391110569722,
          85.41249705810672,
          88.10624504960761,
          87.74628911171621,
          86.49263389502495,
          86.14136873031799,
          86.2979358220764,
          86.8651820858511
         ]
        }
       ],
       "layout": {
        "font": {
         "size": 15
        },
        "height": 400,
        "legend": {
         "bgcolor": "rgba(0,0,0,0)",
         "bordercolor": "Black",
         "borderwidth": 1,
         "x": 0.98,
         "xanchor": "right",
         "y": 0.05,
         "yanchor": "bottom"
        },
        "margin": {
         "b": 40,
         "l": 0,
         "r": 0,
         "t": 40
        },
        "template": {
         "data": {
          "bar": [
           {
            "error_x": {
             "color": "#2a3f5f"
            },
            "error_y": {
             "color": "#2a3f5f"
            },
            "marker": {
             "line": {
              "color": "white",
              "width": 0.5
             }
            },
            "type": "bar"
           }
          ],
          "barpolar": [
           {
            "marker": {
             "line": {
              "color": "white",
              "width": 0.5
             }
            },
            "type": "barpolar"
           }
          ],
          "carpet": [
           {
            "aaxis": {
             "endlinecolor": "#2a3f5f",
             "gridcolor": "#C8D4E3",
             "linecolor": "#C8D4E3",
             "minorgridcolor": "#C8D4E3",
             "startlinecolor": "#2a3f5f"
            },
            "baxis": {
             "endlinecolor": "#2a3f5f",
             "gridcolor": "#C8D4E3",
             "linecolor": "#C8D4E3",
             "minorgridcolor": "#C8D4E3",
             "startlinecolor": "#2a3f5f"
            },
            "type": "carpet"
           }
          ],
          "choropleth": [
           {
            "colorbar": {
             "outlinewidth": 0,
             "ticks": ""
            },
            "type": "choropleth"
           }
          ],
          "contour": [
           {
            "colorbar": {
             "outlinewidth": 0,
             "ticks": ""
            },
            "colorscale": [
             [
              0,
              "#0d0887"
             ],
             [
              0.1111111111111111,
              "#46039f"
             ],
             [
              0.2222222222222222,
              "#7201a8"
             ],
             [
              0.3333333333333333,
              "#9c179e"
             ],
             [
              0.4444444444444444,
              "#bd3786"
             ],
             [
              0.5555555555555556,
              "#d8576b"
             ],
             [
              0.6666666666666666,
              "#ed7953"
             ],
             [
              0.7777777777777778,
              "#fb9f3a"
             ],
             [
              0.8888888888888888,
              "#fdca26"
             ],
             [
              1,
              "#f0f921"
             ]
            ],
            "type": "contour"
           }
          ],
          "contourcarpet": [
           {
            "colorbar": {
             "outlinewidth": 0,
             "ticks": ""
            },
            "type": "contourcarpet"
           }
          ],
          "heatmap": [
           {
            "colorbar": {
             "outlinewidth": 0,
             "ticks": ""
            },
            "colorscale": [
             [
              0,
              "#0d0887"
             ],
             [
              0.1111111111111111,
              "#46039f"
             ],
             [
              0.2222222222222222,
              "#7201a8"
             ],
             [
              0.3333333333333333,
              "#9c179e"
             ],
             [
              0.4444444444444444,
              "#bd3786"
             ],
             [
              0.5555555555555556,
              "#d8576b"
             ],
             [
              0.6666666666666666,
              "#ed7953"
             ],
             [
              0.7777777777777778,
              "#fb9f3a"
             ],
             [
              0.8888888888888888,
              "#fdca26"
             ],
             [
              1,
              "#f0f921"
             ]
            ],
            "type": "heatmap"
           }
          ],
          "heatmapgl": [
           {
            "colorbar": {
             "outlinewidth": 0,
             "ticks": ""
            },
            "colorscale": [
             [
              0,
              "#0d0887"
             ],
             [
              0.1111111111111111,
              "#46039f"
             ],
             [
              0.2222222222222222,
              "#7201a8"
             ],
             [
              0.3333333333333333,
              "#9c179e"
             ],
             [
              0.4444444444444444,
              "#bd3786"
             ],
             [
              0.5555555555555556,
              "#d8576b"
             ],
             [
              0.6666666666666666,
              "#ed7953"
             ],
             [
              0.7777777777777778,
              "#fb9f3a"
             ],
             [
              0.8888888888888888,
              "#fdca26"
             ],
             [
              1,
              "#f0f921"
             ]
            ],
            "type": "heatmapgl"
           }
          ],
          "histogram": [
           {
            "marker": {
             "colorbar": {
              "outlinewidth": 0,
              "ticks": ""
             }
            },
            "type": "histogram"
           }
          ],
          "histogram2d": [
           {
            "colorbar": {
             "outlinewidth": 0,
             "ticks": ""
            },
            "colorscale": [
             [
              0,
              "#0d0887"
             ],
             [
              0.1111111111111111,
              "#46039f"
             ],
             [
              0.2222222222222222,
              "#7201a8"
             ],
             [
              0.3333333333333333,
              "#9c179e"
             ],
             [
              0.4444444444444444,
              "#bd3786"
             ],
             [
              0.5555555555555556,
              "#d8576b"
             ],
             [
              0.6666666666666666,
              "#ed7953"
             ],
             [
              0.7777777777777778,
              "#fb9f3a"
             ],
             [
              0.8888888888888888,
              "#fdca26"
             ],
             [
              1,
              "#f0f921"
             ]
            ],
            "type": "histogram2d"
           }
          ],
          "histogram2dcontour": [
           {
            "colorbar": {
             "outlinewidth": 0,
             "ticks": ""
            },
            "colorscale": [
             [
              0,
              "#0d0887"
             ],
             [
              0.1111111111111111,
              "#46039f"
             ],
             [
              0.2222222222222222,
              "#7201a8"
             ],
             [
              0.3333333333333333,
              "#9c179e"
             ],
             [
              0.4444444444444444,
              "#bd3786"
             ],
             [
              0.5555555555555556,
              "#d8576b"
             ],
             [
              0.6666666666666666,
              "#ed7953"
             ],
             [
              0.7777777777777778,
              "#fb9f3a"
             ],
             [
              0.8888888888888888,
              "#fdca26"
             ],
             [
              1,
              "#f0f921"
             ]
            ],
            "type": "histogram2dcontour"
           }
          ],
          "mesh3d": [
           {
            "colorbar": {
             "outlinewidth": 0,
             "ticks": ""
            },
            "type": "mesh3d"
           }
          ],
          "parcoords": [
           {
            "line": {
             "colorbar": {
              "outlinewidth": 0,
              "ticks": ""
             }
            },
            "type": "parcoords"
           }
          ],
          "pie": [
           {
            "automargin": true,
            "type": "pie"
           }
          ],
          "scatter": [
           {
            "marker": {
             "colorbar": {
              "outlinewidth": 0,
              "ticks": ""
             }
            },
            "type": "scatter"
           }
          ],
          "scatter3d": [
           {
            "line": {
             "colorbar": {
              "outlinewidth": 0,
              "ticks": ""
             }
            },
            "marker": {
             "colorbar": {
              "outlinewidth": 0,
              "ticks": ""
             }
            },
            "type": "scatter3d"
           }
          ],
          "scattercarpet": [
           {
            "marker": {
             "colorbar": {
              "outlinewidth": 0,
              "ticks": ""
             }
            },
            "type": "scattercarpet"
           }
          ],
          "scattergeo": [
           {
            "marker": {
             "colorbar": {
              "outlinewidth": 0,
              "ticks": ""
             }
            },
            "type": "scattergeo"
           }
          ],
          "scattergl": [
           {
            "marker": {
             "colorbar": {
              "outlinewidth": 0,
              "ticks": ""
             }
            },
            "type": "scattergl"
           }
          ],
          "scattermapbox": [
           {
            "marker": {
             "colorbar": {
              "outlinewidth": 0,
              "ticks": ""
             }
            },
            "type": "scattermapbox"
           }
          ],
          "scatterpolar": [
           {
            "marker": {
             "colorbar": {
              "outlinewidth": 0,
              "ticks": ""
             }
            },
            "type": "scatterpolar"
           }
          ],
          "scatterpolargl": [
           {
            "marker": {
             "colorbar": {
              "outlinewidth": 0,
              "ticks": ""
             }
            },
            "type": "scatterpolargl"
           }
          ],
          "scatterternary": [
           {
            "marker": {
             "colorbar": {
              "outlinewidth": 0,
              "ticks": ""
             }
            },
            "type": "scatterternary"
           }
          ],
          "surface": [
           {
            "colorbar": {
             "outlinewidth": 0,
             "ticks": ""
            },
            "colorscale": [
             [
              0,
              "#0d0887"
             ],
             [
              0.1111111111111111,
              "#46039f"
             ],
             [
              0.2222222222222222,
              "#7201a8"
             ],
             [
              0.3333333333333333,
              "#9c179e"
             ],
             [
              0.4444444444444444,
              "#bd3786"
             ],
             [
              0.5555555555555556,
              "#d8576b"
             ],
             [
              0.6666666666666666,
              "#ed7953"
             ],
             [
              0.7777777777777778,
              "#fb9f3a"
             ],
             [
              0.8888888888888888,
              "#fdca26"
             ],
             [
              1,
              "#f0f921"
             ]
            ],
            "type": "surface"
           }
          ],
          "table": [
           {
            "cells": {
             "fill": {
              "color": "#EBF0F8"
             },
             "line": {
              "color": "white"
             }
            },
            "header": {
             "fill": {
              "color": "#C8D4E3"
             },
             "line": {
              "color": "white"
             }
            },
            "type": "table"
           }
          ]
         },
         "layout": {
          "annotationdefaults": {
           "arrowcolor": "#2a3f5f",
           "arrowhead": 0,
           "arrowwidth": 1
          },
          "coloraxis": {
           "colorbar": {
            "outlinewidth": 0,
            "ticks": ""
           }
          },
          "colorscale": {
           "diverging": [
            [
             0,
             "#8e0152"
            ],
            [
             0.1,
             "#c51b7d"
            ],
            [
             0.2,
             "#de77ae"
            ],
            [
             0.3,
             "#f1b6da"
            ],
            [
             0.4,
             "#fde0ef"
            ],
            [
             0.5,
             "#f7f7f7"
            ],
            [
             0.6,
             "#e6f5d0"
            ],
            [
             0.7,
             "#b8e186"
            ],
            [
             0.8,
             "#7fbc41"
            ],
            [
             0.9,
             "#4d9221"
            ],
            [
             1,
             "#276419"
            ]
           ],
           "sequential": [
            [
             0,
             "#0d0887"
            ],
            [
             0.1111111111111111,
             "#46039f"
            ],
            [
             0.2222222222222222,
             "#7201a8"
            ],
            [
             0.3333333333333333,
             "#9c179e"
            ],
            [
             0.4444444444444444,
             "#bd3786"
            ],
            [
             0.5555555555555556,
             "#d8576b"
            ],
            [
             0.6666666666666666,
             "#ed7953"
            ],
            [
             0.7777777777777778,
             "#fb9f3a"
            ],
            [
             0.8888888888888888,
             "#fdca26"
            ],
            [
             1,
             "#f0f921"
            ]
           ],
           "sequentialminus": [
            [
             0,
             "#0d0887"
            ],
            [
             0.1111111111111111,
             "#46039f"
            ],
            [
             0.2222222222222222,
             "#7201a8"
            ],
            [
             0.3333333333333333,
             "#9c179e"
            ],
            [
             0.4444444444444444,
             "#bd3786"
            ],
            [
             0.5555555555555556,
             "#d8576b"
            ],
            [
             0.6666666666666666,
             "#ed7953"
            ],
            [
             0.7777777777777778,
             "#fb9f3a"
            ],
            [
             0.8888888888888888,
             "#fdca26"
            ],
            [
             1,
             "#f0f921"
            ]
           ]
          },
          "colorway": [
           "#636efa",
           "#EF553B",
           "#00cc96",
           "#ab63fa",
           "#FFA15A",
           "#19d3f3",
           "#FF6692",
           "#B6E880",
           "#FF97FF",
           "#FECB52"
          ],
          "font": {
           "color": "#2a3f5f"
          },
          "geo": {
           "bgcolor": "white",
           "lakecolor": "white",
           "landcolor": "white",
           "showlakes": true,
           "showland": true,
           "subunitcolor": "#C8D4E3"
          },
          "hoverlabel": {
           "align": "left"
          },
          "hovermode": "closest",
          "mapbox": {
           "style": "light"
          },
          "paper_bgcolor": "white",
          "plot_bgcolor": "white",
          "polar": {
           "angularaxis": {
            "gridcolor": "#EBF0F8",
            "linecolor": "#EBF0F8",
            "ticks": ""
           },
           "bgcolor": "white",
           "radialaxis": {
            "gridcolor": "#EBF0F8",
            "linecolor": "#EBF0F8",
            "ticks": ""
           }
          },
          "scene": {
           "xaxis": {
            "backgroundcolor": "white",
            "gridcolor": "#DFE8F3",
            "gridwidth": 2,
            "linecolor": "#EBF0F8",
            "showbackground": true,
            "ticks": "",
            "zerolinecolor": "#EBF0F8"
           },
           "yaxis": {
            "backgroundcolor": "white",
            "gridcolor": "#DFE8F3",
            "gridwidth": 2,
            "linecolor": "#EBF0F8",
            "showbackground": true,
            "ticks": "",
            "zerolinecolor": "#EBF0F8"
           },
           "zaxis": {
            "backgroundcolor": "white",
            "gridcolor": "#DFE8F3",
            "gridwidth": 2,
            "linecolor": "#EBF0F8",
            "showbackground": true,
            "ticks": "",
            "zerolinecolor": "#EBF0F8"
           }
          },
          "shapedefaults": {
           "line": {
            "color": "#2a3f5f"
           }
          },
          "ternary": {
           "aaxis": {
            "gridcolor": "#DFE8F3",
            "linecolor": "#A2B1C6",
            "ticks": ""
           },
           "baxis": {
            "gridcolor": "#DFE8F3",
            "linecolor": "#A2B1C6",
            "ticks": ""
           },
           "bgcolor": "white",
           "caxis": {
            "gridcolor": "#DFE8F3",
            "linecolor": "#A2B1C6",
            "ticks": ""
           }
          },
          "title": {
           "x": 0.05
          },
          "xaxis": {
           "automargin": true,
           "gridcolor": "#EBF0F8",
           "linecolor": "#EBF0F8",
           "ticks": "",
           "title": {
            "standoff": 15
           },
           "zerolinecolor": "#EBF0F8",
           "zerolinewidth": 2
          },
          "yaxis": {
           "automargin": true,
           "gridcolor": "#EBF0F8",
           "linecolor": "#EBF0F8",
           "ticks": "",
           "title": {
            "standoff": 15
           },
           "zerolinecolor": "#EBF0F8",
           "zerolinewidth": 2
          }
         }
        },
        "title": {
         "text": "Number of classes = 10",
         "x": 0.5
        },
        "width": 500,
        "xaxis": {
         "linecolor": "Black",
         "linewidth": 1.5,
         "mirror": true,
         "range": [
          10,
          100
         ],
         "showline": true,
         "title": {
          "text": "#labeled data (%)"
         }
        },
        "yaxis": {
         "linecolor": "Black",
         "linewidth": 1.5,
         "mirror": true,
         "range": [
          0,
          100
         ],
         "showline": true,
         "title": {
          "text": "Accuracy (%)"
         }
        }
       }
      },
      "text/html": [
       "<div>                            <div id=\"99213799-a3e7-4c66-a6f2-f8e18c525fd1\" class=\"plotly-graph-div\" style=\"height:400px; width:500px;\"></div>            <script type=\"text/javascript\">                require([\"plotly\"], function(Plotly) {                    window.PLOTLYENV=window.PLOTLYENV || {};                                    if (document.getElementById(\"99213799-a3e7-4c66-a6f2-f8e18c525fd1\")) {                    Plotly.newPlot(                        \"99213799-a3e7-4c66-a6f2-f8e18c525fd1\",                        [{\"fillcolor\": \"rgba(229, 134, 6, 0.3)\", \"line\": {\"color\": \"rgb(229, 134, 6)\"}, \"mode\": \"lines\", \"name\": \"OptimalSampler\", \"showlegend\": false, \"type\": \"scatter\", \"x\": [10.0, 13.10344827586207, 16.20689655172414, 19.310344827586206, 22.413793103448278, 25.517241379310345, 28.620689655172413, 31.724137931034484, 34.827586206896555, 37.93103448275862, 41.03448275862069, 44.13793103448276, 47.241379310344826, 50.3448275862069, 53.44827586206897, 56.55172413793103, 59.6551724137931, 62.758620689655174, 65.86206896551724, 68.9655172413793, 72.06896551724138, 75.17241379310344, 78.27586206896552, 81.37931034482759, 84.48275862068965, 87.58620689655173, 90.6896551724138, 93.79310344827586, 96.89655172413794, 100.0], \"y\": [0.0, 14.650194627697756, 27.646438588671717, 37.92058440840592, 44.531961872139135, 47.75581650389762, 55.1912720727038, 57.25321822884905, 54.80814443210082, 60.24485827310241, 63.285475130009345, 67.40085416064666, 65.53537242221421, 62.40075602467372, 68.92165173139479, 72.61906597328185, 74.11985870002553, 73.9118300285795, 73.55050667324963, 73.39502838393958, 73.537163760738, 73.78967094843107, 74.11030266132929, 74.05551400633384, 73.67523578845007, 73.93693770719824, 74.40079053114923, 75.13203849760474, 72.27720674305593, 64.91259569192667]}, {\"fill\": \"tonexty\", \"fillcolor\": \"rgba(229, 134, 6, 0.3)\", \"line\": {\"color\": \"rgb(229, 134, 6)\"}, \"mode\": \"lines\", \"name\": \"OptimalSampler\", \"showlegend\": true, \"type\": \"scatter\", \"x\": [10.0, 13.10344827586207, 16.20689655172414, 19.310344827586206, 22.413793103448278, 25.517241379310345, 28.620689655172413, 31.724137931034484, 34.827586206896555, 37.93103448275862, 41.03448275862069, 44.13793103448276, 47.241379310344826, 50.3448275862069, 53.44827586206897, 56.55172413793103, 59.6551724137931, 62.758620689655174, 65.86206896551724, 68.9655172413793, 72.06896551724138, 75.17241379310344, 78.27586206896552, 81.37931034482759, 84.48275862068965, 87.58620689655173, 90.6896551724138, 93.79310344827586, 96.89655172413794, 100.0], \"y\": [0.0, 19.30842606195742, 36.601837273397265, 50.85182938469752, 60.93317222747771, 70.95529460721349, 70.7198390384073, 74.64716491291341, 82.11292836483406, 80.91529498360256, 81.76433329910942, 80.9317128891618, 83.4500681908126, 86.78391830482818, 84.92509156362438, 85.47595318380625, 87.80964321568328, 88.6889362549454, 89.20351631525611, 89.19347736318687, 89.54789371052638, 90.10151679103255, 90.22226438847912, 90.1912292886853, 89.82667992036218, 89.99256420851057, 90.11721713168603, 89.7170036479891, 87.6936744829977, 86.8651820858511]}, {\"fillcolor\": \"rgba(93, 105, 177, 0.3)\", \"line\": {\"color\": \"rgb(93, 105, 177)\"}, \"mode\": \"lines\", \"name\": \"GreedyCVXSampler\", \"showlegend\": false, \"type\": \"scatter\", \"x\": [10.0, 13.10344827586207, 16.20689655172414, 19.310344827586206, 22.413793103448278, 25.517241379310345, 28.620689655172413, 31.724137931034484, 34.827586206896555, 37.93103448275862, 41.03448275862069, 44.13793103448276, 47.241379310344826, 50.3448275862069, 53.44827586206897, 56.55172413793103, 59.6551724137931, 62.758620689655174, 65.86206896551724, 68.9655172413793, 72.06896551724138, 75.17241379310344, 78.27586206896552, 81.37931034482759, 84.48275862068965, 87.58620689655173, 90.6896551724138, 93.79310344827586, 96.89655172413794, 100.0], \"y\": [0.0, 3.785360895809523, 7.570721791619046, 12.274807001131114, 25.147199082186297, 35.87248955892512, 41.59903961376078, 41.84425552603278, 46.34656339636914, 49.03460916893859, 48.75915981165218, 49.79367312507169, 56.303383278175126, 60.39337424339539, 67.79347548400658, 70.71491931153668, 72.19316875706356, 70.27333563351425, 68.6586047952715, 68.69479777410704, 72.64692037243593, 71.92949044619246, 72.45708468993092, 72.24343550989829, 73.46001699657447, 74.28826484416147, 74.56621873379568, 67.85421038247483, 65.16827228078836, 64.91259569192667]}, {\"fill\": \"tonexty\", \"fillcolor\": \"rgba(93, 105, 177, 0.3)\", \"line\": {\"color\": \"rgb(93, 105, 177)\"}, \"mode\": \"lines\", \"name\": \"GreedyCVXSampler\", \"showlegend\": true, \"type\": \"scatter\", \"x\": [10.0, 13.10344827586207, 16.20689655172414, 19.310344827586206, 22.413793103448278, 25.517241379310345, 28.620689655172413, 31.724137931034484, 34.827586206896555, 37.93103448275862, 41.03448275862069, 44.13793103448276, 47.241379310344826, 50.3448275862069, 53.44827586206897, 56.55172413793103, 59.6551724137931, 62.758620689655174, 65.86206896551724, 68.9655172413793, 72.06896551724138, 75.17241379310344, 78.27586206896552, 81.37931034482759, 84.48275862068965, 87.58620689655173, 90.6896551724138, 93.79310344827586, 96.89655172413794, 100.0], \"y\": [0.0, 9.258317265110021, 18.516634530220042, 27.470376359569485, 36.57497752792136, 49.06602531062425, 54.02010287848516, 60.55999917201504, 67.15999866651475, 70.13099321505462, 70.9636693557747, 76.92591819038172, 78.03832808836384, 82.10113405800948, 83.65153090168947, 82.88640891323985, 84.37439190704883, 84.48988275729036, 88.27549482158675, 88.23240529102706, 86.35844361223842, 85.06974327028263, 85.48965860508827, 85.49449552458447, 86.08506601747408, 86.42322940871206, 86.59661651524645, 87.5266325294026, 87.24398825561013, 86.8651820858511]}, {\"fillcolor\": \"rgba(82, 188, 163, 0.3)\", \"line\": {\"color\": \"rgb(82, 188, 163)\"}, \"mode\": \"lines\", \"name\": \"ClusterCVXSampler\", \"showlegend\": false, \"type\": \"scatter\", \"x\": [10.0, 13.10344827586207, 16.20689655172414, 19.310344827586206, 22.413793103448278, 25.517241379310345, 28.620689655172413, 31.724137931034484, 34.827586206896555, 37.93103448275862, 41.03448275862069, 44.13793103448276, 47.241379310344826, 50.3448275862069, 53.44827586206897, 56.55172413793103, 59.6551724137931, 62.758620689655174, 65.86206896551724, 68.9655172413793, 72.06896551724138, 75.17241379310344, 78.27586206896552, 81.37931034482759, 84.48275862068965, 87.58620689655173, 90.6896551724138, 93.79310344827586, 96.89655172413794, 100.0], \"y\": [0.0, 0.49639709682000577, 5.668651919931828, 16.781637502417183, 22.375278520443402, 32.300612464404935, 42.781497132900355, 52.635890837546164, 53.103286277741034, 53.92206258989913, 61.108214624115845, 63.991495323170994, 61.94219420310082, 64.95726726075958, 63.21612715324554, 64.44949757100528, 69.22667960610883, 70.92542696335309, 71.54367824987014, 71.72792630525092, 72.45932970312765, 71.65049728277339, 72.93720000541391, 74.13079796105036, 74.90432966303605, 74.41187180782404, 73.29709790574132, 72.89188797466286, 73.16474617026077, 64.91259569192667]}, {\"fill\": \"tonexty\", \"fillcolor\": \"rgba(82, 188, 163, 0.3)\", \"line\": {\"color\": \"rgb(82, 188, 163)\"}, \"mode\": \"lines\", \"name\": \"ClusterCVXSampler\", \"showlegend\": true, \"type\": \"scatter\", \"x\": [10.0, 13.10344827586207, 16.20689655172414, 19.310344827586206, 22.413793103448278, 25.517241379310345, 28.620689655172413, 31.724137931034484, 34.827586206896555, 37.93103448275862, 41.03448275862069, 44.13793103448276, 47.241379310344826, 50.3448275862069, 53.44827586206897, 56.55172413793103, 59.6551724137931, 62.758620689655174, 65.86206896551724, 68.9655172413793, 72.06896551724138, 75.17241379310344, 78.27586206896552, 81.37931034482759, 84.48275862068965, 87.58620689655173, 90.6896551724138, 93.79310344827586, 96.89655172413794, 100.0], \"y\": [0.0, 6.648430489386893, 14.982689076236763, 26.789013838578988, 37.74173297380949, 47.157471826782796, 55.671529687022996, 63.50977966053812, 66.12552598279535, 68.3952554177637, 69.58465893910252, 73.5101138722313, 77.51205867046242, 77.53529978904885, 80.42870043296136, 82.35395070485677, 85.71998706055783, 88.19656537381167, 88.50904205664327, 88.04249515068776, 87.2859576531942, 86.11931114634538, 85.05391110569722, 85.41249705810672, 88.10624504960761, 87.74628911171621, 86.49263389502495, 86.14136873031799, 86.2979358220764, 86.8651820858511]}],                        {\"font\": {\"size\": 15}, \"height\": 400, \"legend\": {\"bgcolor\": \"rgba(0,0,0,0)\", \"bordercolor\": \"Black\", \"borderwidth\": 1, \"x\": 0.98, \"xanchor\": \"right\", \"y\": 0.05, \"yanchor\": \"bottom\"}, \"margin\": {\"b\": 40, \"l\": 0, \"r\": 0, \"t\": 40}, \"template\": {\"data\": {\"bar\": [{\"error_x\": {\"color\": \"#2a3f5f\"}, \"error_y\": {\"color\": \"#2a3f5f\"}, \"marker\": {\"line\": {\"color\": \"white\", \"width\": 0.5}}, \"type\": \"bar\"}], \"barpolar\": [{\"marker\": {\"line\": {\"color\": \"white\", \"width\": 0.5}}, \"type\": \"barpolar\"}], \"carpet\": [{\"aaxis\": {\"endlinecolor\": \"#2a3f5f\", \"gridcolor\": \"#C8D4E3\", \"linecolor\": \"#C8D4E3\", \"minorgridcolor\": \"#C8D4E3\", \"startlinecolor\": \"#2a3f5f\"}, \"baxis\": {\"endlinecolor\": \"#2a3f5f\", \"gridcolor\": \"#C8D4E3\", \"linecolor\": \"#C8D4E3\", \"minorgridcolor\": \"#C8D4E3\", \"startlinecolor\": \"#2a3f5f\"}, \"type\": \"carpet\"}], \"choropleth\": [{\"colorbar\": {\"outlinewidth\": 0, \"ticks\": \"\"}, \"type\": \"choropleth\"}], \"contour\": [{\"colorbar\": {\"outlinewidth\": 0, \"ticks\": \"\"}, \"colorscale\": [[0.0, \"#0d0887\"], [0.1111111111111111, \"#46039f\"], [0.2222222222222222, \"#7201a8\"], [0.3333333333333333, \"#9c179e\"], [0.4444444444444444, \"#bd3786\"], [0.5555555555555556, \"#d8576b\"], [0.6666666666666666, \"#ed7953\"], [0.7777777777777778, \"#fb9f3a\"], [0.8888888888888888, \"#fdca26\"], [1.0, \"#f0f921\"]], \"type\": \"contour\"}], \"contourcarpet\": [{\"colorbar\": {\"outlinewidth\": 0, \"ticks\": \"\"}, \"type\": \"contourcarpet\"}], \"heatmap\": [{\"colorbar\": {\"outlinewidth\": 0, \"ticks\": \"\"}, \"colorscale\": [[0.0, \"#0d0887\"], [0.1111111111111111, \"#46039f\"], [0.2222222222222222, \"#7201a8\"], [0.3333333333333333, \"#9c179e\"], [0.4444444444444444, \"#bd3786\"], [0.5555555555555556, \"#d8576b\"], [0.6666666666666666, \"#ed7953\"], [0.7777777777777778, \"#fb9f3a\"], [0.8888888888888888, \"#fdca26\"], [1.0, \"#f0f921\"]], \"type\": \"heatmap\"}], \"heatmapgl\": [{\"colorbar\": {\"outlinewidth\": 0, \"ticks\": \"\"}, \"colorscale\": [[0.0, \"#0d0887\"], [0.1111111111111111, \"#46039f\"], [0.2222222222222222, \"#7201a8\"], [0.3333333333333333, \"#9c179e\"], [0.4444444444444444, \"#bd3786\"], [0.5555555555555556, \"#d8576b\"], [0.6666666666666666, \"#ed7953\"], [0.7777777777777778, \"#fb9f3a\"], [0.8888888888888888, \"#fdca26\"], [1.0, \"#f0f921\"]], \"type\": \"heatmapgl\"}], \"histogram\": [{\"marker\": {\"colorbar\": {\"outlinewidth\": 0, \"ticks\": \"\"}}, \"type\": \"histogram\"}], \"histogram2d\": [{\"colorbar\": {\"outlinewidth\": 0, \"ticks\": \"\"}, \"colorscale\": [[0.0, \"#0d0887\"], [0.1111111111111111, \"#46039f\"], [0.2222222222222222, \"#7201a8\"], [0.3333333333333333, \"#9c179e\"], [0.4444444444444444, \"#bd3786\"], [0.5555555555555556, \"#d8576b\"], [0.6666666666666666, \"#ed7953\"], [0.7777777777777778, \"#fb9f3a\"], [0.8888888888888888, \"#fdca26\"], [1.0, \"#f0f921\"]], \"type\": \"histogram2d\"}], \"histogram2dcontour\": [{\"colorbar\": {\"outlinewidth\": 0, \"ticks\": \"\"}, \"colorscale\": [[0.0, \"#0d0887\"], [0.1111111111111111, \"#46039f\"], [0.2222222222222222, \"#7201a8\"], [0.3333333333333333, \"#9c179e\"], [0.4444444444444444, \"#bd3786\"], [0.5555555555555556, \"#d8576b\"], [0.6666666666666666, \"#ed7953\"], [0.7777777777777778, \"#fb9f3a\"], [0.8888888888888888, \"#fdca26\"], [1.0, \"#f0f921\"]], \"type\": \"histogram2dcontour\"}], \"mesh3d\": [{\"colorbar\": {\"outlinewidth\": 0, \"ticks\": \"\"}, \"type\": \"mesh3d\"}], \"parcoords\": [{\"line\": {\"colorbar\": {\"outlinewidth\": 0, \"ticks\": \"\"}}, \"type\": \"parcoords\"}], \"pie\": [{\"automargin\": true, \"type\": \"pie\"}], \"scatter\": [{\"marker\": {\"colorbar\": {\"outlinewidth\": 0, \"ticks\": \"\"}}, \"type\": \"scatter\"}], \"scatter3d\": [{\"line\": {\"colorbar\": {\"outlinewidth\": 0, \"ticks\": \"\"}}, \"marker\": {\"colorbar\": {\"outlinewidth\": 0, \"ticks\": \"\"}}, \"type\": \"scatter3d\"}], \"scattercarpet\": [{\"marker\": {\"colorbar\": {\"outlinewidth\": 0, \"ticks\": \"\"}}, \"type\": \"scattercarpet\"}], \"scattergeo\": [{\"marker\": {\"colorbar\": {\"outlinewidth\": 0, \"ticks\": \"\"}}, \"type\": \"scattergeo\"}], \"scattergl\": [{\"marker\": {\"colorbar\": {\"outlinewidth\": 0, \"ticks\": \"\"}}, \"type\": \"scattergl\"}], \"scattermapbox\": [{\"marker\": {\"colorbar\": {\"outlinewidth\": 0, \"ticks\": \"\"}}, \"type\": \"scattermapbox\"}], \"scatterpolar\": [{\"marker\": {\"colorbar\": {\"outlinewidth\": 0, \"ticks\": \"\"}}, \"type\": \"scatterpolar\"}], \"scatterpolargl\": [{\"marker\": {\"colorbar\": {\"outlinewidth\": 0, \"ticks\": \"\"}}, \"type\": \"scatterpolargl\"}], \"scatterternary\": [{\"marker\": {\"colorbar\": {\"outlinewidth\": 0, \"ticks\": \"\"}}, \"type\": \"scatterternary\"}], \"surface\": [{\"colorbar\": {\"outlinewidth\": 0, \"ticks\": \"\"}, \"colorscale\": [[0.0, \"#0d0887\"], [0.1111111111111111, \"#46039f\"], [0.2222222222222222, \"#7201a8\"], [0.3333333333333333, \"#9c179e\"], [0.4444444444444444, \"#bd3786\"], [0.5555555555555556, \"#d8576b\"], [0.6666666666666666, \"#ed7953\"], [0.7777777777777778, \"#fb9f3a\"], [0.8888888888888888, \"#fdca26\"], [1.0, \"#f0f921\"]], \"type\": \"surface\"}], \"table\": [{\"cells\": {\"fill\": {\"color\": \"#EBF0F8\"}, \"line\": {\"color\": \"white\"}}, \"header\": {\"fill\": {\"color\": \"#C8D4E3\"}, \"line\": {\"color\": \"white\"}}, \"type\": \"table\"}]}, \"layout\": {\"annotationdefaults\": {\"arrowcolor\": \"#2a3f5f\", \"arrowhead\": 0, \"arrowwidth\": 1}, \"coloraxis\": {\"colorbar\": {\"outlinewidth\": 0, \"ticks\": \"\"}}, \"colorscale\": {\"diverging\": [[0, \"#8e0152\"], [0.1, \"#c51b7d\"], [0.2, \"#de77ae\"], [0.3, \"#f1b6da\"], [0.4, \"#fde0ef\"], [0.5, \"#f7f7f7\"], [0.6, \"#e6f5d0\"], [0.7, \"#b8e186\"], [0.8, \"#7fbc41\"], [0.9, \"#4d9221\"], [1, \"#276419\"]], \"sequential\": [[0.0, \"#0d0887\"], [0.1111111111111111, \"#46039f\"], [0.2222222222222222, \"#7201a8\"], [0.3333333333333333, \"#9c179e\"], [0.4444444444444444, \"#bd3786\"], [0.5555555555555556, \"#d8576b\"], [0.6666666666666666, \"#ed7953\"], [0.7777777777777778, \"#fb9f3a\"], [0.8888888888888888, \"#fdca26\"], [1.0, \"#f0f921\"]], \"sequentialminus\": [[0.0, \"#0d0887\"], [0.1111111111111111, \"#46039f\"], [0.2222222222222222, \"#7201a8\"], [0.3333333333333333, \"#9c179e\"], [0.4444444444444444, \"#bd3786\"], [0.5555555555555556, \"#d8576b\"], [0.6666666666666666, \"#ed7953\"], [0.7777777777777778, \"#fb9f3a\"], [0.8888888888888888, \"#fdca26\"], [1.0, \"#f0f921\"]]}, \"colorway\": [\"#636efa\", \"#EF553B\", \"#00cc96\", \"#ab63fa\", \"#FFA15A\", \"#19d3f3\", \"#FF6692\", \"#B6E880\", \"#FF97FF\", \"#FECB52\"], \"font\": {\"color\": \"#2a3f5f\"}, \"geo\": {\"bgcolor\": \"white\", \"lakecolor\": \"white\", \"landcolor\": \"white\", \"showlakes\": true, \"showland\": true, \"subunitcolor\": \"#C8D4E3\"}, \"hoverlabel\": {\"align\": \"left\"}, \"hovermode\": \"closest\", \"mapbox\": {\"style\": \"light\"}, \"paper_bgcolor\": \"white\", \"plot_bgcolor\": \"white\", \"polar\": {\"angularaxis\": {\"gridcolor\": \"#EBF0F8\", \"linecolor\": \"#EBF0F8\", \"ticks\": \"\"}, \"bgcolor\": \"white\", \"radialaxis\": {\"gridcolor\": \"#EBF0F8\", \"linecolor\": \"#EBF0F8\", \"ticks\": \"\"}}, \"scene\": {\"xaxis\": {\"backgroundcolor\": \"white\", \"gridcolor\": \"#DFE8F3\", \"gridwidth\": 2, \"linecolor\": \"#EBF0F8\", \"showbackground\": true, \"ticks\": \"\", \"zerolinecolor\": \"#EBF0F8\"}, \"yaxis\": {\"backgroundcolor\": \"white\", \"gridcolor\": \"#DFE8F3\", \"gridwidth\": 2, \"linecolor\": \"#EBF0F8\", \"showbackground\": true, \"ticks\": \"\", \"zerolinecolor\": \"#EBF0F8\"}, \"zaxis\": {\"backgroundcolor\": \"white\", \"gridcolor\": \"#DFE8F3\", \"gridwidth\": 2, \"linecolor\": \"#EBF0F8\", \"showbackground\": true, \"ticks\": \"\", \"zerolinecolor\": \"#EBF0F8\"}}, \"shapedefaults\": {\"line\": {\"color\": \"#2a3f5f\"}}, \"ternary\": {\"aaxis\": {\"gridcolor\": \"#DFE8F3\", \"linecolor\": \"#A2B1C6\", \"ticks\": \"\"}, \"baxis\": {\"gridcolor\": \"#DFE8F3\", \"linecolor\": \"#A2B1C6\", \"ticks\": \"\"}, \"bgcolor\": \"white\", \"caxis\": {\"gridcolor\": \"#DFE8F3\", \"linecolor\": \"#A2B1C6\", \"ticks\": \"\"}}, \"title\": {\"x\": 0.05}, \"xaxis\": {\"automargin\": true, \"gridcolor\": \"#EBF0F8\", \"linecolor\": \"#EBF0F8\", \"ticks\": \"\", \"title\": {\"standoff\": 15}, \"zerolinecolor\": \"#EBF0F8\", \"zerolinewidth\": 2}, \"yaxis\": {\"automargin\": true, \"gridcolor\": \"#EBF0F8\", \"linecolor\": \"#EBF0F8\", \"ticks\": \"\", \"title\": {\"standoff\": 15}, \"zerolinecolor\": \"#EBF0F8\", \"zerolinewidth\": 2}}}, \"title\": {\"text\": \"Number of classes = 10\", \"x\": 0.5}, \"width\": 500, \"xaxis\": {\"linecolor\": \"Black\", \"linewidth\": 1.5, \"mirror\": true, \"range\": [10, 100], \"showline\": true, \"title\": {\"text\": \"#labeled data (%)\"}}, \"yaxis\": {\"linecolor\": \"Black\", \"linewidth\": 1.5, \"mirror\": true, \"range\": [0, 100], \"showline\": true, \"title\": {\"text\": \"Accuracy (%)\"}}},                        {\"responsive\": true}                    ).then(function(){\n",
       "                            \n",
       "var gd = document.getElementById('99213799-a3e7-4c66-a6f2-f8e18c525fd1');\n",
       "var x = new MutationObserver(function (mutations, observer) {{\n",
       "        var display = window.getComputedStyle(gd).display;\n",
       "        if (!display || display === 'none') {{\n",
       "            console.log([gd, 'removed!']);\n",
       "            Plotly.purge(gd);\n",
       "            observer.disconnect();\n",
       "        }}\n",
       "}});\n",
       "\n",
       "// Listen for the removal of the full notebook cells\n",
       "var notebookContainer = gd.closest('#notebook-container');\n",
       "if (notebookContainer) {{\n",
       "    x.observe(notebookContainer, {childList: true});\n",
       "}}\n",
       "\n",
       "// Listen for the clearing of the current output cell\n",
       "var outputEl = gd.closest('.output');\n",
       "if (outputEl) {{\n",
       "    x.observe(outputEl, {childList: true});\n",
       "}}\n",
       "\n",
       "                        })                };                });            </script>        </div>"
      ]
     },
     "metadata": {},
     "output_type": "display_data"
    }
   ],
   "source": [
    "plot([optimal, argmax, spectral], \n",
    "     [\"OptimalSampler\", \"GreedyCVXSampler\", \"ClusterCVXSampler\"], \n",
    "     filename=\"plots/cvx_optimal_N={}_K={}_sigma={}_alpha={}.pdf\".format(N, K, sigma, alpha), \n",
    "     title=\"Number of classes = {}\".format(K), \n",
    "     opacity=0.3)"
   ]
  },
  {
   "cell_type": "code",
   "execution_count": 14,
   "metadata": {},
   "outputs": [
    {
     "data": {
      "application/vnd.plotly.v1+json": {
       "config": {
        "plotlyServerURL": "https://plot.ly"
       },
       "data": [
        {
         "fillcolor": "rgba(229, 134, 6, 0.3)",
         "line": {
          "color": "rgb(229, 134, 6)"
         },
         "mode": "lines",
         "name": "GreedyCVXSampler",
         "showlegend": false,
         "type": "scatter",
         "x": [
          10,
          13.10344827586207,
          16.20689655172414,
          19.310344827586206,
          22.413793103448278,
          25.517241379310345,
          28.620689655172413,
          31.724137931034484,
          34.827586206896555,
          37.93103448275862,
          41.03448275862069,
          44.13793103448276,
          47.241379310344826,
          50.3448275862069,
          53.44827586206897,
          56.55172413793103,
          59.6551724137931,
          62.758620689655174,
          65.86206896551724,
          68.9655172413793,
          72.06896551724138,
          75.17241379310344,
          78.27586206896552,
          81.37931034482759,
          84.48275862068965,
          87.58620689655173,
          90.6896551724138,
          93.79310344827586,
          96.89655172413794,
          100
         ],
         "y": [
          0,
          0,
          0,
          0,
          0.6848723530896739,
          1.5654225213478257,
          2.655941885101645,
          4.983575266763237,
          6.474464105150237,
          7.214195629186211,
          9.681564692215916,
          13.230437800063175,
          18.430686676221082,
          21.22660384761256,
          24.358215119735576,
          30.3173112172857,
          33.29024551667911,
          36.487996783040686,
          37.45072535621315,
          40.264461967106406,
          44.7732367402972,
          41.45936105965052,
          43.77616229683275,
          44.2012338302676,
          46.26356000437987,
          47.813713078035775,
          47.09740237270785,
          49.98169787440776,
          51.63650586201797,
          52.99102618628243
         ]
        },
        {
         "fill": "tonexty",
         "fillcolor": "rgba(229, 134, 6, 0.3)",
         "line": {
          "color": "rgb(229, 134, 6)"
         },
         "mode": "lines",
         "name": "GreedyCVXSampler",
         "showlegend": true,
         "type": "scatter",
         "x": [
          10,
          13.10344827586207,
          16.20689655172414,
          19.310344827586206,
          22.413793103448278,
          25.517241379310345,
          28.620689655172413,
          31.724137931034484,
          34.827586206896555,
          37.93103448275862,
          41.03448275862069,
          44.13793103448276,
          47.241379310344826,
          50.3448275862069,
          53.44827586206897,
          56.55172413793103,
          59.6551724137931,
          62.758620689655174,
          65.86206896551724,
          68.9655172413793,
          72.06896551724138,
          75.17241379310344,
          78.27586206896552,
          81.37931034482759,
          84.48275862068965,
          87.58620689655173,
          90.6896551724138,
          93.79310344827586,
          96.89655172413794,
          100
         ],
         "y": [
          0,
          0,
          0,
          0,
          2.5678309249009623,
          5.869327828345053,
          8.494130486120147,
          14.343615026978787,
          21.80631494976676,
          29.113390577710337,
          30.831016953469188,
          29.528306954543655,
          32.37129836300532,
          37.30775119708731,
          42.3243902442491,
          46.03632862945759,
          46.32737900439369,
          46.973305898951665,
          50.69946621466807,
          50.06376280939423,
          50.949368623687484,
          54.504240472916536,
          53.60021062781604,
          56.132099503065746,
          58.32111432512205,
          57.007742860661565,
          57.052022914648475,
          57.52021783440452,
          58.63629107284794,
          61.364529369273136
         ]
        },
        {
         "fillcolor": "rgba(93, 105, 177, 0.3)",
         "line": {
          "color": "rgb(93, 105, 177)"
         },
         "mode": "lines",
         "name": "GreedyCVXSampler+OnehotProb*",
         "showlegend": false,
         "type": "scatter",
         "x": [
          10,
          13.10344827586207,
          16.20689655172414,
          19.310344827586206,
          22.413793103448278,
          25.517241379310345,
          28.620689655172413,
          31.724137931034484,
          34.827586206896555,
          37.93103448275862,
          41.03448275862069,
          44.13793103448276,
          47.241379310344826,
          50.3448275862069,
          53.44827586206897,
          56.55172413793103,
          59.6551724137931,
          62.758620689655174,
          65.86206896551724,
          68.9655172413793,
          72.06896551724138,
          75.17241379310344,
          78.27586206896552,
          81.37931034482759,
          84.48275862068965,
          87.58620689655173,
          90.6896551724138,
          93.79310344827586,
          96.89655172413794,
          100
         ],
         "y": [
          0,
          0,
          0,
          0,
          1.209858831007394,
          2.7653916137311834,
          3.9551797660849983,
          4.5211959864383156,
          6.004881300989834,
          8.515797156874296,
          11.105311193979217,
          13.690452429566975,
          15.755459224084264,
          20.690384966248295,
          26.219742014580774,
          32.10011349573887,
          36.9199646292917,
          39.33821465082361,
          40.98612770189215,
          41.46724418362541,
          41.58191730022255,
          42.8307749993381,
          45.29262183573462,
          46.58036960853732,
          48.26938147604411,
          48.652247646275356,
          50.33521020954501,
          52.00478360173254,
          52.37848958122978,
          52.99102618628243
         ]
        },
        {
         "fill": "tonexty",
         "fillcolor": "rgba(93, 105, 177, 0.3)",
         "line": {
          "color": "rgb(93, 105, 177)"
         },
         "mode": "lines",
         "name": "GreedyCVXSampler+OnehotProb*",
         "showlegend": true,
         "type": "scatter",
         "x": [
          10,
          13.10344827586207,
          16.20689655172414,
          19.310344827586206,
          22.413793103448278,
          25.517241379310345,
          28.620689655172413,
          31.724137931034484,
          34.827586206896555,
          37.93103448275862,
          41.03448275862069,
          44.13793103448276,
          47.241379310344826,
          50.3448275862069,
          53.44827586206897,
          56.55172413793103,
          59.6551724137931,
          62.758620689655174,
          65.86206896551724,
          68.9655172413793,
          72.06896551724138,
          75.17241379310344,
          78.27586206896552,
          81.37931034482759,
          84.48275862068965,
          87.58620689655173,
          90.6896551724138,
          93.79310344827586,
          96.89655172413794,
          100
         ],
         "y": [
          0,
          0,
          0,
          0,
          2.86884390516661,
          6.557357497523676,
          9.808988462451047,
          13.080178458614292,
          18.04735977423976,
          23.797268917111314,
          27.50692280446168,
          30.3171424021658,
          33.630565224009146,
          38.26013169461321,
          42.95762166048405,
          45.58120599362658,
          48.324692671687444,
          50.001019065651484,
          51.66000256630708,
          51.57162728972881,
          51.79117763379191,
          54.243422918537995,
          53.75277377333916,
          54.92491774778454,
          55.636912995767595,
          56.289003950148654,
          57.01498136133621,
          58.62586773926364,
          58.818445284670624,
          61.364529369273136
         ]
        },
        {
         "fillcolor": "rgba(82, 188, 163, 0.3)",
         "line": {
          "color": "rgb(82, 188, 163)"
         },
         "mode": "lines",
         "name": "GreedyCVXSampler+Prob*",
         "showlegend": false,
         "type": "scatter",
         "x": [
          10,
          13.10344827586207,
          16.20689655172414,
          19.310344827586206,
          22.413793103448278,
          25.517241379310345,
          28.620689655172413,
          31.724137931034484,
          34.827586206896555,
          37.93103448275862,
          41.03448275862069,
          44.13793103448276,
          47.241379310344826,
          50.3448275862069,
          53.44827586206897,
          56.55172413793103,
          59.6551724137931,
          62.758620689655174,
          65.86206896551724,
          68.9655172413793,
          72.06896551724138,
          75.17241379310344,
          78.27586206896552,
          81.37931034482759,
          84.48275862068965,
          87.58620689655173,
          90.6896551724138,
          93.79310344827586,
          96.89655172413794,
          100
         ],
         "y": [
          0,
          0,
          0,
          0,
          0.6848723530896739,
          1.5654225213478257,
          2.7059938366850624,
          5.235196447995294,
          6.579999721762415,
          10.332816195179316,
          12.136045808510964,
          11.803305782680631,
          13.1578673349664,
          18.03681839417509,
          21.85715526700047,
          24.553998457557846,
          27.229935788010124,
          28.689604858921165,
          32.17144459603324,
          34.76863385178843,
          35.49136643818453,
          34.26950992679139,
          36.64452077051335,
          41.841427068968635,
          46.03664140166468,
          47.10056876339268,
          48.22448278606579,
          49.20605174204385,
          51.79193768085503,
          52.99102618628243
         ]
        },
        {
         "fill": "tonexty",
         "fillcolor": "rgba(82, 188, 163, 0.3)",
         "line": {
          "color": "rgb(82, 188, 163)"
         },
         "mode": "lines",
         "name": "GreedyCVXSampler+Prob*",
         "showlegend": true,
         "type": "scatter",
         "x": [
          10,
          13.10344827586207,
          16.20689655172414,
          19.310344827586206,
          22.413793103448278,
          25.517241379310345,
          28.620689655172413,
          31.724137931034484,
          34.827586206896555,
          37.93103448275862,
          41.03448275862069,
          44.13793103448276,
          47.241379310344826,
          50.3448275862069,
          53.44827586206897,
          56.55172413793103,
          59.6551724137931,
          62.758620689655174,
          65.86206896551724,
          68.9655172413793,
          72.06896551724138,
          75.17241379310344,
          78.27586206896552,
          81.37931034482759,
          84.48275862068965,
          87.58620689655173,
          90.6896551724138,
          93.79310344827586,
          96.89655172413794,
          100
         ],
         "y": [
          0,
          0,
          0,
          0,
          2.5678309249009623,
          5.869327828345053,
          8.567130897244265,
          12.398443398748006,
          16.631622245031974,
          18.276769646820316,
          22.6986558882597,
          29.075008393564588,
          28.542953683096,
          30.884509830601413,
          39.48493559233178,
          40.86490320272312,
          42.44554313919295,
          45.594814042739124,
          48.699564343941205,
          49.9719791750315,
          51.51438068825226,
          53.477233368227765,
          54.27770145170889,
          53.04516296934555,
          57.02925898147707,
          57.60594464656901,
          58.97551721393421,
          58.732645575963794,
          59.30154890918331,
          61.364529369273136
         ]
        }
       ],
       "layout": {
        "font": {
         "size": 15
        },
        "height": 400,
        "legend": {
         "bgcolor": "rgba(0,0,0,0)",
         "bordercolor": "Black",
         "borderwidth": 1,
         "x": 0.98,
         "xanchor": "right",
         "y": 0.05,
         "yanchor": "bottom"
        },
        "margin": {
         "b": 40,
         "l": 0,
         "r": 0,
         "t": 40
        },
        "template": {
         "data": {
          "bar": [
           {
            "error_x": {
             "color": "#2a3f5f"
            },
            "error_y": {
             "color": "#2a3f5f"
            },
            "marker": {
             "line": {
              "color": "white",
              "width": 0.5
             }
            },
            "type": "bar"
           }
          ],
          "barpolar": [
           {
            "marker": {
             "line": {
              "color": "white",
              "width": 0.5
             }
            },
            "type": "barpolar"
           }
          ],
          "carpet": [
           {
            "aaxis": {
             "endlinecolor": "#2a3f5f",
             "gridcolor": "#C8D4E3",
             "linecolor": "#C8D4E3",
             "minorgridcolor": "#C8D4E3",
             "startlinecolor": "#2a3f5f"
            },
            "baxis": {
             "endlinecolor": "#2a3f5f",
             "gridcolor": "#C8D4E3",
             "linecolor": "#C8D4E3",
             "minorgridcolor": "#C8D4E3",
             "startlinecolor": "#2a3f5f"
            },
            "type": "carpet"
           }
          ],
          "choropleth": [
           {
            "colorbar": {
             "outlinewidth": 0,
             "ticks": ""
            },
            "type": "choropleth"
           }
          ],
          "contour": [
           {
            "colorbar": {
             "outlinewidth": 0,
             "ticks": ""
            },
            "colorscale": [
             [
              0,
              "#0d0887"
             ],
             [
              0.1111111111111111,
              "#46039f"
             ],
             [
              0.2222222222222222,
              "#7201a8"
             ],
             [
              0.3333333333333333,
              "#9c179e"
             ],
             [
              0.4444444444444444,
              "#bd3786"
             ],
             [
              0.5555555555555556,
              "#d8576b"
             ],
             [
              0.6666666666666666,
              "#ed7953"
             ],
             [
              0.7777777777777778,
              "#fb9f3a"
             ],
             [
              0.8888888888888888,
              "#fdca26"
             ],
             [
              1,
              "#f0f921"
             ]
            ],
            "type": "contour"
           }
          ],
          "contourcarpet": [
           {
            "colorbar": {
             "outlinewidth": 0,
             "ticks": ""
            },
            "type": "contourcarpet"
           }
          ],
          "heatmap": [
           {
            "colorbar": {
             "outlinewidth": 0,
             "ticks": ""
            },
            "colorscale": [
             [
              0,
              "#0d0887"
             ],
             [
              0.1111111111111111,
              "#46039f"
             ],
             [
              0.2222222222222222,
              "#7201a8"
             ],
             [
              0.3333333333333333,
              "#9c179e"
             ],
             [
              0.4444444444444444,
              "#bd3786"
             ],
             [
              0.5555555555555556,
              "#d8576b"
             ],
             [
              0.6666666666666666,
              "#ed7953"
             ],
             [
              0.7777777777777778,
              "#fb9f3a"
             ],
             [
              0.8888888888888888,
              "#fdca26"
             ],
             [
              1,
              "#f0f921"
             ]
            ],
            "type": "heatmap"
           }
          ],
          "heatmapgl": [
           {
            "colorbar": {
             "outlinewidth": 0,
             "ticks": ""
            },
            "colorscale": [
             [
              0,
              "#0d0887"
             ],
             [
              0.1111111111111111,
              "#46039f"
             ],
             [
              0.2222222222222222,
              "#7201a8"
             ],
             [
              0.3333333333333333,
              "#9c179e"
             ],
             [
              0.4444444444444444,
              "#bd3786"
             ],
             [
              0.5555555555555556,
              "#d8576b"
             ],
             [
              0.6666666666666666,
              "#ed7953"
             ],
             [
              0.7777777777777778,
              "#fb9f3a"
             ],
             [
              0.8888888888888888,
              "#fdca26"
             ],
             [
              1,
              "#f0f921"
             ]
            ],
            "type": "heatmapgl"
           }
          ],
          "histogram": [
           {
            "marker": {
             "colorbar": {
              "outlinewidth": 0,
              "ticks": ""
             }
            },
            "type": "histogram"
           }
          ],
          "histogram2d": [
           {
            "colorbar": {
             "outlinewidth": 0,
             "ticks": ""
            },
            "colorscale": [
             [
              0,
              "#0d0887"
             ],
             [
              0.1111111111111111,
              "#46039f"
             ],
             [
              0.2222222222222222,
              "#7201a8"
             ],
             [
              0.3333333333333333,
              "#9c179e"
             ],
             [
              0.4444444444444444,
              "#bd3786"
             ],
             [
              0.5555555555555556,
              "#d8576b"
             ],
             [
              0.6666666666666666,
              "#ed7953"
             ],
             [
              0.7777777777777778,
              "#fb9f3a"
             ],
             [
              0.8888888888888888,
              "#fdca26"
             ],
             [
              1,
              "#f0f921"
             ]
            ],
            "type": "histogram2d"
           }
          ],
          "histogram2dcontour": [
           {
            "colorbar": {
             "outlinewidth": 0,
             "ticks": ""
            },
            "colorscale": [
             [
              0,
              "#0d0887"
             ],
             [
              0.1111111111111111,
              "#46039f"
             ],
             [
              0.2222222222222222,
              "#7201a8"
             ],
             [
              0.3333333333333333,
              "#9c179e"
             ],
             [
              0.4444444444444444,
              "#bd3786"
             ],
             [
              0.5555555555555556,
              "#d8576b"
             ],
             [
              0.6666666666666666,
              "#ed7953"
             ],
             [
              0.7777777777777778,
              "#fb9f3a"
             ],
             [
              0.8888888888888888,
              "#fdca26"
             ],
             [
              1,
              "#f0f921"
             ]
            ],
            "type": "histogram2dcontour"
           }
          ],
          "mesh3d": [
           {
            "colorbar": {
             "outlinewidth": 0,
             "ticks": ""
            },
            "type": "mesh3d"
           }
          ],
          "parcoords": [
           {
            "line": {
             "colorbar": {
              "outlinewidth": 0,
              "ticks": ""
             }
            },
            "type": "parcoords"
           }
          ],
          "pie": [
           {
            "automargin": true,
            "type": "pie"
           }
          ],
          "scatter": [
           {
            "marker": {
             "colorbar": {
              "outlinewidth": 0,
              "ticks": ""
             }
            },
            "type": "scatter"
           }
          ],
          "scatter3d": [
           {
            "line": {
             "colorbar": {
              "outlinewidth": 0,
              "ticks": ""
             }
            },
            "marker": {
             "colorbar": {
              "outlinewidth": 0,
              "ticks": ""
             }
            },
            "type": "scatter3d"
           }
          ],
          "scattercarpet": [
           {
            "marker": {
             "colorbar": {
              "outlinewidth": 0,
              "ticks": ""
             }
            },
            "type": "scattercarpet"
           }
          ],
          "scattergeo": [
           {
            "marker": {
             "colorbar": {
              "outlinewidth": 0,
              "ticks": ""
             }
            },
            "type": "scattergeo"
           }
          ],
          "scattergl": [
           {
            "marker": {
             "colorbar": {
              "outlinewidth": 0,
              "ticks": ""
             }
            },
            "type": "scattergl"
           }
          ],
          "scattermapbox": [
           {
            "marker": {
             "colorbar": {
              "outlinewidth": 0,
              "ticks": ""
             }
            },
            "type": "scattermapbox"
           }
          ],
          "scatterpolar": [
           {
            "marker": {
             "colorbar": {
              "outlinewidth": 0,
              "ticks": ""
             }
            },
            "type": "scatterpolar"
           }
          ],
          "scatterpolargl": [
           {
            "marker": {
             "colorbar": {
              "outlinewidth": 0,
              "ticks": ""
             }
            },
            "type": "scatterpolargl"
           }
          ],
          "scatterternary": [
           {
            "marker": {
             "colorbar": {
              "outlinewidth": 0,
              "ticks": ""
             }
            },
            "type": "scatterternary"
           }
          ],
          "surface": [
           {
            "colorbar": {
             "outlinewidth": 0,
             "ticks": ""
            },
            "colorscale": [
             [
              0,
              "#0d0887"
             ],
             [
              0.1111111111111111,
              "#46039f"
             ],
             [
              0.2222222222222222,
              "#7201a8"
             ],
             [
              0.3333333333333333,
              "#9c179e"
             ],
             [
              0.4444444444444444,
              "#bd3786"
             ],
             [
              0.5555555555555556,
              "#d8576b"
             ],
             [
              0.6666666666666666,
              "#ed7953"
             ],
             [
              0.7777777777777778,
              "#fb9f3a"
             ],
             [
              0.8888888888888888,
              "#fdca26"
             ],
             [
              1,
              "#f0f921"
             ]
            ],
            "type": "surface"
           }
          ],
          "table": [
           {
            "cells": {
             "fill": {
              "color": "#EBF0F8"
             },
             "line": {
              "color": "white"
             }
            },
            "header": {
             "fill": {
              "color": "#C8D4E3"
             },
             "line": {
              "color": "white"
             }
            },
            "type": "table"
           }
          ]
         },
         "layout": {
          "annotationdefaults": {
           "arrowcolor": "#2a3f5f",
           "arrowhead": 0,
           "arrowwidth": 1
          },
          "coloraxis": {
           "colorbar": {
            "outlinewidth": 0,
            "ticks": ""
           }
          },
          "colorscale": {
           "diverging": [
            [
             0,
             "#8e0152"
            ],
            [
             0.1,
             "#c51b7d"
            ],
            [
             0.2,
             "#de77ae"
            ],
            [
             0.3,
             "#f1b6da"
            ],
            [
             0.4,
             "#fde0ef"
            ],
            [
             0.5,
             "#f7f7f7"
            ],
            [
             0.6,
             "#e6f5d0"
            ],
            [
             0.7,
             "#b8e186"
            ],
            [
             0.8,
             "#7fbc41"
            ],
            [
             0.9,
             "#4d9221"
            ],
            [
             1,
             "#276419"
            ]
           ],
           "sequential": [
            [
             0,
             "#0d0887"
            ],
            [
             0.1111111111111111,
             "#46039f"
            ],
            [
             0.2222222222222222,
             "#7201a8"
            ],
            [
             0.3333333333333333,
             "#9c179e"
            ],
            [
             0.4444444444444444,
             "#bd3786"
            ],
            [
             0.5555555555555556,
             "#d8576b"
            ],
            [
             0.6666666666666666,
             "#ed7953"
            ],
            [
             0.7777777777777778,
             "#fb9f3a"
            ],
            [
             0.8888888888888888,
             "#fdca26"
            ],
            [
             1,
             "#f0f921"
            ]
           ],
           "sequentialminus": [
            [
             0,
             "#0d0887"
            ],
            [
             0.1111111111111111,
             "#46039f"
            ],
            [
             0.2222222222222222,
             "#7201a8"
            ],
            [
             0.3333333333333333,
             "#9c179e"
            ],
            [
             0.4444444444444444,
             "#bd3786"
            ],
            [
             0.5555555555555556,
             "#d8576b"
            ],
            [
             0.6666666666666666,
             "#ed7953"
            ],
            [
             0.7777777777777778,
             "#fb9f3a"
            ],
            [
             0.8888888888888888,
             "#fdca26"
            ],
            [
             1,
             "#f0f921"
            ]
           ]
          },
          "colorway": [
           "#636efa",
           "#EF553B",
           "#00cc96",
           "#ab63fa",
           "#FFA15A",
           "#19d3f3",
           "#FF6692",
           "#B6E880",
           "#FF97FF",
           "#FECB52"
          ],
          "font": {
           "color": "#2a3f5f"
          },
          "geo": {
           "bgcolor": "white",
           "lakecolor": "white",
           "landcolor": "white",
           "showlakes": true,
           "showland": true,
           "subunitcolor": "#C8D4E3"
          },
          "hoverlabel": {
           "align": "left"
          },
          "hovermode": "closest",
          "mapbox": {
           "style": "light"
          },
          "paper_bgcolor": "white",
          "plot_bgcolor": "white",
          "polar": {
           "angularaxis": {
            "gridcolor": "#EBF0F8",
            "linecolor": "#EBF0F8",
            "ticks": ""
           },
           "bgcolor": "white",
           "radialaxis": {
            "gridcolor": "#EBF0F8",
            "linecolor": "#EBF0F8",
            "ticks": ""
           }
          },
          "scene": {
           "xaxis": {
            "backgroundcolor": "white",
            "gridcolor": "#DFE8F3",
            "gridwidth": 2,
            "linecolor": "#EBF0F8",
            "showbackground": true,
            "ticks": "",
            "zerolinecolor": "#EBF0F8"
           },
           "yaxis": {
            "backgroundcolor": "white",
            "gridcolor": "#DFE8F3",
            "gridwidth": 2,
            "linecolor": "#EBF0F8",
            "showbackground": true,
            "ticks": "",
            "zerolinecolor": "#EBF0F8"
           },
           "zaxis": {
            "backgroundcolor": "white",
            "gridcolor": "#DFE8F3",
            "gridwidth": 2,
            "linecolor": "#EBF0F8",
            "showbackground": true,
            "ticks": "",
            "zerolinecolor": "#EBF0F8"
           }
          },
          "shapedefaults": {
           "line": {
            "color": "#2a3f5f"
           }
          },
          "ternary": {
           "aaxis": {
            "gridcolor": "#DFE8F3",
            "linecolor": "#A2B1C6",
            "ticks": ""
           },
           "baxis": {
            "gridcolor": "#DFE8F3",
            "linecolor": "#A2B1C6",
            "ticks": ""
           },
           "bgcolor": "white",
           "caxis": {
            "gridcolor": "#DFE8F3",
            "linecolor": "#A2B1C6",
            "ticks": ""
           }
          },
          "title": {
           "x": 0.05
          },
          "xaxis": {
           "automargin": true,
           "gridcolor": "#EBF0F8",
           "linecolor": "#EBF0F8",
           "ticks": "",
           "title": {
            "standoff": 15
           },
           "zerolinecolor": "#EBF0F8",
           "zerolinewidth": 2
          },
          "yaxis": {
           "automargin": true,
           "gridcolor": "#EBF0F8",
           "linecolor": "#EBF0F8",
           "ticks": "",
           "title": {
            "standoff": 15
           },
           "zerolinecolor": "#EBF0F8",
           "zerolinewidth": 2
          }
         }
        },
        "title": {
         "text": "",
         "x": 0.5
        },
        "width": 500,
        "xaxis": {
         "linecolor": "Black",
         "linewidth": 1.5,
         "mirror": true,
         "range": [
          10,
          100
         ],
         "showline": true,
         "title": {
          "text": "#labeled data (%)"
         }
        },
        "yaxis": {
         "linecolor": "Black",
         "linewidth": 1.5,
         "mirror": true,
         "range": [
          0,
          71.36452936927313
         ],
         "showline": true,
         "title": {
          "text": "Accuracy (%)"
         }
        }
       }
      },
      "text/html": [
       "<div>                            <div id=\"ceecccf6-a9bb-44e9-9e2d-f254186eaf07\" class=\"plotly-graph-div\" style=\"height:400px; width:500px;\"></div>            <script type=\"text/javascript\">                require([\"plotly\"], function(Plotly) {                    window.PLOTLYENV=window.PLOTLYENV || {};                                    if (document.getElementById(\"ceecccf6-a9bb-44e9-9e2d-f254186eaf07\")) {                    Plotly.newPlot(                        \"ceecccf6-a9bb-44e9-9e2d-f254186eaf07\",                        [{\"fillcolor\": \"rgba(229, 134, 6, 0.3)\", \"line\": {\"color\": \"rgb(229, 134, 6)\"}, \"mode\": \"lines\", \"name\": \"GreedyCVXSampler\", \"showlegend\": false, \"type\": \"scatter\", \"x\": [10.0, 13.10344827586207, 16.20689655172414, 19.310344827586206, 22.413793103448278, 25.517241379310345, 28.620689655172413, 31.724137931034484, 34.827586206896555, 37.93103448275862, 41.03448275862069, 44.13793103448276, 47.241379310344826, 50.3448275862069, 53.44827586206897, 56.55172413793103, 59.6551724137931, 62.758620689655174, 65.86206896551724, 68.9655172413793, 72.06896551724138, 75.17241379310344, 78.27586206896552, 81.37931034482759, 84.48275862068965, 87.58620689655173, 90.6896551724138, 93.79310344827586, 96.89655172413794, 100.0], \"y\": [0.0, 0.0, 0.0, 0.0, 0.6848723530896739, 1.5654225213478257, 2.655941885101645, 4.983575266763237, 6.474464105150237, 7.214195629186211, 9.681564692215916, 13.230437800063175, 18.430686676221082, 21.22660384761256, 24.358215119735576, 30.3173112172857, 33.29024551667911, 36.487996783040686, 37.45072535621315, 40.264461967106406, 44.7732367402972, 41.45936105965052, 43.77616229683275, 44.2012338302676, 46.26356000437987, 47.813713078035775, 47.09740237270785, 49.98169787440776, 51.63650586201797, 52.99102618628243]}, {\"fill\": \"tonexty\", \"fillcolor\": \"rgba(229, 134, 6, 0.3)\", \"line\": {\"color\": \"rgb(229, 134, 6)\"}, \"mode\": \"lines\", \"name\": \"GreedyCVXSampler\", \"showlegend\": true, \"type\": \"scatter\", \"x\": [10.0, 13.10344827586207, 16.20689655172414, 19.310344827586206, 22.413793103448278, 25.517241379310345, 28.620689655172413, 31.724137931034484, 34.827586206896555, 37.93103448275862, 41.03448275862069, 44.13793103448276, 47.241379310344826, 50.3448275862069, 53.44827586206897, 56.55172413793103, 59.6551724137931, 62.758620689655174, 65.86206896551724, 68.9655172413793, 72.06896551724138, 75.17241379310344, 78.27586206896552, 81.37931034482759, 84.48275862068965, 87.58620689655173, 90.6896551724138, 93.79310344827586, 96.89655172413794, 100.0], \"y\": [0.0, 0.0, 0.0, 0.0, 2.5678309249009623, 5.869327828345053, 8.494130486120147, 14.343615026978787, 21.80631494976676, 29.113390577710337, 30.831016953469188, 29.528306954543655, 32.37129836300532, 37.30775119708731, 42.3243902442491, 46.03632862945759, 46.32737900439369, 46.973305898951665, 50.69946621466807, 50.06376280939423, 50.949368623687484, 54.504240472916536, 53.60021062781604, 56.132099503065746, 58.32111432512205, 57.007742860661565, 57.052022914648475, 57.52021783440452, 58.63629107284794, 61.364529369273136]}, {\"fillcolor\": \"rgba(93, 105, 177, 0.3)\", \"line\": {\"color\": \"rgb(93, 105, 177)\"}, \"mode\": \"lines\", \"name\": \"GreedyCVXSampler+OnehotProb*\", \"showlegend\": false, \"type\": \"scatter\", \"x\": [10.0, 13.10344827586207, 16.20689655172414, 19.310344827586206, 22.413793103448278, 25.517241379310345, 28.620689655172413, 31.724137931034484, 34.827586206896555, 37.93103448275862, 41.03448275862069, 44.13793103448276, 47.241379310344826, 50.3448275862069, 53.44827586206897, 56.55172413793103, 59.6551724137931, 62.758620689655174, 65.86206896551724, 68.9655172413793, 72.06896551724138, 75.17241379310344, 78.27586206896552, 81.37931034482759, 84.48275862068965, 87.58620689655173, 90.6896551724138, 93.79310344827586, 96.89655172413794, 100.0], \"y\": [0.0, 0.0, 0.0, 0.0, 1.209858831007394, 2.7653916137311834, 3.9551797660849983, 4.5211959864383156, 6.004881300989834, 8.515797156874296, 11.105311193979217, 13.690452429566975, 15.755459224084264, 20.690384966248295, 26.219742014580774, 32.10011349573887, 36.9199646292917, 39.33821465082361, 40.98612770189215, 41.46724418362541, 41.58191730022255, 42.8307749993381, 45.29262183573462, 46.58036960853732, 48.26938147604411, 48.652247646275356, 50.33521020954501, 52.00478360173254, 52.37848958122978, 52.99102618628243]}, {\"fill\": \"tonexty\", \"fillcolor\": \"rgba(93, 105, 177, 0.3)\", \"line\": {\"color\": \"rgb(93, 105, 177)\"}, \"mode\": \"lines\", \"name\": \"GreedyCVXSampler+OnehotProb*\", \"showlegend\": true, \"type\": \"scatter\", \"x\": [10.0, 13.10344827586207, 16.20689655172414, 19.310344827586206, 22.413793103448278, 25.517241379310345, 28.620689655172413, 31.724137931034484, 34.827586206896555, 37.93103448275862, 41.03448275862069, 44.13793103448276, 47.241379310344826, 50.3448275862069, 53.44827586206897, 56.55172413793103, 59.6551724137931, 62.758620689655174, 65.86206896551724, 68.9655172413793, 72.06896551724138, 75.17241379310344, 78.27586206896552, 81.37931034482759, 84.48275862068965, 87.58620689655173, 90.6896551724138, 93.79310344827586, 96.89655172413794, 100.0], \"y\": [0.0, 0.0, 0.0, 0.0, 2.86884390516661, 6.557357497523676, 9.808988462451047, 13.080178458614292, 18.04735977423976, 23.797268917111314, 27.50692280446168, 30.3171424021658, 33.630565224009146, 38.26013169461321, 42.95762166048405, 45.58120599362658, 48.324692671687444, 50.001019065651484, 51.66000256630708, 51.57162728972881, 51.79117763379191, 54.243422918537995, 53.75277377333916, 54.92491774778454, 55.636912995767595, 56.289003950148654, 57.01498136133621, 58.62586773926364, 58.818445284670624, 61.364529369273136]}, {\"fillcolor\": \"rgba(82, 188, 163, 0.3)\", \"line\": {\"color\": \"rgb(82, 188, 163)\"}, \"mode\": \"lines\", \"name\": \"GreedyCVXSampler+Prob*\", \"showlegend\": false, \"type\": \"scatter\", \"x\": [10.0, 13.10344827586207, 16.20689655172414, 19.310344827586206, 22.413793103448278, 25.517241379310345, 28.620689655172413, 31.724137931034484, 34.827586206896555, 37.93103448275862, 41.03448275862069, 44.13793103448276, 47.241379310344826, 50.3448275862069, 53.44827586206897, 56.55172413793103, 59.6551724137931, 62.758620689655174, 65.86206896551724, 68.9655172413793, 72.06896551724138, 75.17241379310344, 78.27586206896552, 81.37931034482759, 84.48275862068965, 87.58620689655173, 90.6896551724138, 93.79310344827586, 96.89655172413794, 100.0], \"y\": [0.0, 0.0, 0.0, 0.0, 0.6848723530896739, 1.5654225213478257, 2.7059938366850624, 5.235196447995294, 6.579999721762415, 10.332816195179316, 12.136045808510964, 11.803305782680631, 13.1578673349664, 18.03681839417509, 21.85715526700047, 24.553998457557846, 27.229935788010124, 28.689604858921165, 32.17144459603324, 34.76863385178843, 35.49136643818453, 34.26950992679139, 36.64452077051335, 41.841427068968635, 46.03664140166468, 47.10056876339268, 48.22448278606579, 49.20605174204385, 51.79193768085503, 52.99102618628243]}, {\"fill\": \"tonexty\", \"fillcolor\": \"rgba(82, 188, 163, 0.3)\", \"line\": {\"color\": \"rgb(82, 188, 163)\"}, \"mode\": \"lines\", \"name\": \"GreedyCVXSampler+Prob*\", \"showlegend\": true, \"type\": \"scatter\", \"x\": [10.0, 13.10344827586207, 16.20689655172414, 19.310344827586206, 22.413793103448278, 25.517241379310345, 28.620689655172413, 31.724137931034484, 34.827586206896555, 37.93103448275862, 41.03448275862069, 44.13793103448276, 47.241379310344826, 50.3448275862069, 53.44827586206897, 56.55172413793103, 59.6551724137931, 62.758620689655174, 65.86206896551724, 68.9655172413793, 72.06896551724138, 75.17241379310344, 78.27586206896552, 81.37931034482759, 84.48275862068965, 87.58620689655173, 90.6896551724138, 93.79310344827586, 96.89655172413794, 100.0], \"y\": [0.0, 0.0, 0.0, 0.0, 2.5678309249009623, 5.869327828345053, 8.567130897244265, 12.398443398748006, 16.631622245031974, 18.276769646820316, 22.6986558882597, 29.075008393564588, 28.542953683096, 30.884509830601413, 39.48493559233178, 40.86490320272312, 42.44554313919295, 45.594814042739124, 48.699564343941205, 49.9719791750315, 51.51438068825226, 53.477233368227765, 54.27770145170889, 53.04516296934555, 57.02925898147707, 57.60594464656901, 58.97551721393421, 58.732645575963794, 59.30154890918331, 61.364529369273136]}],                        {\"font\": {\"size\": 15}, \"height\": 400, \"legend\": {\"bgcolor\": \"rgba(0,0,0,0)\", \"bordercolor\": \"Black\", \"borderwidth\": 1, \"x\": 0.98, \"xanchor\": \"right\", \"y\": 0.05, \"yanchor\": \"bottom\"}, \"margin\": {\"b\": 40, \"l\": 0, \"r\": 0, \"t\": 40}, \"template\": {\"data\": {\"bar\": [{\"error_x\": {\"color\": \"#2a3f5f\"}, \"error_y\": {\"color\": \"#2a3f5f\"}, \"marker\": {\"line\": {\"color\": \"white\", \"width\": 0.5}}, \"type\": \"bar\"}], \"barpolar\": [{\"marker\": {\"line\": {\"color\": \"white\", \"width\": 0.5}}, \"type\": \"barpolar\"}], \"carpet\": [{\"aaxis\": {\"endlinecolor\": \"#2a3f5f\", \"gridcolor\": \"#C8D4E3\", \"linecolor\": \"#C8D4E3\", \"minorgridcolor\": \"#C8D4E3\", \"startlinecolor\": \"#2a3f5f\"}, \"baxis\": {\"endlinecolor\": \"#2a3f5f\", \"gridcolor\": \"#C8D4E3\", \"linecolor\": \"#C8D4E3\", \"minorgridcolor\": \"#C8D4E3\", \"startlinecolor\": \"#2a3f5f\"}, \"type\": \"carpet\"}], \"choropleth\": [{\"colorbar\": {\"outlinewidth\": 0, \"ticks\": \"\"}, \"type\": \"choropleth\"}], \"contour\": [{\"colorbar\": {\"outlinewidth\": 0, \"ticks\": \"\"}, \"colorscale\": [[0.0, \"#0d0887\"], [0.1111111111111111, \"#46039f\"], [0.2222222222222222, \"#7201a8\"], [0.3333333333333333, \"#9c179e\"], [0.4444444444444444, \"#bd3786\"], [0.5555555555555556, \"#d8576b\"], [0.6666666666666666, \"#ed7953\"], [0.7777777777777778, \"#fb9f3a\"], [0.8888888888888888, \"#fdca26\"], [1.0, \"#f0f921\"]], \"type\": \"contour\"}], \"contourcarpet\": [{\"colorbar\": {\"outlinewidth\": 0, \"ticks\": \"\"}, \"type\": \"contourcarpet\"}], \"heatmap\": [{\"colorbar\": {\"outlinewidth\": 0, \"ticks\": \"\"}, \"colorscale\": [[0.0, \"#0d0887\"], [0.1111111111111111, \"#46039f\"], [0.2222222222222222, \"#7201a8\"], [0.3333333333333333, \"#9c179e\"], [0.4444444444444444, \"#bd3786\"], [0.5555555555555556, \"#d8576b\"], [0.6666666666666666, \"#ed7953\"], [0.7777777777777778, \"#fb9f3a\"], [0.8888888888888888, \"#fdca26\"], [1.0, \"#f0f921\"]], \"type\": \"heatmap\"}], \"heatmapgl\": [{\"colorbar\": {\"outlinewidth\": 0, \"ticks\": \"\"}, \"colorscale\": [[0.0, \"#0d0887\"], [0.1111111111111111, \"#46039f\"], [0.2222222222222222, \"#7201a8\"], [0.3333333333333333, \"#9c179e\"], [0.4444444444444444, \"#bd3786\"], [0.5555555555555556, \"#d8576b\"], [0.6666666666666666, \"#ed7953\"], [0.7777777777777778, \"#fb9f3a\"], [0.8888888888888888, \"#fdca26\"], [1.0, \"#f0f921\"]], \"type\": \"heatmapgl\"}], \"histogram\": [{\"marker\": {\"colorbar\": {\"outlinewidth\": 0, \"ticks\": \"\"}}, \"type\": \"histogram\"}], \"histogram2d\": [{\"colorbar\": {\"outlinewidth\": 0, \"ticks\": \"\"}, \"colorscale\": [[0.0, \"#0d0887\"], [0.1111111111111111, \"#46039f\"], [0.2222222222222222, \"#7201a8\"], [0.3333333333333333, \"#9c179e\"], [0.4444444444444444, \"#bd3786\"], [0.5555555555555556, \"#d8576b\"], [0.6666666666666666, \"#ed7953\"], [0.7777777777777778, \"#fb9f3a\"], [0.8888888888888888, \"#fdca26\"], [1.0, \"#f0f921\"]], \"type\": \"histogram2d\"}], \"histogram2dcontour\": [{\"colorbar\": {\"outlinewidth\": 0, \"ticks\": \"\"}, \"colorscale\": [[0.0, \"#0d0887\"], [0.1111111111111111, \"#46039f\"], [0.2222222222222222, \"#7201a8\"], [0.3333333333333333, \"#9c179e\"], [0.4444444444444444, \"#bd3786\"], [0.5555555555555556, \"#d8576b\"], [0.6666666666666666, \"#ed7953\"], [0.7777777777777778, \"#fb9f3a\"], [0.8888888888888888, \"#fdca26\"], [1.0, \"#f0f921\"]], \"type\": \"histogram2dcontour\"}], \"mesh3d\": [{\"colorbar\": {\"outlinewidth\": 0, \"ticks\": \"\"}, \"type\": \"mesh3d\"}], \"parcoords\": [{\"line\": {\"colorbar\": {\"outlinewidth\": 0, \"ticks\": \"\"}}, \"type\": \"parcoords\"}], \"pie\": [{\"automargin\": true, \"type\": \"pie\"}], \"scatter\": [{\"marker\": {\"colorbar\": {\"outlinewidth\": 0, \"ticks\": \"\"}}, \"type\": \"scatter\"}], \"scatter3d\": [{\"line\": {\"colorbar\": {\"outlinewidth\": 0, \"ticks\": \"\"}}, \"marker\": {\"colorbar\": {\"outlinewidth\": 0, \"ticks\": \"\"}}, \"type\": \"scatter3d\"}], \"scattercarpet\": [{\"marker\": {\"colorbar\": {\"outlinewidth\": 0, \"ticks\": \"\"}}, \"type\": \"scattercarpet\"}], \"scattergeo\": [{\"marker\": {\"colorbar\": {\"outlinewidth\": 0, \"ticks\": \"\"}}, \"type\": \"scattergeo\"}], \"scattergl\": [{\"marker\": {\"colorbar\": {\"outlinewidth\": 0, \"ticks\": \"\"}}, \"type\": \"scattergl\"}], \"scattermapbox\": [{\"marker\": {\"colorbar\": {\"outlinewidth\": 0, \"ticks\": \"\"}}, \"type\": \"scattermapbox\"}], \"scatterpolar\": [{\"marker\": {\"colorbar\": {\"outlinewidth\": 0, \"ticks\": \"\"}}, \"type\": \"scatterpolar\"}], \"scatterpolargl\": [{\"marker\": {\"colorbar\": {\"outlinewidth\": 0, \"ticks\": \"\"}}, \"type\": \"scatterpolargl\"}], \"scatterternary\": [{\"marker\": {\"colorbar\": {\"outlinewidth\": 0, \"ticks\": \"\"}}, \"type\": \"scatterternary\"}], \"surface\": [{\"colorbar\": {\"outlinewidth\": 0, \"ticks\": \"\"}, \"colorscale\": [[0.0, \"#0d0887\"], [0.1111111111111111, \"#46039f\"], [0.2222222222222222, \"#7201a8\"], [0.3333333333333333, \"#9c179e\"], [0.4444444444444444, \"#bd3786\"], [0.5555555555555556, \"#d8576b\"], [0.6666666666666666, \"#ed7953\"], [0.7777777777777778, \"#fb9f3a\"], [0.8888888888888888, \"#fdca26\"], [1.0, \"#f0f921\"]], \"type\": \"surface\"}], \"table\": [{\"cells\": {\"fill\": {\"color\": \"#EBF0F8\"}, \"line\": {\"color\": \"white\"}}, \"header\": {\"fill\": {\"color\": \"#C8D4E3\"}, \"line\": {\"color\": \"white\"}}, \"type\": \"table\"}]}, \"layout\": {\"annotationdefaults\": {\"arrowcolor\": \"#2a3f5f\", \"arrowhead\": 0, \"arrowwidth\": 1}, \"coloraxis\": {\"colorbar\": {\"outlinewidth\": 0, \"ticks\": \"\"}}, \"colorscale\": {\"diverging\": [[0, \"#8e0152\"], [0.1, \"#c51b7d\"], [0.2, \"#de77ae\"], [0.3, \"#f1b6da\"], [0.4, \"#fde0ef\"], [0.5, \"#f7f7f7\"], [0.6, \"#e6f5d0\"], [0.7, \"#b8e186\"], [0.8, \"#7fbc41\"], [0.9, \"#4d9221\"], [1, \"#276419\"]], \"sequential\": [[0.0, \"#0d0887\"], [0.1111111111111111, \"#46039f\"], [0.2222222222222222, \"#7201a8\"], [0.3333333333333333, \"#9c179e\"], [0.4444444444444444, \"#bd3786\"], [0.5555555555555556, \"#d8576b\"], [0.6666666666666666, \"#ed7953\"], [0.7777777777777778, \"#fb9f3a\"], [0.8888888888888888, \"#fdca26\"], [1.0, \"#f0f921\"]], \"sequentialminus\": [[0.0, \"#0d0887\"], [0.1111111111111111, \"#46039f\"], [0.2222222222222222, \"#7201a8\"], [0.3333333333333333, \"#9c179e\"], [0.4444444444444444, \"#bd3786\"], [0.5555555555555556, \"#d8576b\"], [0.6666666666666666, \"#ed7953\"], [0.7777777777777778, \"#fb9f3a\"], [0.8888888888888888, \"#fdca26\"], [1.0, \"#f0f921\"]]}, \"colorway\": [\"#636efa\", \"#EF553B\", \"#00cc96\", \"#ab63fa\", \"#FFA15A\", \"#19d3f3\", \"#FF6692\", \"#B6E880\", \"#FF97FF\", \"#FECB52\"], \"font\": {\"color\": \"#2a3f5f\"}, \"geo\": {\"bgcolor\": \"white\", \"lakecolor\": \"white\", \"landcolor\": \"white\", \"showlakes\": true, \"showland\": true, \"subunitcolor\": \"#C8D4E3\"}, \"hoverlabel\": {\"align\": \"left\"}, \"hovermode\": \"closest\", \"mapbox\": {\"style\": \"light\"}, \"paper_bgcolor\": \"white\", \"plot_bgcolor\": \"white\", \"polar\": {\"angularaxis\": {\"gridcolor\": \"#EBF0F8\", \"linecolor\": \"#EBF0F8\", \"ticks\": \"\"}, \"bgcolor\": \"white\", \"radialaxis\": {\"gridcolor\": \"#EBF0F8\", \"linecolor\": \"#EBF0F8\", \"ticks\": \"\"}}, \"scene\": {\"xaxis\": {\"backgroundcolor\": \"white\", \"gridcolor\": \"#DFE8F3\", \"gridwidth\": 2, \"linecolor\": \"#EBF0F8\", \"showbackground\": true, \"ticks\": \"\", \"zerolinecolor\": \"#EBF0F8\"}, \"yaxis\": {\"backgroundcolor\": \"white\", \"gridcolor\": \"#DFE8F3\", \"gridwidth\": 2, \"linecolor\": \"#EBF0F8\", \"showbackground\": true, \"ticks\": \"\", \"zerolinecolor\": \"#EBF0F8\"}, \"zaxis\": {\"backgroundcolor\": \"white\", \"gridcolor\": \"#DFE8F3\", \"gridwidth\": 2, \"linecolor\": \"#EBF0F8\", \"showbackground\": true, \"ticks\": \"\", \"zerolinecolor\": \"#EBF0F8\"}}, \"shapedefaults\": {\"line\": {\"color\": \"#2a3f5f\"}}, \"ternary\": {\"aaxis\": {\"gridcolor\": \"#DFE8F3\", \"linecolor\": \"#A2B1C6\", \"ticks\": \"\"}, \"baxis\": {\"gridcolor\": \"#DFE8F3\", \"linecolor\": \"#A2B1C6\", \"ticks\": \"\"}, \"bgcolor\": \"white\", \"caxis\": {\"gridcolor\": \"#DFE8F3\", \"linecolor\": \"#A2B1C6\", \"ticks\": \"\"}}, \"title\": {\"x\": 0.05}, \"xaxis\": {\"automargin\": true, \"gridcolor\": \"#EBF0F8\", \"linecolor\": \"#EBF0F8\", \"ticks\": \"\", \"title\": {\"standoff\": 15}, \"zerolinecolor\": \"#EBF0F8\", \"zerolinewidth\": 2}, \"yaxis\": {\"automargin\": true, \"gridcolor\": \"#EBF0F8\", \"linecolor\": \"#EBF0F8\", \"ticks\": \"\", \"title\": {\"standoff\": 15}, \"zerolinecolor\": \"#EBF0F8\", \"zerolinewidth\": 2}}}, \"title\": {\"text\": \"\", \"x\": 0.5}, \"width\": 500, \"xaxis\": {\"linecolor\": \"Black\", \"linewidth\": 1.5, \"mirror\": true, \"range\": [10, 100], \"showline\": true, \"title\": {\"text\": \"#labeled data (%)\"}}, \"yaxis\": {\"linecolor\": \"Black\", \"linewidth\": 1.5, \"mirror\": true, \"range\": [0, 71.36452936927313], \"showline\": true, \"title\": {\"text\": \"Accuracy (%)\"}}},                        {\"responsive\": true}                    ).then(function(){\n",
       "                            \n",
       "var gd = document.getElementById('ceecccf6-a9bb-44e9-9e2d-f254186eaf07');\n",
       "var x = new MutationObserver(function (mutations, observer) {{\n",
       "        var display = window.getComputedStyle(gd).display;\n",
       "        if (!display || display === 'none') {{\n",
       "            console.log([gd, 'removed!']);\n",
       "            Plotly.purge(gd);\n",
       "            observer.disconnect();\n",
       "        }}\n",
       "}});\n",
       "\n",
       "// Listen for the removal of the full notebook cells\n",
       "var notebookContainer = gd.closest('#notebook-container');\n",
       "if (notebookContainer) {{\n",
       "    x.observe(notebookContainer, {childList: true});\n",
       "}}\n",
       "\n",
       "// Listen for the clearing of the current output cell\n",
       "var outputEl = gd.closest('.output');\n",
       "if (outputEl) {{\n",
       "    x.observe(outputEl, {childList: true});\n",
       "}}\n",
       "\n",
       "                        })                };                });            </script>        </div>"
      ]
     },
     "metadata": {},
     "output_type": "display_data"
    }
   ],
   "source": [
    "plot([argmax, argmax_perfect_onehot, argmax_perfect_distributional], \n",
    "     [\"GreedyCVXSampler\", \"GreedyCVXSampler+OnehotProb*\", \"GreedyCVXSampler+Prob*\"], \n",
    "     filename=\"plots/cvx_greedy_perfect_uncertainty_N={}_K={}_sigma={}_alpha={}.pdf\".format(N, K, sigma, alpha), \n",
    "     opacity=0.3)"
   ]
  },
  {
   "cell_type": "code",
   "execution_count": 15,
   "metadata": {},
   "outputs": [
    {
     "data": {
      "application/vnd.plotly.v1+json": {
       "config": {
        "plotlyServerURL": "https://plot.ly"
       },
       "data": [
        {
         "fillcolor": "rgba(229, 134, 6, 0.3)",
         "line": {
          "color": "rgb(229, 134, 6)"
         },
         "mode": "lines",
         "name": "ClusterCVXSampler",
         "showlegend": false,
         "type": "scatter",
         "x": [
          10,
          13.10344827586207,
          16.20689655172414,
          19.310344827586206,
          22.413793103448278,
          25.517241379310345,
          28.620689655172413,
          31.724137931034484,
          34.827586206896555,
          37.93103448275862,
          41.03448275862069,
          44.13793103448276,
          47.241379310344826,
          50.3448275862069,
          53.44827586206897,
          56.55172413793103,
          59.6551724137931,
          62.758620689655174,
          65.86206896551724,
          68.9655172413793,
          72.06896551724138,
          75.17241379310344,
          78.27586206896552,
          81.37931034482759,
          84.48275862068965,
          87.58620689655173,
          90.6896551724138,
          93.79310344827586,
          96.89655172413794,
          100
         ],
         "y": [
          0,
          0,
          0,
          0,
          -0.16199490366092317,
          0.8337573118903645,
          2.1886467104244804,
          5.32330409377038,
          6.3193586834765805,
          4.47193630715438,
          9.064640674603512,
          13.631391034454749,
          17.805009339332173,
          21.479834981029803,
          24.466966567745686,
          26.699036760477615,
          30.22452353447933,
          37.417077659093785,
          40.12897941793377,
          38.001921882199696,
          35.58077756659714,
          35.58717910964516,
          40.14152449689558,
          45.11503139100829,
          46.38981700773286,
          48.20019167868917,
          50.11208579434297,
          51.250129825363544,
          52.34038058585812,
          52.99102618628243
         ]
        },
        {
         "fill": "tonexty",
         "fillcolor": "rgba(229, 134, 6, 0.3)",
         "line": {
          "color": "rgb(229, 134, 6)"
         },
         "mode": "lines",
         "name": "ClusterCVXSampler",
         "showlegend": true,
         "type": "scatter",
         "x": [
          10,
          13.10344827586207,
          16.20689655172414,
          19.310344827586206,
          22.413793103448278,
          25.517241379310345,
          28.620689655172413,
          31.724137931034484,
          34.827586206896555,
          37.93103448275862,
          41.03448275862069,
          44.13793103448276,
          47.241379310344826,
          50.3448275862069,
          53.44827586206897,
          56.55172413793103,
          59.6551724137931,
          62.758620689655174,
          65.86206896551724,
          68.9655172413793,
          72.06896551724138,
          75.17241379310344,
          78.27586206896552,
          81.37931034482759,
          84.48275862068965,
          87.58620689655173,
          90.6896551724138,
          93.79310344827586,
          96.89655172413794,
          100
         ],
         "y": [
          0,
          0,
          0,
          0,
          1.6317267044272075,
          4.385246519527263,
          10.962311143981653,
          12.575163339179811,
          16.967384611542585,
          23.64520290101931,
          28.490608367542087,
          31.153896321867087,
          32.330239702813415,
          37.70959030632652,
          43.20337825984052,
          45.82648048090171,
          47.90750711686168,
          49.07053409058694,
          49.609717900073896,
          49.889802255731354,
          51.890640057923925,
          54.6202538405464,
          57.86223029237646,
          56.67615634845531,
          55.23416766659663,
          55.82547881939511,
          56.461094282285394,
          57.10511921678206,
          58.59617113827982,
          61.364529369273136
         ]
        },
        {
         "fillcolor": "rgba(93, 105, 177, 0.3)",
         "line": {
          "color": "rgb(93, 105, 177)"
         },
         "mode": "lines",
         "name": "ClusterCVXSampler+OnehotProb*",
         "showlegend": false,
         "type": "scatter",
         "x": [
          10,
          13.10344827586207,
          16.20689655172414,
          19.310344827586206,
          22.413793103448278,
          25.517241379310345,
          28.620689655172413,
          31.724137931034484,
          34.827586206896555,
          37.93103448275862,
          41.03448275862069,
          44.13793103448276,
          47.241379310344826,
          50.3448275862069,
          53.44827586206897,
          56.55172413793103,
          59.6551724137931,
          62.758620689655174,
          65.86206896551724,
          68.9655172413793,
          72.06896551724138,
          75.17241379310344,
          78.27586206896552,
          81.37931034482759,
          84.48275862068965,
          87.58620689655173,
          90.6896551724138,
          93.79310344827586,
          96.89655172413794,
          100
         ],
         "y": [
          0,
          0,
          0,
          0,
          -0.17864461024047928,
          0.2241322464785891,
          3.631209836105933,
          6.743784989640567,
          9.80529103292423,
          12.946502351630585,
          15.049511979994298,
          18.274888522465094,
          19.409605200336983,
          19.949083419542553,
          23.715631544268597,
          26.351591727901152,
          28.754527897692213,
          35.862054298205784,
          39.134530149689596,
          39.11054062952374,
          39.71911070307684,
          40.525530479873865,
          44.6923317942021,
          45.907903693969686,
          45.5803966482939,
          48.65984189253406,
          51.595449569618516,
          52.731373234873594,
          52.35497997011415,
          52.99102618628243
         ]
        },
        {
         "fill": "tonexty",
         "fillcolor": "rgba(93, 105, 177, 0.3)",
         "line": {
          "color": "rgb(93, 105, 177)"
         },
         "mode": "lines",
         "name": "ClusterCVXSampler+OnehotProb*",
         "showlegend": true,
         "type": "scatter",
         "x": [
          10,
          13.10344827586207,
          16.20689655172414,
          19.310344827586206,
          22.413793103448278,
          25.517241379310345,
          28.620689655172413,
          31.724137931034484,
          34.827586206896555,
          37.93103448275862,
          41.03448275862069,
          44.13793103448276,
          47.241379310344826,
          50.3448275862069,
          53.44827586206897,
          56.55172413793103,
          59.6551724137931,
          62.758620689655174,
          65.86206896551724,
          68.9655172413793,
          72.06896551724138,
          75.17241379310344,
          78.27586206896552,
          81.37931034482759,
          84.48275862068965,
          87.58620689655173,
          90.6896551724138,
          93.79310344827586,
          96.89655172413794,
          100
         ],
         "y": [
          0,
          0,
          0,
          0,
          1.6376484416581047,
          3.75556124011145,
          6.093311236691003,
          10.8093184586353,
          17.000226208455093,
          19.63066239932727,
          22.26504740697888,
          25.65852143922074,
          30.065567213456113,
          33.830456810342504,
          39.76919604193831,
          42.357527046045206,
          44.18087440115836,
          46.04300317305859,
          49.0647035667855,
          51.051604964345984,
          53.647019565122385,
          53.934852661888584,
          54.29525441269447,
          56.697460290704626,
          56.36902863906242,
          57.48084776263836,
          59.71581479819759,
          60.242726381984646,
          60.64180163908123,
          61.364529369273136
         ]
        },
        {
         "fillcolor": "rgba(82, 188, 163, 0.3)",
         "line": {
          "color": "rgb(82, 188, 163)"
         },
         "mode": "lines",
         "name": "ClusterCVXSampler+Prob*",
         "showlegend": false,
         "type": "scatter",
         "x": [
          10,
          13.10344827586207,
          16.20689655172414,
          19.310344827586206,
          22.413793103448278,
          25.517241379310345,
          28.620689655172413,
          31.724137931034484,
          34.827586206896555,
          37.93103448275862,
          41.03448275862069,
          44.13793103448276,
          47.241379310344826,
          50.3448275862069,
          53.44827586206897,
          56.55172413793103,
          59.6551724137931,
          62.758620689655174,
          65.86206896551724,
          68.9655172413793,
          72.06896551724138,
          75.17241379310344,
          78.27586206896552,
          81.37931034482759,
          84.48275862068965,
          87.58620689655173,
          90.6896551724138,
          93.79310344827586,
          96.89655172413794,
          100
         ],
         "y": [
          0,
          0,
          0,
          0,
          -0.16199490366092306,
          0.8337573118903641,
          2.1886467104244804,
          5.136505909597021,
          7.428574891795367,
          9.386063592309293,
          9.649025091682118,
          12.559877244910298,
          18.062094221195576,
          21.179826807692272,
          22.512628137369624,
          25.04610799809261,
          28.908343142102197,
          30.796579325076763,
          31.90296038423956,
          34.539502885001,
          37.648376990377585,
          37.28263288344611,
          39.66852607542866,
          41.40138499827167,
          41.84367067647055,
          45.26480683687994,
          48.41767269406498,
          49.97839528917391,
          52.009575582382276,
          52.99102618628243
         ]
        },
        {
         "fill": "tonexty",
         "fillcolor": "rgba(82, 188, 163, 0.3)",
         "line": {
          "color": "rgb(82, 188, 163)"
         },
         "mode": "lines",
         "name": "ClusterCVXSampler+Prob*",
         "showlegend": true,
         "type": "scatter",
         "x": [
          10,
          13.10344827586207,
          16.20689655172414,
          19.310344827586206,
          22.413793103448278,
          25.517241379310345,
          28.620689655172413,
          31.724137931034484,
          34.827586206896555,
          37.93103448275862,
          41.03448275862069,
          44.13793103448276,
          47.241379310344826,
          50.3448275862069,
          53.44827586206897,
          56.55172413793103,
          59.6551724137931,
          62.758620689655174,
          65.86206896551724,
          68.9655172413793,
          72.06896551724138,
          75.17241379310344,
          78.27586206896552,
          81.37931034482759,
          84.48275862068965,
          87.58620689655173,
          90.6896551724138,
          93.79310344827586,
          96.89655172413794,
          100
         ],
         "y": [
          0,
          0,
          0,
          0,
          1.6317267044272077,
          4.3852465195272625,
          10.962311143981653,
          13.037363822203746,
          16.86843660245751,
          23.445047518801815,
          27.523082188011365,
          31.19575493899776,
          36.54848049144809,
          40.235345606100836,
          42.95066688178746,
          44.967531848650694,
          45.066216244870986,
          45.89874634542133,
          45.770756090856224,
          47.00823657860052,
          48.21714025100172,
          49.292079760232056,
          49.761052468632656,
          51.914783584103795,
          55.10782357640302,
          57.9949632780626,
          58.429836884479094,
          59.71999551542378,
          61.3338726934798,
          61.364529369273136
         ]
        }
       ],
       "layout": {
        "font": {
         "size": 15
        },
        "height": 400,
        "legend": {
         "bgcolor": "rgba(0,0,0,0)",
         "bordercolor": "Black",
         "borderwidth": 1,
         "x": 0.98,
         "xanchor": "right",
         "y": 0.05,
         "yanchor": "bottom"
        },
        "margin": {
         "b": 40,
         "l": 0,
         "r": 0,
         "t": 40
        },
        "template": {
         "data": {
          "bar": [
           {
            "error_x": {
             "color": "#2a3f5f"
            },
            "error_y": {
             "color": "#2a3f5f"
            },
            "marker": {
             "line": {
              "color": "white",
              "width": 0.5
             }
            },
            "type": "bar"
           }
          ],
          "barpolar": [
           {
            "marker": {
             "line": {
              "color": "white",
              "width": 0.5
             }
            },
            "type": "barpolar"
           }
          ],
          "carpet": [
           {
            "aaxis": {
             "endlinecolor": "#2a3f5f",
             "gridcolor": "#C8D4E3",
             "linecolor": "#C8D4E3",
             "minorgridcolor": "#C8D4E3",
             "startlinecolor": "#2a3f5f"
            },
            "baxis": {
             "endlinecolor": "#2a3f5f",
             "gridcolor": "#C8D4E3",
             "linecolor": "#C8D4E3",
             "minorgridcolor": "#C8D4E3",
             "startlinecolor": "#2a3f5f"
            },
            "type": "carpet"
           }
          ],
          "choropleth": [
           {
            "colorbar": {
             "outlinewidth": 0,
             "ticks": ""
            },
            "type": "choropleth"
           }
          ],
          "contour": [
           {
            "colorbar": {
             "outlinewidth": 0,
             "ticks": ""
            },
            "colorscale": [
             [
              0,
              "#0d0887"
             ],
             [
              0.1111111111111111,
              "#46039f"
             ],
             [
              0.2222222222222222,
              "#7201a8"
             ],
             [
              0.3333333333333333,
              "#9c179e"
             ],
             [
              0.4444444444444444,
              "#bd3786"
             ],
             [
              0.5555555555555556,
              "#d8576b"
             ],
             [
              0.6666666666666666,
              "#ed7953"
             ],
             [
              0.7777777777777778,
              "#fb9f3a"
             ],
             [
              0.8888888888888888,
              "#fdca26"
             ],
             [
              1,
              "#f0f921"
             ]
            ],
            "type": "contour"
           }
          ],
          "contourcarpet": [
           {
            "colorbar": {
             "outlinewidth": 0,
             "ticks": ""
            },
            "type": "contourcarpet"
           }
          ],
          "heatmap": [
           {
            "colorbar": {
             "outlinewidth": 0,
             "ticks": ""
            },
            "colorscale": [
             [
              0,
              "#0d0887"
             ],
             [
              0.1111111111111111,
              "#46039f"
             ],
             [
              0.2222222222222222,
              "#7201a8"
             ],
             [
              0.3333333333333333,
              "#9c179e"
             ],
             [
              0.4444444444444444,
              "#bd3786"
             ],
             [
              0.5555555555555556,
              "#d8576b"
             ],
             [
              0.6666666666666666,
              "#ed7953"
             ],
             [
              0.7777777777777778,
              "#fb9f3a"
             ],
             [
              0.8888888888888888,
              "#fdca26"
             ],
             [
              1,
              "#f0f921"
             ]
            ],
            "type": "heatmap"
           }
          ],
          "heatmapgl": [
           {
            "colorbar": {
             "outlinewidth": 0,
             "ticks": ""
            },
            "colorscale": [
             [
              0,
              "#0d0887"
             ],
             [
              0.1111111111111111,
              "#46039f"
             ],
             [
              0.2222222222222222,
              "#7201a8"
             ],
             [
              0.3333333333333333,
              "#9c179e"
             ],
             [
              0.4444444444444444,
              "#bd3786"
             ],
             [
              0.5555555555555556,
              "#d8576b"
             ],
             [
              0.6666666666666666,
              "#ed7953"
             ],
             [
              0.7777777777777778,
              "#fb9f3a"
             ],
             [
              0.8888888888888888,
              "#fdca26"
             ],
             [
              1,
              "#f0f921"
             ]
            ],
            "type": "heatmapgl"
           }
          ],
          "histogram": [
           {
            "marker": {
             "colorbar": {
              "outlinewidth": 0,
              "ticks": ""
             }
            },
            "type": "histogram"
           }
          ],
          "histogram2d": [
           {
            "colorbar": {
             "outlinewidth": 0,
             "ticks": ""
            },
            "colorscale": [
             [
              0,
              "#0d0887"
             ],
             [
              0.1111111111111111,
              "#46039f"
             ],
             [
              0.2222222222222222,
              "#7201a8"
             ],
             [
              0.3333333333333333,
              "#9c179e"
             ],
             [
              0.4444444444444444,
              "#bd3786"
             ],
             [
              0.5555555555555556,
              "#d8576b"
             ],
             [
              0.6666666666666666,
              "#ed7953"
             ],
             [
              0.7777777777777778,
              "#fb9f3a"
             ],
             [
              0.8888888888888888,
              "#fdca26"
             ],
             [
              1,
              "#f0f921"
             ]
            ],
            "type": "histogram2d"
           }
          ],
          "histogram2dcontour": [
           {
            "colorbar": {
             "outlinewidth": 0,
             "ticks": ""
            },
            "colorscale": [
             [
              0,
              "#0d0887"
             ],
             [
              0.1111111111111111,
              "#46039f"
             ],
             [
              0.2222222222222222,
              "#7201a8"
             ],
             [
              0.3333333333333333,
              "#9c179e"
             ],
             [
              0.4444444444444444,
              "#bd3786"
             ],
             [
              0.5555555555555556,
              "#d8576b"
             ],
             [
              0.6666666666666666,
              "#ed7953"
             ],
             [
              0.7777777777777778,
              "#fb9f3a"
             ],
             [
              0.8888888888888888,
              "#fdca26"
             ],
             [
              1,
              "#f0f921"
             ]
            ],
            "type": "histogram2dcontour"
           }
          ],
          "mesh3d": [
           {
            "colorbar": {
             "outlinewidth": 0,
             "ticks": ""
            },
            "type": "mesh3d"
           }
          ],
          "parcoords": [
           {
            "line": {
             "colorbar": {
              "outlinewidth": 0,
              "ticks": ""
             }
            },
            "type": "parcoords"
           }
          ],
          "pie": [
           {
            "automargin": true,
            "type": "pie"
           }
          ],
          "scatter": [
           {
            "marker": {
             "colorbar": {
              "outlinewidth": 0,
              "ticks": ""
             }
            },
            "type": "scatter"
           }
          ],
          "scatter3d": [
           {
            "line": {
             "colorbar": {
              "outlinewidth": 0,
              "ticks": ""
             }
            },
            "marker": {
             "colorbar": {
              "outlinewidth": 0,
              "ticks": ""
             }
            },
            "type": "scatter3d"
           }
          ],
          "scattercarpet": [
           {
            "marker": {
             "colorbar": {
              "outlinewidth": 0,
              "ticks": ""
             }
            },
            "type": "scattercarpet"
           }
          ],
          "scattergeo": [
           {
            "marker": {
             "colorbar": {
              "outlinewidth": 0,
              "ticks": ""
             }
            },
            "type": "scattergeo"
           }
          ],
          "scattergl": [
           {
            "marker": {
             "colorbar": {
              "outlinewidth": 0,
              "ticks": ""
             }
            },
            "type": "scattergl"
           }
          ],
          "scattermapbox": [
           {
            "marker": {
             "colorbar": {
              "outlinewidth": 0,
              "ticks": ""
             }
            },
            "type": "scattermapbox"
           }
          ],
          "scatterpolar": [
           {
            "marker": {
             "colorbar": {
              "outlinewidth": 0,
              "ticks": ""
             }
            },
            "type": "scatterpolar"
           }
          ],
          "scatterpolargl": [
           {
            "marker": {
             "colorbar": {
              "outlinewidth": 0,
              "ticks": ""
             }
            },
            "type": "scatterpolargl"
           }
          ],
          "scatterternary": [
           {
            "marker": {
             "colorbar": {
              "outlinewidth": 0,
              "ticks": ""
             }
            },
            "type": "scatterternary"
           }
          ],
          "surface": [
           {
            "colorbar": {
             "outlinewidth": 0,
             "ticks": ""
            },
            "colorscale": [
             [
              0,
              "#0d0887"
             ],
             [
              0.1111111111111111,
              "#46039f"
             ],
             [
              0.2222222222222222,
              "#7201a8"
             ],
             [
              0.3333333333333333,
              "#9c179e"
             ],
             [
              0.4444444444444444,
              "#bd3786"
             ],
             [
              0.5555555555555556,
              "#d8576b"
             ],
             [
              0.6666666666666666,
              "#ed7953"
             ],
             [
              0.7777777777777778,
              "#fb9f3a"
             ],
             [
              0.8888888888888888,
              "#fdca26"
             ],
             [
              1,
              "#f0f921"
             ]
            ],
            "type": "surface"
           }
          ],
          "table": [
           {
            "cells": {
             "fill": {
              "color": "#EBF0F8"
             },
             "line": {
              "color": "white"
             }
            },
            "header": {
             "fill": {
              "color": "#C8D4E3"
             },
             "line": {
              "color": "white"
             }
            },
            "type": "table"
           }
          ]
         },
         "layout": {
          "annotationdefaults": {
           "arrowcolor": "#2a3f5f",
           "arrowhead": 0,
           "arrowwidth": 1
          },
          "coloraxis": {
           "colorbar": {
            "outlinewidth": 0,
            "ticks": ""
           }
          },
          "colorscale": {
           "diverging": [
            [
             0,
             "#8e0152"
            ],
            [
             0.1,
             "#c51b7d"
            ],
            [
             0.2,
             "#de77ae"
            ],
            [
             0.3,
             "#f1b6da"
            ],
            [
             0.4,
             "#fde0ef"
            ],
            [
             0.5,
             "#f7f7f7"
            ],
            [
             0.6,
             "#e6f5d0"
            ],
            [
             0.7,
             "#b8e186"
            ],
            [
             0.8,
             "#7fbc41"
            ],
            [
             0.9,
             "#4d9221"
            ],
            [
             1,
             "#276419"
            ]
           ],
           "sequential": [
            [
             0,
             "#0d0887"
            ],
            [
             0.1111111111111111,
             "#46039f"
            ],
            [
             0.2222222222222222,
             "#7201a8"
            ],
            [
             0.3333333333333333,
             "#9c179e"
            ],
            [
             0.4444444444444444,
             "#bd3786"
            ],
            [
             0.5555555555555556,
             "#d8576b"
            ],
            [
             0.6666666666666666,
             "#ed7953"
            ],
            [
             0.7777777777777778,
             "#fb9f3a"
            ],
            [
             0.8888888888888888,
             "#fdca26"
            ],
            [
             1,
             "#f0f921"
            ]
           ],
           "sequentialminus": [
            [
             0,
             "#0d0887"
            ],
            [
             0.1111111111111111,
             "#46039f"
            ],
            [
             0.2222222222222222,
             "#7201a8"
            ],
            [
             0.3333333333333333,
             "#9c179e"
            ],
            [
             0.4444444444444444,
             "#bd3786"
            ],
            [
             0.5555555555555556,
             "#d8576b"
            ],
            [
             0.6666666666666666,
             "#ed7953"
            ],
            [
             0.7777777777777778,
             "#fb9f3a"
            ],
            [
             0.8888888888888888,
             "#fdca26"
            ],
            [
             1,
             "#f0f921"
            ]
           ]
          },
          "colorway": [
           "#636efa",
           "#EF553B",
           "#00cc96",
           "#ab63fa",
           "#FFA15A",
           "#19d3f3",
           "#FF6692",
           "#B6E880",
           "#FF97FF",
           "#FECB52"
          ],
          "font": {
           "color": "#2a3f5f"
          },
          "geo": {
           "bgcolor": "white",
           "lakecolor": "white",
           "landcolor": "white",
           "showlakes": true,
           "showland": true,
           "subunitcolor": "#C8D4E3"
          },
          "hoverlabel": {
           "align": "left"
          },
          "hovermode": "closest",
          "mapbox": {
           "style": "light"
          },
          "paper_bgcolor": "white",
          "plot_bgcolor": "white",
          "polar": {
           "angularaxis": {
            "gridcolor": "#EBF0F8",
            "linecolor": "#EBF0F8",
            "ticks": ""
           },
           "bgcolor": "white",
           "radialaxis": {
            "gridcolor": "#EBF0F8",
            "linecolor": "#EBF0F8",
            "ticks": ""
           }
          },
          "scene": {
           "xaxis": {
            "backgroundcolor": "white",
            "gridcolor": "#DFE8F3",
            "gridwidth": 2,
            "linecolor": "#EBF0F8",
            "showbackground": true,
            "ticks": "",
            "zerolinecolor": "#EBF0F8"
           },
           "yaxis": {
            "backgroundcolor": "white",
            "gridcolor": "#DFE8F3",
            "gridwidth": 2,
            "linecolor": "#EBF0F8",
            "showbackground": true,
            "ticks": "",
            "zerolinecolor": "#EBF0F8"
           },
           "zaxis": {
            "backgroundcolor": "white",
            "gridcolor": "#DFE8F3",
            "gridwidth": 2,
            "linecolor": "#EBF0F8",
            "showbackground": true,
            "ticks": "",
            "zerolinecolor": "#EBF0F8"
           }
          },
          "shapedefaults": {
           "line": {
            "color": "#2a3f5f"
           }
          },
          "ternary": {
           "aaxis": {
            "gridcolor": "#DFE8F3",
            "linecolor": "#A2B1C6",
            "ticks": ""
           },
           "baxis": {
            "gridcolor": "#DFE8F3",
            "linecolor": "#A2B1C6",
            "ticks": ""
           },
           "bgcolor": "white",
           "caxis": {
            "gridcolor": "#DFE8F3",
            "linecolor": "#A2B1C6",
            "ticks": ""
           }
          },
          "title": {
           "x": 0.05
          },
          "xaxis": {
           "automargin": true,
           "gridcolor": "#EBF0F8",
           "linecolor": "#EBF0F8",
           "ticks": "",
           "title": {
            "standoff": 15
           },
           "zerolinecolor": "#EBF0F8",
           "zerolinewidth": 2
          },
          "yaxis": {
           "automargin": true,
           "gridcolor": "#EBF0F8",
           "linecolor": "#EBF0F8",
           "ticks": "",
           "title": {
            "standoff": 15
           },
           "zerolinecolor": "#EBF0F8",
           "zerolinewidth": 2
          }
         }
        },
        "title": {
         "text": "",
         "x": 0.5
        },
        "width": 500,
        "xaxis": {
         "linecolor": "Black",
         "linewidth": 1.5,
         "mirror": true,
         "range": [
          10,
          100
         ],
         "showline": true,
         "title": {
          "text": "#labeled data (%)"
         }
        },
        "yaxis": {
         "linecolor": "Black",
         "linewidth": 1.5,
         "mirror": true,
         "range": [
          0,
          71.36452936927313
         ],
         "showline": true,
         "title": {
          "text": "Accuracy (%)"
         }
        }
       }
      },
      "text/html": [
       "<div>                            <div id=\"41f8d8e1-d289-4956-9f2d-42b46dc89a5a\" class=\"plotly-graph-div\" style=\"height:400px; width:500px;\"></div>            <script type=\"text/javascript\">                require([\"plotly\"], function(Plotly) {                    window.PLOTLYENV=window.PLOTLYENV || {};                                    if (document.getElementById(\"41f8d8e1-d289-4956-9f2d-42b46dc89a5a\")) {                    Plotly.newPlot(                        \"41f8d8e1-d289-4956-9f2d-42b46dc89a5a\",                        [{\"fillcolor\": \"rgba(229, 134, 6, 0.3)\", \"line\": {\"color\": \"rgb(229, 134, 6)\"}, \"mode\": \"lines\", \"name\": \"ClusterCVXSampler\", \"showlegend\": false, \"type\": \"scatter\", \"x\": [10.0, 13.10344827586207, 16.20689655172414, 19.310344827586206, 22.413793103448278, 25.517241379310345, 28.620689655172413, 31.724137931034484, 34.827586206896555, 37.93103448275862, 41.03448275862069, 44.13793103448276, 47.241379310344826, 50.3448275862069, 53.44827586206897, 56.55172413793103, 59.6551724137931, 62.758620689655174, 65.86206896551724, 68.9655172413793, 72.06896551724138, 75.17241379310344, 78.27586206896552, 81.37931034482759, 84.48275862068965, 87.58620689655173, 90.6896551724138, 93.79310344827586, 96.89655172413794, 100.0], \"y\": [0.0, 0.0, 0.0, 0.0, -0.16199490366092317, 0.8337573118903645, 2.1886467104244804, 5.32330409377038, 6.3193586834765805, 4.47193630715438, 9.064640674603512, 13.631391034454749, 17.805009339332173, 21.479834981029803, 24.466966567745686, 26.699036760477615, 30.22452353447933, 37.417077659093785, 40.12897941793377, 38.001921882199696, 35.58077756659714, 35.58717910964516, 40.14152449689558, 45.11503139100829, 46.38981700773286, 48.20019167868917, 50.11208579434297, 51.250129825363544, 52.34038058585812, 52.99102618628243]}, {\"fill\": \"tonexty\", \"fillcolor\": \"rgba(229, 134, 6, 0.3)\", \"line\": {\"color\": \"rgb(229, 134, 6)\"}, \"mode\": \"lines\", \"name\": \"ClusterCVXSampler\", \"showlegend\": true, \"type\": \"scatter\", \"x\": [10.0, 13.10344827586207, 16.20689655172414, 19.310344827586206, 22.413793103448278, 25.517241379310345, 28.620689655172413, 31.724137931034484, 34.827586206896555, 37.93103448275862, 41.03448275862069, 44.13793103448276, 47.241379310344826, 50.3448275862069, 53.44827586206897, 56.55172413793103, 59.6551724137931, 62.758620689655174, 65.86206896551724, 68.9655172413793, 72.06896551724138, 75.17241379310344, 78.27586206896552, 81.37931034482759, 84.48275862068965, 87.58620689655173, 90.6896551724138, 93.79310344827586, 96.89655172413794, 100.0], \"y\": [0.0, 0.0, 0.0, 0.0, 1.6317267044272075, 4.385246519527263, 10.962311143981653, 12.575163339179811, 16.967384611542585, 23.64520290101931, 28.490608367542087, 31.153896321867087, 32.330239702813415, 37.70959030632652, 43.20337825984052, 45.82648048090171, 47.90750711686168, 49.07053409058694, 49.609717900073896, 49.889802255731354, 51.890640057923925, 54.6202538405464, 57.86223029237646, 56.67615634845531, 55.23416766659663, 55.82547881939511, 56.461094282285394, 57.10511921678206, 58.59617113827982, 61.364529369273136]}, {\"fillcolor\": \"rgba(93, 105, 177, 0.3)\", \"line\": {\"color\": \"rgb(93, 105, 177)\"}, \"mode\": \"lines\", \"name\": \"ClusterCVXSampler+OnehotProb*\", \"showlegend\": false, \"type\": \"scatter\", \"x\": [10.0, 13.10344827586207, 16.20689655172414, 19.310344827586206, 22.413793103448278, 25.517241379310345, 28.620689655172413, 31.724137931034484, 34.827586206896555, 37.93103448275862, 41.03448275862069, 44.13793103448276, 47.241379310344826, 50.3448275862069, 53.44827586206897, 56.55172413793103, 59.6551724137931, 62.758620689655174, 65.86206896551724, 68.9655172413793, 72.06896551724138, 75.17241379310344, 78.27586206896552, 81.37931034482759, 84.48275862068965, 87.58620689655173, 90.6896551724138, 93.79310344827586, 96.89655172413794, 100.0], \"y\": [0.0, 0.0, 0.0, 0.0, -0.17864461024047928, 0.2241322464785891, 3.631209836105933, 6.743784989640567, 9.80529103292423, 12.946502351630585, 15.049511979994298, 18.274888522465094, 19.409605200336983, 19.949083419542553, 23.715631544268597, 26.351591727901152, 28.754527897692213, 35.862054298205784, 39.134530149689596, 39.11054062952374, 39.71911070307684, 40.525530479873865, 44.6923317942021, 45.907903693969686, 45.5803966482939, 48.65984189253406, 51.595449569618516, 52.731373234873594, 52.35497997011415, 52.99102618628243]}, {\"fill\": \"tonexty\", \"fillcolor\": \"rgba(93, 105, 177, 0.3)\", \"line\": {\"color\": \"rgb(93, 105, 177)\"}, \"mode\": \"lines\", \"name\": \"ClusterCVXSampler+OnehotProb*\", \"showlegend\": true, \"type\": \"scatter\", \"x\": [10.0, 13.10344827586207, 16.20689655172414, 19.310344827586206, 22.413793103448278, 25.517241379310345, 28.620689655172413, 31.724137931034484, 34.827586206896555, 37.93103448275862, 41.03448275862069, 44.13793103448276, 47.241379310344826, 50.3448275862069, 53.44827586206897, 56.55172413793103, 59.6551724137931, 62.758620689655174, 65.86206896551724, 68.9655172413793, 72.06896551724138, 75.17241379310344, 78.27586206896552, 81.37931034482759, 84.48275862068965, 87.58620689655173, 90.6896551724138, 93.79310344827586, 96.89655172413794, 100.0], \"y\": [0.0, 0.0, 0.0, 0.0, 1.6376484416581047, 3.75556124011145, 6.093311236691003, 10.8093184586353, 17.000226208455093, 19.63066239932727, 22.26504740697888, 25.65852143922074, 30.065567213456113, 33.830456810342504, 39.76919604193831, 42.357527046045206, 44.18087440115836, 46.04300317305859, 49.0647035667855, 51.051604964345984, 53.647019565122385, 53.934852661888584, 54.29525441269447, 56.697460290704626, 56.36902863906242, 57.48084776263836, 59.71581479819759, 60.242726381984646, 60.64180163908123, 61.364529369273136]}, {\"fillcolor\": \"rgba(82, 188, 163, 0.3)\", \"line\": {\"color\": \"rgb(82, 188, 163)\"}, \"mode\": \"lines\", \"name\": \"ClusterCVXSampler+Prob*\", \"showlegend\": false, \"type\": \"scatter\", \"x\": [10.0, 13.10344827586207, 16.20689655172414, 19.310344827586206, 22.413793103448278, 25.517241379310345, 28.620689655172413, 31.724137931034484, 34.827586206896555, 37.93103448275862, 41.03448275862069, 44.13793103448276, 47.241379310344826, 50.3448275862069, 53.44827586206897, 56.55172413793103, 59.6551724137931, 62.758620689655174, 65.86206896551724, 68.9655172413793, 72.06896551724138, 75.17241379310344, 78.27586206896552, 81.37931034482759, 84.48275862068965, 87.58620689655173, 90.6896551724138, 93.79310344827586, 96.89655172413794, 100.0], \"y\": [0.0, 0.0, 0.0, 0.0, -0.16199490366092306, 0.8337573118903641, 2.1886467104244804, 5.136505909597021, 7.428574891795367, 9.386063592309293, 9.649025091682118, 12.559877244910298, 18.062094221195576, 21.179826807692272, 22.512628137369624, 25.04610799809261, 28.908343142102197, 30.796579325076763, 31.90296038423956, 34.539502885001, 37.648376990377585, 37.28263288344611, 39.66852607542866, 41.40138499827167, 41.84367067647055, 45.26480683687994, 48.41767269406498, 49.97839528917391, 52.009575582382276, 52.99102618628243]}, {\"fill\": \"tonexty\", \"fillcolor\": \"rgba(82, 188, 163, 0.3)\", \"line\": {\"color\": \"rgb(82, 188, 163)\"}, \"mode\": \"lines\", \"name\": \"ClusterCVXSampler+Prob*\", \"showlegend\": true, \"type\": \"scatter\", \"x\": [10.0, 13.10344827586207, 16.20689655172414, 19.310344827586206, 22.413793103448278, 25.517241379310345, 28.620689655172413, 31.724137931034484, 34.827586206896555, 37.93103448275862, 41.03448275862069, 44.13793103448276, 47.241379310344826, 50.3448275862069, 53.44827586206897, 56.55172413793103, 59.6551724137931, 62.758620689655174, 65.86206896551724, 68.9655172413793, 72.06896551724138, 75.17241379310344, 78.27586206896552, 81.37931034482759, 84.48275862068965, 87.58620689655173, 90.6896551724138, 93.79310344827586, 96.89655172413794, 100.0], \"y\": [0.0, 0.0, 0.0, 0.0, 1.6317267044272077, 4.3852465195272625, 10.962311143981653, 13.037363822203746, 16.86843660245751, 23.445047518801815, 27.523082188011365, 31.19575493899776, 36.54848049144809, 40.235345606100836, 42.95066688178746, 44.967531848650694, 45.066216244870986, 45.89874634542133, 45.770756090856224, 47.00823657860052, 48.21714025100172, 49.292079760232056, 49.761052468632656, 51.914783584103795, 55.10782357640302, 57.9949632780626, 58.429836884479094, 59.71999551542378, 61.3338726934798, 61.364529369273136]}],                        {\"font\": {\"size\": 15}, \"height\": 400, \"legend\": {\"bgcolor\": \"rgba(0,0,0,0)\", \"bordercolor\": \"Black\", \"borderwidth\": 1, \"x\": 0.98, \"xanchor\": \"right\", \"y\": 0.05, \"yanchor\": \"bottom\"}, \"margin\": {\"b\": 40, \"l\": 0, \"r\": 0, \"t\": 40}, \"template\": {\"data\": {\"bar\": [{\"error_x\": {\"color\": \"#2a3f5f\"}, \"error_y\": {\"color\": \"#2a3f5f\"}, \"marker\": {\"line\": {\"color\": \"white\", \"width\": 0.5}}, \"type\": \"bar\"}], \"barpolar\": [{\"marker\": {\"line\": {\"color\": \"white\", \"width\": 0.5}}, \"type\": \"barpolar\"}], \"carpet\": [{\"aaxis\": {\"endlinecolor\": \"#2a3f5f\", \"gridcolor\": \"#C8D4E3\", \"linecolor\": \"#C8D4E3\", \"minorgridcolor\": \"#C8D4E3\", \"startlinecolor\": \"#2a3f5f\"}, \"baxis\": {\"endlinecolor\": \"#2a3f5f\", \"gridcolor\": \"#C8D4E3\", \"linecolor\": \"#C8D4E3\", \"minorgridcolor\": \"#C8D4E3\", \"startlinecolor\": \"#2a3f5f\"}, \"type\": \"carpet\"}], \"choropleth\": [{\"colorbar\": {\"outlinewidth\": 0, \"ticks\": \"\"}, \"type\": \"choropleth\"}], \"contour\": [{\"colorbar\": {\"outlinewidth\": 0, \"ticks\": \"\"}, \"colorscale\": [[0.0, \"#0d0887\"], [0.1111111111111111, \"#46039f\"], [0.2222222222222222, \"#7201a8\"], [0.3333333333333333, \"#9c179e\"], [0.4444444444444444, \"#bd3786\"], [0.5555555555555556, \"#d8576b\"], [0.6666666666666666, \"#ed7953\"], [0.7777777777777778, \"#fb9f3a\"], [0.8888888888888888, \"#fdca26\"], [1.0, \"#f0f921\"]], \"type\": \"contour\"}], \"contourcarpet\": [{\"colorbar\": {\"outlinewidth\": 0, \"ticks\": \"\"}, \"type\": \"contourcarpet\"}], \"heatmap\": [{\"colorbar\": {\"outlinewidth\": 0, \"ticks\": \"\"}, \"colorscale\": [[0.0, \"#0d0887\"], [0.1111111111111111, \"#46039f\"], [0.2222222222222222, \"#7201a8\"], [0.3333333333333333, \"#9c179e\"], [0.4444444444444444, \"#bd3786\"], [0.5555555555555556, \"#d8576b\"], [0.6666666666666666, \"#ed7953\"], [0.7777777777777778, \"#fb9f3a\"], [0.8888888888888888, \"#fdca26\"], [1.0, \"#f0f921\"]], \"type\": \"heatmap\"}], \"heatmapgl\": [{\"colorbar\": {\"outlinewidth\": 0, \"ticks\": \"\"}, \"colorscale\": [[0.0, \"#0d0887\"], [0.1111111111111111, \"#46039f\"], [0.2222222222222222, \"#7201a8\"], [0.3333333333333333, \"#9c179e\"], [0.4444444444444444, \"#bd3786\"], [0.5555555555555556, \"#d8576b\"], [0.6666666666666666, \"#ed7953\"], [0.7777777777777778, \"#fb9f3a\"], [0.8888888888888888, \"#fdca26\"], [1.0, \"#f0f921\"]], \"type\": \"heatmapgl\"}], \"histogram\": [{\"marker\": {\"colorbar\": {\"outlinewidth\": 0, \"ticks\": \"\"}}, \"type\": \"histogram\"}], \"histogram2d\": [{\"colorbar\": {\"outlinewidth\": 0, \"ticks\": \"\"}, \"colorscale\": [[0.0, \"#0d0887\"], [0.1111111111111111, \"#46039f\"], [0.2222222222222222, \"#7201a8\"], [0.3333333333333333, \"#9c179e\"], [0.4444444444444444, \"#bd3786\"], [0.5555555555555556, \"#d8576b\"], [0.6666666666666666, \"#ed7953\"], [0.7777777777777778, \"#fb9f3a\"], [0.8888888888888888, \"#fdca26\"], [1.0, \"#f0f921\"]], \"type\": \"histogram2d\"}], \"histogram2dcontour\": [{\"colorbar\": {\"outlinewidth\": 0, \"ticks\": \"\"}, \"colorscale\": [[0.0, \"#0d0887\"], [0.1111111111111111, \"#46039f\"], [0.2222222222222222, \"#7201a8\"], [0.3333333333333333, \"#9c179e\"], [0.4444444444444444, \"#bd3786\"], [0.5555555555555556, \"#d8576b\"], [0.6666666666666666, \"#ed7953\"], [0.7777777777777778, \"#fb9f3a\"], [0.8888888888888888, \"#fdca26\"], [1.0, \"#f0f921\"]], \"type\": \"histogram2dcontour\"}], \"mesh3d\": [{\"colorbar\": {\"outlinewidth\": 0, \"ticks\": \"\"}, \"type\": \"mesh3d\"}], \"parcoords\": [{\"line\": {\"colorbar\": {\"outlinewidth\": 0, \"ticks\": \"\"}}, \"type\": \"parcoords\"}], \"pie\": [{\"automargin\": true, \"type\": \"pie\"}], \"scatter\": [{\"marker\": {\"colorbar\": {\"outlinewidth\": 0, \"ticks\": \"\"}}, \"type\": \"scatter\"}], \"scatter3d\": [{\"line\": {\"colorbar\": {\"outlinewidth\": 0, \"ticks\": \"\"}}, \"marker\": {\"colorbar\": {\"outlinewidth\": 0, \"ticks\": \"\"}}, \"type\": \"scatter3d\"}], \"scattercarpet\": [{\"marker\": {\"colorbar\": {\"outlinewidth\": 0, \"ticks\": \"\"}}, \"type\": \"scattercarpet\"}], \"scattergeo\": [{\"marker\": {\"colorbar\": {\"outlinewidth\": 0, \"ticks\": \"\"}}, \"type\": \"scattergeo\"}], \"scattergl\": [{\"marker\": {\"colorbar\": {\"outlinewidth\": 0, \"ticks\": \"\"}}, \"type\": \"scattergl\"}], \"scattermapbox\": [{\"marker\": {\"colorbar\": {\"outlinewidth\": 0, \"ticks\": \"\"}}, \"type\": \"scattermapbox\"}], \"scatterpolar\": [{\"marker\": {\"colorbar\": {\"outlinewidth\": 0, \"ticks\": \"\"}}, \"type\": \"scatterpolar\"}], \"scatterpolargl\": [{\"marker\": {\"colorbar\": {\"outlinewidth\": 0, \"ticks\": \"\"}}, \"type\": \"scatterpolargl\"}], \"scatterternary\": [{\"marker\": {\"colorbar\": {\"outlinewidth\": 0, \"ticks\": \"\"}}, \"type\": \"scatterternary\"}], \"surface\": [{\"colorbar\": {\"outlinewidth\": 0, \"ticks\": \"\"}, \"colorscale\": [[0.0, \"#0d0887\"], [0.1111111111111111, \"#46039f\"], [0.2222222222222222, \"#7201a8\"], [0.3333333333333333, \"#9c179e\"], [0.4444444444444444, \"#bd3786\"], [0.5555555555555556, \"#d8576b\"], [0.6666666666666666, \"#ed7953\"], [0.7777777777777778, \"#fb9f3a\"], [0.8888888888888888, \"#fdca26\"], [1.0, \"#f0f921\"]], \"type\": \"surface\"}], \"table\": [{\"cells\": {\"fill\": {\"color\": \"#EBF0F8\"}, \"line\": {\"color\": \"white\"}}, \"header\": {\"fill\": {\"color\": \"#C8D4E3\"}, \"line\": {\"color\": \"white\"}}, \"type\": \"table\"}]}, \"layout\": {\"annotationdefaults\": {\"arrowcolor\": \"#2a3f5f\", \"arrowhead\": 0, \"arrowwidth\": 1}, \"coloraxis\": {\"colorbar\": {\"outlinewidth\": 0, \"ticks\": \"\"}}, \"colorscale\": {\"diverging\": [[0, \"#8e0152\"], [0.1, \"#c51b7d\"], [0.2, \"#de77ae\"], [0.3, \"#f1b6da\"], [0.4, \"#fde0ef\"], [0.5, \"#f7f7f7\"], [0.6, \"#e6f5d0\"], [0.7, \"#b8e186\"], [0.8, \"#7fbc41\"], [0.9, \"#4d9221\"], [1, \"#276419\"]], \"sequential\": [[0.0, \"#0d0887\"], [0.1111111111111111, \"#46039f\"], [0.2222222222222222, \"#7201a8\"], [0.3333333333333333, \"#9c179e\"], [0.4444444444444444, \"#bd3786\"], [0.5555555555555556, \"#d8576b\"], [0.6666666666666666, \"#ed7953\"], [0.7777777777777778, \"#fb9f3a\"], [0.8888888888888888, \"#fdca26\"], [1.0, \"#f0f921\"]], \"sequentialminus\": [[0.0, \"#0d0887\"], [0.1111111111111111, \"#46039f\"], [0.2222222222222222, \"#7201a8\"], [0.3333333333333333, \"#9c179e\"], [0.4444444444444444, \"#bd3786\"], [0.5555555555555556, \"#d8576b\"], [0.6666666666666666, \"#ed7953\"], [0.7777777777777778, \"#fb9f3a\"], [0.8888888888888888, \"#fdca26\"], [1.0, \"#f0f921\"]]}, \"colorway\": [\"#636efa\", \"#EF553B\", \"#00cc96\", \"#ab63fa\", \"#FFA15A\", \"#19d3f3\", \"#FF6692\", \"#B6E880\", \"#FF97FF\", \"#FECB52\"], \"font\": {\"color\": \"#2a3f5f\"}, \"geo\": {\"bgcolor\": \"white\", \"lakecolor\": \"white\", \"landcolor\": \"white\", \"showlakes\": true, \"showland\": true, \"subunitcolor\": \"#C8D4E3\"}, \"hoverlabel\": {\"align\": \"left\"}, \"hovermode\": \"closest\", \"mapbox\": {\"style\": \"light\"}, \"paper_bgcolor\": \"white\", \"plot_bgcolor\": \"white\", \"polar\": {\"angularaxis\": {\"gridcolor\": \"#EBF0F8\", \"linecolor\": \"#EBF0F8\", \"ticks\": \"\"}, \"bgcolor\": \"white\", \"radialaxis\": {\"gridcolor\": \"#EBF0F8\", \"linecolor\": \"#EBF0F8\", \"ticks\": \"\"}}, \"scene\": {\"xaxis\": {\"backgroundcolor\": \"white\", \"gridcolor\": \"#DFE8F3\", \"gridwidth\": 2, \"linecolor\": \"#EBF0F8\", \"showbackground\": true, \"ticks\": \"\", \"zerolinecolor\": \"#EBF0F8\"}, \"yaxis\": {\"backgroundcolor\": \"white\", \"gridcolor\": \"#DFE8F3\", \"gridwidth\": 2, \"linecolor\": \"#EBF0F8\", \"showbackground\": true, \"ticks\": \"\", \"zerolinecolor\": \"#EBF0F8\"}, \"zaxis\": {\"backgroundcolor\": \"white\", \"gridcolor\": \"#DFE8F3\", \"gridwidth\": 2, \"linecolor\": \"#EBF0F8\", \"showbackground\": true, \"ticks\": \"\", \"zerolinecolor\": \"#EBF0F8\"}}, \"shapedefaults\": {\"line\": {\"color\": \"#2a3f5f\"}}, \"ternary\": {\"aaxis\": {\"gridcolor\": \"#DFE8F3\", \"linecolor\": \"#A2B1C6\", \"ticks\": \"\"}, \"baxis\": {\"gridcolor\": \"#DFE8F3\", \"linecolor\": \"#A2B1C6\", \"ticks\": \"\"}, \"bgcolor\": \"white\", \"caxis\": {\"gridcolor\": \"#DFE8F3\", \"linecolor\": \"#A2B1C6\", \"ticks\": \"\"}}, \"title\": {\"x\": 0.05}, \"xaxis\": {\"automargin\": true, \"gridcolor\": \"#EBF0F8\", \"linecolor\": \"#EBF0F8\", \"ticks\": \"\", \"title\": {\"standoff\": 15}, \"zerolinecolor\": \"#EBF0F8\", \"zerolinewidth\": 2}, \"yaxis\": {\"automargin\": true, \"gridcolor\": \"#EBF0F8\", \"linecolor\": \"#EBF0F8\", \"ticks\": \"\", \"title\": {\"standoff\": 15}, \"zerolinecolor\": \"#EBF0F8\", \"zerolinewidth\": 2}}}, \"title\": {\"text\": \"\", \"x\": 0.5}, \"width\": 500, \"xaxis\": {\"linecolor\": \"Black\", \"linewidth\": 1.5, \"mirror\": true, \"range\": [10, 100], \"showline\": true, \"title\": {\"text\": \"#labeled data (%)\"}}, \"yaxis\": {\"linecolor\": \"Black\", \"linewidth\": 1.5, \"mirror\": true, \"range\": [0, 71.36452936927313], \"showline\": true, \"title\": {\"text\": \"Accuracy (%)\"}}},                        {\"responsive\": true}                    ).then(function(){\n",
       "                            \n",
       "var gd = document.getElementById('41f8d8e1-d289-4956-9f2d-42b46dc89a5a');\n",
       "var x = new MutationObserver(function (mutations, observer) {{\n",
       "        var display = window.getComputedStyle(gd).display;\n",
       "        if (!display || display === 'none') {{\n",
       "            console.log([gd, 'removed!']);\n",
       "            Plotly.purge(gd);\n",
       "            observer.disconnect();\n",
       "        }}\n",
       "}});\n",
       "\n",
       "// Listen for the removal of the full notebook cells\n",
       "var notebookContainer = gd.closest('#notebook-container');\n",
       "if (notebookContainer) {{\n",
       "    x.observe(notebookContainer, {childList: true});\n",
       "}}\n",
       "\n",
       "// Listen for the clearing of the current output cell\n",
       "var outputEl = gd.closest('.output');\n",
       "if (outputEl) {{\n",
       "    x.observe(outputEl, {childList: true});\n",
       "}}\n",
       "\n",
       "                        })                };                });            </script>        </div>"
      ]
     },
     "metadata": {},
     "output_type": "display_data"
    }
   ],
   "source": [
    "plot([spectral, spectral_perfect_onehot, spectral_perfect_distributional], \n",
    "     [\"ClusterCVXSampler\", \"ClusterCVXSampler+OnehotProb*\", \"ClusterCVXSampler+Prob*\"], \n",
    "     filename=\"plots/cvx_cluster_perfect_uncertainty_N={}_K={}_sigma={}_alpha={}.pdf\".format(N, K, sigma, alpha), \n",
    "     opacity=0.3)"
   ]
  },
  {
   "cell_type": "code",
   "execution_count": 16,
   "metadata": {},
   "outputs": [
    {
     "data": {
      "application/vnd.plotly.v1+json": {
       "config": {
        "plotlyServerURL": "https://plot.ly"
       },
       "data": [
        {
         "fillcolor": "rgba(229, 134, 6, 0.3)",
         "line": {
          "color": "rgb(229, 134, 6)"
         },
         "mode": "lines",
         "name": "GreedyCVXSampler",
         "showlegend": false,
         "type": "scatter",
         "x": [
          10,
          13.10344827586207,
          16.20689655172414,
          19.310344827586206,
          22.413793103448278,
          25.517241379310345,
          28.620689655172413,
          31.724137931034484,
          34.827586206896555,
          37.93103448275862,
          41.03448275862069,
          44.13793103448276,
          47.241379310344826,
          50.3448275862069,
          53.44827586206897,
          56.55172413793103,
          59.6551724137931,
          62.758620689655174,
          65.86206896551724,
          68.9655172413793,
          72.06896551724138,
          75.17241379310344,
          78.27586206896552,
          81.37931034482759,
          84.48275862068965,
          87.58620689655173,
          90.6896551724138,
          93.79310344827586,
          96.89655172413794,
          100
         ],
         "y": [
          0,
          0,
          0,
          0,
          0.6848723530896739,
          1.5654225213478257,
          2.655941885101645,
          4.983575266763237,
          6.474464105150237,
          7.214195629186211,
          9.681564692215916,
          13.230437800063175,
          18.430686676221082,
          21.22660384761256,
          24.358215119735576,
          30.3173112172857,
          33.29024551667911,
          36.487996783040686,
          37.45072535621315,
          40.264461967106406,
          44.7732367402972,
          41.45936105965052,
          43.77616229683275,
          44.2012338302676,
          46.26356000437987,
          47.813713078035775,
          47.09740237270785,
          49.98169787440776,
          51.63650586201797,
          52.99102618628243
         ]
        },
        {
         "fill": "tonexty",
         "fillcolor": "rgba(229, 134, 6, 0.3)",
         "line": {
          "color": "rgb(229, 134, 6)"
         },
         "mode": "lines",
         "name": "GreedyCVXSampler",
         "showlegend": true,
         "type": "scatter",
         "x": [
          10,
          13.10344827586207,
          16.20689655172414,
          19.310344827586206,
          22.413793103448278,
          25.517241379310345,
          28.620689655172413,
          31.724137931034484,
          34.827586206896555,
          37.93103448275862,
          41.03448275862069,
          44.13793103448276,
          47.241379310344826,
          50.3448275862069,
          53.44827586206897,
          56.55172413793103,
          59.6551724137931,
          62.758620689655174,
          65.86206896551724,
          68.9655172413793,
          72.06896551724138,
          75.17241379310344,
          78.27586206896552,
          81.37931034482759,
          84.48275862068965,
          87.58620689655173,
          90.6896551724138,
          93.79310344827586,
          96.89655172413794,
          100
         ],
         "y": [
          0,
          0,
          0,
          0,
          2.5678309249009623,
          5.869327828345053,
          8.494130486120147,
          14.343615026978787,
          21.80631494976676,
          29.113390577710337,
          30.831016953469188,
          29.528306954543655,
          32.37129836300532,
          37.30775119708731,
          42.3243902442491,
          46.03632862945759,
          46.32737900439369,
          46.973305898951665,
          50.69946621466807,
          50.06376280939423,
          50.949368623687484,
          54.504240472916536,
          53.60021062781604,
          56.132099503065746,
          58.32111432512205,
          57.007742860661565,
          57.052022914648475,
          57.52021783440452,
          58.63629107284794,
          61.364529369273136
         ]
        },
        {
         "fillcolor": "rgba(93, 105, 177, 0.3)",
         "line": {
          "color": "rgb(93, 105, 177)"
         },
         "mode": "lines",
         "name": "GreedyCVXSampler+Diversity*",
         "showlegend": false,
         "type": "scatter",
         "x": [
          10,
          13.10344827586207,
          16.20689655172414,
          19.310344827586206,
          22.413793103448278,
          25.517241379310345,
          28.620689655172413,
          31.724137931034484,
          34.827586206896555,
          37.93103448275862,
          41.03448275862069,
          44.13793103448276,
          47.241379310344826,
          50.3448275862069,
          53.44827586206897,
          56.55172413793103,
          59.6551724137931,
          62.758620689655174,
          65.86206896551724,
          68.9655172413793,
          72.06896551724138,
          75.17241379310344,
          78.27586206896552,
          81.37931034482759,
          84.48275862068965,
          87.58620689655173,
          90.6896551724138,
          93.79310344827586,
          96.89655172413794,
          100
         ],
         "y": [
          0,
          0,
          0,
          0,
          0.45418908402655267,
          1.038146477774977,
          1.6221038715234006,
          2.5206625338589284,
          3.9873880233599275,
          5.483596278920323,
          8.986494342880645,
          14.277702575198083,
          18.033028998126795,
          21.590400457987798,
          23.40138155229227,
          27.207178579512007,
          32.40962578421434,
          35.33143611133295,
          37.22328280145936,
          41.24075088034889,
          42.282869846157425,
          42.069604566523836,
          43.9645566525494,
          44.28771911047885,
          42.44233868300296,
          43.85069243888892,
          49.140467933835644,
          51.10272004353221,
          52.09981663389631,
          52.99102618628243
         ]
        },
        {
         "fill": "tonexty",
         "fillcolor": "rgba(93, 105, 177, 0.3)",
         "line": {
          "color": "rgb(93, 105, 177)"
         },
         "mode": "lines",
         "name": "GreedyCVXSampler+Diversity*",
         "showlegend": true,
         "type": "scatter",
         "x": [
          10,
          13.10344827586207,
          16.20689655172414,
          19.310344827586206,
          22.413793103448278,
          25.517241379310345,
          28.620689655172413,
          31.724137931034484,
          34.827586206896555,
          37.93103448275862,
          41.03448275862069,
          44.13793103448276,
          47.241379310344826,
          50.3448275862069,
          53.44827586206897,
          56.55172413793103,
          59.6551724137931,
          62.758620689655174,
          65.86206896551724,
          68.9655172413793,
          72.06896551724138,
          75.17241379310344,
          78.27586206896552,
          81.37931034482759,
          84.48275862068965,
          87.58620689655173,
          90.6896551724138,
          93.79310344827586,
          96.89655172413794,
          100
         ],
         "y": [
          0,
          0,
          0,
          0,
          1.6620841701777374,
          3.799049531834826,
          5.936014893491915,
          8.291607826687297,
          13.559508528364223,
          19.205829008435998,
          26.455782613879066,
          32.09138335802579,
          36.969335533892895,
          41.033332437469234,
          43.450711131524564,
          44.478688962907285,
          45.035278430345045,
          45.62876823094035,
          45.207930480788406,
          46.76154797022581,
          50.683413678746774,
          51.35261765569838,
          51.252301584998484,
          52.47396671327594,
          54.71372772823585,
          56.19528457260535,
          59.47562402018733,
          59.35858263846014,
          61.01435961131442,
          61.364529369273136
         ]
        }
       ],
       "layout": {
        "font": {
         "size": 15
        },
        "height": 400,
        "legend": {
         "bgcolor": "rgba(0,0,0,0)",
         "bordercolor": "Black",
         "borderwidth": 1,
         "x": 0.98,
         "xanchor": "right",
         "y": 0.05,
         "yanchor": "bottom"
        },
        "margin": {
         "b": 40,
         "l": 0,
         "r": 0,
         "t": 40
        },
        "template": {
         "data": {
          "bar": [
           {
            "error_x": {
             "color": "#2a3f5f"
            },
            "error_y": {
             "color": "#2a3f5f"
            },
            "marker": {
             "line": {
              "color": "white",
              "width": 0.5
             }
            },
            "type": "bar"
           }
          ],
          "barpolar": [
           {
            "marker": {
             "line": {
              "color": "white",
              "width": 0.5
             }
            },
            "type": "barpolar"
           }
          ],
          "carpet": [
           {
            "aaxis": {
             "endlinecolor": "#2a3f5f",
             "gridcolor": "#C8D4E3",
             "linecolor": "#C8D4E3",
             "minorgridcolor": "#C8D4E3",
             "startlinecolor": "#2a3f5f"
            },
            "baxis": {
             "endlinecolor": "#2a3f5f",
             "gridcolor": "#C8D4E3",
             "linecolor": "#C8D4E3",
             "minorgridcolor": "#C8D4E3",
             "startlinecolor": "#2a3f5f"
            },
            "type": "carpet"
           }
          ],
          "choropleth": [
           {
            "colorbar": {
             "outlinewidth": 0,
             "ticks": ""
            },
            "type": "choropleth"
           }
          ],
          "contour": [
           {
            "colorbar": {
             "outlinewidth": 0,
             "ticks": ""
            },
            "colorscale": [
             [
              0,
              "#0d0887"
             ],
             [
              0.1111111111111111,
              "#46039f"
             ],
             [
              0.2222222222222222,
              "#7201a8"
             ],
             [
              0.3333333333333333,
              "#9c179e"
             ],
             [
              0.4444444444444444,
              "#bd3786"
             ],
             [
              0.5555555555555556,
              "#d8576b"
             ],
             [
              0.6666666666666666,
              "#ed7953"
             ],
             [
              0.7777777777777778,
              "#fb9f3a"
             ],
             [
              0.8888888888888888,
              "#fdca26"
             ],
             [
              1,
              "#f0f921"
             ]
            ],
            "type": "contour"
           }
          ],
          "contourcarpet": [
           {
            "colorbar": {
             "outlinewidth": 0,
             "ticks": ""
            },
            "type": "contourcarpet"
           }
          ],
          "heatmap": [
           {
            "colorbar": {
             "outlinewidth": 0,
             "ticks": ""
            },
            "colorscale": [
             [
              0,
              "#0d0887"
             ],
             [
              0.1111111111111111,
              "#46039f"
             ],
             [
              0.2222222222222222,
              "#7201a8"
             ],
             [
              0.3333333333333333,
              "#9c179e"
             ],
             [
              0.4444444444444444,
              "#bd3786"
             ],
             [
              0.5555555555555556,
              "#d8576b"
             ],
             [
              0.6666666666666666,
              "#ed7953"
             ],
             [
              0.7777777777777778,
              "#fb9f3a"
             ],
             [
              0.8888888888888888,
              "#fdca26"
             ],
             [
              1,
              "#f0f921"
             ]
            ],
            "type": "heatmap"
           }
          ],
          "heatmapgl": [
           {
            "colorbar": {
             "outlinewidth": 0,
             "ticks": ""
            },
            "colorscale": [
             [
              0,
              "#0d0887"
             ],
             [
              0.1111111111111111,
              "#46039f"
             ],
             [
              0.2222222222222222,
              "#7201a8"
             ],
             [
              0.3333333333333333,
              "#9c179e"
             ],
             [
              0.4444444444444444,
              "#bd3786"
             ],
             [
              0.5555555555555556,
              "#d8576b"
             ],
             [
              0.6666666666666666,
              "#ed7953"
             ],
             [
              0.7777777777777778,
              "#fb9f3a"
             ],
             [
              0.8888888888888888,
              "#fdca26"
             ],
             [
              1,
              "#f0f921"
             ]
            ],
            "type": "heatmapgl"
           }
          ],
          "histogram": [
           {
            "marker": {
             "colorbar": {
              "outlinewidth": 0,
              "ticks": ""
             }
            },
            "type": "histogram"
           }
          ],
          "histogram2d": [
           {
            "colorbar": {
             "outlinewidth": 0,
             "ticks": ""
            },
            "colorscale": [
             [
              0,
              "#0d0887"
             ],
             [
              0.1111111111111111,
              "#46039f"
             ],
             [
              0.2222222222222222,
              "#7201a8"
             ],
             [
              0.3333333333333333,
              "#9c179e"
             ],
             [
              0.4444444444444444,
              "#bd3786"
             ],
             [
              0.5555555555555556,
              "#d8576b"
             ],
             [
              0.6666666666666666,
              "#ed7953"
             ],
             [
              0.7777777777777778,
              "#fb9f3a"
             ],
             [
              0.8888888888888888,
              "#fdca26"
             ],
             [
              1,
              "#f0f921"
             ]
            ],
            "type": "histogram2d"
           }
          ],
          "histogram2dcontour": [
           {
            "colorbar": {
             "outlinewidth": 0,
             "ticks": ""
            },
            "colorscale": [
             [
              0,
              "#0d0887"
             ],
             [
              0.1111111111111111,
              "#46039f"
             ],
             [
              0.2222222222222222,
              "#7201a8"
             ],
             [
              0.3333333333333333,
              "#9c179e"
             ],
             [
              0.4444444444444444,
              "#bd3786"
             ],
             [
              0.5555555555555556,
              "#d8576b"
             ],
             [
              0.6666666666666666,
              "#ed7953"
             ],
             [
              0.7777777777777778,
              "#fb9f3a"
             ],
             [
              0.8888888888888888,
              "#fdca26"
             ],
             [
              1,
              "#f0f921"
             ]
            ],
            "type": "histogram2dcontour"
           }
          ],
          "mesh3d": [
           {
            "colorbar": {
             "outlinewidth": 0,
             "ticks": ""
            },
            "type": "mesh3d"
           }
          ],
          "parcoords": [
           {
            "line": {
             "colorbar": {
              "outlinewidth": 0,
              "ticks": ""
             }
            },
            "type": "parcoords"
           }
          ],
          "pie": [
           {
            "automargin": true,
            "type": "pie"
           }
          ],
          "scatter": [
           {
            "marker": {
             "colorbar": {
              "outlinewidth": 0,
              "ticks": ""
             }
            },
            "type": "scatter"
           }
          ],
          "scatter3d": [
           {
            "line": {
             "colorbar": {
              "outlinewidth": 0,
              "ticks": ""
             }
            },
            "marker": {
             "colorbar": {
              "outlinewidth": 0,
              "ticks": ""
             }
            },
            "type": "scatter3d"
           }
          ],
          "scattercarpet": [
           {
            "marker": {
             "colorbar": {
              "outlinewidth": 0,
              "ticks": ""
             }
            },
            "type": "scattercarpet"
           }
          ],
          "scattergeo": [
           {
            "marker": {
             "colorbar": {
              "outlinewidth": 0,
              "ticks": ""
             }
            },
            "type": "scattergeo"
           }
          ],
          "scattergl": [
           {
            "marker": {
             "colorbar": {
              "outlinewidth": 0,
              "ticks": ""
             }
            },
            "type": "scattergl"
           }
          ],
          "scattermapbox": [
           {
            "marker": {
             "colorbar": {
              "outlinewidth": 0,
              "ticks": ""
             }
            },
            "type": "scattermapbox"
           }
          ],
          "scatterpolar": [
           {
            "marker": {
             "colorbar": {
              "outlinewidth": 0,
              "ticks": ""
             }
            },
            "type": "scatterpolar"
           }
          ],
          "scatterpolargl": [
           {
            "marker": {
             "colorbar": {
              "outlinewidth": 0,
              "ticks": ""
             }
            },
            "type": "scatterpolargl"
           }
          ],
          "scatterternary": [
           {
            "marker": {
             "colorbar": {
              "outlinewidth": 0,
              "ticks": ""
             }
            },
            "type": "scatterternary"
           }
          ],
          "surface": [
           {
            "colorbar": {
             "outlinewidth": 0,
             "ticks": ""
            },
            "colorscale": [
             [
              0,
              "#0d0887"
             ],
             [
              0.1111111111111111,
              "#46039f"
             ],
             [
              0.2222222222222222,
              "#7201a8"
             ],
             [
              0.3333333333333333,
              "#9c179e"
             ],
             [
              0.4444444444444444,
              "#bd3786"
             ],
             [
              0.5555555555555556,
              "#d8576b"
             ],
             [
              0.6666666666666666,
              "#ed7953"
             ],
             [
              0.7777777777777778,
              "#fb9f3a"
             ],
             [
              0.8888888888888888,
              "#fdca26"
             ],
             [
              1,
              "#f0f921"
             ]
            ],
            "type": "surface"
           }
          ],
          "table": [
           {
            "cells": {
             "fill": {
              "color": "#EBF0F8"
             },
             "line": {
              "color": "white"
             }
            },
            "header": {
             "fill": {
              "color": "#C8D4E3"
             },
             "line": {
              "color": "white"
             }
            },
            "type": "table"
           }
          ]
         },
         "layout": {
          "annotationdefaults": {
           "arrowcolor": "#2a3f5f",
           "arrowhead": 0,
           "arrowwidth": 1
          },
          "coloraxis": {
           "colorbar": {
            "outlinewidth": 0,
            "ticks": ""
           }
          },
          "colorscale": {
           "diverging": [
            [
             0,
             "#8e0152"
            ],
            [
             0.1,
             "#c51b7d"
            ],
            [
             0.2,
             "#de77ae"
            ],
            [
             0.3,
             "#f1b6da"
            ],
            [
             0.4,
             "#fde0ef"
            ],
            [
             0.5,
             "#f7f7f7"
            ],
            [
             0.6,
             "#e6f5d0"
            ],
            [
             0.7,
             "#b8e186"
            ],
            [
             0.8,
             "#7fbc41"
            ],
            [
             0.9,
             "#4d9221"
            ],
            [
             1,
             "#276419"
            ]
           ],
           "sequential": [
            [
             0,
             "#0d0887"
            ],
            [
             0.1111111111111111,
             "#46039f"
            ],
            [
             0.2222222222222222,
             "#7201a8"
            ],
            [
             0.3333333333333333,
             "#9c179e"
            ],
            [
             0.4444444444444444,
             "#bd3786"
            ],
            [
             0.5555555555555556,
             "#d8576b"
            ],
            [
             0.6666666666666666,
             "#ed7953"
            ],
            [
             0.7777777777777778,
             "#fb9f3a"
            ],
            [
             0.8888888888888888,
             "#fdca26"
            ],
            [
             1,
             "#f0f921"
            ]
           ],
           "sequentialminus": [
            [
             0,
             "#0d0887"
            ],
            [
             0.1111111111111111,
             "#46039f"
            ],
            [
             0.2222222222222222,
             "#7201a8"
            ],
            [
             0.3333333333333333,
             "#9c179e"
            ],
            [
             0.4444444444444444,
             "#bd3786"
            ],
            [
             0.5555555555555556,
             "#d8576b"
            ],
            [
             0.6666666666666666,
             "#ed7953"
            ],
            [
             0.7777777777777778,
             "#fb9f3a"
            ],
            [
             0.8888888888888888,
             "#fdca26"
            ],
            [
             1,
             "#f0f921"
            ]
           ]
          },
          "colorway": [
           "#636efa",
           "#EF553B",
           "#00cc96",
           "#ab63fa",
           "#FFA15A",
           "#19d3f3",
           "#FF6692",
           "#B6E880",
           "#FF97FF",
           "#FECB52"
          ],
          "font": {
           "color": "#2a3f5f"
          },
          "geo": {
           "bgcolor": "white",
           "lakecolor": "white",
           "landcolor": "white",
           "showlakes": true,
           "showland": true,
           "subunitcolor": "#C8D4E3"
          },
          "hoverlabel": {
           "align": "left"
          },
          "hovermode": "closest",
          "mapbox": {
           "style": "light"
          },
          "paper_bgcolor": "white",
          "plot_bgcolor": "white",
          "polar": {
           "angularaxis": {
            "gridcolor": "#EBF0F8",
            "linecolor": "#EBF0F8",
            "ticks": ""
           },
           "bgcolor": "white",
           "radialaxis": {
            "gridcolor": "#EBF0F8",
            "linecolor": "#EBF0F8",
            "ticks": ""
           }
          },
          "scene": {
           "xaxis": {
            "backgroundcolor": "white",
            "gridcolor": "#DFE8F3",
            "gridwidth": 2,
            "linecolor": "#EBF0F8",
            "showbackground": true,
            "ticks": "",
            "zerolinecolor": "#EBF0F8"
           },
           "yaxis": {
            "backgroundcolor": "white",
            "gridcolor": "#DFE8F3",
            "gridwidth": 2,
            "linecolor": "#EBF0F8",
            "showbackground": true,
            "ticks": "",
            "zerolinecolor": "#EBF0F8"
           },
           "zaxis": {
            "backgroundcolor": "white",
            "gridcolor": "#DFE8F3",
            "gridwidth": 2,
            "linecolor": "#EBF0F8",
            "showbackground": true,
            "ticks": "",
            "zerolinecolor": "#EBF0F8"
           }
          },
          "shapedefaults": {
           "line": {
            "color": "#2a3f5f"
           }
          },
          "ternary": {
           "aaxis": {
            "gridcolor": "#DFE8F3",
            "linecolor": "#A2B1C6",
            "ticks": ""
           },
           "baxis": {
            "gridcolor": "#DFE8F3",
            "linecolor": "#A2B1C6",
            "ticks": ""
           },
           "bgcolor": "white",
           "caxis": {
            "gridcolor": "#DFE8F3",
            "linecolor": "#A2B1C6",
            "ticks": ""
           }
          },
          "title": {
           "x": 0.05
          },
          "xaxis": {
           "automargin": true,
           "gridcolor": "#EBF0F8",
           "linecolor": "#EBF0F8",
           "ticks": "",
           "title": {
            "standoff": 15
           },
           "zerolinecolor": "#EBF0F8",
           "zerolinewidth": 2
          },
          "yaxis": {
           "automargin": true,
           "gridcolor": "#EBF0F8",
           "linecolor": "#EBF0F8",
           "ticks": "",
           "title": {
            "standoff": 15
           },
           "zerolinecolor": "#EBF0F8",
           "zerolinewidth": 2
          }
         }
        },
        "title": {
         "text": "",
         "x": 0.5
        },
        "width": 500,
        "xaxis": {
         "linecolor": "Black",
         "linewidth": 1.5,
         "mirror": true,
         "range": [
          10,
          100
         ],
         "showline": true,
         "title": {
          "text": "#labeled data (%)"
         }
        },
        "yaxis": {
         "linecolor": "Black",
         "linewidth": 1.5,
         "mirror": true,
         "range": [
          0,
          71.36452936927313
         ],
         "showline": true,
         "title": {
          "text": "Accuracy (%)"
         }
        }
       }
      },
      "text/html": [
       "<div>                            <div id=\"2ce90a42-1399-4743-891c-748437ea420c\" class=\"plotly-graph-div\" style=\"height:400px; width:500px;\"></div>            <script type=\"text/javascript\">                require([\"plotly\"], function(Plotly) {                    window.PLOTLYENV=window.PLOTLYENV || {};                                    if (document.getElementById(\"2ce90a42-1399-4743-891c-748437ea420c\")) {                    Plotly.newPlot(                        \"2ce90a42-1399-4743-891c-748437ea420c\",                        [{\"fillcolor\": \"rgba(229, 134, 6, 0.3)\", \"line\": {\"color\": \"rgb(229, 134, 6)\"}, \"mode\": \"lines\", \"name\": \"GreedyCVXSampler\", \"showlegend\": false, \"type\": \"scatter\", \"x\": [10.0, 13.10344827586207, 16.20689655172414, 19.310344827586206, 22.413793103448278, 25.517241379310345, 28.620689655172413, 31.724137931034484, 34.827586206896555, 37.93103448275862, 41.03448275862069, 44.13793103448276, 47.241379310344826, 50.3448275862069, 53.44827586206897, 56.55172413793103, 59.6551724137931, 62.758620689655174, 65.86206896551724, 68.9655172413793, 72.06896551724138, 75.17241379310344, 78.27586206896552, 81.37931034482759, 84.48275862068965, 87.58620689655173, 90.6896551724138, 93.79310344827586, 96.89655172413794, 100.0], \"y\": [0.0, 0.0, 0.0, 0.0, 0.6848723530896739, 1.5654225213478257, 2.655941885101645, 4.983575266763237, 6.474464105150237, 7.214195629186211, 9.681564692215916, 13.230437800063175, 18.430686676221082, 21.22660384761256, 24.358215119735576, 30.3173112172857, 33.29024551667911, 36.487996783040686, 37.45072535621315, 40.264461967106406, 44.7732367402972, 41.45936105965052, 43.77616229683275, 44.2012338302676, 46.26356000437987, 47.813713078035775, 47.09740237270785, 49.98169787440776, 51.63650586201797, 52.99102618628243]}, {\"fill\": \"tonexty\", \"fillcolor\": \"rgba(229, 134, 6, 0.3)\", \"line\": {\"color\": \"rgb(229, 134, 6)\"}, \"mode\": \"lines\", \"name\": \"GreedyCVXSampler\", \"showlegend\": true, \"type\": \"scatter\", \"x\": [10.0, 13.10344827586207, 16.20689655172414, 19.310344827586206, 22.413793103448278, 25.517241379310345, 28.620689655172413, 31.724137931034484, 34.827586206896555, 37.93103448275862, 41.03448275862069, 44.13793103448276, 47.241379310344826, 50.3448275862069, 53.44827586206897, 56.55172413793103, 59.6551724137931, 62.758620689655174, 65.86206896551724, 68.9655172413793, 72.06896551724138, 75.17241379310344, 78.27586206896552, 81.37931034482759, 84.48275862068965, 87.58620689655173, 90.6896551724138, 93.79310344827586, 96.89655172413794, 100.0], \"y\": [0.0, 0.0, 0.0, 0.0, 2.5678309249009623, 5.869327828345053, 8.494130486120147, 14.343615026978787, 21.80631494976676, 29.113390577710337, 30.831016953469188, 29.528306954543655, 32.37129836300532, 37.30775119708731, 42.3243902442491, 46.03632862945759, 46.32737900439369, 46.973305898951665, 50.69946621466807, 50.06376280939423, 50.949368623687484, 54.504240472916536, 53.60021062781604, 56.132099503065746, 58.32111432512205, 57.007742860661565, 57.052022914648475, 57.52021783440452, 58.63629107284794, 61.364529369273136]}, {\"fillcolor\": \"rgba(93, 105, 177, 0.3)\", \"line\": {\"color\": \"rgb(93, 105, 177)\"}, \"mode\": \"lines\", \"name\": \"GreedyCVXSampler+Diversity*\", \"showlegend\": false, \"type\": \"scatter\", \"x\": [10.0, 13.10344827586207, 16.20689655172414, 19.310344827586206, 22.413793103448278, 25.517241379310345, 28.620689655172413, 31.724137931034484, 34.827586206896555, 37.93103448275862, 41.03448275862069, 44.13793103448276, 47.241379310344826, 50.3448275862069, 53.44827586206897, 56.55172413793103, 59.6551724137931, 62.758620689655174, 65.86206896551724, 68.9655172413793, 72.06896551724138, 75.17241379310344, 78.27586206896552, 81.37931034482759, 84.48275862068965, 87.58620689655173, 90.6896551724138, 93.79310344827586, 96.89655172413794, 100.0], \"y\": [0.0, 0.0, 0.0, 0.0, 0.45418908402655267, 1.038146477774977, 1.6221038715234006, 2.5206625338589284, 3.9873880233599275, 5.483596278920323, 8.986494342880645, 14.277702575198083, 18.033028998126795, 21.590400457987798, 23.40138155229227, 27.207178579512007, 32.40962578421434, 35.33143611133295, 37.22328280145936, 41.24075088034889, 42.282869846157425, 42.069604566523836, 43.9645566525494, 44.28771911047885, 42.44233868300296, 43.85069243888892, 49.140467933835644, 51.10272004353221, 52.09981663389631, 52.99102618628243]}, {\"fill\": \"tonexty\", \"fillcolor\": \"rgba(93, 105, 177, 0.3)\", \"line\": {\"color\": \"rgb(93, 105, 177)\"}, \"mode\": \"lines\", \"name\": \"GreedyCVXSampler+Diversity*\", \"showlegend\": true, \"type\": \"scatter\", \"x\": [10.0, 13.10344827586207, 16.20689655172414, 19.310344827586206, 22.413793103448278, 25.517241379310345, 28.620689655172413, 31.724137931034484, 34.827586206896555, 37.93103448275862, 41.03448275862069, 44.13793103448276, 47.241379310344826, 50.3448275862069, 53.44827586206897, 56.55172413793103, 59.6551724137931, 62.758620689655174, 65.86206896551724, 68.9655172413793, 72.06896551724138, 75.17241379310344, 78.27586206896552, 81.37931034482759, 84.48275862068965, 87.58620689655173, 90.6896551724138, 93.79310344827586, 96.89655172413794, 100.0], \"y\": [0.0, 0.0, 0.0, 0.0, 1.6620841701777374, 3.799049531834826, 5.936014893491915, 8.291607826687297, 13.559508528364223, 19.205829008435998, 26.455782613879066, 32.09138335802579, 36.969335533892895, 41.033332437469234, 43.450711131524564, 44.478688962907285, 45.035278430345045, 45.62876823094035, 45.207930480788406, 46.76154797022581, 50.683413678746774, 51.35261765569838, 51.252301584998484, 52.47396671327594, 54.71372772823585, 56.19528457260535, 59.47562402018733, 59.35858263846014, 61.01435961131442, 61.364529369273136]}],                        {\"font\": {\"size\": 15}, \"height\": 400, \"legend\": {\"bgcolor\": \"rgba(0,0,0,0)\", \"bordercolor\": \"Black\", \"borderwidth\": 1, \"x\": 0.98, \"xanchor\": \"right\", \"y\": 0.05, \"yanchor\": \"bottom\"}, \"margin\": {\"b\": 40, \"l\": 0, \"r\": 0, \"t\": 40}, \"template\": {\"data\": {\"bar\": [{\"error_x\": {\"color\": \"#2a3f5f\"}, \"error_y\": {\"color\": \"#2a3f5f\"}, \"marker\": {\"line\": {\"color\": \"white\", \"width\": 0.5}}, \"type\": \"bar\"}], \"barpolar\": [{\"marker\": {\"line\": {\"color\": \"white\", \"width\": 0.5}}, \"type\": \"barpolar\"}], \"carpet\": [{\"aaxis\": {\"endlinecolor\": \"#2a3f5f\", \"gridcolor\": \"#C8D4E3\", \"linecolor\": \"#C8D4E3\", \"minorgridcolor\": \"#C8D4E3\", \"startlinecolor\": \"#2a3f5f\"}, \"baxis\": {\"endlinecolor\": \"#2a3f5f\", \"gridcolor\": \"#C8D4E3\", \"linecolor\": \"#C8D4E3\", \"minorgridcolor\": \"#C8D4E3\", \"startlinecolor\": \"#2a3f5f\"}, \"type\": \"carpet\"}], \"choropleth\": [{\"colorbar\": {\"outlinewidth\": 0, \"ticks\": \"\"}, \"type\": \"choropleth\"}], \"contour\": [{\"colorbar\": {\"outlinewidth\": 0, \"ticks\": \"\"}, \"colorscale\": [[0.0, \"#0d0887\"], [0.1111111111111111, \"#46039f\"], [0.2222222222222222, \"#7201a8\"], [0.3333333333333333, \"#9c179e\"], [0.4444444444444444, \"#bd3786\"], [0.5555555555555556, \"#d8576b\"], [0.6666666666666666, \"#ed7953\"], [0.7777777777777778, \"#fb9f3a\"], [0.8888888888888888, \"#fdca26\"], [1.0, \"#f0f921\"]], \"type\": \"contour\"}], \"contourcarpet\": [{\"colorbar\": {\"outlinewidth\": 0, \"ticks\": \"\"}, \"type\": \"contourcarpet\"}], \"heatmap\": [{\"colorbar\": {\"outlinewidth\": 0, \"ticks\": \"\"}, \"colorscale\": [[0.0, \"#0d0887\"], [0.1111111111111111, \"#46039f\"], [0.2222222222222222, \"#7201a8\"], [0.3333333333333333, \"#9c179e\"], [0.4444444444444444, \"#bd3786\"], [0.5555555555555556, \"#d8576b\"], [0.6666666666666666, \"#ed7953\"], [0.7777777777777778, \"#fb9f3a\"], [0.8888888888888888, \"#fdca26\"], [1.0, \"#f0f921\"]], \"type\": \"heatmap\"}], \"heatmapgl\": [{\"colorbar\": {\"outlinewidth\": 0, \"ticks\": \"\"}, \"colorscale\": [[0.0, \"#0d0887\"], [0.1111111111111111, \"#46039f\"], [0.2222222222222222, \"#7201a8\"], [0.3333333333333333, \"#9c179e\"], [0.4444444444444444, \"#bd3786\"], [0.5555555555555556, \"#d8576b\"], [0.6666666666666666, \"#ed7953\"], [0.7777777777777778, \"#fb9f3a\"], [0.8888888888888888, \"#fdca26\"], [1.0, \"#f0f921\"]], \"type\": \"heatmapgl\"}], \"histogram\": [{\"marker\": {\"colorbar\": {\"outlinewidth\": 0, \"ticks\": \"\"}}, \"type\": \"histogram\"}], \"histogram2d\": [{\"colorbar\": {\"outlinewidth\": 0, \"ticks\": \"\"}, \"colorscale\": [[0.0, \"#0d0887\"], [0.1111111111111111, \"#46039f\"], [0.2222222222222222, \"#7201a8\"], [0.3333333333333333, \"#9c179e\"], [0.4444444444444444, \"#bd3786\"], [0.5555555555555556, \"#d8576b\"], [0.6666666666666666, \"#ed7953\"], [0.7777777777777778, \"#fb9f3a\"], [0.8888888888888888, \"#fdca26\"], [1.0, \"#f0f921\"]], \"type\": \"histogram2d\"}], \"histogram2dcontour\": [{\"colorbar\": {\"outlinewidth\": 0, \"ticks\": \"\"}, \"colorscale\": [[0.0, \"#0d0887\"], [0.1111111111111111, \"#46039f\"], [0.2222222222222222, \"#7201a8\"], [0.3333333333333333, \"#9c179e\"], [0.4444444444444444, \"#bd3786\"], [0.5555555555555556, \"#d8576b\"], [0.6666666666666666, \"#ed7953\"], [0.7777777777777778, \"#fb9f3a\"], [0.8888888888888888, \"#fdca26\"], [1.0, \"#f0f921\"]], \"type\": \"histogram2dcontour\"}], \"mesh3d\": [{\"colorbar\": {\"outlinewidth\": 0, \"ticks\": \"\"}, \"type\": \"mesh3d\"}], \"parcoords\": [{\"line\": {\"colorbar\": {\"outlinewidth\": 0, \"ticks\": \"\"}}, \"type\": \"parcoords\"}], \"pie\": [{\"automargin\": true, \"type\": \"pie\"}], \"scatter\": [{\"marker\": {\"colorbar\": {\"outlinewidth\": 0, \"ticks\": \"\"}}, \"type\": \"scatter\"}], \"scatter3d\": [{\"line\": {\"colorbar\": {\"outlinewidth\": 0, \"ticks\": \"\"}}, \"marker\": {\"colorbar\": {\"outlinewidth\": 0, \"ticks\": \"\"}}, \"type\": \"scatter3d\"}], \"scattercarpet\": [{\"marker\": {\"colorbar\": {\"outlinewidth\": 0, \"ticks\": \"\"}}, \"type\": \"scattercarpet\"}], \"scattergeo\": [{\"marker\": {\"colorbar\": {\"outlinewidth\": 0, \"ticks\": \"\"}}, \"type\": \"scattergeo\"}], \"scattergl\": [{\"marker\": {\"colorbar\": {\"outlinewidth\": 0, \"ticks\": \"\"}}, \"type\": \"scattergl\"}], \"scattermapbox\": [{\"marker\": {\"colorbar\": {\"outlinewidth\": 0, \"ticks\": \"\"}}, \"type\": \"scattermapbox\"}], \"scatterpolar\": [{\"marker\": {\"colorbar\": {\"outlinewidth\": 0, \"ticks\": \"\"}}, \"type\": \"scatterpolar\"}], \"scatterpolargl\": [{\"marker\": {\"colorbar\": {\"outlinewidth\": 0, \"ticks\": \"\"}}, \"type\": \"scatterpolargl\"}], \"scatterternary\": [{\"marker\": {\"colorbar\": {\"outlinewidth\": 0, \"ticks\": \"\"}}, \"type\": \"scatterternary\"}], \"surface\": [{\"colorbar\": {\"outlinewidth\": 0, \"ticks\": \"\"}, \"colorscale\": [[0.0, \"#0d0887\"], [0.1111111111111111, \"#46039f\"], [0.2222222222222222, \"#7201a8\"], [0.3333333333333333, \"#9c179e\"], [0.4444444444444444, \"#bd3786\"], [0.5555555555555556, \"#d8576b\"], [0.6666666666666666, \"#ed7953\"], [0.7777777777777778, \"#fb9f3a\"], [0.8888888888888888, \"#fdca26\"], [1.0, \"#f0f921\"]], \"type\": \"surface\"}], \"table\": [{\"cells\": {\"fill\": {\"color\": \"#EBF0F8\"}, \"line\": {\"color\": \"white\"}}, \"header\": {\"fill\": {\"color\": \"#C8D4E3\"}, \"line\": {\"color\": \"white\"}}, \"type\": \"table\"}]}, \"layout\": {\"annotationdefaults\": {\"arrowcolor\": \"#2a3f5f\", \"arrowhead\": 0, \"arrowwidth\": 1}, \"coloraxis\": {\"colorbar\": {\"outlinewidth\": 0, \"ticks\": \"\"}}, \"colorscale\": {\"diverging\": [[0, \"#8e0152\"], [0.1, \"#c51b7d\"], [0.2, \"#de77ae\"], [0.3, \"#f1b6da\"], [0.4, \"#fde0ef\"], [0.5, \"#f7f7f7\"], [0.6, \"#e6f5d0\"], [0.7, \"#b8e186\"], [0.8, \"#7fbc41\"], [0.9, \"#4d9221\"], [1, \"#276419\"]], \"sequential\": [[0.0, \"#0d0887\"], [0.1111111111111111, \"#46039f\"], [0.2222222222222222, \"#7201a8\"], [0.3333333333333333, \"#9c179e\"], [0.4444444444444444, \"#bd3786\"], [0.5555555555555556, \"#d8576b\"], [0.6666666666666666, \"#ed7953\"], [0.7777777777777778, \"#fb9f3a\"], [0.8888888888888888, \"#fdca26\"], [1.0, \"#f0f921\"]], \"sequentialminus\": [[0.0, \"#0d0887\"], [0.1111111111111111, \"#46039f\"], [0.2222222222222222, \"#7201a8\"], [0.3333333333333333, \"#9c179e\"], [0.4444444444444444, \"#bd3786\"], [0.5555555555555556, \"#d8576b\"], [0.6666666666666666, \"#ed7953\"], [0.7777777777777778, \"#fb9f3a\"], [0.8888888888888888, \"#fdca26\"], [1.0, \"#f0f921\"]]}, \"colorway\": [\"#636efa\", \"#EF553B\", \"#00cc96\", \"#ab63fa\", \"#FFA15A\", \"#19d3f3\", \"#FF6692\", \"#B6E880\", \"#FF97FF\", \"#FECB52\"], \"font\": {\"color\": \"#2a3f5f\"}, \"geo\": {\"bgcolor\": \"white\", \"lakecolor\": \"white\", \"landcolor\": \"white\", \"showlakes\": true, \"showland\": true, \"subunitcolor\": \"#C8D4E3\"}, \"hoverlabel\": {\"align\": \"left\"}, \"hovermode\": \"closest\", \"mapbox\": {\"style\": \"light\"}, \"paper_bgcolor\": \"white\", \"plot_bgcolor\": \"white\", \"polar\": {\"angularaxis\": {\"gridcolor\": \"#EBF0F8\", \"linecolor\": \"#EBF0F8\", \"ticks\": \"\"}, \"bgcolor\": \"white\", \"radialaxis\": {\"gridcolor\": \"#EBF0F8\", \"linecolor\": \"#EBF0F8\", \"ticks\": \"\"}}, \"scene\": {\"xaxis\": {\"backgroundcolor\": \"white\", \"gridcolor\": \"#DFE8F3\", \"gridwidth\": 2, \"linecolor\": \"#EBF0F8\", \"showbackground\": true, \"ticks\": \"\", \"zerolinecolor\": \"#EBF0F8\"}, \"yaxis\": {\"backgroundcolor\": \"white\", \"gridcolor\": \"#DFE8F3\", \"gridwidth\": 2, \"linecolor\": \"#EBF0F8\", \"showbackground\": true, \"ticks\": \"\", \"zerolinecolor\": \"#EBF0F8\"}, \"zaxis\": {\"backgroundcolor\": \"white\", \"gridcolor\": \"#DFE8F3\", \"gridwidth\": 2, \"linecolor\": \"#EBF0F8\", \"showbackground\": true, \"ticks\": \"\", \"zerolinecolor\": \"#EBF0F8\"}}, \"shapedefaults\": {\"line\": {\"color\": \"#2a3f5f\"}}, \"ternary\": {\"aaxis\": {\"gridcolor\": \"#DFE8F3\", \"linecolor\": \"#A2B1C6\", \"ticks\": \"\"}, \"baxis\": {\"gridcolor\": \"#DFE8F3\", \"linecolor\": \"#A2B1C6\", \"ticks\": \"\"}, \"bgcolor\": \"white\", \"caxis\": {\"gridcolor\": \"#DFE8F3\", \"linecolor\": \"#A2B1C6\", \"ticks\": \"\"}}, \"title\": {\"x\": 0.05}, \"xaxis\": {\"automargin\": true, \"gridcolor\": \"#EBF0F8\", \"linecolor\": \"#EBF0F8\", \"ticks\": \"\", \"title\": {\"standoff\": 15}, \"zerolinecolor\": \"#EBF0F8\", \"zerolinewidth\": 2}, \"yaxis\": {\"automargin\": true, \"gridcolor\": \"#EBF0F8\", \"linecolor\": \"#EBF0F8\", \"ticks\": \"\", \"title\": {\"standoff\": 15}, \"zerolinecolor\": \"#EBF0F8\", \"zerolinewidth\": 2}}}, \"title\": {\"text\": \"\", \"x\": 0.5}, \"width\": 500, \"xaxis\": {\"linecolor\": \"Black\", \"linewidth\": 1.5, \"mirror\": true, \"range\": [10, 100], \"showline\": true, \"title\": {\"text\": \"#labeled data (%)\"}}, \"yaxis\": {\"linecolor\": \"Black\", \"linewidth\": 1.5, \"mirror\": true, \"range\": [0, 71.36452936927313], \"showline\": true, \"title\": {\"text\": \"Accuracy (%)\"}}},                        {\"responsive\": true}                    ).then(function(){\n",
       "                            \n",
       "var gd = document.getElementById('2ce90a42-1399-4743-891c-748437ea420c');\n",
       "var x = new MutationObserver(function (mutations, observer) {{\n",
       "        var display = window.getComputedStyle(gd).display;\n",
       "        if (!display || display === 'none') {{\n",
       "            console.log([gd, 'removed!']);\n",
       "            Plotly.purge(gd);\n",
       "            observer.disconnect();\n",
       "        }}\n",
       "}});\n",
       "\n",
       "// Listen for the removal of the full notebook cells\n",
       "var notebookContainer = gd.closest('#notebook-container');\n",
       "if (notebookContainer) {{\n",
       "    x.observe(notebookContainer, {childList: true});\n",
       "}}\n",
       "\n",
       "// Listen for the clearing of the current output cell\n",
       "var outputEl = gd.closest('.output');\n",
       "if (outputEl) {{\n",
       "    x.observe(outputEl, {childList: true});\n",
       "}}\n",
       "\n",
       "                        })                };                });            </script>        </div>"
      ]
     },
     "metadata": {},
     "output_type": "display_data"
    }
   ],
   "source": [
    "plot([argmax, argmax_perfect_diversity], \n",
    "     [\"GreedyCVXSampler\", \"GreedyCVXSampler+Diversity*\"], \n",
    "     filename=\"plots/cvx_greedy_perfect_diversity_N={}_K={}_sigma={}_alpha={}.pdf\".format(N, K, sigma, alpha), \n",
    "     opacity=0.3)"
   ]
  },
  {
   "cell_type": "code",
   "execution_count": 17,
   "metadata": {},
   "outputs": [
    {
     "data": {
      "application/vnd.plotly.v1+json": {
       "config": {
        "plotlyServerURL": "https://plot.ly"
       },
       "data": [
        {
         "fillcolor": "rgba(229, 134, 6, 0.3)",
         "line": {
          "color": "rgb(229, 134, 6)"
         },
         "mode": "lines",
         "name": "ClusterCVXSampler",
         "showlegend": false,
         "type": "scatter",
         "x": [
          10,
          13.10344827586207,
          16.20689655172414,
          19.310344827586206,
          22.413793103448278,
          25.517241379310345,
          28.620689655172413,
          31.724137931034484,
          34.827586206896555,
          37.93103448275862,
          41.03448275862069,
          44.13793103448276,
          47.241379310344826,
          50.3448275862069,
          53.44827586206897,
          56.55172413793103,
          59.6551724137931,
          62.758620689655174,
          65.86206896551724,
          68.9655172413793,
          72.06896551724138,
          75.17241379310344,
          78.27586206896552,
          81.37931034482759,
          84.48275862068965,
          87.58620689655173,
          90.6896551724138,
          93.79310344827586,
          96.89655172413794,
          100
         ],
         "y": [
          0,
          0,
          0,
          0,
          -0.16199490366092317,
          0.8337573118903645,
          2.1886467104244804,
          5.32330409377038,
          6.3193586834765805,
          4.47193630715438,
          9.064640674603512,
          13.631391034454749,
          17.805009339332173,
          21.479834981029803,
          24.466966567745686,
          26.699036760477615,
          30.22452353447933,
          37.417077659093785,
          40.12897941793377,
          38.001921882199696,
          35.58077756659714,
          35.58717910964516,
          40.14152449689558,
          45.11503139100829,
          46.38981700773286,
          48.20019167868917,
          50.11208579434297,
          51.250129825363544,
          52.34038058585812,
          52.99102618628243
         ]
        },
        {
         "fill": "tonexty",
         "fillcolor": "rgba(229, 134, 6, 0.3)",
         "line": {
          "color": "rgb(229, 134, 6)"
         },
         "mode": "lines",
         "name": "ClusterCVXSampler",
         "showlegend": true,
         "type": "scatter",
         "x": [
          10,
          13.10344827586207,
          16.20689655172414,
          19.310344827586206,
          22.413793103448278,
          25.517241379310345,
          28.620689655172413,
          31.724137931034484,
          34.827586206896555,
          37.93103448275862,
          41.03448275862069,
          44.13793103448276,
          47.241379310344826,
          50.3448275862069,
          53.44827586206897,
          56.55172413793103,
          59.6551724137931,
          62.758620689655174,
          65.86206896551724,
          68.9655172413793,
          72.06896551724138,
          75.17241379310344,
          78.27586206896552,
          81.37931034482759,
          84.48275862068965,
          87.58620689655173,
          90.6896551724138,
          93.79310344827586,
          96.89655172413794,
          100
         ],
         "y": [
          0,
          0,
          0,
          0,
          1.6317267044272075,
          4.385246519527263,
          10.962311143981653,
          12.575163339179811,
          16.967384611542585,
          23.64520290101931,
          28.490608367542087,
          31.153896321867087,
          32.330239702813415,
          37.70959030632652,
          43.20337825984052,
          45.82648048090171,
          47.90750711686168,
          49.07053409058694,
          49.609717900073896,
          49.889802255731354,
          51.890640057923925,
          54.6202538405464,
          57.86223029237646,
          56.67615634845531,
          55.23416766659663,
          55.82547881939511,
          56.461094282285394,
          57.10511921678206,
          58.59617113827982,
          61.364529369273136
         ]
        },
        {
         "fillcolor": "rgba(93, 105, 177, 0.3)",
         "line": {
          "color": "rgb(93, 105, 177)"
         },
         "mode": "lines",
         "name": "ClusterCVXSampler+Diversity*",
         "showlegend": false,
         "type": "scatter",
         "x": [
          10,
          13.10344827586207,
          16.20689655172414,
          19.310344827586206,
          22.413793103448278,
          25.517241379310345,
          28.620689655172413,
          31.724137931034484,
          34.827586206896555,
          37.93103448275862,
          41.03448275862069,
          44.13793103448276,
          47.241379310344826,
          50.3448275862069,
          53.44827586206897,
          56.55172413793103,
          59.6551724137931,
          62.758620689655174,
          65.86206896551724,
          68.9655172413793,
          72.06896551724138,
          75.17241379310344,
          78.27586206896552,
          81.37931034482759,
          84.48275862068965,
          87.58620689655173,
          90.6896551724138,
          93.79310344827586,
          96.89655172413794,
          100
         ],
         "y": [
          0,
          0,
          0,
          0,
          0.18175369823195453,
          1.393727763954578,
          6.679576650093857,
          10.011728027838677,
          11.143947327110258,
          12.72846922796132,
          14.54179584765366,
          18.439744498962494,
          21.023788126721907,
          22.617361498072427,
          24.216067599702136,
          25.56694477102687,
          30.21069178987799,
          35.014155235375036,
          34.71503814300496,
          36.916737960424335,
          40.87925067073171,
          43.589948851493915,
          44.512432892509175,
          45.18281211619753,
          46.6124955822855,
          47.9660353555146,
          49.954111790576746,
          52.02952692812142,
          52.592926236159954,
          52.99102618628243
         ]
        },
        {
         "fill": "tonexty",
         "fillcolor": "rgba(93, 105, 177, 0.3)",
         "line": {
          "color": "rgb(93, 105, 177)"
         },
         "mode": "lines",
         "name": "ClusterCVXSampler+Diversity*",
         "showlegend": true,
         "type": "scatter",
         "x": [
          10,
          13.10344827586207,
          16.20689655172414,
          19.310344827586206,
          22.413793103448278,
          25.517241379310345,
          28.620689655172413,
          31.724137931034484,
          34.827586206896555,
          37.93103448275862,
          41.03448275862069,
          44.13793103448276,
          47.241379310344826,
          50.3448275862069,
          53.44827586206897,
          56.55172413793103,
          59.6551724137931,
          62.758620689655174,
          65.86206896551724,
          68.9655172413793,
          72.06896551724138,
          75.17241379310344,
          78.27586206896552,
          81.37931034482759,
          84.48275862068965,
          87.58620689655173,
          90.6896551724138,
          93.79310344827586,
          96.89655172413794,
          100
         ],
         "y": [
          0,
          0,
          0,
          0,
          3.143916799852339,
          7.242287561715921,
          12.439197296266293,
          16.969114884038728,
          21.602412826146452,
          24.741262572804963,
          28.15092445885975,
          30.597803393757818,
          33.59651838668803,
          37.11750440231071,
          40.00232320489557,
          42.749223811348614,
          45.24662621778486,
          47.107990358494696,
          47.67990438573068,
          49.61659537290898,
          51.59753093846369,
          53.989974520153595,
          54.73668588143719,
          54.68232198341932,
          56.07884541388308,
          57.304922498891536,
          57.45983456957653,
          57.95882556230003,
          59.666077595257676,
          61.364529369273136
         ]
        }
       ],
       "layout": {
        "font": {
         "size": 15
        },
        "height": 400,
        "legend": {
         "bgcolor": "rgba(0,0,0,0)",
         "bordercolor": "Black",
         "borderwidth": 1,
         "x": 0.98,
         "xanchor": "right",
         "y": 0.05,
         "yanchor": "bottom"
        },
        "margin": {
         "b": 40,
         "l": 0,
         "r": 0,
         "t": 40
        },
        "template": {
         "data": {
          "bar": [
           {
            "error_x": {
             "color": "#2a3f5f"
            },
            "error_y": {
             "color": "#2a3f5f"
            },
            "marker": {
             "line": {
              "color": "white",
              "width": 0.5
             }
            },
            "type": "bar"
           }
          ],
          "barpolar": [
           {
            "marker": {
             "line": {
              "color": "white",
              "width": 0.5
             }
            },
            "type": "barpolar"
           }
          ],
          "carpet": [
           {
            "aaxis": {
             "endlinecolor": "#2a3f5f",
             "gridcolor": "#C8D4E3",
             "linecolor": "#C8D4E3",
             "minorgridcolor": "#C8D4E3",
             "startlinecolor": "#2a3f5f"
            },
            "baxis": {
             "endlinecolor": "#2a3f5f",
             "gridcolor": "#C8D4E3",
             "linecolor": "#C8D4E3",
             "minorgridcolor": "#C8D4E3",
             "startlinecolor": "#2a3f5f"
            },
            "type": "carpet"
           }
          ],
          "choropleth": [
           {
            "colorbar": {
             "outlinewidth": 0,
             "ticks": ""
            },
            "type": "choropleth"
           }
          ],
          "contour": [
           {
            "colorbar": {
             "outlinewidth": 0,
             "ticks": ""
            },
            "colorscale": [
             [
              0,
              "#0d0887"
             ],
             [
              0.1111111111111111,
              "#46039f"
             ],
             [
              0.2222222222222222,
              "#7201a8"
             ],
             [
              0.3333333333333333,
              "#9c179e"
             ],
             [
              0.4444444444444444,
              "#bd3786"
             ],
             [
              0.5555555555555556,
              "#d8576b"
             ],
             [
              0.6666666666666666,
              "#ed7953"
             ],
             [
              0.7777777777777778,
              "#fb9f3a"
             ],
             [
              0.8888888888888888,
              "#fdca26"
             ],
             [
              1,
              "#f0f921"
             ]
            ],
            "type": "contour"
           }
          ],
          "contourcarpet": [
           {
            "colorbar": {
             "outlinewidth": 0,
             "ticks": ""
            },
            "type": "contourcarpet"
           }
          ],
          "heatmap": [
           {
            "colorbar": {
             "outlinewidth": 0,
             "ticks": ""
            },
            "colorscale": [
             [
              0,
              "#0d0887"
             ],
             [
              0.1111111111111111,
              "#46039f"
             ],
             [
              0.2222222222222222,
              "#7201a8"
             ],
             [
              0.3333333333333333,
              "#9c179e"
             ],
             [
              0.4444444444444444,
              "#bd3786"
             ],
             [
              0.5555555555555556,
              "#d8576b"
             ],
             [
              0.6666666666666666,
              "#ed7953"
             ],
             [
              0.7777777777777778,
              "#fb9f3a"
             ],
             [
              0.8888888888888888,
              "#fdca26"
             ],
             [
              1,
              "#f0f921"
             ]
            ],
            "type": "heatmap"
           }
          ],
          "heatmapgl": [
           {
            "colorbar": {
             "outlinewidth": 0,
             "ticks": ""
            },
            "colorscale": [
             [
              0,
              "#0d0887"
             ],
             [
              0.1111111111111111,
              "#46039f"
             ],
             [
              0.2222222222222222,
              "#7201a8"
             ],
             [
              0.3333333333333333,
              "#9c179e"
             ],
             [
              0.4444444444444444,
              "#bd3786"
             ],
             [
              0.5555555555555556,
              "#d8576b"
             ],
             [
              0.6666666666666666,
              "#ed7953"
             ],
             [
              0.7777777777777778,
              "#fb9f3a"
             ],
             [
              0.8888888888888888,
              "#fdca26"
             ],
             [
              1,
              "#f0f921"
             ]
            ],
            "type": "heatmapgl"
           }
          ],
          "histogram": [
           {
            "marker": {
             "colorbar": {
              "outlinewidth": 0,
              "ticks": ""
             }
            },
            "type": "histogram"
           }
          ],
          "histogram2d": [
           {
            "colorbar": {
             "outlinewidth": 0,
             "ticks": ""
            },
            "colorscale": [
             [
              0,
              "#0d0887"
             ],
             [
              0.1111111111111111,
              "#46039f"
             ],
             [
              0.2222222222222222,
              "#7201a8"
             ],
             [
              0.3333333333333333,
              "#9c179e"
             ],
             [
              0.4444444444444444,
              "#bd3786"
             ],
             [
              0.5555555555555556,
              "#d8576b"
             ],
             [
              0.6666666666666666,
              "#ed7953"
             ],
             [
              0.7777777777777778,
              "#fb9f3a"
             ],
             [
              0.8888888888888888,
              "#fdca26"
             ],
             [
              1,
              "#f0f921"
             ]
            ],
            "type": "histogram2d"
           }
          ],
          "histogram2dcontour": [
           {
            "colorbar": {
             "outlinewidth": 0,
             "ticks": ""
            },
            "colorscale": [
             [
              0,
              "#0d0887"
             ],
             [
              0.1111111111111111,
              "#46039f"
             ],
             [
              0.2222222222222222,
              "#7201a8"
             ],
             [
              0.3333333333333333,
              "#9c179e"
             ],
             [
              0.4444444444444444,
              "#bd3786"
             ],
             [
              0.5555555555555556,
              "#d8576b"
             ],
             [
              0.6666666666666666,
              "#ed7953"
             ],
             [
              0.7777777777777778,
              "#fb9f3a"
             ],
             [
              0.8888888888888888,
              "#fdca26"
             ],
             [
              1,
              "#f0f921"
             ]
            ],
            "type": "histogram2dcontour"
           }
          ],
          "mesh3d": [
           {
            "colorbar": {
             "outlinewidth": 0,
             "ticks": ""
            },
            "type": "mesh3d"
           }
          ],
          "parcoords": [
           {
            "line": {
             "colorbar": {
              "outlinewidth": 0,
              "ticks": ""
             }
            },
            "type": "parcoords"
           }
          ],
          "pie": [
           {
            "automargin": true,
            "type": "pie"
           }
          ],
          "scatter": [
           {
            "marker": {
             "colorbar": {
              "outlinewidth": 0,
              "ticks": ""
             }
            },
            "type": "scatter"
           }
          ],
          "scatter3d": [
           {
            "line": {
             "colorbar": {
              "outlinewidth": 0,
              "ticks": ""
             }
            },
            "marker": {
             "colorbar": {
              "outlinewidth": 0,
              "ticks": ""
             }
            },
            "type": "scatter3d"
           }
          ],
          "scattercarpet": [
           {
            "marker": {
             "colorbar": {
              "outlinewidth": 0,
              "ticks": ""
             }
            },
            "type": "scattercarpet"
           }
          ],
          "scattergeo": [
           {
            "marker": {
             "colorbar": {
              "outlinewidth": 0,
              "ticks": ""
             }
            },
            "type": "scattergeo"
           }
          ],
          "scattergl": [
           {
            "marker": {
             "colorbar": {
              "outlinewidth": 0,
              "ticks": ""
             }
            },
            "type": "scattergl"
           }
          ],
          "scattermapbox": [
           {
            "marker": {
             "colorbar": {
              "outlinewidth": 0,
              "ticks": ""
             }
            },
            "type": "scattermapbox"
           }
          ],
          "scatterpolar": [
           {
            "marker": {
             "colorbar": {
              "outlinewidth": 0,
              "ticks": ""
             }
            },
            "type": "scatterpolar"
           }
          ],
          "scatterpolargl": [
           {
            "marker": {
             "colorbar": {
              "outlinewidth": 0,
              "ticks": ""
             }
            },
            "type": "scatterpolargl"
           }
          ],
          "scatterternary": [
           {
            "marker": {
             "colorbar": {
              "outlinewidth": 0,
              "ticks": ""
             }
            },
            "type": "scatterternary"
           }
          ],
          "surface": [
           {
            "colorbar": {
             "outlinewidth": 0,
             "ticks": ""
            },
            "colorscale": [
             [
              0,
              "#0d0887"
             ],
             [
              0.1111111111111111,
              "#46039f"
             ],
             [
              0.2222222222222222,
              "#7201a8"
             ],
             [
              0.3333333333333333,
              "#9c179e"
             ],
             [
              0.4444444444444444,
              "#bd3786"
             ],
             [
              0.5555555555555556,
              "#d8576b"
             ],
             [
              0.6666666666666666,
              "#ed7953"
             ],
             [
              0.7777777777777778,
              "#fb9f3a"
             ],
             [
              0.8888888888888888,
              "#fdca26"
             ],
             [
              1,
              "#f0f921"
             ]
            ],
            "type": "surface"
           }
          ],
          "table": [
           {
            "cells": {
             "fill": {
              "color": "#EBF0F8"
             },
             "line": {
              "color": "white"
             }
            },
            "header": {
             "fill": {
              "color": "#C8D4E3"
             },
             "line": {
              "color": "white"
             }
            },
            "type": "table"
           }
          ]
         },
         "layout": {
          "annotationdefaults": {
           "arrowcolor": "#2a3f5f",
           "arrowhead": 0,
           "arrowwidth": 1
          },
          "coloraxis": {
           "colorbar": {
            "outlinewidth": 0,
            "ticks": ""
           }
          },
          "colorscale": {
           "diverging": [
            [
             0,
             "#8e0152"
            ],
            [
             0.1,
             "#c51b7d"
            ],
            [
             0.2,
             "#de77ae"
            ],
            [
             0.3,
             "#f1b6da"
            ],
            [
             0.4,
             "#fde0ef"
            ],
            [
             0.5,
             "#f7f7f7"
            ],
            [
             0.6,
             "#e6f5d0"
            ],
            [
             0.7,
             "#b8e186"
            ],
            [
             0.8,
             "#7fbc41"
            ],
            [
             0.9,
             "#4d9221"
            ],
            [
             1,
             "#276419"
            ]
           ],
           "sequential": [
            [
             0,
             "#0d0887"
            ],
            [
             0.1111111111111111,
             "#46039f"
            ],
            [
             0.2222222222222222,
             "#7201a8"
            ],
            [
             0.3333333333333333,
             "#9c179e"
            ],
            [
             0.4444444444444444,
             "#bd3786"
            ],
            [
             0.5555555555555556,
             "#d8576b"
            ],
            [
             0.6666666666666666,
             "#ed7953"
            ],
            [
             0.7777777777777778,
             "#fb9f3a"
            ],
            [
             0.8888888888888888,
             "#fdca26"
            ],
            [
             1,
             "#f0f921"
            ]
           ],
           "sequentialminus": [
            [
             0,
             "#0d0887"
            ],
            [
             0.1111111111111111,
             "#46039f"
            ],
            [
             0.2222222222222222,
             "#7201a8"
            ],
            [
             0.3333333333333333,
             "#9c179e"
            ],
            [
             0.4444444444444444,
             "#bd3786"
            ],
            [
             0.5555555555555556,
             "#d8576b"
            ],
            [
             0.6666666666666666,
             "#ed7953"
            ],
            [
             0.7777777777777778,
             "#fb9f3a"
            ],
            [
             0.8888888888888888,
             "#fdca26"
            ],
            [
             1,
             "#f0f921"
            ]
           ]
          },
          "colorway": [
           "#636efa",
           "#EF553B",
           "#00cc96",
           "#ab63fa",
           "#FFA15A",
           "#19d3f3",
           "#FF6692",
           "#B6E880",
           "#FF97FF",
           "#FECB52"
          ],
          "font": {
           "color": "#2a3f5f"
          },
          "geo": {
           "bgcolor": "white",
           "lakecolor": "white",
           "landcolor": "white",
           "showlakes": true,
           "showland": true,
           "subunitcolor": "#C8D4E3"
          },
          "hoverlabel": {
           "align": "left"
          },
          "hovermode": "closest",
          "mapbox": {
           "style": "light"
          },
          "paper_bgcolor": "white",
          "plot_bgcolor": "white",
          "polar": {
           "angularaxis": {
            "gridcolor": "#EBF0F8",
            "linecolor": "#EBF0F8",
            "ticks": ""
           },
           "bgcolor": "white",
           "radialaxis": {
            "gridcolor": "#EBF0F8",
            "linecolor": "#EBF0F8",
            "ticks": ""
           }
          },
          "scene": {
           "xaxis": {
            "backgroundcolor": "white",
            "gridcolor": "#DFE8F3",
            "gridwidth": 2,
            "linecolor": "#EBF0F8",
            "showbackground": true,
            "ticks": "",
            "zerolinecolor": "#EBF0F8"
           },
           "yaxis": {
            "backgroundcolor": "white",
            "gridcolor": "#DFE8F3",
            "gridwidth": 2,
            "linecolor": "#EBF0F8",
            "showbackground": true,
            "ticks": "",
            "zerolinecolor": "#EBF0F8"
           },
           "zaxis": {
            "backgroundcolor": "white",
            "gridcolor": "#DFE8F3",
            "gridwidth": 2,
            "linecolor": "#EBF0F8",
            "showbackground": true,
            "ticks": "",
            "zerolinecolor": "#EBF0F8"
           }
          },
          "shapedefaults": {
           "line": {
            "color": "#2a3f5f"
           }
          },
          "ternary": {
           "aaxis": {
            "gridcolor": "#DFE8F3",
            "linecolor": "#A2B1C6",
            "ticks": ""
           },
           "baxis": {
            "gridcolor": "#DFE8F3",
            "linecolor": "#A2B1C6",
            "ticks": ""
           },
           "bgcolor": "white",
           "caxis": {
            "gridcolor": "#DFE8F3",
            "linecolor": "#A2B1C6",
            "ticks": ""
           }
          },
          "title": {
           "x": 0.05
          },
          "xaxis": {
           "automargin": true,
           "gridcolor": "#EBF0F8",
           "linecolor": "#EBF0F8",
           "ticks": "",
           "title": {
            "standoff": 15
           },
           "zerolinecolor": "#EBF0F8",
           "zerolinewidth": 2
          },
          "yaxis": {
           "automargin": true,
           "gridcolor": "#EBF0F8",
           "linecolor": "#EBF0F8",
           "ticks": "",
           "title": {
            "standoff": 15
           },
           "zerolinecolor": "#EBF0F8",
           "zerolinewidth": 2
          }
         }
        },
        "title": {
         "text": "",
         "x": 0.5
        },
        "width": 500,
        "xaxis": {
         "linecolor": "Black",
         "linewidth": 1.5,
         "mirror": true,
         "range": [
          10,
          100
         ],
         "showline": true,
         "title": {
          "text": "#labeled data (%)"
         }
        },
        "yaxis": {
         "linecolor": "Black",
         "linewidth": 1.5,
         "mirror": true,
         "range": [
          0,
          71.36452936927313
         ],
         "showline": true,
         "title": {
          "text": "Accuracy (%)"
         }
        }
       }
      },
      "text/html": [
       "<div>                            <div id=\"5fc33a61-876d-4ff4-87d3-fb12a5f48a88\" class=\"plotly-graph-div\" style=\"height:400px; width:500px;\"></div>            <script type=\"text/javascript\">                require([\"plotly\"], function(Plotly) {                    window.PLOTLYENV=window.PLOTLYENV || {};                                    if (document.getElementById(\"5fc33a61-876d-4ff4-87d3-fb12a5f48a88\")) {                    Plotly.newPlot(                        \"5fc33a61-876d-4ff4-87d3-fb12a5f48a88\",                        [{\"fillcolor\": \"rgba(229, 134, 6, 0.3)\", \"line\": {\"color\": \"rgb(229, 134, 6)\"}, \"mode\": \"lines\", \"name\": \"ClusterCVXSampler\", \"showlegend\": false, \"type\": \"scatter\", \"x\": [10.0, 13.10344827586207, 16.20689655172414, 19.310344827586206, 22.413793103448278, 25.517241379310345, 28.620689655172413, 31.724137931034484, 34.827586206896555, 37.93103448275862, 41.03448275862069, 44.13793103448276, 47.241379310344826, 50.3448275862069, 53.44827586206897, 56.55172413793103, 59.6551724137931, 62.758620689655174, 65.86206896551724, 68.9655172413793, 72.06896551724138, 75.17241379310344, 78.27586206896552, 81.37931034482759, 84.48275862068965, 87.58620689655173, 90.6896551724138, 93.79310344827586, 96.89655172413794, 100.0], \"y\": [0.0, 0.0, 0.0, 0.0, -0.16199490366092317, 0.8337573118903645, 2.1886467104244804, 5.32330409377038, 6.3193586834765805, 4.47193630715438, 9.064640674603512, 13.631391034454749, 17.805009339332173, 21.479834981029803, 24.466966567745686, 26.699036760477615, 30.22452353447933, 37.417077659093785, 40.12897941793377, 38.001921882199696, 35.58077756659714, 35.58717910964516, 40.14152449689558, 45.11503139100829, 46.38981700773286, 48.20019167868917, 50.11208579434297, 51.250129825363544, 52.34038058585812, 52.99102618628243]}, {\"fill\": \"tonexty\", \"fillcolor\": \"rgba(229, 134, 6, 0.3)\", \"line\": {\"color\": \"rgb(229, 134, 6)\"}, \"mode\": \"lines\", \"name\": \"ClusterCVXSampler\", \"showlegend\": true, \"type\": \"scatter\", \"x\": [10.0, 13.10344827586207, 16.20689655172414, 19.310344827586206, 22.413793103448278, 25.517241379310345, 28.620689655172413, 31.724137931034484, 34.827586206896555, 37.93103448275862, 41.03448275862069, 44.13793103448276, 47.241379310344826, 50.3448275862069, 53.44827586206897, 56.55172413793103, 59.6551724137931, 62.758620689655174, 65.86206896551724, 68.9655172413793, 72.06896551724138, 75.17241379310344, 78.27586206896552, 81.37931034482759, 84.48275862068965, 87.58620689655173, 90.6896551724138, 93.79310344827586, 96.89655172413794, 100.0], \"y\": [0.0, 0.0, 0.0, 0.0, 1.6317267044272075, 4.385246519527263, 10.962311143981653, 12.575163339179811, 16.967384611542585, 23.64520290101931, 28.490608367542087, 31.153896321867087, 32.330239702813415, 37.70959030632652, 43.20337825984052, 45.82648048090171, 47.90750711686168, 49.07053409058694, 49.609717900073896, 49.889802255731354, 51.890640057923925, 54.6202538405464, 57.86223029237646, 56.67615634845531, 55.23416766659663, 55.82547881939511, 56.461094282285394, 57.10511921678206, 58.59617113827982, 61.364529369273136]}, {\"fillcolor\": \"rgba(93, 105, 177, 0.3)\", \"line\": {\"color\": \"rgb(93, 105, 177)\"}, \"mode\": \"lines\", \"name\": \"ClusterCVXSampler+Diversity*\", \"showlegend\": false, \"type\": \"scatter\", \"x\": [10.0, 13.10344827586207, 16.20689655172414, 19.310344827586206, 22.413793103448278, 25.517241379310345, 28.620689655172413, 31.724137931034484, 34.827586206896555, 37.93103448275862, 41.03448275862069, 44.13793103448276, 47.241379310344826, 50.3448275862069, 53.44827586206897, 56.55172413793103, 59.6551724137931, 62.758620689655174, 65.86206896551724, 68.9655172413793, 72.06896551724138, 75.17241379310344, 78.27586206896552, 81.37931034482759, 84.48275862068965, 87.58620689655173, 90.6896551724138, 93.79310344827586, 96.89655172413794, 100.0], \"y\": [0.0, 0.0, 0.0, 0.0, 0.18175369823195453, 1.393727763954578, 6.679576650093857, 10.011728027838677, 11.143947327110258, 12.72846922796132, 14.54179584765366, 18.439744498962494, 21.023788126721907, 22.617361498072427, 24.216067599702136, 25.56694477102687, 30.21069178987799, 35.014155235375036, 34.71503814300496, 36.916737960424335, 40.87925067073171, 43.589948851493915, 44.512432892509175, 45.18281211619753, 46.6124955822855, 47.9660353555146, 49.954111790576746, 52.02952692812142, 52.592926236159954, 52.99102618628243]}, {\"fill\": \"tonexty\", \"fillcolor\": \"rgba(93, 105, 177, 0.3)\", \"line\": {\"color\": \"rgb(93, 105, 177)\"}, \"mode\": \"lines\", \"name\": \"ClusterCVXSampler+Diversity*\", \"showlegend\": true, \"type\": \"scatter\", \"x\": [10.0, 13.10344827586207, 16.20689655172414, 19.310344827586206, 22.413793103448278, 25.517241379310345, 28.620689655172413, 31.724137931034484, 34.827586206896555, 37.93103448275862, 41.03448275862069, 44.13793103448276, 47.241379310344826, 50.3448275862069, 53.44827586206897, 56.55172413793103, 59.6551724137931, 62.758620689655174, 65.86206896551724, 68.9655172413793, 72.06896551724138, 75.17241379310344, 78.27586206896552, 81.37931034482759, 84.48275862068965, 87.58620689655173, 90.6896551724138, 93.79310344827586, 96.89655172413794, 100.0], \"y\": [0.0, 0.0, 0.0, 0.0, 3.143916799852339, 7.242287561715921, 12.439197296266293, 16.969114884038728, 21.602412826146452, 24.741262572804963, 28.15092445885975, 30.597803393757818, 33.59651838668803, 37.11750440231071, 40.00232320489557, 42.749223811348614, 45.24662621778486, 47.107990358494696, 47.67990438573068, 49.61659537290898, 51.59753093846369, 53.989974520153595, 54.73668588143719, 54.68232198341932, 56.07884541388308, 57.304922498891536, 57.45983456957653, 57.95882556230003, 59.666077595257676, 61.364529369273136]}],                        {\"font\": {\"size\": 15}, \"height\": 400, \"legend\": {\"bgcolor\": \"rgba(0,0,0,0)\", \"bordercolor\": \"Black\", \"borderwidth\": 1, \"x\": 0.98, \"xanchor\": \"right\", \"y\": 0.05, \"yanchor\": \"bottom\"}, \"margin\": {\"b\": 40, \"l\": 0, \"r\": 0, \"t\": 40}, \"template\": {\"data\": {\"bar\": [{\"error_x\": {\"color\": \"#2a3f5f\"}, \"error_y\": {\"color\": \"#2a3f5f\"}, \"marker\": {\"line\": {\"color\": \"white\", \"width\": 0.5}}, \"type\": \"bar\"}], \"barpolar\": [{\"marker\": {\"line\": {\"color\": \"white\", \"width\": 0.5}}, \"type\": \"barpolar\"}], \"carpet\": [{\"aaxis\": {\"endlinecolor\": \"#2a3f5f\", \"gridcolor\": \"#C8D4E3\", \"linecolor\": \"#C8D4E3\", \"minorgridcolor\": \"#C8D4E3\", \"startlinecolor\": \"#2a3f5f\"}, \"baxis\": {\"endlinecolor\": \"#2a3f5f\", \"gridcolor\": \"#C8D4E3\", \"linecolor\": \"#C8D4E3\", \"minorgridcolor\": \"#C8D4E3\", \"startlinecolor\": \"#2a3f5f\"}, \"type\": \"carpet\"}], \"choropleth\": [{\"colorbar\": {\"outlinewidth\": 0, \"ticks\": \"\"}, \"type\": \"choropleth\"}], \"contour\": [{\"colorbar\": {\"outlinewidth\": 0, \"ticks\": \"\"}, \"colorscale\": [[0.0, \"#0d0887\"], [0.1111111111111111, \"#46039f\"], [0.2222222222222222, \"#7201a8\"], [0.3333333333333333, \"#9c179e\"], [0.4444444444444444, \"#bd3786\"], [0.5555555555555556, \"#d8576b\"], [0.6666666666666666, \"#ed7953\"], [0.7777777777777778, \"#fb9f3a\"], [0.8888888888888888, \"#fdca26\"], [1.0, \"#f0f921\"]], \"type\": \"contour\"}], \"contourcarpet\": [{\"colorbar\": {\"outlinewidth\": 0, \"ticks\": \"\"}, \"type\": \"contourcarpet\"}], \"heatmap\": [{\"colorbar\": {\"outlinewidth\": 0, \"ticks\": \"\"}, \"colorscale\": [[0.0, \"#0d0887\"], [0.1111111111111111, \"#46039f\"], [0.2222222222222222, \"#7201a8\"], [0.3333333333333333, \"#9c179e\"], [0.4444444444444444, \"#bd3786\"], [0.5555555555555556, \"#d8576b\"], [0.6666666666666666, \"#ed7953\"], [0.7777777777777778, \"#fb9f3a\"], [0.8888888888888888, \"#fdca26\"], [1.0, \"#f0f921\"]], \"type\": \"heatmap\"}], \"heatmapgl\": [{\"colorbar\": {\"outlinewidth\": 0, \"ticks\": \"\"}, \"colorscale\": [[0.0, \"#0d0887\"], [0.1111111111111111, \"#46039f\"], [0.2222222222222222, \"#7201a8\"], [0.3333333333333333, \"#9c179e\"], [0.4444444444444444, \"#bd3786\"], [0.5555555555555556, \"#d8576b\"], [0.6666666666666666, \"#ed7953\"], [0.7777777777777778, \"#fb9f3a\"], [0.8888888888888888, \"#fdca26\"], [1.0, \"#f0f921\"]], \"type\": \"heatmapgl\"}], \"histogram\": [{\"marker\": {\"colorbar\": {\"outlinewidth\": 0, \"ticks\": \"\"}}, \"type\": \"histogram\"}], \"histogram2d\": [{\"colorbar\": {\"outlinewidth\": 0, \"ticks\": \"\"}, \"colorscale\": [[0.0, \"#0d0887\"], [0.1111111111111111, \"#46039f\"], [0.2222222222222222, \"#7201a8\"], [0.3333333333333333, \"#9c179e\"], [0.4444444444444444, \"#bd3786\"], [0.5555555555555556, \"#d8576b\"], [0.6666666666666666, \"#ed7953\"], [0.7777777777777778, \"#fb9f3a\"], [0.8888888888888888, \"#fdca26\"], [1.0, \"#f0f921\"]], \"type\": \"histogram2d\"}], \"histogram2dcontour\": [{\"colorbar\": {\"outlinewidth\": 0, \"ticks\": \"\"}, \"colorscale\": [[0.0, \"#0d0887\"], [0.1111111111111111, \"#46039f\"], [0.2222222222222222, \"#7201a8\"], [0.3333333333333333, \"#9c179e\"], [0.4444444444444444, \"#bd3786\"], [0.5555555555555556, \"#d8576b\"], [0.6666666666666666, \"#ed7953\"], [0.7777777777777778, \"#fb9f3a\"], [0.8888888888888888, \"#fdca26\"], [1.0, \"#f0f921\"]], \"type\": \"histogram2dcontour\"}], \"mesh3d\": [{\"colorbar\": {\"outlinewidth\": 0, \"ticks\": \"\"}, \"type\": \"mesh3d\"}], \"parcoords\": [{\"line\": {\"colorbar\": {\"outlinewidth\": 0, \"ticks\": \"\"}}, \"type\": \"parcoords\"}], \"pie\": [{\"automargin\": true, \"type\": \"pie\"}], \"scatter\": [{\"marker\": {\"colorbar\": {\"outlinewidth\": 0, \"ticks\": \"\"}}, \"type\": \"scatter\"}], \"scatter3d\": [{\"line\": {\"colorbar\": {\"outlinewidth\": 0, \"ticks\": \"\"}}, \"marker\": {\"colorbar\": {\"outlinewidth\": 0, \"ticks\": \"\"}}, \"type\": \"scatter3d\"}], \"scattercarpet\": [{\"marker\": {\"colorbar\": {\"outlinewidth\": 0, \"ticks\": \"\"}}, \"type\": \"scattercarpet\"}], \"scattergeo\": [{\"marker\": {\"colorbar\": {\"outlinewidth\": 0, \"ticks\": \"\"}}, \"type\": \"scattergeo\"}], \"scattergl\": [{\"marker\": {\"colorbar\": {\"outlinewidth\": 0, \"ticks\": \"\"}}, \"type\": \"scattergl\"}], \"scattermapbox\": [{\"marker\": {\"colorbar\": {\"outlinewidth\": 0, \"ticks\": \"\"}}, \"type\": \"scattermapbox\"}], \"scatterpolar\": [{\"marker\": {\"colorbar\": {\"outlinewidth\": 0, \"ticks\": \"\"}}, \"type\": \"scatterpolar\"}], \"scatterpolargl\": [{\"marker\": {\"colorbar\": {\"outlinewidth\": 0, \"ticks\": \"\"}}, \"type\": \"scatterpolargl\"}], \"scatterternary\": [{\"marker\": {\"colorbar\": {\"outlinewidth\": 0, \"ticks\": \"\"}}, \"type\": \"scatterternary\"}], \"surface\": [{\"colorbar\": {\"outlinewidth\": 0, \"ticks\": \"\"}, \"colorscale\": [[0.0, \"#0d0887\"], [0.1111111111111111, \"#46039f\"], [0.2222222222222222, \"#7201a8\"], [0.3333333333333333, \"#9c179e\"], [0.4444444444444444, \"#bd3786\"], [0.5555555555555556, \"#d8576b\"], [0.6666666666666666, \"#ed7953\"], [0.7777777777777778, \"#fb9f3a\"], [0.8888888888888888, \"#fdca26\"], [1.0, \"#f0f921\"]], \"type\": \"surface\"}], \"table\": [{\"cells\": {\"fill\": {\"color\": \"#EBF0F8\"}, \"line\": {\"color\": \"white\"}}, \"header\": {\"fill\": {\"color\": \"#C8D4E3\"}, \"line\": {\"color\": \"white\"}}, \"type\": \"table\"}]}, \"layout\": {\"annotationdefaults\": {\"arrowcolor\": \"#2a3f5f\", \"arrowhead\": 0, \"arrowwidth\": 1}, \"coloraxis\": {\"colorbar\": {\"outlinewidth\": 0, \"ticks\": \"\"}}, \"colorscale\": {\"diverging\": [[0, \"#8e0152\"], [0.1, \"#c51b7d\"], [0.2, \"#de77ae\"], [0.3, \"#f1b6da\"], [0.4, \"#fde0ef\"], [0.5, \"#f7f7f7\"], [0.6, \"#e6f5d0\"], [0.7, \"#b8e186\"], [0.8, \"#7fbc41\"], [0.9, \"#4d9221\"], [1, \"#276419\"]], \"sequential\": [[0.0, \"#0d0887\"], [0.1111111111111111, \"#46039f\"], [0.2222222222222222, \"#7201a8\"], [0.3333333333333333, \"#9c179e\"], [0.4444444444444444, \"#bd3786\"], [0.5555555555555556, \"#d8576b\"], [0.6666666666666666, \"#ed7953\"], [0.7777777777777778, \"#fb9f3a\"], [0.8888888888888888, \"#fdca26\"], [1.0, \"#f0f921\"]], \"sequentialminus\": [[0.0, \"#0d0887\"], [0.1111111111111111, \"#46039f\"], [0.2222222222222222, \"#7201a8\"], [0.3333333333333333, \"#9c179e\"], [0.4444444444444444, \"#bd3786\"], [0.5555555555555556, \"#d8576b\"], [0.6666666666666666, \"#ed7953\"], [0.7777777777777778, \"#fb9f3a\"], [0.8888888888888888, \"#fdca26\"], [1.0, \"#f0f921\"]]}, \"colorway\": [\"#636efa\", \"#EF553B\", \"#00cc96\", \"#ab63fa\", \"#FFA15A\", \"#19d3f3\", \"#FF6692\", \"#B6E880\", \"#FF97FF\", \"#FECB52\"], \"font\": {\"color\": \"#2a3f5f\"}, \"geo\": {\"bgcolor\": \"white\", \"lakecolor\": \"white\", \"landcolor\": \"white\", \"showlakes\": true, \"showland\": true, \"subunitcolor\": \"#C8D4E3\"}, \"hoverlabel\": {\"align\": \"left\"}, \"hovermode\": \"closest\", \"mapbox\": {\"style\": \"light\"}, \"paper_bgcolor\": \"white\", \"plot_bgcolor\": \"white\", \"polar\": {\"angularaxis\": {\"gridcolor\": \"#EBF0F8\", \"linecolor\": \"#EBF0F8\", \"ticks\": \"\"}, \"bgcolor\": \"white\", \"radialaxis\": {\"gridcolor\": \"#EBF0F8\", \"linecolor\": \"#EBF0F8\", \"ticks\": \"\"}}, \"scene\": {\"xaxis\": {\"backgroundcolor\": \"white\", \"gridcolor\": \"#DFE8F3\", \"gridwidth\": 2, \"linecolor\": \"#EBF0F8\", \"showbackground\": true, \"ticks\": \"\", \"zerolinecolor\": \"#EBF0F8\"}, \"yaxis\": {\"backgroundcolor\": \"white\", \"gridcolor\": \"#DFE8F3\", \"gridwidth\": 2, \"linecolor\": \"#EBF0F8\", \"showbackground\": true, \"ticks\": \"\", \"zerolinecolor\": \"#EBF0F8\"}, \"zaxis\": {\"backgroundcolor\": \"white\", \"gridcolor\": \"#DFE8F3\", \"gridwidth\": 2, \"linecolor\": \"#EBF0F8\", \"showbackground\": true, \"ticks\": \"\", \"zerolinecolor\": \"#EBF0F8\"}}, \"shapedefaults\": {\"line\": {\"color\": \"#2a3f5f\"}}, \"ternary\": {\"aaxis\": {\"gridcolor\": \"#DFE8F3\", \"linecolor\": \"#A2B1C6\", \"ticks\": \"\"}, \"baxis\": {\"gridcolor\": \"#DFE8F3\", \"linecolor\": \"#A2B1C6\", \"ticks\": \"\"}, \"bgcolor\": \"white\", \"caxis\": {\"gridcolor\": \"#DFE8F3\", \"linecolor\": \"#A2B1C6\", \"ticks\": \"\"}}, \"title\": {\"x\": 0.05}, \"xaxis\": {\"automargin\": true, \"gridcolor\": \"#EBF0F8\", \"linecolor\": \"#EBF0F8\", \"ticks\": \"\", \"title\": {\"standoff\": 15}, \"zerolinecolor\": \"#EBF0F8\", \"zerolinewidth\": 2}, \"yaxis\": {\"automargin\": true, \"gridcolor\": \"#EBF0F8\", \"linecolor\": \"#EBF0F8\", \"ticks\": \"\", \"title\": {\"standoff\": 15}, \"zerolinecolor\": \"#EBF0F8\", \"zerolinewidth\": 2}}}, \"title\": {\"text\": \"\", \"x\": 0.5}, \"width\": 500, \"xaxis\": {\"linecolor\": \"Black\", \"linewidth\": 1.5, \"mirror\": true, \"range\": [10, 100], \"showline\": true, \"title\": {\"text\": \"#labeled data (%)\"}}, \"yaxis\": {\"linecolor\": \"Black\", \"linewidth\": 1.5, \"mirror\": true, \"range\": [0, 71.36452936927313], \"showline\": true, \"title\": {\"text\": \"Accuracy (%)\"}}},                        {\"responsive\": true}                    ).then(function(){\n",
       "                            \n",
       "var gd = document.getElementById('5fc33a61-876d-4ff4-87d3-fb12a5f48a88');\n",
       "var x = new MutationObserver(function (mutations, observer) {{\n",
       "        var display = window.getComputedStyle(gd).display;\n",
       "        if (!display || display === 'none') {{\n",
       "            console.log([gd, 'removed!']);\n",
       "            Plotly.purge(gd);\n",
       "            observer.disconnect();\n",
       "        }}\n",
       "}});\n",
       "\n",
       "// Listen for the removal of the full notebook cells\n",
       "var notebookContainer = gd.closest('#notebook-container');\n",
       "if (notebookContainer) {{\n",
       "    x.observe(notebookContainer, {childList: true});\n",
       "}}\n",
       "\n",
       "// Listen for the clearing of the current output cell\n",
       "var outputEl = gd.closest('.output');\n",
       "if (outputEl) {{\n",
       "    x.observe(outputEl, {childList: true});\n",
       "}}\n",
       "\n",
       "                        })                };                });            </script>        </div>"
      ]
     },
     "metadata": {},
     "output_type": "display_data"
    }
   ],
   "source": [
    "plot([spectral, spectral_perfect_diversity], \n",
    "     [\"ClusterCVXSampler\", \"ClusterCVXSampler+Diversity*\"], \n",
    "     filename=\"plots/cvx_cluster_perfect_diversity_N={}_K={}_sigma={}_alpha={}.pdf\".format(N, K, sigma, alpha), \n",
    "     opacity=0.3)"
   ]
  },
  {
   "cell_type": "code",
   "execution_count": null,
   "metadata": {},
   "outputs": [],
   "source": []
  },
  {
   "cell_type": "code",
   "execution_count": null,
   "metadata": {},
   "outputs": [],
   "source": []
  }
 ],
 "metadata": {
  "kernelspec": {
   "display_name": "Python 3",
   "language": "python",
   "name": "python3"
  },
  "language_info": {
   "codemirror_mode": {
    "name": "ipython",
    "version": 3
   },
   "file_extension": ".py",
   "mimetype": "text/x-python",
   "name": "python",
   "nbconvert_exporter": "python",
   "pygments_lexer": "ipython3",
   "version": "3.7.7"
  }
 },
 "nbformat": 4,
 "nbformat_minor": 4
}
