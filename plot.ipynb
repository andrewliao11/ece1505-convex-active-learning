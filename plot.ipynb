{
 "cells": [
  {
   "cell_type": "code",
   "execution_count": 1,
   "metadata": {},
   "outputs": [],
   "source": [
    "import json\n",
    "import numpy as np\n",
    "import plotly.graph_objects as go\n",
    "import plotly.express as px\n",
    "from glob import glob\n",
    "from pathlib import Path\n",
    "template = \"plotly_white\"\n",
    "colors = px.colors.qualitative.Vivid"
   ]
  },
  {
   "cell_type": "code",
   "execution_count": 2,
   "metadata": {},
   "outputs": [],
   "source": [
    "root_dir = Path(\"/Users/andrew/Desktop/exp\")\n",
    "def get_data(pattern, x_axis):\n",
    "    xs = []\n",
    "    ys = []\n",
    "    for p in root_dir.glob(pattern):\n",
    "        p = p / \"results.json\"\n",
    "        if p.exists():\n",
    "            data = json.load(p.open())\n",
    "            x = np.array([i[\"perc_labeled\"] * 100 for i in data])\n",
    "            y = np.array([i[\"accuracy\"] * 100 for i in data])\n",
    "            xs.append(x)\n",
    "            ys.append(y)\n",
    "        else:\n",
    "            print(\"Cannot find file\", p)\n",
    "\n",
    "    y_mean_list = []\n",
    "    y_std_list = []\n",
    "    for x_q in x_axis:\n",
    "        vs = []\n",
    "        for x, y in zip(xs, ys):\n",
    "            idx = np.where(x >= x_q)[0][0]\n",
    "            if idx >= 1:\n",
    "                v = y[idx-1] + (y[idx] - y[idx-1]) / (x[idx] - x[idx-1]) * (x_q - x[idx-1])\n",
    "            else:\n",
    "                v = y[0]\n",
    "            vs.append(v)\n",
    "        v_mean = np.mean(vs)\n",
    "        v_std = np.std(vs)\n",
    "        y_mean_list.append(v_mean)\n",
    "        y_std_list.append(v_std)\n",
    "        \n",
    "    y_mean_list = np.array(y_mean_list)\n",
    "    y_std_list = np.array(y_std_list)\n",
    "    return y_mean_list, y_std_list"
   ]
  },
  {
   "cell_type": "code",
   "execution_count": 32,
   "metadata": {},
   "outputs": [],
   "source": [
    "def plot(patterns, names, title=\"\", filename=None, opacity=0.1):\n",
    "    x_init = 10\n",
    "    x_axis = np.linspace(x_init, 100, 30)\n",
    "    y_min = []\n",
    "    y_max = []\n",
    "    fig = go.Figure()\n",
    "    for i, (pattern, name) in enumerate(zip(patterns, names)):\n",
    "\n",
    "        y_mean_list, y_std_list = get_data(pattern, x_axis)\n",
    "        y_min.append((y_mean_list-y_std_list).min())\n",
    "        y_max.append((y_mean_list+y_std_list).max())\n",
    "\n",
    "        fig.add_trace(go.Scatter(x=x_axis, \n",
    "                                 y=y_mean_list-y_std_list, \n",
    "                                 name=name, \n",
    "                                 mode=\"lines\", \n",
    "                                 line_color=colors[i], \n",
    "                                 fillcolor=colors[i].replace('rgb', 'rgba').replace(')', ', {})'.format(opacity)), \n",
    "                                 fill=None, \n",
    "                                 showlegend=False))\n",
    "        fig.add_trace(go.Scatter(x=x_axis, \n",
    "                                 y=y_mean_list+y_std_list, \n",
    "                                 name=name, \n",
    "                                 mode=\"lines\", \n",
    "                                 line_color=colors[i], \n",
    "                                 fillcolor=colors[i].replace('rgb', 'rgba').replace(')', ', {})'.format(opacity)), \n",
    "                                 fill=\"tonexty\", \n",
    "                                 showlegend=True))\n",
    "\n",
    "\n",
    "\n",
    "    fig.update_xaxes(showline=True, linewidth=1.5, linecolor='Black', mirror=True, range=[x_init, 100])\n",
    "    fig.update_yaxes(showline=True, linewidth=1.5, linecolor='Black', mirror=True, range=[max(0, min(y_min)), min(100, max(y_max)+10)])\n",
    "\n",
    "    fig.update_layout(width=500, \n",
    "                      height=400, \n",
    "                      font=dict(size=15), \n",
    "                      margin=dict(t=40, b=40, l=0, r=0),\n",
    "                      legend=dict(x=0.98,\n",
    "                                  y=0.05,\n",
    "                                  yanchor=\"bottom\",\n",
    "                                  xanchor=\"right\",\n",
    "                                  bgcolor= 'rgba(0,0,0,0)',\n",
    "                                  bordercolor=\"Black\",\n",
    "                                  borderwidth=1), \n",
    "                      title=title, \n",
    "                      title_x=0.5, \n",
    "                      xaxis_title=\"#labeled data (%)\", \n",
    "                      yaxis_title=\"Accuracy (%)\", \n",
    "                      template=template)\n",
    "    \n",
    "    if filename:\n",
    "        fig.write_image(filename)\n",
    "    fig.show()"
   ]
  },
  {
   "cell_type": "code",
   "execution_count": 129,
   "metadata": {},
   "outputs": [],
   "source": [
    "seed = \"*\"\n",
    "K = 5 # number of classes\n",
    "sigma = 5\n",
    "alpha = 2\n",
    "random = seed + \"-N_100-datatype_blob-K_{}-learner_SVMLearner-sampler_RandomSampler*\".format(K)\n",
    "optimal = seed + \"-N_100-datatype_blob-K_{}-learner_SVMLearner-sampler_OptimalSampler*\".format(K)\n",
    "argmax = seed + \"-N_100-datatype_blob-K_{}-learner_SVMLearner-sampler_CVXSampler-sigma_{}-alpha_{}-confidence_type_learner-clustering_type_none\".format(K, sigma, alpha)\n",
    "spectral = seed + \"-N_100-datatype_blob-K_{}-learner_SVMLearner-sampler_CVXSampler-sigma_{}-alpha_{}-confidence_type_learner-clustering_type_spectral\".format(K, sigma, alpha)\n",
    "argmax_perfect_onehot = seed + \"-N_100-datatype_blob-K_{}-learner_SVMLearner-sampler_CVXSampler-sigma_{}-alpha_{}-confidence_type_perfect_onehot_prob-clustering_type_none\".format(K, sigma, alpha)\n",
    "argmax_perfect_distributional = seed + \"-N_100-datatype_blob-K_{}-learner_SVMLearner-sampler_CVXSampler-sigma_{}-alpha_{}-confidence_type_perfect_distributional_prob-clustering_type_none\".format(K, sigma, alpha)\n",
    "spectral_perfect_onehot = seed + \"-N_100-datatype_blob-K_{}-learner_SVMLearner-sampler_CVXSampler-sigma_{}-alpha_{}-confidence_type_perfect_onehot_prob-clustering_type_spectral\".format(K, sigma, alpha)\n",
    "spectral_perfect_distributional = seed + \"-N_100-datatype_blob-K_{}-learner_SVMLearner-sampler_CVXSampler-sigma_{}-alpha_{}-confidence_type_perfect_distributional_prob-clustering_type_spectral\".format(K, sigma, alpha)\n",
    "argmax_perfect_diversity = seed + \"-N_100-datatype_blob-K_{}-learner_SVMLearner-sampler_CVXSampler-sigma_{}-alpha_{}-confidence_type_learner-clustering_type_none-diversity_type_optimal\".format(K, sigma, alpha)\n",
    "spectral_perfect_diversity = seed + \"-N_100-datatype_blob-K_{}-learner_SVMLearner-sampler_CVXSampler-sigma_{}-alpha_{}-confidence_type_learner-clustering_type_spectral-diversity_type_optimal\".format(K, sigma, alpha)"
   ]
  },
  {
   "cell_type": "code",
   "execution_count": 130,
   "metadata": {},
   "outputs": [
    {
     "data": {
      "application/vnd.plotly.v1+json": {
       "config": {
        "plotlyServerURL": "https://plot.ly"
       },
       "data": [
        {
         "fillcolor": "rgba(229, 134, 6, 0.3)",
         "line": {
          "color": "rgb(229, 134, 6)"
         },
         "mode": "lines",
         "name": "RandomSampler",
         "showlegend": false,
         "type": "scatter",
         "x": [
          10,
          13.10344827586207,
          16.20689655172414,
          19.310344827586206,
          22.413793103448278,
          25.517241379310345,
          28.620689655172413,
          31.724137931034484,
          34.827586206896555,
          37.93103448275862,
          41.03448275862069,
          44.13793103448276,
          47.241379310344826,
          50.3448275862069,
          53.44827586206897,
          56.55172413793103,
          59.6551724137931,
          62.758620689655174,
          65.86206896551724,
          68.9655172413793,
          72.06896551724138,
          75.17241379310344,
          78.27586206896552,
          81.37931034482759,
          84.48275862068965,
          87.58620689655173,
          90.6896551724138,
          93.79310344827586,
          96.89655172413794,
          100
         ],
         "y": [
          24.269398718640137,
          41.93792531050774,
          50.64439924847156,
          50.04361028326693,
          72.71544835052813,
          78.49062352599711,
          83.05961609623729,
          85.5283249732721,
          89.64295545758007,
          89.97467959812533,
          90.08278079304617,
          90.1500686176837,
          90.16302586520489,
          90.1014853908857,
          89.8551126904325,
          89.75623547358362,
          89.77390457586725,
          89.86867428286452,
          89.95385508932672,
          90.03117069329763,
          90.52312392578536,
          91.18767827121842,
          91.47514346476521,
          91.64655405416276,
          91.67119558430123,
          91.61369614314562,
          91.54735428471234,
          91.50350515226762,
          91.40354240223951,
          91.27251255459173
         ]
        },
        {
         "fill": "tonexty",
         "fillcolor": "rgba(229, 134, 6, 0.3)",
         "line": {
          "color": "rgb(229, 134, 6)"
         },
         "mode": "lines",
         "name": "RandomSampler",
         "showlegend": true,
         "type": "scatter",
         "x": [
          10,
          13.10344827586207,
          16.20689655172414,
          19.310344827586206,
          22.413793103448278,
          25.517241379310345,
          28.620689655172413,
          31.724137931034484,
          34.827586206896555,
          37.93103448275862,
          41.03448275862069,
          44.13793103448276,
          47.241379310344826,
          50.3448275862069,
          53.44827586206897,
          56.55172413793103,
          59.6551724137931,
          62.758620689655174,
          65.86206896551724,
          68.9655172413793,
          72.06896551724138,
          75.17241379310344,
          78.27586206896552,
          81.37931034482759,
          84.48275862068965,
          87.58620689655173,
          90.6896551724138,
          93.79310344827586,
          96.89655172413794,
          100
         ],
         "y": [
          56.8239346146932,
          61.64644250558422,
          67.70410649865488,
          83.18734757113921,
          86.3331340249508,
          95.06983624411782,
          97.70084367387763,
          100.43305433707275,
          99.50033956157704,
          99.470531129844,
          99.62511192726035,
          99.6819620336573,
          99.829924326366,
          99.87062188880779,
          99.79791412949085,
          99.87227027354282,
          99.92969695669981,
          99.9360766749899,
          99.91035947006024,
          99.88821627988246,
          99.86430902440621,
          99.82473552188502,
          99.84317071148001,
          99.90808196116289,
          99.99531782566048,
          99.94247243922986,
          99.89203268846772,
          99.83902358336456,
          99.81975261691758,
          99.88304300096384
         ]
        },
        {
         "fillcolor": "rgba(93, 105, 177, 0.3)",
         "line": {
          "color": "rgb(93, 105, 177)"
         },
         "mode": "lines",
         "name": "GreedyCVXSampler",
         "showlegend": false,
         "type": "scatter",
         "x": [
          10,
          13.10344827586207,
          16.20689655172414,
          19.310344827586206,
          22.413793103448278,
          25.517241379310345,
          28.620689655172413,
          31.724137931034484,
          34.827586206896555,
          37.93103448275862,
          41.03448275862069,
          44.13793103448276,
          47.241379310344826,
          50.3448275862069,
          53.44827586206897,
          56.55172413793103,
          59.6551724137931,
          62.758620689655174,
          65.86206896551724,
          68.9655172413793,
          72.06896551724138,
          75.17241379310344,
          78.27586206896552,
          81.37931034482759,
          84.48275862068965,
          87.58620689655173,
          90.6896551724138,
          93.79310344827586,
          96.89655172413794,
          100
         ],
         "y": [
          24.26677755070166,
          46.83702296447633,
          64.1239278690449,
          79.12380084231482,
          81.85990125956364,
          84.3134758099823,
          82.2955837955618,
          88.42605295752001,
          87.86706137404826,
          81.49465847758243,
          81.4428838715694,
          82.20171930416804,
          83.4466141652482,
          86.83231590916833,
          91.22224493257544,
          91.25217629866563,
          91.20046462867191,
          91.2331913558951,
          91.2381992073454,
          90.71277671335194,
          91.36928743182322,
          91.38932185152817,
          91.36259624660201,
          91.27731355503106,
          91.36439108982893,
          91.21082183722142,
          91.44727341504161,
          91.29405983786411,
          91.30786110552283,
          91.27251255459173
         ]
        },
        {
         "fill": "tonexty",
         "fillcolor": "rgba(93, 105, 177, 0.3)",
         "line": {
          "color": "rgb(93, 105, 177)"
         },
         "mode": "lines",
         "name": "GreedyCVXSampler",
         "showlegend": true,
         "type": "scatter",
         "x": [
          10,
          13.10344827586207,
          16.20689655172414,
          19.310344827586206,
          22.413793103448278,
          25.517241379310345,
          28.620689655172413,
          31.724137931034484,
          34.827586206896555,
          37.93103448275862,
          41.03448275862069,
          44.13793103448276,
          47.241379310344826,
          50.3448275862069,
          53.44827586206897,
          56.55172413793103,
          59.6551724137931,
          62.758620689655174,
          65.86206896551724,
          68.9655172413793,
          72.06896551724138,
          75.17241379310344,
          78.27586206896552,
          81.37931034482759,
          84.48275862068965,
          87.58620689655173,
          90.6896551724138,
          93.79310344827586,
          96.89655172413794,
          100
         ],
         "y": [
          56.83322244929833,
          64.93883910448918,
          87.33507596237274,
          93.67300630966473,
          96.00536055397403,
          96.40529813637787,
          99.58691939728622,
          98.03576058015558,
          97.77431793629654,
          100.34825339981221,
          100.37295265461195,
          99.82599461664931,
          98.88365403398552,
          101.08032776899259,
          99.58005391799928,
          99.68958615344164,
          99.64755580555544,
          99.56272179863875,
          99.64379312981931,
          100.00957322279108,
          99.8184520317783,
          99.76521199266085,
          99.92246122466236,
          99.89842080001365,
          99.84786944656952,
          99.89492528921535,
          99.86077256196988,
          99.88754935753819,
          99.90286686382582,
          99.88304300096384
         ]
        },
        {
         "fillcolor": "rgba(82, 188, 163, 0.3)",
         "line": {
          "color": "rgb(82, 188, 163)"
         },
         "mode": "lines",
         "name": "ClusterCVXSampler",
         "showlegend": false,
         "type": "scatter",
         "x": [
          10,
          13.10344827586207,
          16.20689655172414,
          19.310344827586206,
          22.413793103448278,
          25.517241379310345,
          28.620689655172413,
          31.724137931034484,
          34.827586206896555,
          37.93103448275862,
          41.03448275862069,
          44.13793103448276,
          47.241379310344826,
          50.3448275862069,
          53.44827586206897,
          56.55172413793103,
          59.6551724137931,
          62.758620689655174,
          65.86206896551724,
          68.9655172413793,
          72.06896551724138,
          75.17241379310344,
          78.27586206896552,
          81.37931034482759,
          84.48275862068965,
          87.58620689655173,
          90.6896551724138,
          93.79310344827586,
          96.89655172413794,
          100
         ],
         "y": [
          23.017230925518753,
          42.274889718303044,
          63.18087785614271,
          77.08526804846176,
          81.95711020945703,
          81.12151196105788,
          82.95017423698548,
          87.84988122504681,
          90.91724079124711,
          90.03545459385309,
          90.05738064234674,
          90.40379575732352,
          91.20270856714149,
          91.28287455808683,
          91.36769841433559,
          91.53427348483214,
          91.43442584787107,
          91.4175429665839,
          91.46862205736197,
          91.38926836881605,
          91.34223589142758,
          91.3468760474733,
          91.3334396418831,
          91.31268452771474,
          91.29300012743431,
          91.34922631529412,
          91.4789179988179,
          91.36224215691026,
          91.26196031648291,
          91.27251255459173
         ]
        },
        {
         "fill": "tonexty",
         "fillcolor": "rgba(82, 188, 163, 0.3)",
         "line": {
          "color": "rgb(82, 188, 163)"
         },
         "mode": "lines",
         "name": "ClusterCVXSampler",
         "showlegend": true,
         "type": "scatter",
         "x": [
          10,
          13.10344827586207,
          16.20689655172414,
          19.310344827586206,
          22.413793103448278,
          25.517241379310345,
          28.620689655172413,
          31.724137931034484,
          34.827586206896555,
          37.93103448275862,
          41.03448275862069,
          44.13793103448276,
          47.241379310344826,
          50.3448275862069,
          53.44827586206897,
          56.55172413793103,
          59.6551724137931,
          62.758620689655174,
          65.86206896551724,
          68.9655172413793,
          72.06896551724138,
          75.17241379310344,
          78.27586206896552,
          81.37931034482759,
          84.48275862068965,
          87.58620689655173,
          90.6896551724138,
          93.79310344827586,
          96.89655172413794,
          100
         ],
         "y": [
          55.678324630036805,
          60.54579993686937,
          83.29268536224811,
          93.18683923123174,
          93.55668289399125,
          94.01680221518731,
          96.99894453696092,
          98.33295402399536,
          99.78406189074522,
          99.91082893105114,
          99.99327069864938,
          100.00693221202515,
          99.82847917232212,
          99.78202965647253,
          99.82640120252265,
          99.62656942704527,
          99.54169164893608,
          99.53142255065747,
          99.60969211888325,
          99.66835615225675,
          99.78803230780613,
          99.84392855022787,
          99.8058707029445,
          99.75735378646152,
          99.8046243936385,
          99.79529475750283,
          99.75449196286792,
          99.90702987374108,
          99.99704351493469,
          99.88304300096384
         ]
        }
       ],
       "layout": {
        "font": {
         "size": 15
        },
        "height": 400,
        "legend": {
         "bgcolor": "rgba(0,0,0,0)",
         "bordercolor": "Black",
         "borderwidth": 1,
         "x": 0.98,
         "xanchor": "right",
         "y": 0.05,
         "yanchor": "bottom"
        },
        "margin": {
         "b": 40,
         "l": 0,
         "r": 0,
         "t": 40
        },
        "template": {
         "data": {
          "bar": [
           {
            "error_x": {
             "color": "#2a3f5f"
            },
            "error_y": {
             "color": "#2a3f5f"
            },
            "marker": {
             "line": {
              "color": "white",
              "width": 0.5
             }
            },
            "type": "bar"
           }
          ],
          "barpolar": [
           {
            "marker": {
             "line": {
              "color": "white",
              "width": 0.5
             }
            },
            "type": "barpolar"
           }
          ],
          "carpet": [
           {
            "aaxis": {
             "endlinecolor": "#2a3f5f",
             "gridcolor": "#C8D4E3",
             "linecolor": "#C8D4E3",
             "minorgridcolor": "#C8D4E3",
             "startlinecolor": "#2a3f5f"
            },
            "baxis": {
             "endlinecolor": "#2a3f5f",
             "gridcolor": "#C8D4E3",
             "linecolor": "#C8D4E3",
             "minorgridcolor": "#C8D4E3",
             "startlinecolor": "#2a3f5f"
            },
            "type": "carpet"
           }
          ],
          "choropleth": [
           {
            "colorbar": {
             "outlinewidth": 0,
             "ticks": ""
            },
            "type": "choropleth"
           }
          ],
          "contour": [
           {
            "colorbar": {
             "outlinewidth": 0,
             "ticks": ""
            },
            "colorscale": [
             [
              0,
              "#0d0887"
             ],
             [
              0.1111111111111111,
              "#46039f"
             ],
             [
              0.2222222222222222,
              "#7201a8"
             ],
             [
              0.3333333333333333,
              "#9c179e"
             ],
             [
              0.4444444444444444,
              "#bd3786"
             ],
             [
              0.5555555555555556,
              "#d8576b"
             ],
             [
              0.6666666666666666,
              "#ed7953"
             ],
             [
              0.7777777777777778,
              "#fb9f3a"
             ],
             [
              0.8888888888888888,
              "#fdca26"
             ],
             [
              1,
              "#f0f921"
             ]
            ],
            "type": "contour"
           }
          ],
          "contourcarpet": [
           {
            "colorbar": {
             "outlinewidth": 0,
             "ticks": ""
            },
            "type": "contourcarpet"
           }
          ],
          "heatmap": [
           {
            "colorbar": {
             "outlinewidth": 0,
             "ticks": ""
            },
            "colorscale": [
             [
              0,
              "#0d0887"
             ],
             [
              0.1111111111111111,
              "#46039f"
             ],
             [
              0.2222222222222222,
              "#7201a8"
             ],
             [
              0.3333333333333333,
              "#9c179e"
             ],
             [
              0.4444444444444444,
              "#bd3786"
             ],
             [
              0.5555555555555556,
              "#d8576b"
             ],
             [
              0.6666666666666666,
              "#ed7953"
             ],
             [
              0.7777777777777778,
              "#fb9f3a"
             ],
             [
              0.8888888888888888,
              "#fdca26"
             ],
             [
              1,
              "#f0f921"
             ]
            ],
            "type": "heatmap"
           }
          ],
          "heatmapgl": [
           {
            "colorbar": {
             "outlinewidth": 0,
             "ticks": ""
            },
            "colorscale": [
             [
              0,
              "#0d0887"
             ],
             [
              0.1111111111111111,
              "#46039f"
             ],
             [
              0.2222222222222222,
              "#7201a8"
             ],
             [
              0.3333333333333333,
              "#9c179e"
             ],
             [
              0.4444444444444444,
              "#bd3786"
             ],
             [
              0.5555555555555556,
              "#d8576b"
             ],
             [
              0.6666666666666666,
              "#ed7953"
             ],
             [
              0.7777777777777778,
              "#fb9f3a"
             ],
             [
              0.8888888888888888,
              "#fdca26"
             ],
             [
              1,
              "#f0f921"
             ]
            ],
            "type": "heatmapgl"
           }
          ],
          "histogram": [
           {
            "marker": {
             "colorbar": {
              "outlinewidth": 0,
              "ticks": ""
             }
            },
            "type": "histogram"
           }
          ],
          "histogram2d": [
           {
            "colorbar": {
             "outlinewidth": 0,
             "ticks": ""
            },
            "colorscale": [
             [
              0,
              "#0d0887"
             ],
             [
              0.1111111111111111,
              "#46039f"
             ],
             [
              0.2222222222222222,
              "#7201a8"
             ],
             [
              0.3333333333333333,
              "#9c179e"
             ],
             [
              0.4444444444444444,
              "#bd3786"
             ],
             [
              0.5555555555555556,
              "#d8576b"
             ],
             [
              0.6666666666666666,
              "#ed7953"
             ],
             [
              0.7777777777777778,
              "#fb9f3a"
             ],
             [
              0.8888888888888888,
              "#fdca26"
             ],
             [
              1,
              "#f0f921"
             ]
            ],
            "type": "histogram2d"
           }
          ],
          "histogram2dcontour": [
           {
            "colorbar": {
             "outlinewidth": 0,
             "ticks": ""
            },
            "colorscale": [
             [
              0,
              "#0d0887"
             ],
             [
              0.1111111111111111,
              "#46039f"
             ],
             [
              0.2222222222222222,
              "#7201a8"
             ],
             [
              0.3333333333333333,
              "#9c179e"
             ],
             [
              0.4444444444444444,
              "#bd3786"
             ],
             [
              0.5555555555555556,
              "#d8576b"
             ],
             [
              0.6666666666666666,
              "#ed7953"
             ],
             [
              0.7777777777777778,
              "#fb9f3a"
             ],
             [
              0.8888888888888888,
              "#fdca26"
             ],
             [
              1,
              "#f0f921"
             ]
            ],
            "type": "histogram2dcontour"
           }
          ],
          "mesh3d": [
           {
            "colorbar": {
             "outlinewidth": 0,
             "ticks": ""
            },
            "type": "mesh3d"
           }
          ],
          "parcoords": [
           {
            "line": {
             "colorbar": {
              "outlinewidth": 0,
              "ticks": ""
             }
            },
            "type": "parcoords"
           }
          ],
          "pie": [
           {
            "automargin": true,
            "type": "pie"
           }
          ],
          "scatter": [
           {
            "marker": {
             "colorbar": {
              "outlinewidth": 0,
              "ticks": ""
             }
            },
            "type": "scatter"
           }
          ],
          "scatter3d": [
           {
            "line": {
             "colorbar": {
              "outlinewidth": 0,
              "ticks": ""
             }
            },
            "marker": {
             "colorbar": {
              "outlinewidth": 0,
              "ticks": ""
             }
            },
            "type": "scatter3d"
           }
          ],
          "scattercarpet": [
           {
            "marker": {
             "colorbar": {
              "outlinewidth": 0,
              "ticks": ""
             }
            },
            "type": "scattercarpet"
           }
          ],
          "scattergeo": [
           {
            "marker": {
             "colorbar": {
              "outlinewidth": 0,
              "ticks": ""
             }
            },
            "type": "scattergeo"
           }
          ],
          "scattergl": [
           {
            "marker": {
             "colorbar": {
              "outlinewidth": 0,
              "ticks": ""
             }
            },
            "type": "scattergl"
           }
          ],
          "scattermapbox": [
           {
            "marker": {
             "colorbar": {
              "outlinewidth": 0,
              "ticks": ""
             }
            },
            "type": "scattermapbox"
           }
          ],
          "scatterpolar": [
           {
            "marker": {
             "colorbar": {
              "outlinewidth": 0,
              "ticks": ""
             }
            },
            "type": "scatterpolar"
           }
          ],
          "scatterpolargl": [
           {
            "marker": {
             "colorbar": {
              "outlinewidth": 0,
              "ticks": ""
             }
            },
            "type": "scatterpolargl"
           }
          ],
          "scatterternary": [
           {
            "marker": {
             "colorbar": {
              "outlinewidth": 0,
              "ticks": ""
             }
            },
            "type": "scatterternary"
           }
          ],
          "surface": [
           {
            "colorbar": {
             "outlinewidth": 0,
             "ticks": ""
            },
            "colorscale": [
             [
              0,
              "#0d0887"
             ],
             [
              0.1111111111111111,
              "#46039f"
             ],
             [
              0.2222222222222222,
              "#7201a8"
             ],
             [
              0.3333333333333333,
              "#9c179e"
             ],
             [
              0.4444444444444444,
              "#bd3786"
             ],
             [
              0.5555555555555556,
              "#d8576b"
             ],
             [
              0.6666666666666666,
              "#ed7953"
             ],
             [
              0.7777777777777778,
              "#fb9f3a"
             ],
             [
              0.8888888888888888,
              "#fdca26"
             ],
             [
              1,
              "#f0f921"
             ]
            ],
            "type": "surface"
           }
          ],
          "table": [
           {
            "cells": {
             "fill": {
              "color": "#EBF0F8"
             },
             "line": {
              "color": "white"
             }
            },
            "header": {
             "fill": {
              "color": "#C8D4E3"
             },
             "line": {
              "color": "white"
             }
            },
            "type": "table"
           }
          ]
         },
         "layout": {
          "annotationdefaults": {
           "arrowcolor": "#2a3f5f",
           "arrowhead": 0,
           "arrowwidth": 1
          },
          "coloraxis": {
           "colorbar": {
            "outlinewidth": 0,
            "ticks": ""
           }
          },
          "colorscale": {
           "diverging": [
            [
             0,
             "#8e0152"
            ],
            [
             0.1,
             "#c51b7d"
            ],
            [
             0.2,
             "#de77ae"
            ],
            [
             0.3,
             "#f1b6da"
            ],
            [
             0.4,
             "#fde0ef"
            ],
            [
             0.5,
             "#f7f7f7"
            ],
            [
             0.6,
             "#e6f5d0"
            ],
            [
             0.7,
             "#b8e186"
            ],
            [
             0.8,
             "#7fbc41"
            ],
            [
             0.9,
             "#4d9221"
            ],
            [
             1,
             "#276419"
            ]
           ],
           "sequential": [
            [
             0,
             "#0d0887"
            ],
            [
             0.1111111111111111,
             "#46039f"
            ],
            [
             0.2222222222222222,
             "#7201a8"
            ],
            [
             0.3333333333333333,
             "#9c179e"
            ],
            [
             0.4444444444444444,
             "#bd3786"
            ],
            [
             0.5555555555555556,
             "#d8576b"
            ],
            [
             0.6666666666666666,
             "#ed7953"
            ],
            [
             0.7777777777777778,
             "#fb9f3a"
            ],
            [
             0.8888888888888888,
             "#fdca26"
            ],
            [
             1,
             "#f0f921"
            ]
           ],
           "sequentialminus": [
            [
             0,
             "#0d0887"
            ],
            [
             0.1111111111111111,
             "#46039f"
            ],
            [
             0.2222222222222222,
             "#7201a8"
            ],
            [
             0.3333333333333333,
             "#9c179e"
            ],
            [
             0.4444444444444444,
             "#bd3786"
            ],
            [
             0.5555555555555556,
             "#d8576b"
            ],
            [
             0.6666666666666666,
             "#ed7953"
            ],
            [
             0.7777777777777778,
             "#fb9f3a"
            ],
            [
             0.8888888888888888,
             "#fdca26"
            ],
            [
             1,
             "#f0f921"
            ]
           ]
          },
          "colorway": [
           "#636efa",
           "#EF553B",
           "#00cc96",
           "#ab63fa",
           "#FFA15A",
           "#19d3f3",
           "#FF6692",
           "#B6E880",
           "#FF97FF",
           "#FECB52"
          ],
          "font": {
           "color": "#2a3f5f"
          },
          "geo": {
           "bgcolor": "white",
           "lakecolor": "white",
           "landcolor": "white",
           "showlakes": true,
           "showland": true,
           "subunitcolor": "#C8D4E3"
          },
          "hoverlabel": {
           "align": "left"
          },
          "hovermode": "closest",
          "mapbox": {
           "style": "light"
          },
          "paper_bgcolor": "white",
          "plot_bgcolor": "white",
          "polar": {
           "angularaxis": {
            "gridcolor": "#EBF0F8",
            "linecolor": "#EBF0F8",
            "ticks": ""
           },
           "bgcolor": "white",
           "radialaxis": {
            "gridcolor": "#EBF0F8",
            "linecolor": "#EBF0F8",
            "ticks": ""
           }
          },
          "scene": {
           "xaxis": {
            "backgroundcolor": "white",
            "gridcolor": "#DFE8F3",
            "gridwidth": 2,
            "linecolor": "#EBF0F8",
            "showbackground": true,
            "ticks": "",
            "zerolinecolor": "#EBF0F8"
           },
           "yaxis": {
            "backgroundcolor": "white",
            "gridcolor": "#DFE8F3",
            "gridwidth": 2,
            "linecolor": "#EBF0F8",
            "showbackground": true,
            "ticks": "",
            "zerolinecolor": "#EBF0F8"
           },
           "zaxis": {
            "backgroundcolor": "white",
            "gridcolor": "#DFE8F3",
            "gridwidth": 2,
            "linecolor": "#EBF0F8",
            "showbackground": true,
            "ticks": "",
            "zerolinecolor": "#EBF0F8"
           }
          },
          "shapedefaults": {
           "line": {
            "color": "#2a3f5f"
           }
          },
          "ternary": {
           "aaxis": {
            "gridcolor": "#DFE8F3",
            "linecolor": "#A2B1C6",
            "ticks": ""
           },
           "baxis": {
            "gridcolor": "#DFE8F3",
            "linecolor": "#A2B1C6",
            "ticks": ""
           },
           "bgcolor": "white",
           "caxis": {
            "gridcolor": "#DFE8F3",
            "linecolor": "#A2B1C6",
            "ticks": ""
           }
          },
          "title": {
           "x": 0.05
          },
          "xaxis": {
           "automargin": true,
           "gridcolor": "#EBF0F8",
           "linecolor": "#EBF0F8",
           "ticks": "",
           "title": {
            "standoff": 15
           },
           "zerolinecolor": "#EBF0F8",
           "zerolinewidth": 2
          },
          "yaxis": {
           "automargin": true,
           "gridcolor": "#EBF0F8",
           "linecolor": "#EBF0F8",
           "ticks": "",
           "title": {
            "standoff": 15
           },
           "zerolinecolor": "#EBF0F8",
           "zerolinewidth": 2
          }
         }
        },
        "title": {
         "text": "",
         "x": 0.5
        },
        "width": 500,
        "xaxis": {
         "linecolor": "Black",
         "linewidth": 0.5,
         "mirror": true,
         "range": [
          10,
          100
         ],
         "showline": true,
         "title": {
          "text": "#labeled data (%)"
         }
        },
        "yaxis": {
         "linecolor": "Black",
         "linewidth": 0.5,
         "mirror": true,
         "range": [
          23.017230925518753,
          100
         ],
         "showline": true,
         "title": {
          "text": "Accuracy (%)"
         }
        }
       }
      },
      "text/html": [
       "<div>                            <div id=\"7853d3eb-c685-404e-9147-74a3b7ae0686\" class=\"plotly-graph-div\" style=\"height:400px; width:500px;\"></div>            <script type=\"text/javascript\">                require([\"plotly\"], function(Plotly) {                    window.PLOTLYENV=window.PLOTLYENV || {};                                    if (document.getElementById(\"7853d3eb-c685-404e-9147-74a3b7ae0686\")) {                    Plotly.newPlot(                        \"7853d3eb-c685-404e-9147-74a3b7ae0686\",                        [{\"fillcolor\": \"rgba(229, 134, 6, 0.3)\", \"line\": {\"color\": \"rgb(229, 134, 6)\"}, \"mode\": \"lines\", \"name\": \"RandomSampler\", \"showlegend\": false, \"type\": \"scatter\", \"x\": [10.0, 13.10344827586207, 16.20689655172414, 19.310344827586206, 22.413793103448278, 25.517241379310345, 28.620689655172413, 31.724137931034484, 34.827586206896555, 37.93103448275862, 41.03448275862069, 44.13793103448276, 47.241379310344826, 50.3448275862069, 53.44827586206897, 56.55172413793103, 59.6551724137931, 62.758620689655174, 65.86206896551724, 68.9655172413793, 72.06896551724138, 75.17241379310344, 78.27586206896552, 81.37931034482759, 84.48275862068965, 87.58620689655173, 90.6896551724138, 93.79310344827586, 96.89655172413794, 100.0], \"y\": [24.269398718640137, 41.93792531050774, 50.64439924847156, 50.04361028326693, 72.71544835052813, 78.49062352599711, 83.05961609623729, 85.5283249732721, 89.64295545758007, 89.97467959812533, 90.08278079304617, 90.1500686176837, 90.16302586520489, 90.1014853908857, 89.8551126904325, 89.75623547358362, 89.77390457586725, 89.86867428286452, 89.95385508932672, 90.03117069329763, 90.52312392578536, 91.18767827121842, 91.47514346476521, 91.64655405416276, 91.67119558430123, 91.61369614314562, 91.54735428471234, 91.50350515226762, 91.40354240223951, 91.27251255459173]}, {\"fill\": \"tonexty\", \"fillcolor\": \"rgba(229, 134, 6, 0.3)\", \"line\": {\"color\": \"rgb(229, 134, 6)\"}, \"mode\": \"lines\", \"name\": \"RandomSampler\", \"showlegend\": true, \"type\": \"scatter\", \"x\": [10.0, 13.10344827586207, 16.20689655172414, 19.310344827586206, 22.413793103448278, 25.517241379310345, 28.620689655172413, 31.724137931034484, 34.827586206896555, 37.93103448275862, 41.03448275862069, 44.13793103448276, 47.241379310344826, 50.3448275862069, 53.44827586206897, 56.55172413793103, 59.6551724137931, 62.758620689655174, 65.86206896551724, 68.9655172413793, 72.06896551724138, 75.17241379310344, 78.27586206896552, 81.37931034482759, 84.48275862068965, 87.58620689655173, 90.6896551724138, 93.79310344827586, 96.89655172413794, 100.0], \"y\": [56.8239346146932, 61.64644250558422, 67.70410649865488, 83.18734757113921, 86.3331340249508, 95.06983624411782, 97.70084367387763, 100.43305433707275, 99.50033956157704, 99.470531129844, 99.62511192726035, 99.6819620336573, 99.829924326366, 99.87062188880779, 99.79791412949085, 99.87227027354282, 99.92969695669981, 99.9360766749899, 99.91035947006024, 99.88821627988246, 99.86430902440621, 99.82473552188502, 99.84317071148001, 99.90808196116289, 99.99531782566048, 99.94247243922986, 99.89203268846772, 99.83902358336456, 99.81975261691758, 99.88304300096384]}, {\"fillcolor\": \"rgba(93, 105, 177, 0.3)\", \"line\": {\"color\": \"rgb(93, 105, 177)\"}, \"mode\": \"lines\", \"name\": \"GreedyCVXSampler\", \"showlegend\": false, \"type\": \"scatter\", \"x\": [10.0, 13.10344827586207, 16.20689655172414, 19.310344827586206, 22.413793103448278, 25.517241379310345, 28.620689655172413, 31.724137931034484, 34.827586206896555, 37.93103448275862, 41.03448275862069, 44.13793103448276, 47.241379310344826, 50.3448275862069, 53.44827586206897, 56.55172413793103, 59.6551724137931, 62.758620689655174, 65.86206896551724, 68.9655172413793, 72.06896551724138, 75.17241379310344, 78.27586206896552, 81.37931034482759, 84.48275862068965, 87.58620689655173, 90.6896551724138, 93.79310344827586, 96.89655172413794, 100.0], \"y\": [24.26677755070166, 46.83702296447633, 64.1239278690449, 79.12380084231482, 81.85990125956364, 84.3134758099823, 82.2955837955618, 88.42605295752001, 87.86706137404826, 81.49465847758243, 81.4428838715694, 82.20171930416804, 83.4466141652482, 86.83231590916833, 91.22224493257544, 91.25217629866563, 91.20046462867191, 91.2331913558951, 91.2381992073454, 90.71277671335194, 91.36928743182322, 91.38932185152817, 91.36259624660201, 91.27731355503106, 91.36439108982893, 91.21082183722142, 91.44727341504161, 91.29405983786411, 91.30786110552283, 91.27251255459173]}, {\"fill\": \"tonexty\", \"fillcolor\": \"rgba(93, 105, 177, 0.3)\", \"line\": {\"color\": \"rgb(93, 105, 177)\"}, \"mode\": \"lines\", \"name\": \"GreedyCVXSampler\", \"showlegend\": true, \"type\": \"scatter\", \"x\": [10.0, 13.10344827586207, 16.20689655172414, 19.310344827586206, 22.413793103448278, 25.517241379310345, 28.620689655172413, 31.724137931034484, 34.827586206896555, 37.93103448275862, 41.03448275862069, 44.13793103448276, 47.241379310344826, 50.3448275862069, 53.44827586206897, 56.55172413793103, 59.6551724137931, 62.758620689655174, 65.86206896551724, 68.9655172413793, 72.06896551724138, 75.17241379310344, 78.27586206896552, 81.37931034482759, 84.48275862068965, 87.58620689655173, 90.6896551724138, 93.79310344827586, 96.89655172413794, 100.0], \"y\": [56.83322244929833, 64.93883910448918, 87.33507596237274, 93.67300630966473, 96.00536055397403, 96.40529813637787, 99.58691939728622, 98.03576058015558, 97.77431793629654, 100.34825339981221, 100.37295265461195, 99.82599461664931, 98.88365403398552, 101.08032776899259, 99.58005391799928, 99.68958615344164, 99.64755580555544, 99.56272179863875, 99.64379312981931, 100.00957322279108, 99.8184520317783, 99.76521199266085, 99.92246122466236, 99.89842080001365, 99.84786944656952, 99.89492528921535, 99.86077256196988, 99.88754935753819, 99.90286686382582, 99.88304300096384]}, {\"fillcolor\": \"rgba(82, 188, 163, 0.3)\", \"line\": {\"color\": \"rgb(82, 188, 163)\"}, \"mode\": \"lines\", \"name\": \"ClusterCVXSampler\", \"showlegend\": false, \"type\": \"scatter\", \"x\": [10.0, 13.10344827586207, 16.20689655172414, 19.310344827586206, 22.413793103448278, 25.517241379310345, 28.620689655172413, 31.724137931034484, 34.827586206896555, 37.93103448275862, 41.03448275862069, 44.13793103448276, 47.241379310344826, 50.3448275862069, 53.44827586206897, 56.55172413793103, 59.6551724137931, 62.758620689655174, 65.86206896551724, 68.9655172413793, 72.06896551724138, 75.17241379310344, 78.27586206896552, 81.37931034482759, 84.48275862068965, 87.58620689655173, 90.6896551724138, 93.79310344827586, 96.89655172413794, 100.0], \"y\": [23.017230925518753, 42.274889718303044, 63.18087785614271, 77.08526804846176, 81.95711020945703, 81.12151196105788, 82.95017423698548, 87.84988122504681, 90.91724079124711, 90.03545459385309, 90.05738064234674, 90.40379575732352, 91.20270856714149, 91.28287455808683, 91.36769841433559, 91.53427348483214, 91.43442584787107, 91.4175429665839, 91.46862205736197, 91.38926836881605, 91.34223589142758, 91.3468760474733, 91.3334396418831, 91.31268452771474, 91.29300012743431, 91.34922631529412, 91.4789179988179, 91.36224215691026, 91.26196031648291, 91.27251255459173]}, {\"fill\": \"tonexty\", \"fillcolor\": \"rgba(82, 188, 163, 0.3)\", \"line\": {\"color\": \"rgb(82, 188, 163)\"}, \"mode\": \"lines\", \"name\": \"ClusterCVXSampler\", \"showlegend\": true, \"type\": \"scatter\", \"x\": [10.0, 13.10344827586207, 16.20689655172414, 19.310344827586206, 22.413793103448278, 25.517241379310345, 28.620689655172413, 31.724137931034484, 34.827586206896555, 37.93103448275862, 41.03448275862069, 44.13793103448276, 47.241379310344826, 50.3448275862069, 53.44827586206897, 56.55172413793103, 59.6551724137931, 62.758620689655174, 65.86206896551724, 68.9655172413793, 72.06896551724138, 75.17241379310344, 78.27586206896552, 81.37931034482759, 84.48275862068965, 87.58620689655173, 90.6896551724138, 93.79310344827586, 96.89655172413794, 100.0], \"y\": [55.678324630036805, 60.54579993686937, 83.29268536224811, 93.18683923123174, 93.55668289399125, 94.01680221518731, 96.99894453696092, 98.33295402399536, 99.78406189074522, 99.91082893105114, 99.99327069864938, 100.00693221202515, 99.82847917232212, 99.78202965647253, 99.82640120252265, 99.62656942704527, 99.54169164893608, 99.53142255065747, 99.60969211888325, 99.66835615225675, 99.78803230780613, 99.84392855022787, 99.8058707029445, 99.75735378646152, 99.8046243936385, 99.79529475750283, 99.75449196286792, 99.90702987374108, 99.99704351493469, 99.88304300096384]}],                        {\"font\": {\"size\": 15}, \"height\": 400, \"legend\": {\"bgcolor\": \"rgba(0,0,0,0)\", \"bordercolor\": \"Black\", \"borderwidth\": 1, \"x\": 0.98, \"xanchor\": \"right\", \"y\": 0.05, \"yanchor\": \"bottom\"}, \"margin\": {\"b\": 40, \"l\": 0, \"r\": 0, \"t\": 40}, \"template\": {\"data\": {\"bar\": [{\"error_x\": {\"color\": \"#2a3f5f\"}, \"error_y\": {\"color\": \"#2a3f5f\"}, \"marker\": {\"line\": {\"color\": \"white\", \"width\": 0.5}}, \"type\": \"bar\"}], \"barpolar\": [{\"marker\": {\"line\": {\"color\": \"white\", \"width\": 0.5}}, \"type\": \"barpolar\"}], \"carpet\": [{\"aaxis\": {\"endlinecolor\": \"#2a3f5f\", \"gridcolor\": \"#C8D4E3\", \"linecolor\": \"#C8D4E3\", \"minorgridcolor\": \"#C8D4E3\", \"startlinecolor\": \"#2a3f5f\"}, \"baxis\": {\"endlinecolor\": \"#2a3f5f\", \"gridcolor\": \"#C8D4E3\", \"linecolor\": \"#C8D4E3\", \"minorgridcolor\": \"#C8D4E3\", \"startlinecolor\": \"#2a3f5f\"}, \"type\": \"carpet\"}], \"choropleth\": [{\"colorbar\": {\"outlinewidth\": 0, \"ticks\": \"\"}, \"type\": \"choropleth\"}], \"contour\": [{\"colorbar\": {\"outlinewidth\": 0, \"ticks\": \"\"}, \"colorscale\": [[0.0, \"#0d0887\"], [0.1111111111111111, \"#46039f\"], [0.2222222222222222, \"#7201a8\"], [0.3333333333333333, \"#9c179e\"], [0.4444444444444444, \"#bd3786\"], [0.5555555555555556, \"#d8576b\"], [0.6666666666666666, \"#ed7953\"], [0.7777777777777778, \"#fb9f3a\"], [0.8888888888888888, \"#fdca26\"], [1.0, \"#f0f921\"]], \"type\": \"contour\"}], \"contourcarpet\": [{\"colorbar\": {\"outlinewidth\": 0, \"ticks\": \"\"}, \"type\": \"contourcarpet\"}], \"heatmap\": [{\"colorbar\": {\"outlinewidth\": 0, \"ticks\": \"\"}, \"colorscale\": [[0.0, \"#0d0887\"], [0.1111111111111111, \"#46039f\"], [0.2222222222222222, \"#7201a8\"], [0.3333333333333333, \"#9c179e\"], [0.4444444444444444, \"#bd3786\"], [0.5555555555555556, \"#d8576b\"], [0.6666666666666666, \"#ed7953\"], [0.7777777777777778, \"#fb9f3a\"], [0.8888888888888888, \"#fdca26\"], [1.0, \"#f0f921\"]], \"type\": \"heatmap\"}], \"heatmapgl\": [{\"colorbar\": {\"outlinewidth\": 0, \"ticks\": \"\"}, \"colorscale\": [[0.0, \"#0d0887\"], [0.1111111111111111, \"#46039f\"], [0.2222222222222222, \"#7201a8\"], [0.3333333333333333, \"#9c179e\"], [0.4444444444444444, \"#bd3786\"], [0.5555555555555556, \"#d8576b\"], [0.6666666666666666, \"#ed7953\"], [0.7777777777777778, \"#fb9f3a\"], [0.8888888888888888, \"#fdca26\"], [1.0, \"#f0f921\"]], \"type\": \"heatmapgl\"}], \"histogram\": [{\"marker\": {\"colorbar\": {\"outlinewidth\": 0, \"ticks\": \"\"}}, \"type\": \"histogram\"}], \"histogram2d\": [{\"colorbar\": {\"outlinewidth\": 0, \"ticks\": \"\"}, \"colorscale\": [[0.0, \"#0d0887\"], [0.1111111111111111, \"#46039f\"], [0.2222222222222222, \"#7201a8\"], [0.3333333333333333, \"#9c179e\"], [0.4444444444444444, \"#bd3786\"], [0.5555555555555556, \"#d8576b\"], [0.6666666666666666, \"#ed7953\"], [0.7777777777777778, \"#fb9f3a\"], [0.8888888888888888, \"#fdca26\"], [1.0, \"#f0f921\"]], \"type\": \"histogram2d\"}], \"histogram2dcontour\": [{\"colorbar\": {\"outlinewidth\": 0, \"ticks\": \"\"}, \"colorscale\": [[0.0, \"#0d0887\"], [0.1111111111111111, \"#46039f\"], [0.2222222222222222, \"#7201a8\"], [0.3333333333333333, \"#9c179e\"], [0.4444444444444444, \"#bd3786\"], [0.5555555555555556, \"#d8576b\"], [0.6666666666666666, \"#ed7953\"], [0.7777777777777778, \"#fb9f3a\"], [0.8888888888888888, \"#fdca26\"], [1.0, \"#f0f921\"]], \"type\": \"histogram2dcontour\"}], \"mesh3d\": [{\"colorbar\": {\"outlinewidth\": 0, \"ticks\": \"\"}, \"type\": \"mesh3d\"}], \"parcoords\": [{\"line\": {\"colorbar\": {\"outlinewidth\": 0, \"ticks\": \"\"}}, \"type\": \"parcoords\"}], \"pie\": [{\"automargin\": true, \"type\": \"pie\"}], \"scatter\": [{\"marker\": {\"colorbar\": {\"outlinewidth\": 0, \"ticks\": \"\"}}, \"type\": \"scatter\"}], \"scatter3d\": [{\"line\": {\"colorbar\": {\"outlinewidth\": 0, \"ticks\": \"\"}}, \"marker\": {\"colorbar\": {\"outlinewidth\": 0, \"ticks\": \"\"}}, \"type\": \"scatter3d\"}], \"scattercarpet\": [{\"marker\": {\"colorbar\": {\"outlinewidth\": 0, \"ticks\": \"\"}}, \"type\": \"scattercarpet\"}], \"scattergeo\": [{\"marker\": {\"colorbar\": {\"outlinewidth\": 0, \"ticks\": \"\"}}, \"type\": \"scattergeo\"}], \"scattergl\": [{\"marker\": {\"colorbar\": {\"outlinewidth\": 0, \"ticks\": \"\"}}, \"type\": \"scattergl\"}], \"scattermapbox\": [{\"marker\": {\"colorbar\": {\"outlinewidth\": 0, \"ticks\": \"\"}}, \"type\": \"scattermapbox\"}], \"scatterpolar\": [{\"marker\": {\"colorbar\": {\"outlinewidth\": 0, \"ticks\": \"\"}}, \"type\": \"scatterpolar\"}], \"scatterpolargl\": [{\"marker\": {\"colorbar\": {\"outlinewidth\": 0, \"ticks\": \"\"}}, \"type\": \"scatterpolargl\"}], \"scatterternary\": [{\"marker\": {\"colorbar\": {\"outlinewidth\": 0, \"ticks\": \"\"}}, \"type\": \"scatterternary\"}], \"surface\": [{\"colorbar\": {\"outlinewidth\": 0, \"ticks\": \"\"}, \"colorscale\": [[0.0, \"#0d0887\"], [0.1111111111111111, \"#46039f\"], [0.2222222222222222, \"#7201a8\"], [0.3333333333333333, \"#9c179e\"], [0.4444444444444444, \"#bd3786\"], [0.5555555555555556, \"#d8576b\"], [0.6666666666666666, \"#ed7953\"], [0.7777777777777778, \"#fb9f3a\"], [0.8888888888888888, \"#fdca26\"], [1.0, \"#f0f921\"]], \"type\": \"surface\"}], \"table\": [{\"cells\": {\"fill\": {\"color\": \"#EBF0F8\"}, \"line\": {\"color\": \"white\"}}, \"header\": {\"fill\": {\"color\": \"#C8D4E3\"}, \"line\": {\"color\": \"white\"}}, \"type\": \"table\"}]}, \"layout\": {\"annotationdefaults\": {\"arrowcolor\": \"#2a3f5f\", \"arrowhead\": 0, \"arrowwidth\": 1}, \"coloraxis\": {\"colorbar\": {\"outlinewidth\": 0, \"ticks\": \"\"}}, \"colorscale\": {\"diverging\": [[0, \"#8e0152\"], [0.1, \"#c51b7d\"], [0.2, \"#de77ae\"], [0.3, \"#f1b6da\"], [0.4, \"#fde0ef\"], [0.5, \"#f7f7f7\"], [0.6, \"#e6f5d0\"], [0.7, \"#b8e186\"], [0.8, \"#7fbc41\"], [0.9, \"#4d9221\"], [1, \"#276419\"]], \"sequential\": [[0.0, \"#0d0887\"], [0.1111111111111111, \"#46039f\"], [0.2222222222222222, \"#7201a8\"], [0.3333333333333333, \"#9c179e\"], [0.4444444444444444, \"#bd3786\"], [0.5555555555555556, \"#d8576b\"], [0.6666666666666666, \"#ed7953\"], [0.7777777777777778, \"#fb9f3a\"], [0.8888888888888888, \"#fdca26\"], [1.0, \"#f0f921\"]], \"sequentialminus\": [[0.0, \"#0d0887\"], [0.1111111111111111, \"#46039f\"], [0.2222222222222222, \"#7201a8\"], [0.3333333333333333, \"#9c179e\"], [0.4444444444444444, \"#bd3786\"], [0.5555555555555556, \"#d8576b\"], [0.6666666666666666, \"#ed7953\"], [0.7777777777777778, \"#fb9f3a\"], [0.8888888888888888, \"#fdca26\"], [1.0, \"#f0f921\"]]}, \"colorway\": [\"#636efa\", \"#EF553B\", \"#00cc96\", \"#ab63fa\", \"#FFA15A\", \"#19d3f3\", \"#FF6692\", \"#B6E880\", \"#FF97FF\", \"#FECB52\"], \"font\": {\"color\": \"#2a3f5f\"}, \"geo\": {\"bgcolor\": \"white\", \"lakecolor\": \"white\", \"landcolor\": \"white\", \"showlakes\": true, \"showland\": true, \"subunitcolor\": \"#C8D4E3\"}, \"hoverlabel\": {\"align\": \"left\"}, \"hovermode\": \"closest\", \"mapbox\": {\"style\": \"light\"}, \"paper_bgcolor\": \"white\", \"plot_bgcolor\": \"white\", \"polar\": {\"angularaxis\": {\"gridcolor\": \"#EBF0F8\", \"linecolor\": \"#EBF0F8\", \"ticks\": \"\"}, \"bgcolor\": \"white\", \"radialaxis\": {\"gridcolor\": \"#EBF0F8\", \"linecolor\": \"#EBF0F8\", \"ticks\": \"\"}}, \"scene\": {\"xaxis\": {\"backgroundcolor\": \"white\", \"gridcolor\": \"#DFE8F3\", \"gridwidth\": 2, \"linecolor\": \"#EBF0F8\", \"showbackground\": true, \"ticks\": \"\", \"zerolinecolor\": \"#EBF0F8\"}, \"yaxis\": {\"backgroundcolor\": \"white\", \"gridcolor\": \"#DFE8F3\", \"gridwidth\": 2, \"linecolor\": \"#EBF0F8\", \"showbackground\": true, \"ticks\": \"\", \"zerolinecolor\": \"#EBF0F8\"}, \"zaxis\": {\"backgroundcolor\": \"white\", \"gridcolor\": \"#DFE8F3\", \"gridwidth\": 2, \"linecolor\": \"#EBF0F8\", \"showbackground\": true, \"ticks\": \"\", \"zerolinecolor\": \"#EBF0F8\"}}, \"shapedefaults\": {\"line\": {\"color\": \"#2a3f5f\"}}, \"ternary\": {\"aaxis\": {\"gridcolor\": \"#DFE8F3\", \"linecolor\": \"#A2B1C6\", \"ticks\": \"\"}, \"baxis\": {\"gridcolor\": \"#DFE8F3\", \"linecolor\": \"#A2B1C6\", \"ticks\": \"\"}, \"bgcolor\": \"white\", \"caxis\": {\"gridcolor\": \"#DFE8F3\", \"linecolor\": \"#A2B1C6\", \"ticks\": \"\"}}, \"title\": {\"x\": 0.05}, \"xaxis\": {\"automargin\": true, \"gridcolor\": \"#EBF0F8\", \"linecolor\": \"#EBF0F8\", \"ticks\": \"\", \"title\": {\"standoff\": 15}, \"zerolinecolor\": \"#EBF0F8\", \"zerolinewidth\": 2}, \"yaxis\": {\"automargin\": true, \"gridcolor\": \"#EBF0F8\", \"linecolor\": \"#EBF0F8\", \"ticks\": \"\", \"title\": {\"standoff\": 15}, \"zerolinecolor\": \"#EBF0F8\", \"zerolinewidth\": 2}}}, \"title\": {\"text\": \"\", \"x\": 0.5}, \"width\": 500, \"xaxis\": {\"linecolor\": \"Black\", \"linewidth\": 0.5, \"mirror\": true, \"range\": [10, 100], \"showline\": true, \"title\": {\"text\": \"#labeled data (%)\"}}, \"yaxis\": {\"linecolor\": \"Black\", \"linewidth\": 0.5, \"mirror\": true, \"range\": [23.017230925518753, 100], \"showline\": true, \"title\": {\"text\": \"Accuracy (%)\"}}},                        {\"responsive\": true}                    ).then(function(){\n",
       "                            \n",
       "var gd = document.getElementById('7853d3eb-c685-404e-9147-74a3b7ae0686');\n",
       "var x = new MutationObserver(function (mutations, observer) {{\n",
       "        var display = window.getComputedStyle(gd).display;\n",
       "        if (!display || display === 'none') {{\n",
       "            console.log([gd, 'removed!']);\n",
       "            Plotly.purge(gd);\n",
       "            observer.disconnect();\n",
       "        }}\n",
       "}});\n",
       "\n",
       "// Listen for the removal of the full notebook cells\n",
       "var notebookContainer = gd.closest('#notebook-container');\n",
       "if (notebookContainer) {{\n",
       "    x.observe(notebookContainer, {childList: true});\n",
       "}}\n",
       "\n",
       "// Listen for the clearing of the current output cell\n",
       "var outputEl = gd.closest('.output');\n",
       "if (outputEl) {{\n",
       "    x.observe(outputEl, {childList: true});\n",
       "}}\n",
       "\n",
       "                        })                };                });            </script>        </div>"
      ]
     },
     "metadata": {},
     "output_type": "display_data"
    }
   ],
   "source": [
    "plot([random, argmax, spectral], \n",
    "     [\"RandomSampler\", \"GreedyCVXSampler\", \"ClusterCVXSampler\"], \n",
    "     filename=\"cvx_random_K={}_sigma={}_alpha={}.pdf\".format(K, sigma, alpha), \n",
    "     opacity=0.3)"
   ]
  },
  {
   "cell_type": "code",
   "execution_count": 131,
   "metadata": {},
   "outputs": [
    {
     "name": "stdout",
     "output_type": "stream",
     "text": [
      "Cannot find file /Users/andrew/Desktop/exp/seed_1-N_100-datatype_blob-K_5-learner_SVMLearner-sampler_OptimalSampler/results.json\n",
      "Cannot find file /Users/andrew/Desktop/exp/seed_3-N_100-datatype_blob-K_5-learner_SVMLearner-sampler_OptimalSampler/results.json\n"
     ]
    },
    {
     "data": {
      "application/vnd.plotly.v1+json": {
       "config": {
        "plotlyServerURL": "https://plot.ly"
       },
       "data": [
        {
         "fillcolor": "rgba(229, 134, 6, 0.3)",
         "line": {
          "color": "rgb(229, 134, 6)"
         },
         "mode": "lines",
         "name": "OptimalSampler",
         "showlegend": false,
         "type": "scatter",
         "x": [
          10,
          13.10344827586207,
          16.20689655172414,
          19.310344827586206,
          22.413793103448278,
          25.517241379310345,
          28.620689655172413,
          31.724137931034484,
          34.827586206896555,
          37.93103448275862,
          41.03448275862069,
          44.13793103448276,
          47.241379310344826,
          50.3448275862069,
          53.44827586206897,
          56.55172413793103,
          59.6551724137931,
          62.758620689655174,
          65.86206896551724,
          68.9655172413793,
          72.06896551724138,
          75.17241379310344,
          78.27586206896552,
          81.37931034482759,
          84.48275862068965,
          87.58620689655173,
          90.6896551724138,
          93.79310344827586,
          96.89655172413794,
          100
         ],
         "y": [
          22.712927852084476,
          62.79786751485348,
          83.22765734217877,
          61.93929368478957,
          74.1734506912965,
          79.42904548355683,
          87.45278560506249,
          86.85654944867665,
          85.12153256066863,
          86.75259199983861,
          88.34283280747756,
          89.48716526146018,
          89.53246982160911,
          89.11128820553051,
          88.3455645992289,
          87.98572791232215,
          88.03103468017392,
          88.99729219560112,
          89.50487269533846,
          88.53562924083492,
          88.72610921616936,
          89.4512645452213,
          89.40718102450198,
          89.36550946672561,
          89.32680341127354,
          89.39894325221194,
          89.43252027387734,
          89.29923671739179,
          89.18037348099763,
          89.07205150671922
         ]
        },
        {
         "fill": "tonexty",
         "fillcolor": "rgba(229, 134, 6, 0.3)",
         "line": {
          "color": "rgb(229, 134, 6)"
         },
         "mode": "lines",
         "name": "OptimalSampler",
         "showlegend": true,
         "type": "scatter",
         "x": [
          10,
          13.10344827586207,
          16.20689655172414,
          19.310344827586206,
          22.413793103448278,
          25.517241379310345,
          28.620689655172413,
          31.724137931034484,
          34.827586206896555,
          37.93103448275862,
          41.03448275862069,
          44.13793103448276,
          47.241379310344826,
          50.3448275862069,
          53.44827586206897,
          56.55172413793103,
          59.6551724137931,
          62.758620689655174,
          65.86206896551724,
          68.9655172413793,
          72.06896551724138,
          75.17241379310344,
          78.27586206896552,
          81.37931034482759,
          84.48275862068965,
          87.58620689655173,
          90.6896551724138,
          93.79310344827586,
          96.89655172413794,
          100
         ],
         "y": [
          39.805590666434036,
          71.95053606113633,
          88.95625070379823,
          93.0032350508426,
          86.16371405966137,
          92.4483491524585,
          94.35564351371146,
          98.62493203280485,
          99.02661558747953,
          98.75443226580637,
          98.52817613249688,
          98.44131494288209,
          98.4573130647255,
          98.5055700320174,
          98.48968444291673,
          98.5506705551108,
          98.68927183323603,
          98.60168609303236,
          98.54876715140483,
          98.64444738751756,
          98.65320112865822,
          98.60492957993836,
          98.32717402019792,
          98.21048031616074,
          98.29516338310702,
          98.11574384868207,
          97.92380156520312,
          97.8272000642174,
          97.8285664934596,
          97.89091145624374
         ]
        },
        {
         "fillcolor": "rgba(93, 105, 177, 0.3)",
         "line": {
          "color": "rgb(93, 105, 177)"
         },
         "mode": "lines",
         "name": "GreedyCVXSampler",
         "showlegend": false,
         "type": "scatter",
         "x": [
          10,
          13.10344827586207,
          16.20689655172414,
          19.310344827586206,
          22.413793103448278,
          25.517241379310345,
          28.620689655172413,
          31.724137931034484,
          34.827586206896555,
          37.93103448275862,
          41.03448275862069,
          44.13793103448276,
          47.241379310344826,
          50.3448275862069,
          53.44827586206897,
          56.55172413793103,
          59.6551724137931,
          62.758620689655174,
          65.86206896551724,
          68.9655172413793,
          72.06896551724138,
          75.17241379310344,
          78.27586206896552,
          81.37931034482759,
          84.48275862068965,
          87.58620689655173,
          90.6896551724138,
          93.79310344827586,
          96.89655172413794,
          100
         ],
         "y": [
          24.26677755070166,
          46.83702296447633,
          64.1239278690449,
          79.12380084231482,
          81.85990125956364,
          84.3134758099823,
          82.2955837955618,
          88.42605295752001,
          87.86706137404826,
          81.49465847758243,
          81.4428838715694,
          82.20171930416804,
          83.4466141652482,
          86.83231590916833,
          91.22224493257544,
          91.25217629866563,
          91.20046462867191,
          91.2331913558951,
          91.2381992073454,
          90.71277671335194,
          91.36928743182322,
          91.38932185152817,
          91.36259624660201,
          91.27731355503106,
          91.36439108982893,
          91.21082183722142,
          91.44727341504161,
          91.29405983786411,
          91.30786110552283,
          91.27251255459173
         ]
        },
        {
         "fill": "tonexty",
         "fillcolor": "rgba(93, 105, 177, 0.3)",
         "line": {
          "color": "rgb(93, 105, 177)"
         },
         "mode": "lines",
         "name": "GreedyCVXSampler",
         "showlegend": true,
         "type": "scatter",
         "x": [
          10,
          13.10344827586207,
          16.20689655172414,
          19.310344827586206,
          22.413793103448278,
          25.517241379310345,
          28.620689655172413,
          31.724137931034484,
          34.827586206896555,
          37.93103448275862,
          41.03448275862069,
          44.13793103448276,
          47.241379310344826,
          50.3448275862069,
          53.44827586206897,
          56.55172413793103,
          59.6551724137931,
          62.758620689655174,
          65.86206896551724,
          68.9655172413793,
          72.06896551724138,
          75.17241379310344,
          78.27586206896552,
          81.37931034482759,
          84.48275862068965,
          87.58620689655173,
          90.6896551724138,
          93.79310344827586,
          96.89655172413794,
          100
         ],
         "y": [
          56.83322244929833,
          64.93883910448918,
          87.33507596237274,
          93.67300630966473,
          96.00536055397403,
          96.40529813637787,
          99.58691939728622,
          98.03576058015558,
          97.77431793629654,
          100.34825339981221,
          100.37295265461195,
          99.82599461664931,
          98.88365403398552,
          101.08032776899259,
          99.58005391799928,
          99.68958615344164,
          99.64755580555544,
          99.56272179863875,
          99.64379312981931,
          100.00957322279108,
          99.8184520317783,
          99.76521199266085,
          99.92246122466236,
          99.89842080001365,
          99.84786944656952,
          99.89492528921535,
          99.86077256196988,
          99.88754935753819,
          99.90286686382582,
          99.88304300096384
         ]
        },
        {
         "fillcolor": "rgba(82, 188, 163, 0.3)",
         "line": {
          "color": "rgb(82, 188, 163)"
         },
         "mode": "lines",
         "name": "ClusterCVXSampler",
         "showlegend": false,
         "type": "scatter",
         "x": [
          10,
          13.10344827586207,
          16.20689655172414,
          19.310344827586206,
          22.413793103448278,
          25.517241379310345,
          28.620689655172413,
          31.724137931034484,
          34.827586206896555,
          37.93103448275862,
          41.03448275862069,
          44.13793103448276,
          47.241379310344826,
          50.3448275862069,
          53.44827586206897,
          56.55172413793103,
          59.6551724137931,
          62.758620689655174,
          65.86206896551724,
          68.9655172413793,
          72.06896551724138,
          75.17241379310344,
          78.27586206896552,
          81.37931034482759,
          84.48275862068965,
          87.58620689655173,
          90.6896551724138,
          93.79310344827586,
          96.89655172413794,
          100
         ],
         "y": [
          23.017230925518753,
          42.274889718303044,
          63.18087785614271,
          77.08526804846176,
          81.95711020945703,
          81.12151196105788,
          82.95017423698548,
          87.84988122504681,
          90.91724079124711,
          90.03545459385309,
          90.05738064234674,
          90.40379575732352,
          91.20270856714149,
          91.28287455808683,
          91.36769841433559,
          91.53427348483214,
          91.43442584787107,
          91.4175429665839,
          91.46862205736197,
          91.38926836881605,
          91.34223589142758,
          91.3468760474733,
          91.3334396418831,
          91.31268452771474,
          91.29300012743431,
          91.34922631529412,
          91.4789179988179,
          91.36224215691026,
          91.26196031648291,
          91.27251255459173
         ]
        },
        {
         "fill": "tonexty",
         "fillcolor": "rgba(82, 188, 163, 0.3)",
         "line": {
          "color": "rgb(82, 188, 163)"
         },
         "mode": "lines",
         "name": "ClusterCVXSampler",
         "showlegend": true,
         "type": "scatter",
         "x": [
          10,
          13.10344827586207,
          16.20689655172414,
          19.310344827586206,
          22.413793103448278,
          25.517241379310345,
          28.620689655172413,
          31.724137931034484,
          34.827586206896555,
          37.93103448275862,
          41.03448275862069,
          44.13793103448276,
          47.241379310344826,
          50.3448275862069,
          53.44827586206897,
          56.55172413793103,
          59.6551724137931,
          62.758620689655174,
          65.86206896551724,
          68.9655172413793,
          72.06896551724138,
          75.17241379310344,
          78.27586206896552,
          81.37931034482759,
          84.48275862068965,
          87.58620689655173,
          90.6896551724138,
          93.79310344827586,
          96.89655172413794,
          100
         ],
         "y": [
          55.678324630036805,
          60.54579993686937,
          83.29268536224811,
          93.18683923123174,
          93.55668289399125,
          94.01680221518731,
          96.99894453696092,
          98.33295402399536,
          99.78406189074522,
          99.91082893105114,
          99.99327069864938,
          100.00693221202515,
          99.82847917232212,
          99.78202965647253,
          99.82640120252265,
          99.62656942704527,
          99.54169164893608,
          99.53142255065747,
          99.60969211888325,
          99.66835615225675,
          99.78803230780613,
          99.84392855022787,
          99.8058707029445,
          99.75735378646152,
          99.8046243936385,
          99.79529475750283,
          99.75449196286792,
          99.90702987374108,
          99.99704351493469,
          99.88304300096384
         ]
        }
       ],
       "layout": {
        "font": {
         "size": 15
        },
        "height": 400,
        "legend": {
         "bgcolor": "rgba(0,0,0,0)",
         "bordercolor": "Black",
         "borderwidth": 1,
         "x": 0.98,
         "xanchor": "right",
         "y": 0.05,
         "yanchor": "bottom"
        },
        "margin": {
         "b": 40,
         "l": 0,
         "r": 0,
         "t": 40
        },
        "template": {
         "data": {
          "bar": [
           {
            "error_x": {
             "color": "#2a3f5f"
            },
            "error_y": {
             "color": "#2a3f5f"
            },
            "marker": {
             "line": {
              "color": "white",
              "width": 0.5
             }
            },
            "type": "bar"
           }
          ],
          "barpolar": [
           {
            "marker": {
             "line": {
              "color": "white",
              "width": 0.5
             }
            },
            "type": "barpolar"
           }
          ],
          "carpet": [
           {
            "aaxis": {
             "endlinecolor": "#2a3f5f",
             "gridcolor": "#C8D4E3",
             "linecolor": "#C8D4E3",
             "minorgridcolor": "#C8D4E3",
             "startlinecolor": "#2a3f5f"
            },
            "baxis": {
             "endlinecolor": "#2a3f5f",
             "gridcolor": "#C8D4E3",
             "linecolor": "#C8D4E3",
             "minorgridcolor": "#C8D4E3",
             "startlinecolor": "#2a3f5f"
            },
            "type": "carpet"
           }
          ],
          "choropleth": [
           {
            "colorbar": {
             "outlinewidth": 0,
             "ticks": ""
            },
            "type": "choropleth"
           }
          ],
          "contour": [
           {
            "colorbar": {
             "outlinewidth": 0,
             "ticks": ""
            },
            "colorscale": [
             [
              0,
              "#0d0887"
             ],
             [
              0.1111111111111111,
              "#46039f"
             ],
             [
              0.2222222222222222,
              "#7201a8"
             ],
             [
              0.3333333333333333,
              "#9c179e"
             ],
             [
              0.4444444444444444,
              "#bd3786"
             ],
             [
              0.5555555555555556,
              "#d8576b"
             ],
             [
              0.6666666666666666,
              "#ed7953"
             ],
             [
              0.7777777777777778,
              "#fb9f3a"
             ],
             [
              0.8888888888888888,
              "#fdca26"
             ],
             [
              1,
              "#f0f921"
             ]
            ],
            "type": "contour"
           }
          ],
          "contourcarpet": [
           {
            "colorbar": {
             "outlinewidth": 0,
             "ticks": ""
            },
            "type": "contourcarpet"
           }
          ],
          "heatmap": [
           {
            "colorbar": {
             "outlinewidth": 0,
             "ticks": ""
            },
            "colorscale": [
             [
              0,
              "#0d0887"
             ],
             [
              0.1111111111111111,
              "#46039f"
             ],
             [
              0.2222222222222222,
              "#7201a8"
             ],
             [
              0.3333333333333333,
              "#9c179e"
             ],
             [
              0.4444444444444444,
              "#bd3786"
             ],
             [
              0.5555555555555556,
              "#d8576b"
             ],
             [
              0.6666666666666666,
              "#ed7953"
             ],
             [
              0.7777777777777778,
              "#fb9f3a"
             ],
             [
              0.8888888888888888,
              "#fdca26"
             ],
             [
              1,
              "#f0f921"
             ]
            ],
            "type": "heatmap"
           }
          ],
          "heatmapgl": [
           {
            "colorbar": {
             "outlinewidth": 0,
             "ticks": ""
            },
            "colorscale": [
             [
              0,
              "#0d0887"
             ],
             [
              0.1111111111111111,
              "#46039f"
             ],
             [
              0.2222222222222222,
              "#7201a8"
             ],
             [
              0.3333333333333333,
              "#9c179e"
             ],
             [
              0.4444444444444444,
              "#bd3786"
             ],
             [
              0.5555555555555556,
              "#d8576b"
             ],
             [
              0.6666666666666666,
              "#ed7953"
             ],
             [
              0.7777777777777778,
              "#fb9f3a"
             ],
             [
              0.8888888888888888,
              "#fdca26"
             ],
             [
              1,
              "#f0f921"
             ]
            ],
            "type": "heatmapgl"
           }
          ],
          "histogram": [
           {
            "marker": {
             "colorbar": {
              "outlinewidth": 0,
              "ticks": ""
             }
            },
            "type": "histogram"
           }
          ],
          "histogram2d": [
           {
            "colorbar": {
             "outlinewidth": 0,
             "ticks": ""
            },
            "colorscale": [
             [
              0,
              "#0d0887"
             ],
             [
              0.1111111111111111,
              "#46039f"
             ],
             [
              0.2222222222222222,
              "#7201a8"
             ],
             [
              0.3333333333333333,
              "#9c179e"
             ],
             [
              0.4444444444444444,
              "#bd3786"
             ],
             [
              0.5555555555555556,
              "#d8576b"
             ],
             [
              0.6666666666666666,
              "#ed7953"
             ],
             [
              0.7777777777777778,
              "#fb9f3a"
             ],
             [
              0.8888888888888888,
              "#fdca26"
             ],
             [
              1,
              "#f0f921"
             ]
            ],
            "type": "histogram2d"
           }
          ],
          "histogram2dcontour": [
           {
            "colorbar": {
             "outlinewidth": 0,
             "ticks": ""
            },
            "colorscale": [
             [
              0,
              "#0d0887"
             ],
             [
              0.1111111111111111,
              "#46039f"
             ],
             [
              0.2222222222222222,
              "#7201a8"
             ],
             [
              0.3333333333333333,
              "#9c179e"
             ],
             [
              0.4444444444444444,
              "#bd3786"
             ],
             [
              0.5555555555555556,
              "#d8576b"
             ],
             [
              0.6666666666666666,
              "#ed7953"
             ],
             [
              0.7777777777777778,
              "#fb9f3a"
             ],
             [
              0.8888888888888888,
              "#fdca26"
             ],
             [
              1,
              "#f0f921"
             ]
            ],
            "type": "histogram2dcontour"
           }
          ],
          "mesh3d": [
           {
            "colorbar": {
             "outlinewidth": 0,
             "ticks": ""
            },
            "type": "mesh3d"
           }
          ],
          "parcoords": [
           {
            "line": {
             "colorbar": {
              "outlinewidth": 0,
              "ticks": ""
             }
            },
            "type": "parcoords"
           }
          ],
          "pie": [
           {
            "automargin": true,
            "type": "pie"
           }
          ],
          "scatter": [
           {
            "marker": {
             "colorbar": {
              "outlinewidth": 0,
              "ticks": ""
             }
            },
            "type": "scatter"
           }
          ],
          "scatter3d": [
           {
            "line": {
             "colorbar": {
              "outlinewidth": 0,
              "ticks": ""
             }
            },
            "marker": {
             "colorbar": {
              "outlinewidth": 0,
              "ticks": ""
             }
            },
            "type": "scatter3d"
           }
          ],
          "scattercarpet": [
           {
            "marker": {
             "colorbar": {
              "outlinewidth": 0,
              "ticks": ""
             }
            },
            "type": "scattercarpet"
           }
          ],
          "scattergeo": [
           {
            "marker": {
             "colorbar": {
              "outlinewidth": 0,
              "ticks": ""
             }
            },
            "type": "scattergeo"
           }
          ],
          "scattergl": [
           {
            "marker": {
             "colorbar": {
              "outlinewidth": 0,
              "ticks": ""
             }
            },
            "type": "scattergl"
           }
          ],
          "scattermapbox": [
           {
            "marker": {
             "colorbar": {
              "outlinewidth": 0,
              "ticks": ""
             }
            },
            "type": "scattermapbox"
           }
          ],
          "scatterpolar": [
           {
            "marker": {
             "colorbar": {
              "outlinewidth": 0,
              "ticks": ""
             }
            },
            "type": "scatterpolar"
           }
          ],
          "scatterpolargl": [
           {
            "marker": {
             "colorbar": {
              "outlinewidth": 0,
              "ticks": ""
             }
            },
            "type": "scatterpolargl"
           }
          ],
          "scatterternary": [
           {
            "marker": {
             "colorbar": {
              "outlinewidth": 0,
              "ticks": ""
             }
            },
            "type": "scatterternary"
           }
          ],
          "surface": [
           {
            "colorbar": {
             "outlinewidth": 0,
             "ticks": ""
            },
            "colorscale": [
             [
              0,
              "#0d0887"
             ],
             [
              0.1111111111111111,
              "#46039f"
             ],
             [
              0.2222222222222222,
              "#7201a8"
             ],
             [
              0.3333333333333333,
              "#9c179e"
             ],
             [
              0.4444444444444444,
              "#bd3786"
             ],
             [
              0.5555555555555556,
              "#d8576b"
             ],
             [
              0.6666666666666666,
              "#ed7953"
             ],
             [
              0.7777777777777778,
              "#fb9f3a"
             ],
             [
              0.8888888888888888,
              "#fdca26"
             ],
             [
              1,
              "#f0f921"
             ]
            ],
            "type": "surface"
           }
          ],
          "table": [
           {
            "cells": {
             "fill": {
              "color": "#EBF0F8"
             },
             "line": {
              "color": "white"
             }
            },
            "header": {
             "fill": {
              "color": "#C8D4E3"
             },
             "line": {
              "color": "white"
             }
            },
            "type": "table"
           }
          ]
         },
         "layout": {
          "annotationdefaults": {
           "arrowcolor": "#2a3f5f",
           "arrowhead": 0,
           "arrowwidth": 1
          },
          "coloraxis": {
           "colorbar": {
            "outlinewidth": 0,
            "ticks": ""
           }
          },
          "colorscale": {
           "diverging": [
            [
             0,
             "#8e0152"
            ],
            [
             0.1,
             "#c51b7d"
            ],
            [
             0.2,
             "#de77ae"
            ],
            [
             0.3,
             "#f1b6da"
            ],
            [
             0.4,
             "#fde0ef"
            ],
            [
             0.5,
             "#f7f7f7"
            ],
            [
             0.6,
             "#e6f5d0"
            ],
            [
             0.7,
             "#b8e186"
            ],
            [
             0.8,
             "#7fbc41"
            ],
            [
             0.9,
             "#4d9221"
            ],
            [
             1,
             "#276419"
            ]
           ],
           "sequential": [
            [
             0,
             "#0d0887"
            ],
            [
             0.1111111111111111,
             "#46039f"
            ],
            [
             0.2222222222222222,
             "#7201a8"
            ],
            [
             0.3333333333333333,
             "#9c179e"
            ],
            [
             0.4444444444444444,
             "#bd3786"
            ],
            [
             0.5555555555555556,
             "#d8576b"
            ],
            [
             0.6666666666666666,
             "#ed7953"
            ],
            [
             0.7777777777777778,
             "#fb9f3a"
            ],
            [
             0.8888888888888888,
             "#fdca26"
            ],
            [
             1,
             "#f0f921"
            ]
           ],
           "sequentialminus": [
            [
             0,
             "#0d0887"
            ],
            [
             0.1111111111111111,
             "#46039f"
            ],
            [
             0.2222222222222222,
             "#7201a8"
            ],
            [
             0.3333333333333333,
             "#9c179e"
            ],
            [
             0.4444444444444444,
             "#bd3786"
            ],
            [
             0.5555555555555556,
             "#d8576b"
            ],
            [
             0.6666666666666666,
             "#ed7953"
            ],
            [
             0.7777777777777778,
             "#fb9f3a"
            ],
            [
             0.8888888888888888,
             "#fdca26"
            ],
            [
             1,
             "#f0f921"
            ]
           ]
          },
          "colorway": [
           "#636efa",
           "#EF553B",
           "#00cc96",
           "#ab63fa",
           "#FFA15A",
           "#19d3f3",
           "#FF6692",
           "#B6E880",
           "#FF97FF",
           "#FECB52"
          ],
          "font": {
           "color": "#2a3f5f"
          },
          "geo": {
           "bgcolor": "white",
           "lakecolor": "white",
           "landcolor": "white",
           "showlakes": true,
           "showland": true,
           "subunitcolor": "#C8D4E3"
          },
          "hoverlabel": {
           "align": "left"
          },
          "hovermode": "closest",
          "mapbox": {
           "style": "light"
          },
          "paper_bgcolor": "white",
          "plot_bgcolor": "white",
          "polar": {
           "angularaxis": {
            "gridcolor": "#EBF0F8",
            "linecolor": "#EBF0F8",
            "ticks": ""
           },
           "bgcolor": "white",
           "radialaxis": {
            "gridcolor": "#EBF0F8",
            "linecolor": "#EBF0F8",
            "ticks": ""
           }
          },
          "scene": {
           "xaxis": {
            "backgroundcolor": "white",
            "gridcolor": "#DFE8F3",
            "gridwidth": 2,
            "linecolor": "#EBF0F8",
            "showbackground": true,
            "ticks": "",
            "zerolinecolor": "#EBF0F8"
           },
           "yaxis": {
            "backgroundcolor": "white",
            "gridcolor": "#DFE8F3",
            "gridwidth": 2,
            "linecolor": "#EBF0F8",
            "showbackground": true,
            "ticks": "",
            "zerolinecolor": "#EBF0F8"
           },
           "zaxis": {
            "backgroundcolor": "white",
            "gridcolor": "#DFE8F3",
            "gridwidth": 2,
            "linecolor": "#EBF0F8",
            "showbackground": true,
            "ticks": "",
            "zerolinecolor": "#EBF0F8"
           }
          },
          "shapedefaults": {
           "line": {
            "color": "#2a3f5f"
           }
          },
          "ternary": {
           "aaxis": {
            "gridcolor": "#DFE8F3",
            "linecolor": "#A2B1C6",
            "ticks": ""
           },
           "baxis": {
            "gridcolor": "#DFE8F3",
            "linecolor": "#A2B1C6",
            "ticks": ""
           },
           "bgcolor": "white",
           "caxis": {
            "gridcolor": "#DFE8F3",
            "linecolor": "#A2B1C6",
            "ticks": ""
           }
          },
          "title": {
           "x": 0.05
          },
          "xaxis": {
           "automargin": true,
           "gridcolor": "#EBF0F8",
           "linecolor": "#EBF0F8",
           "ticks": "",
           "title": {
            "standoff": 15
           },
           "zerolinecolor": "#EBF0F8",
           "zerolinewidth": 2
          },
          "yaxis": {
           "automargin": true,
           "gridcolor": "#EBF0F8",
           "linecolor": "#EBF0F8",
           "ticks": "",
           "title": {
            "standoff": 15
           },
           "zerolinecolor": "#EBF0F8",
           "zerolinewidth": 2
          }
         }
        },
        "title": {
         "text": "",
         "x": 0.5
        },
        "width": 500,
        "xaxis": {
         "linecolor": "Black",
         "linewidth": 0.5,
         "mirror": true,
         "range": [
          10,
          100
         ],
         "showline": true,
         "title": {
          "text": "#labeled data (%)"
         }
        },
        "yaxis": {
         "linecolor": "Black",
         "linewidth": 0.5,
         "mirror": true,
         "range": [
          22.712927852084476,
          100
         ],
         "showline": true,
         "title": {
          "text": "Accuracy (%)"
         }
        }
       }
      },
      "text/html": [
       "<div>                            <div id=\"258e690c-05fe-4ced-82d1-31cc4a033cd6\" class=\"plotly-graph-div\" style=\"height:400px; width:500px;\"></div>            <script type=\"text/javascript\">                require([\"plotly\"], function(Plotly) {                    window.PLOTLYENV=window.PLOTLYENV || {};                                    if (document.getElementById(\"258e690c-05fe-4ced-82d1-31cc4a033cd6\")) {                    Plotly.newPlot(                        \"258e690c-05fe-4ced-82d1-31cc4a033cd6\",                        [{\"fillcolor\": \"rgba(229, 134, 6, 0.3)\", \"line\": {\"color\": \"rgb(229, 134, 6)\"}, \"mode\": \"lines\", \"name\": \"OptimalSampler\", \"showlegend\": false, \"type\": \"scatter\", \"x\": [10.0, 13.10344827586207, 16.20689655172414, 19.310344827586206, 22.413793103448278, 25.517241379310345, 28.620689655172413, 31.724137931034484, 34.827586206896555, 37.93103448275862, 41.03448275862069, 44.13793103448276, 47.241379310344826, 50.3448275862069, 53.44827586206897, 56.55172413793103, 59.6551724137931, 62.758620689655174, 65.86206896551724, 68.9655172413793, 72.06896551724138, 75.17241379310344, 78.27586206896552, 81.37931034482759, 84.48275862068965, 87.58620689655173, 90.6896551724138, 93.79310344827586, 96.89655172413794, 100.0], \"y\": [22.712927852084476, 62.79786751485348, 83.22765734217877, 61.93929368478957, 74.1734506912965, 79.42904548355683, 87.45278560506249, 86.85654944867665, 85.12153256066863, 86.75259199983861, 88.34283280747756, 89.48716526146018, 89.53246982160911, 89.11128820553051, 88.3455645992289, 87.98572791232215, 88.03103468017392, 88.99729219560112, 89.50487269533846, 88.53562924083492, 88.72610921616936, 89.4512645452213, 89.40718102450198, 89.36550946672561, 89.32680341127354, 89.39894325221194, 89.43252027387734, 89.29923671739179, 89.18037348099763, 89.07205150671922]}, {\"fill\": \"tonexty\", \"fillcolor\": \"rgba(229, 134, 6, 0.3)\", \"line\": {\"color\": \"rgb(229, 134, 6)\"}, \"mode\": \"lines\", \"name\": \"OptimalSampler\", \"showlegend\": true, \"type\": \"scatter\", \"x\": [10.0, 13.10344827586207, 16.20689655172414, 19.310344827586206, 22.413793103448278, 25.517241379310345, 28.620689655172413, 31.724137931034484, 34.827586206896555, 37.93103448275862, 41.03448275862069, 44.13793103448276, 47.241379310344826, 50.3448275862069, 53.44827586206897, 56.55172413793103, 59.6551724137931, 62.758620689655174, 65.86206896551724, 68.9655172413793, 72.06896551724138, 75.17241379310344, 78.27586206896552, 81.37931034482759, 84.48275862068965, 87.58620689655173, 90.6896551724138, 93.79310344827586, 96.89655172413794, 100.0], \"y\": [39.805590666434036, 71.95053606113633, 88.95625070379823, 93.0032350508426, 86.16371405966137, 92.4483491524585, 94.35564351371146, 98.62493203280485, 99.02661558747953, 98.75443226580637, 98.52817613249688, 98.44131494288209, 98.4573130647255, 98.5055700320174, 98.48968444291673, 98.5506705551108, 98.68927183323603, 98.60168609303236, 98.54876715140483, 98.64444738751756, 98.65320112865822, 98.60492957993836, 98.32717402019792, 98.21048031616074, 98.29516338310702, 98.11574384868207, 97.92380156520312, 97.8272000642174, 97.8285664934596, 97.89091145624374]}, {\"fillcolor\": \"rgba(93, 105, 177, 0.3)\", \"line\": {\"color\": \"rgb(93, 105, 177)\"}, \"mode\": \"lines\", \"name\": \"GreedyCVXSampler\", \"showlegend\": false, \"type\": \"scatter\", \"x\": [10.0, 13.10344827586207, 16.20689655172414, 19.310344827586206, 22.413793103448278, 25.517241379310345, 28.620689655172413, 31.724137931034484, 34.827586206896555, 37.93103448275862, 41.03448275862069, 44.13793103448276, 47.241379310344826, 50.3448275862069, 53.44827586206897, 56.55172413793103, 59.6551724137931, 62.758620689655174, 65.86206896551724, 68.9655172413793, 72.06896551724138, 75.17241379310344, 78.27586206896552, 81.37931034482759, 84.48275862068965, 87.58620689655173, 90.6896551724138, 93.79310344827586, 96.89655172413794, 100.0], \"y\": [24.26677755070166, 46.83702296447633, 64.1239278690449, 79.12380084231482, 81.85990125956364, 84.3134758099823, 82.2955837955618, 88.42605295752001, 87.86706137404826, 81.49465847758243, 81.4428838715694, 82.20171930416804, 83.4466141652482, 86.83231590916833, 91.22224493257544, 91.25217629866563, 91.20046462867191, 91.2331913558951, 91.2381992073454, 90.71277671335194, 91.36928743182322, 91.38932185152817, 91.36259624660201, 91.27731355503106, 91.36439108982893, 91.21082183722142, 91.44727341504161, 91.29405983786411, 91.30786110552283, 91.27251255459173]}, {\"fill\": \"tonexty\", \"fillcolor\": \"rgba(93, 105, 177, 0.3)\", \"line\": {\"color\": \"rgb(93, 105, 177)\"}, \"mode\": \"lines\", \"name\": \"GreedyCVXSampler\", \"showlegend\": true, \"type\": \"scatter\", \"x\": [10.0, 13.10344827586207, 16.20689655172414, 19.310344827586206, 22.413793103448278, 25.517241379310345, 28.620689655172413, 31.724137931034484, 34.827586206896555, 37.93103448275862, 41.03448275862069, 44.13793103448276, 47.241379310344826, 50.3448275862069, 53.44827586206897, 56.55172413793103, 59.6551724137931, 62.758620689655174, 65.86206896551724, 68.9655172413793, 72.06896551724138, 75.17241379310344, 78.27586206896552, 81.37931034482759, 84.48275862068965, 87.58620689655173, 90.6896551724138, 93.79310344827586, 96.89655172413794, 100.0], \"y\": [56.83322244929833, 64.93883910448918, 87.33507596237274, 93.67300630966473, 96.00536055397403, 96.40529813637787, 99.58691939728622, 98.03576058015558, 97.77431793629654, 100.34825339981221, 100.37295265461195, 99.82599461664931, 98.88365403398552, 101.08032776899259, 99.58005391799928, 99.68958615344164, 99.64755580555544, 99.56272179863875, 99.64379312981931, 100.00957322279108, 99.8184520317783, 99.76521199266085, 99.92246122466236, 99.89842080001365, 99.84786944656952, 99.89492528921535, 99.86077256196988, 99.88754935753819, 99.90286686382582, 99.88304300096384]}, {\"fillcolor\": \"rgba(82, 188, 163, 0.3)\", \"line\": {\"color\": \"rgb(82, 188, 163)\"}, \"mode\": \"lines\", \"name\": \"ClusterCVXSampler\", \"showlegend\": false, \"type\": \"scatter\", \"x\": [10.0, 13.10344827586207, 16.20689655172414, 19.310344827586206, 22.413793103448278, 25.517241379310345, 28.620689655172413, 31.724137931034484, 34.827586206896555, 37.93103448275862, 41.03448275862069, 44.13793103448276, 47.241379310344826, 50.3448275862069, 53.44827586206897, 56.55172413793103, 59.6551724137931, 62.758620689655174, 65.86206896551724, 68.9655172413793, 72.06896551724138, 75.17241379310344, 78.27586206896552, 81.37931034482759, 84.48275862068965, 87.58620689655173, 90.6896551724138, 93.79310344827586, 96.89655172413794, 100.0], \"y\": [23.017230925518753, 42.274889718303044, 63.18087785614271, 77.08526804846176, 81.95711020945703, 81.12151196105788, 82.95017423698548, 87.84988122504681, 90.91724079124711, 90.03545459385309, 90.05738064234674, 90.40379575732352, 91.20270856714149, 91.28287455808683, 91.36769841433559, 91.53427348483214, 91.43442584787107, 91.4175429665839, 91.46862205736197, 91.38926836881605, 91.34223589142758, 91.3468760474733, 91.3334396418831, 91.31268452771474, 91.29300012743431, 91.34922631529412, 91.4789179988179, 91.36224215691026, 91.26196031648291, 91.27251255459173]}, {\"fill\": \"tonexty\", \"fillcolor\": \"rgba(82, 188, 163, 0.3)\", \"line\": {\"color\": \"rgb(82, 188, 163)\"}, \"mode\": \"lines\", \"name\": \"ClusterCVXSampler\", \"showlegend\": true, \"type\": \"scatter\", \"x\": [10.0, 13.10344827586207, 16.20689655172414, 19.310344827586206, 22.413793103448278, 25.517241379310345, 28.620689655172413, 31.724137931034484, 34.827586206896555, 37.93103448275862, 41.03448275862069, 44.13793103448276, 47.241379310344826, 50.3448275862069, 53.44827586206897, 56.55172413793103, 59.6551724137931, 62.758620689655174, 65.86206896551724, 68.9655172413793, 72.06896551724138, 75.17241379310344, 78.27586206896552, 81.37931034482759, 84.48275862068965, 87.58620689655173, 90.6896551724138, 93.79310344827586, 96.89655172413794, 100.0], \"y\": [55.678324630036805, 60.54579993686937, 83.29268536224811, 93.18683923123174, 93.55668289399125, 94.01680221518731, 96.99894453696092, 98.33295402399536, 99.78406189074522, 99.91082893105114, 99.99327069864938, 100.00693221202515, 99.82847917232212, 99.78202965647253, 99.82640120252265, 99.62656942704527, 99.54169164893608, 99.53142255065747, 99.60969211888325, 99.66835615225675, 99.78803230780613, 99.84392855022787, 99.8058707029445, 99.75735378646152, 99.8046243936385, 99.79529475750283, 99.75449196286792, 99.90702987374108, 99.99704351493469, 99.88304300096384]}],                        {\"font\": {\"size\": 15}, \"height\": 400, \"legend\": {\"bgcolor\": \"rgba(0,0,0,0)\", \"bordercolor\": \"Black\", \"borderwidth\": 1, \"x\": 0.98, \"xanchor\": \"right\", \"y\": 0.05, \"yanchor\": \"bottom\"}, \"margin\": {\"b\": 40, \"l\": 0, \"r\": 0, \"t\": 40}, \"template\": {\"data\": {\"bar\": [{\"error_x\": {\"color\": \"#2a3f5f\"}, \"error_y\": {\"color\": \"#2a3f5f\"}, \"marker\": {\"line\": {\"color\": \"white\", \"width\": 0.5}}, \"type\": \"bar\"}], \"barpolar\": [{\"marker\": {\"line\": {\"color\": \"white\", \"width\": 0.5}}, \"type\": \"barpolar\"}], \"carpet\": [{\"aaxis\": {\"endlinecolor\": \"#2a3f5f\", \"gridcolor\": \"#C8D4E3\", \"linecolor\": \"#C8D4E3\", \"minorgridcolor\": \"#C8D4E3\", \"startlinecolor\": \"#2a3f5f\"}, \"baxis\": {\"endlinecolor\": \"#2a3f5f\", \"gridcolor\": \"#C8D4E3\", \"linecolor\": \"#C8D4E3\", \"minorgridcolor\": \"#C8D4E3\", \"startlinecolor\": \"#2a3f5f\"}, \"type\": \"carpet\"}], \"choropleth\": [{\"colorbar\": {\"outlinewidth\": 0, \"ticks\": \"\"}, \"type\": \"choropleth\"}], \"contour\": [{\"colorbar\": {\"outlinewidth\": 0, \"ticks\": \"\"}, \"colorscale\": [[0.0, \"#0d0887\"], [0.1111111111111111, \"#46039f\"], [0.2222222222222222, \"#7201a8\"], [0.3333333333333333, \"#9c179e\"], [0.4444444444444444, \"#bd3786\"], [0.5555555555555556, \"#d8576b\"], [0.6666666666666666, \"#ed7953\"], [0.7777777777777778, \"#fb9f3a\"], [0.8888888888888888, \"#fdca26\"], [1.0, \"#f0f921\"]], \"type\": \"contour\"}], \"contourcarpet\": [{\"colorbar\": {\"outlinewidth\": 0, \"ticks\": \"\"}, \"type\": \"contourcarpet\"}], \"heatmap\": [{\"colorbar\": {\"outlinewidth\": 0, \"ticks\": \"\"}, \"colorscale\": [[0.0, \"#0d0887\"], [0.1111111111111111, \"#46039f\"], [0.2222222222222222, \"#7201a8\"], [0.3333333333333333, \"#9c179e\"], [0.4444444444444444, \"#bd3786\"], [0.5555555555555556, \"#d8576b\"], [0.6666666666666666, \"#ed7953\"], [0.7777777777777778, \"#fb9f3a\"], [0.8888888888888888, \"#fdca26\"], [1.0, \"#f0f921\"]], \"type\": \"heatmap\"}], \"heatmapgl\": [{\"colorbar\": {\"outlinewidth\": 0, \"ticks\": \"\"}, \"colorscale\": [[0.0, \"#0d0887\"], [0.1111111111111111, \"#46039f\"], [0.2222222222222222, \"#7201a8\"], [0.3333333333333333, \"#9c179e\"], [0.4444444444444444, \"#bd3786\"], [0.5555555555555556, \"#d8576b\"], [0.6666666666666666, \"#ed7953\"], [0.7777777777777778, \"#fb9f3a\"], [0.8888888888888888, \"#fdca26\"], [1.0, \"#f0f921\"]], \"type\": \"heatmapgl\"}], \"histogram\": [{\"marker\": {\"colorbar\": {\"outlinewidth\": 0, \"ticks\": \"\"}}, \"type\": \"histogram\"}], \"histogram2d\": [{\"colorbar\": {\"outlinewidth\": 0, \"ticks\": \"\"}, \"colorscale\": [[0.0, \"#0d0887\"], [0.1111111111111111, \"#46039f\"], [0.2222222222222222, \"#7201a8\"], [0.3333333333333333, \"#9c179e\"], [0.4444444444444444, \"#bd3786\"], [0.5555555555555556, \"#d8576b\"], [0.6666666666666666, \"#ed7953\"], [0.7777777777777778, \"#fb9f3a\"], [0.8888888888888888, \"#fdca26\"], [1.0, \"#f0f921\"]], \"type\": \"histogram2d\"}], \"histogram2dcontour\": [{\"colorbar\": {\"outlinewidth\": 0, \"ticks\": \"\"}, \"colorscale\": [[0.0, \"#0d0887\"], [0.1111111111111111, \"#46039f\"], [0.2222222222222222, \"#7201a8\"], [0.3333333333333333, \"#9c179e\"], [0.4444444444444444, \"#bd3786\"], [0.5555555555555556, \"#d8576b\"], [0.6666666666666666, \"#ed7953\"], [0.7777777777777778, \"#fb9f3a\"], [0.8888888888888888, \"#fdca26\"], [1.0, \"#f0f921\"]], \"type\": \"histogram2dcontour\"}], \"mesh3d\": [{\"colorbar\": {\"outlinewidth\": 0, \"ticks\": \"\"}, \"type\": \"mesh3d\"}], \"parcoords\": [{\"line\": {\"colorbar\": {\"outlinewidth\": 0, \"ticks\": \"\"}}, \"type\": \"parcoords\"}], \"pie\": [{\"automargin\": true, \"type\": \"pie\"}], \"scatter\": [{\"marker\": {\"colorbar\": {\"outlinewidth\": 0, \"ticks\": \"\"}}, \"type\": \"scatter\"}], \"scatter3d\": [{\"line\": {\"colorbar\": {\"outlinewidth\": 0, \"ticks\": \"\"}}, \"marker\": {\"colorbar\": {\"outlinewidth\": 0, \"ticks\": \"\"}}, \"type\": \"scatter3d\"}], \"scattercarpet\": [{\"marker\": {\"colorbar\": {\"outlinewidth\": 0, \"ticks\": \"\"}}, \"type\": \"scattercarpet\"}], \"scattergeo\": [{\"marker\": {\"colorbar\": {\"outlinewidth\": 0, \"ticks\": \"\"}}, \"type\": \"scattergeo\"}], \"scattergl\": [{\"marker\": {\"colorbar\": {\"outlinewidth\": 0, \"ticks\": \"\"}}, \"type\": \"scattergl\"}], \"scattermapbox\": [{\"marker\": {\"colorbar\": {\"outlinewidth\": 0, \"ticks\": \"\"}}, \"type\": \"scattermapbox\"}], \"scatterpolar\": [{\"marker\": {\"colorbar\": {\"outlinewidth\": 0, \"ticks\": \"\"}}, \"type\": \"scatterpolar\"}], \"scatterpolargl\": [{\"marker\": {\"colorbar\": {\"outlinewidth\": 0, \"ticks\": \"\"}}, \"type\": \"scatterpolargl\"}], \"scatterternary\": [{\"marker\": {\"colorbar\": {\"outlinewidth\": 0, \"ticks\": \"\"}}, \"type\": \"scatterternary\"}], \"surface\": [{\"colorbar\": {\"outlinewidth\": 0, \"ticks\": \"\"}, \"colorscale\": [[0.0, \"#0d0887\"], [0.1111111111111111, \"#46039f\"], [0.2222222222222222, \"#7201a8\"], [0.3333333333333333, \"#9c179e\"], [0.4444444444444444, \"#bd3786\"], [0.5555555555555556, \"#d8576b\"], [0.6666666666666666, \"#ed7953\"], [0.7777777777777778, \"#fb9f3a\"], [0.8888888888888888, \"#fdca26\"], [1.0, \"#f0f921\"]], \"type\": \"surface\"}], \"table\": [{\"cells\": {\"fill\": {\"color\": \"#EBF0F8\"}, \"line\": {\"color\": \"white\"}}, \"header\": {\"fill\": {\"color\": \"#C8D4E3\"}, \"line\": {\"color\": \"white\"}}, \"type\": \"table\"}]}, \"layout\": {\"annotationdefaults\": {\"arrowcolor\": \"#2a3f5f\", \"arrowhead\": 0, \"arrowwidth\": 1}, \"coloraxis\": {\"colorbar\": {\"outlinewidth\": 0, \"ticks\": \"\"}}, \"colorscale\": {\"diverging\": [[0, \"#8e0152\"], [0.1, \"#c51b7d\"], [0.2, \"#de77ae\"], [0.3, \"#f1b6da\"], [0.4, \"#fde0ef\"], [0.5, \"#f7f7f7\"], [0.6, \"#e6f5d0\"], [0.7, \"#b8e186\"], [0.8, \"#7fbc41\"], [0.9, \"#4d9221\"], [1, \"#276419\"]], \"sequential\": [[0.0, \"#0d0887\"], [0.1111111111111111, \"#46039f\"], [0.2222222222222222, \"#7201a8\"], [0.3333333333333333, \"#9c179e\"], [0.4444444444444444, \"#bd3786\"], [0.5555555555555556, \"#d8576b\"], [0.6666666666666666, \"#ed7953\"], [0.7777777777777778, \"#fb9f3a\"], [0.8888888888888888, \"#fdca26\"], [1.0, \"#f0f921\"]], \"sequentialminus\": [[0.0, \"#0d0887\"], [0.1111111111111111, \"#46039f\"], [0.2222222222222222, \"#7201a8\"], [0.3333333333333333, \"#9c179e\"], [0.4444444444444444, \"#bd3786\"], [0.5555555555555556, \"#d8576b\"], [0.6666666666666666, \"#ed7953\"], [0.7777777777777778, \"#fb9f3a\"], [0.8888888888888888, \"#fdca26\"], [1.0, \"#f0f921\"]]}, \"colorway\": [\"#636efa\", \"#EF553B\", \"#00cc96\", \"#ab63fa\", \"#FFA15A\", \"#19d3f3\", \"#FF6692\", \"#B6E880\", \"#FF97FF\", \"#FECB52\"], \"font\": {\"color\": \"#2a3f5f\"}, \"geo\": {\"bgcolor\": \"white\", \"lakecolor\": \"white\", \"landcolor\": \"white\", \"showlakes\": true, \"showland\": true, \"subunitcolor\": \"#C8D4E3\"}, \"hoverlabel\": {\"align\": \"left\"}, \"hovermode\": \"closest\", \"mapbox\": {\"style\": \"light\"}, \"paper_bgcolor\": \"white\", \"plot_bgcolor\": \"white\", \"polar\": {\"angularaxis\": {\"gridcolor\": \"#EBF0F8\", \"linecolor\": \"#EBF0F8\", \"ticks\": \"\"}, \"bgcolor\": \"white\", \"radialaxis\": {\"gridcolor\": \"#EBF0F8\", \"linecolor\": \"#EBF0F8\", \"ticks\": \"\"}}, \"scene\": {\"xaxis\": {\"backgroundcolor\": \"white\", \"gridcolor\": \"#DFE8F3\", \"gridwidth\": 2, \"linecolor\": \"#EBF0F8\", \"showbackground\": true, \"ticks\": \"\", \"zerolinecolor\": \"#EBF0F8\"}, \"yaxis\": {\"backgroundcolor\": \"white\", \"gridcolor\": \"#DFE8F3\", \"gridwidth\": 2, \"linecolor\": \"#EBF0F8\", \"showbackground\": true, \"ticks\": \"\", \"zerolinecolor\": \"#EBF0F8\"}, \"zaxis\": {\"backgroundcolor\": \"white\", \"gridcolor\": \"#DFE8F3\", \"gridwidth\": 2, \"linecolor\": \"#EBF0F8\", \"showbackground\": true, \"ticks\": \"\", \"zerolinecolor\": \"#EBF0F8\"}}, \"shapedefaults\": {\"line\": {\"color\": \"#2a3f5f\"}}, \"ternary\": {\"aaxis\": {\"gridcolor\": \"#DFE8F3\", \"linecolor\": \"#A2B1C6\", \"ticks\": \"\"}, \"baxis\": {\"gridcolor\": \"#DFE8F3\", \"linecolor\": \"#A2B1C6\", \"ticks\": \"\"}, \"bgcolor\": \"white\", \"caxis\": {\"gridcolor\": \"#DFE8F3\", \"linecolor\": \"#A2B1C6\", \"ticks\": \"\"}}, \"title\": {\"x\": 0.05}, \"xaxis\": {\"automargin\": true, \"gridcolor\": \"#EBF0F8\", \"linecolor\": \"#EBF0F8\", \"ticks\": \"\", \"title\": {\"standoff\": 15}, \"zerolinecolor\": \"#EBF0F8\", \"zerolinewidth\": 2}, \"yaxis\": {\"automargin\": true, \"gridcolor\": \"#EBF0F8\", \"linecolor\": \"#EBF0F8\", \"ticks\": \"\", \"title\": {\"standoff\": 15}, \"zerolinecolor\": \"#EBF0F8\", \"zerolinewidth\": 2}}}, \"title\": {\"text\": \"\", \"x\": 0.5}, \"width\": 500, \"xaxis\": {\"linecolor\": \"Black\", \"linewidth\": 0.5, \"mirror\": true, \"range\": [10, 100], \"showline\": true, \"title\": {\"text\": \"#labeled data (%)\"}}, \"yaxis\": {\"linecolor\": \"Black\", \"linewidth\": 0.5, \"mirror\": true, \"range\": [22.712927852084476, 100], \"showline\": true, \"title\": {\"text\": \"Accuracy (%)\"}}},                        {\"responsive\": true}                    ).then(function(){\n",
       "                            \n",
       "var gd = document.getElementById('258e690c-05fe-4ced-82d1-31cc4a033cd6');\n",
       "var x = new MutationObserver(function (mutations, observer) {{\n",
       "        var display = window.getComputedStyle(gd).display;\n",
       "        if (!display || display === 'none') {{\n",
       "            console.log([gd, 'removed!']);\n",
       "            Plotly.purge(gd);\n",
       "            observer.disconnect();\n",
       "        }}\n",
       "}});\n",
       "\n",
       "// Listen for the removal of the full notebook cells\n",
       "var notebookContainer = gd.closest('#notebook-container');\n",
       "if (notebookContainer) {{\n",
       "    x.observe(notebookContainer, {childList: true});\n",
       "}}\n",
       "\n",
       "// Listen for the clearing of the current output cell\n",
       "var outputEl = gd.closest('.output');\n",
       "if (outputEl) {{\n",
       "    x.observe(outputEl, {childList: true});\n",
       "}}\n",
       "\n",
       "                        })                };                });            </script>        </div>"
      ]
     },
     "metadata": {},
     "output_type": "display_data"
    }
   ],
   "source": [
    "plot([optimal, argmax, spectral], \n",
    "     [\"OptimalSampler\", \"GreedyCVXSampler\", \"ClusterCVXSampler\"], \n",
    "     filename=\"cvx_optimal_K={}_sigma={}_alpha={}.pdf\".format(K, sigma, alpha), \n",
    "     opacity=0.3)"
   ]
  },
  {
   "cell_type": "code",
   "execution_count": 108,
   "metadata": {},
   "outputs": [
    {
     "data": {
      "application/vnd.plotly.v1+json": {
       "config": {
        "plotlyServerURL": "https://plot.ly"
       },
       "data": [
        {
         "fillcolor": "rgba(229, 134, 6, 0.3)",
         "line": {
          "color": "rgb(229, 134, 6)"
         },
         "mode": "lines",
         "name": "GreedyCVXSampler",
         "showlegend": false,
         "type": "scatter",
         "x": [
          10,
          13.10344827586207,
          16.20689655172414,
          19.310344827586206,
          22.413793103448278,
          25.517241379310345,
          28.620689655172413,
          31.724137931034484,
          34.827586206896555,
          37.93103448275862,
          41.03448275862069,
          44.13793103448276,
          47.241379310344826,
          50.3448275862069,
          53.44827586206897,
          56.55172413793103,
          59.6551724137931,
          62.758620689655174,
          65.86206896551724,
          68.9655172413793,
          72.06896551724138,
          75.17241379310344,
          78.27586206896552,
          81.37931034482759,
          84.48275862068965,
          87.58620689655173,
          90.6896551724138,
          93.79310344827586,
          96.89655172413794,
          100
         ],
         "y": [
          23.72365011623159,
          45.70511574500253,
          68.08900385672263,
          77.0643082592721,
          84.7473632350812,
          86.47040254865362,
          89.51236467282527,
          89.26882134333339,
          91.31273478654435,
          91.32625919959818,
          87.3506117554806,
          90.63677927457732,
          91.42656579915581,
          91.37068433978226,
          91.33567528029768,
          90.94124685175161,
          91.59440304233976,
          90.62782688622657,
          91.18721754476705,
          90.23655795853833,
          91.0640237648934,
          91.13159163035598,
          91.12581053398146,
          91.47908588459912,
          91.50799736177056,
          91.59165598495879,
          91.24012970289989,
          91.40604544500829,
          91.36581646277378,
          91.27251255459173
         ]
        },
        {
         "fill": "tonexty",
         "fillcolor": "rgba(229, 134, 6, 0.3)",
         "line": {
          "color": "rgb(229, 134, 6)"
         },
         "mode": "lines",
         "name": "GreedyCVXSampler",
         "showlegend": true,
         "type": "scatter",
         "x": [
          10,
          13.10344827586207,
          16.20689655172414,
          19.310344827586206,
          22.413793103448278,
          25.517241379310345,
          28.620689655172413,
          31.724137931034484,
          34.827586206896555,
          37.93103448275862,
          41.03448275862069,
          44.13793103448276,
          47.241379310344826,
          50.3448275862069,
          53.44827586206897,
          56.55172413793103,
          59.6551724137931,
          62.758620689655174,
          65.86206896551724,
          68.9655172413793,
          72.06896551724138,
          75.17241379310344,
          78.27586206896552,
          81.37931034482759,
          84.48275862068965,
          87.58620689655173,
          90.6896551724138,
          93.79310344827586,
          96.89655172413794,
          100
         ],
         "y": [
          55.42449803191656,
          64.28407965729633,
          85.20233713944597,
          92.68036607022982,
          95.19907354652801,
          96.03886948199775,
          98.34663915859235,
          98.01189385462318,
          99.28649892993076,
          99.26224654752826,
          97.88003958551559,
          99.52362940996929,
          99.30906638475227,
          99.61220199482821,
          99.65117018585813,
          99.64125634109642,
          99.62092262815833,
          99.79822675362017,
          99.68532396225721,
          100.04032582179374,
          99.9903823653748,
          99.85461526619574,
          99.83587528977331,
          99.93164208474953,
          99.73338194857426,
          99.79531719511782,
          99.88554079518438,
          99.80314995729054,
          99.8724977134714,
          99.88304300096384
         ]
        },
        {
         "fillcolor": "rgba(93, 105, 177, 0.3)",
         "line": {
          "color": "rgb(93, 105, 177)"
         },
         "mode": "lines",
         "name": "GreedyCVXSampler+OnehotProb*",
         "showlegend": false,
         "type": "scatter",
         "x": [
          10,
          13.10344827586207,
          16.20689655172414,
          19.310344827586206,
          22.413793103448278,
          25.517241379310345,
          28.620689655172413,
          31.724137931034484,
          34.827586206896555,
          37.93103448275862,
          41.03448275862069,
          44.13793103448276,
          47.241379310344826,
          50.3448275862069,
          53.44827586206897,
          56.55172413793103,
          59.6551724137931,
          62.758620689655174,
          65.86206896551724,
          68.9655172413793,
          72.06896551724138,
          75.17241379310344,
          78.27586206896552,
          81.37931034482759,
          84.48275862068965,
          87.58620689655173,
          90.6896551724138,
          93.79310344827586,
          96.89655172413794,
          100
         ],
         "y": [
          23.538485753510997,
          33.8591954789824,
          63.10498479844577,
          76.32727894613834,
          71.87741899612648,
          73.05330247323448,
          89.34394712519291,
          84.29155951861283,
          87.09049844297921,
          87.17859321439225,
          88.19621108983065,
          89.99467421399687,
          89.95072254449201,
          90.58029124960665,
          91.46811889966081,
          91.61602642313882,
          91.45423269654634,
          91.33845972072334,
          91.40747934351924,
          91.45355214936772,
          91.53839587009274,
          91.59618667435566,
          91.60095825271031,
          91.3819782221592,
          91.36294625352636,
          91.298273931168,
          91.21466599097178,
          91.46392844613212,
          91.44257121210248,
          91.27251255459173
         ]
        },
        {
         "fill": "tonexty",
         "fillcolor": "rgba(93, 105, 177, 0.3)",
         "line": {
          "color": "rgb(93, 105, 177)"
         },
         "mode": "lines",
         "name": "GreedyCVXSampler+OnehotProb*",
         "showlegend": true,
         "type": "scatter",
         "x": [
          10,
          13.10344827586207,
          16.20689655172414,
          19.310344827586206,
          22.413793103448278,
          25.517241379310345,
          28.620689655172413,
          31.724137931034484,
          34.827586206896555,
          37.93103448275862,
          41.03448275862069,
          44.13793103448276,
          47.241379310344826,
          50.3448275862069,
          53.44827586206897,
          56.55172413793103,
          59.6551724137931,
          62.758620689655174,
          65.86206896551724,
          68.9655172413793,
          72.06896551724138,
          75.17241379310344,
          78.27586206896552,
          81.37931034482759,
          84.48275862068965,
          87.58620689655173,
          90.6896551724138,
          93.79310344827586,
          96.89655172413794,
          100
         ],
         "y": [
          52.86151424648901,
          57.15658996163063,
          82.38538557192462,
          92.91512207557304,
          94.05361548663213,
          99.03328756507969,
          100.10662758745077,
          102.18200369977795,
          101.26735596315105,
          101.21527651740853,
          101.11055774797268,
          100.65768849353826,
          100.31811525882853,
          100.07207145792849,
          99.97121698795094,
          99.97401189103745,
          99.87373665211265,
          99.706751007246,
          99.69750149939262,
          99.8399344406706,
          99.74666160117162,
          99.76422201019093,
          99.8013405978644,
          99.96208308052277,
          99.94816485758474,
          99.94617051327644,
          99.81828420059907,
          99.8157650404579,
          99.85091537793582,
          99.88304300096384
         ]
        },
        {
         "fillcolor": "rgba(82, 188, 163, 0.3)",
         "line": {
          "color": "rgb(82, 188, 163)"
         },
         "mode": "lines",
         "name": "GreedyCVXSampler+Prob*",
         "showlegend": false,
         "type": "scatter",
         "x": [
          10,
          13.10344827586207,
          16.20689655172414,
          19.310344827586206,
          22.413793103448278,
          25.517241379310345,
          28.620689655172413,
          31.724137931034484,
          34.827586206896555,
          37.93103448275862,
          41.03448275862069,
          44.13793103448276,
          47.241379310344826,
          50.3448275862069,
          53.44827586206897,
          56.55172413793103,
          59.6551724137931,
          62.758620689655174,
          65.86206896551724,
          68.9655172413793,
          72.06896551724138,
          75.17241379310344,
          78.27586206896552,
          81.37931034482759,
          84.48275862068965,
          87.58620689655173,
          90.6896551724138,
          93.79310344827586,
          96.89655172413794,
          100
         ],
         "y": [
          20.888822349485018,
          44.193506093566626,
          71.30318770019824,
          76.69860259305372,
          85.07817421547706,
          87.19431755088141,
          89.24276743566628,
          88.5405545003561,
          88.59867796648167,
          90.18412708041882,
          85.87837925191194,
          83.21991658345794,
          87.64023581052496,
          91.53389336785594,
          91.46935276159708,
          91.20857923902915,
          91.3206985150044,
          91.28959708587428,
          90.89680376223933,
          91.40497656068035,
          91.62036603650822,
          91.53656919034657,
          91.38368673295302,
          90.8613082891047,
          91.41001404307612,
          91.640771478271,
          91.31152141458836,
          91.4654590356761,
          91.40355665939977,
          91.27251255459171
         ]
        },
        {
         "fill": "tonexty",
         "fillcolor": "rgba(82, 188, 163, 0.3)",
         "line": {
          "color": "rgb(82, 188, 163)"
         },
         "mode": "lines",
         "name": "GreedyCVXSampler+Prob*",
         "showlegend": true,
         "type": "scatter",
         "x": [
          10,
          13.10344827586207,
          16.20689655172414,
          19.310344827586206,
          22.413793103448278,
          25.517241379310345,
          28.620689655172413,
          31.724137931034484,
          34.827586206896555,
          37.93103448275862,
          41.03448275862069,
          44.13793103448276,
          47.241379310344826,
          50.3448275862069,
          53.44827586206897,
          56.55172413793103,
          59.6551724137931,
          62.758620689655174,
          65.86206896551724,
          68.9655172413793,
          72.06896551724138,
          75.17241379310344,
          78.27586206896552,
          81.37931034482759,
          84.48275862068965,
          87.58620689655173,
          90.6896551724138,
          93.79310344827586,
          96.89655172413794,
          100
         ],
         "y": [
          51.96673320607055,
          71.10151306352148,
          93.36858752330113,
          94.73077160873427,
          96.14839028005294,
          97.53326865601514,
          98.2756233689314,
          98.34526925443318,
          98.21026200797554,
          99.39339526951733,
          99.23119929214938,
          99.54713322497119,
          99.00599662881092,
          99.8678946270355,
          99.60896141464814,
          99.56398781077925,
          99.64379701500836,
          99.72496230109891,
          99.9430429810557,
          99.89515115324045,
          99.90683702862589,
          99.80136184413618,
          99.9113324241351,
          100.0245154656846,
          99.87734227876295,
          99.85731281291672,
          99.877750616063,
          99.79584364631623,
          99.83475751684541,
          99.88304300096382
         ]
        }
       ],
       "layout": {
        "font": {
         "size": 15
        },
        "height": 400,
        "legend": {
         "bgcolor": "rgba(0,0,0,0)",
         "bordercolor": "Black",
         "borderwidth": 1,
         "x": 0.98,
         "xanchor": "right",
         "y": 0.05,
         "yanchor": "bottom"
        },
        "margin": {
         "b": 40,
         "l": 0,
         "r": 0,
         "t": 40
        },
        "template": {
         "data": {
          "bar": [
           {
            "error_x": {
             "color": "#2a3f5f"
            },
            "error_y": {
             "color": "#2a3f5f"
            },
            "marker": {
             "line": {
              "color": "white",
              "width": 0.5
             }
            },
            "type": "bar"
           }
          ],
          "barpolar": [
           {
            "marker": {
             "line": {
              "color": "white",
              "width": 0.5
             }
            },
            "type": "barpolar"
           }
          ],
          "carpet": [
           {
            "aaxis": {
             "endlinecolor": "#2a3f5f",
             "gridcolor": "#C8D4E3",
             "linecolor": "#C8D4E3",
             "minorgridcolor": "#C8D4E3",
             "startlinecolor": "#2a3f5f"
            },
            "baxis": {
             "endlinecolor": "#2a3f5f",
             "gridcolor": "#C8D4E3",
             "linecolor": "#C8D4E3",
             "minorgridcolor": "#C8D4E3",
             "startlinecolor": "#2a3f5f"
            },
            "type": "carpet"
           }
          ],
          "choropleth": [
           {
            "colorbar": {
             "outlinewidth": 0,
             "ticks": ""
            },
            "type": "choropleth"
           }
          ],
          "contour": [
           {
            "colorbar": {
             "outlinewidth": 0,
             "ticks": ""
            },
            "colorscale": [
             [
              0,
              "#0d0887"
             ],
             [
              0.1111111111111111,
              "#46039f"
             ],
             [
              0.2222222222222222,
              "#7201a8"
             ],
             [
              0.3333333333333333,
              "#9c179e"
             ],
             [
              0.4444444444444444,
              "#bd3786"
             ],
             [
              0.5555555555555556,
              "#d8576b"
             ],
             [
              0.6666666666666666,
              "#ed7953"
             ],
             [
              0.7777777777777778,
              "#fb9f3a"
             ],
             [
              0.8888888888888888,
              "#fdca26"
             ],
             [
              1,
              "#f0f921"
             ]
            ],
            "type": "contour"
           }
          ],
          "contourcarpet": [
           {
            "colorbar": {
             "outlinewidth": 0,
             "ticks": ""
            },
            "type": "contourcarpet"
           }
          ],
          "heatmap": [
           {
            "colorbar": {
             "outlinewidth": 0,
             "ticks": ""
            },
            "colorscale": [
             [
              0,
              "#0d0887"
             ],
             [
              0.1111111111111111,
              "#46039f"
             ],
             [
              0.2222222222222222,
              "#7201a8"
             ],
             [
              0.3333333333333333,
              "#9c179e"
             ],
             [
              0.4444444444444444,
              "#bd3786"
             ],
             [
              0.5555555555555556,
              "#d8576b"
             ],
             [
              0.6666666666666666,
              "#ed7953"
             ],
             [
              0.7777777777777778,
              "#fb9f3a"
             ],
             [
              0.8888888888888888,
              "#fdca26"
             ],
             [
              1,
              "#f0f921"
             ]
            ],
            "type": "heatmap"
           }
          ],
          "heatmapgl": [
           {
            "colorbar": {
             "outlinewidth": 0,
             "ticks": ""
            },
            "colorscale": [
             [
              0,
              "#0d0887"
             ],
             [
              0.1111111111111111,
              "#46039f"
             ],
             [
              0.2222222222222222,
              "#7201a8"
             ],
             [
              0.3333333333333333,
              "#9c179e"
             ],
             [
              0.4444444444444444,
              "#bd3786"
             ],
             [
              0.5555555555555556,
              "#d8576b"
             ],
             [
              0.6666666666666666,
              "#ed7953"
             ],
             [
              0.7777777777777778,
              "#fb9f3a"
             ],
             [
              0.8888888888888888,
              "#fdca26"
             ],
             [
              1,
              "#f0f921"
             ]
            ],
            "type": "heatmapgl"
           }
          ],
          "histogram": [
           {
            "marker": {
             "colorbar": {
              "outlinewidth": 0,
              "ticks": ""
             }
            },
            "type": "histogram"
           }
          ],
          "histogram2d": [
           {
            "colorbar": {
             "outlinewidth": 0,
             "ticks": ""
            },
            "colorscale": [
             [
              0,
              "#0d0887"
             ],
             [
              0.1111111111111111,
              "#46039f"
             ],
             [
              0.2222222222222222,
              "#7201a8"
             ],
             [
              0.3333333333333333,
              "#9c179e"
             ],
             [
              0.4444444444444444,
              "#bd3786"
             ],
             [
              0.5555555555555556,
              "#d8576b"
             ],
             [
              0.6666666666666666,
              "#ed7953"
             ],
             [
              0.7777777777777778,
              "#fb9f3a"
             ],
             [
              0.8888888888888888,
              "#fdca26"
             ],
             [
              1,
              "#f0f921"
             ]
            ],
            "type": "histogram2d"
           }
          ],
          "histogram2dcontour": [
           {
            "colorbar": {
             "outlinewidth": 0,
             "ticks": ""
            },
            "colorscale": [
             [
              0,
              "#0d0887"
             ],
             [
              0.1111111111111111,
              "#46039f"
             ],
             [
              0.2222222222222222,
              "#7201a8"
             ],
             [
              0.3333333333333333,
              "#9c179e"
             ],
             [
              0.4444444444444444,
              "#bd3786"
             ],
             [
              0.5555555555555556,
              "#d8576b"
             ],
             [
              0.6666666666666666,
              "#ed7953"
             ],
             [
              0.7777777777777778,
              "#fb9f3a"
             ],
             [
              0.8888888888888888,
              "#fdca26"
             ],
             [
              1,
              "#f0f921"
             ]
            ],
            "type": "histogram2dcontour"
           }
          ],
          "mesh3d": [
           {
            "colorbar": {
             "outlinewidth": 0,
             "ticks": ""
            },
            "type": "mesh3d"
           }
          ],
          "parcoords": [
           {
            "line": {
             "colorbar": {
              "outlinewidth": 0,
              "ticks": ""
             }
            },
            "type": "parcoords"
           }
          ],
          "pie": [
           {
            "automargin": true,
            "type": "pie"
           }
          ],
          "scatter": [
           {
            "marker": {
             "colorbar": {
              "outlinewidth": 0,
              "ticks": ""
             }
            },
            "type": "scatter"
           }
          ],
          "scatter3d": [
           {
            "line": {
             "colorbar": {
              "outlinewidth": 0,
              "ticks": ""
             }
            },
            "marker": {
             "colorbar": {
              "outlinewidth": 0,
              "ticks": ""
             }
            },
            "type": "scatter3d"
           }
          ],
          "scattercarpet": [
           {
            "marker": {
             "colorbar": {
              "outlinewidth": 0,
              "ticks": ""
             }
            },
            "type": "scattercarpet"
           }
          ],
          "scattergeo": [
           {
            "marker": {
             "colorbar": {
              "outlinewidth": 0,
              "ticks": ""
             }
            },
            "type": "scattergeo"
           }
          ],
          "scattergl": [
           {
            "marker": {
             "colorbar": {
              "outlinewidth": 0,
              "ticks": ""
             }
            },
            "type": "scattergl"
           }
          ],
          "scattermapbox": [
           {
            "marker": {
             "colorbar": {
              "outlinewidth": 0,
              "ticks": ""
             }
            },
            "type": "scattermapbox"
           }
          ],
          "scatterpolar": [
           {
            "marker": {
             "colorbar": {
              "outlinewidth": 0,
              "ticks": ""
             }
            },
            "type": "scatterpolar"
           }
          ],
          "scatterpolargl": [
           {
            "marker": {
             "colorbar": {
              "outlinewidth": 0,
              "ticks": ""
             }
            },
            "type": "scatterpolargl"
           }
          ],
          "scatterternary": [
           {
            "marker": {
             "colorbar": {
              "outlinewidth": 0,
              "ticks": ""
             }
            },
            "type": "scatterternary"
           }
          ],
          "surface": [
           {
            "colorbar": {
             "outlinewidth": 0,
             "ticks": ""
            },
            "colorscale": [
             [
              0,
              "#0d0887"
             ],
             [
              0.1111111111111111,
              "#46039f"
             ],
             [
              0.2222222222222222,
              "#7201a8"
             ],
             [
              0.3333333333333333,
              "#9c179e"
             ],
             [
              0.4444444444444444,
              "#bd3786"
             ],
             [
              0.5555555555555556,
              "#d8576b"
             ],
             [
              0.6666666666666666,
              "#ed7953"
             ],
             [
              0.7777777777777778,
              "#fb9f3a"
             ],
             [
              0.8888888888888888,
              "#fdca26"
             ],
             [
              1,
              "#f0f921"
             ]
            ],
            "type": "surface"
           }
          ],
          "table": [
           {
            "cells": {
             "fill": {
              "color": "#EBF0F8"
             },
             "line": {
              "color": "white"
             }
            },
            "header": {
             "fill": {
              "color": "#C8D4E3"
             },
             "line": {
              "color": "white"
             }
            },
            "type": "table"
           }
          ]
         },
         "layout": {
          "annotationdefaults": {
           "arrowcolor": "#2a3f5f",
           "arrowhead": 0,
           "arrowwidth": 1
          },
          "coloraxis": {
           "colorbar": {
            "outlinewidth": 0,
            "ticks": ""
           }
          },
          "colorscale": {
           "diverging": [
            [
             0,
             "#8e0152"
            ],
            [
             0.1,
             "#c51b7d"
            ],
            [
             0.2,
             "#de77ae"
            ],
            [
             0.3,
             "#f1b6da"
            ],
            [
             0.4,
             "#fde0ef"
            ],
            [
             0.5,
             "#f7f7f7"
            ],
            [
             0.6,
             "#e6f5d0"
            ],
            [
             0.7,
             "#b8e186"
            ],
            [
             0.8,
             "#7fbc41"
            ],
            [
             0.9,
             "#4d9221"
            ],
            [
             1,
             "#276419"
            ]
           ],
           "sequential": [
            [
             0,
             "#0d0887"
            ],
            [
             0.1111111111111111,
             "#46039f"
            ],
            [
             0.2222222222222222,
             "#7201a8"
            ],
            [
             0.3333333333333333,
             "#9c179e"
            ],
            [
             0.4444444444444444,
             "#bd3786"
            ],
            [
             0.5555555555555556,
             "#d8576b"
            ],
            [
             0.6666666666666666,
             "#ed7953"
            ],
            [
             0.7777777777777778,
             "#fb9f3a"
            ],
            [
             0.8888888888888888,
             "#fdca26"
            ],
            [
             1,
             "#f0f921"
            ]
           ],
           "sequentialminus": [
            [
             0,
             "#0d0887"
            ],
            [
             0.1111111111111111,
             "#46039f"
            ],
            [
             0.2222222222222222,
             "#7201a8"
            ],
            [
             0.3333333333333333,
             "#9c179e"
            ],
            [
             0.4444444444444444,
             "#bd3786"
            ],
            [
             0.5555555555555556,
             "#d8576b"
            ],
            [
             0.6666666666666666,
             "#ed7953"
            ],
            [
             0.7777777777777778,
             "#fb9f3a"
            ],
            [
             0.8888888888888888,
             "#fdca26"
            ],
            [
             1,
             "#f0f921"
            ]
           ]
          },
          "colorway": [
           "#636efa",
           "#EF553B",
           "#00cc96",
           "#ab63fa",
           "#FFA15A",
           "#19d3f3",
           "#FF6692",
           "#B6E880",
           "#FF97FF",
           "#FECB52"
          ],
          "font": {
           "color": "#2a3f5f"
          },
          "geo": {
           "bgcolor": "white",
           "lakecolor": "white",
           "landcolor": "white",
           "showlakes": true,
           "showland": true,
           "subunitcolor": "#C8D4E3"
          },
          "hoverlabel": {
           "align": "left"
          },
          "hovermode": "closest",
          "mapbox": {
           "style": "light"
          },
          "paper_bgcolor": "white",
          "plot_bgcolor": "white",
          "polar": {
           "angularaxis": {
            "gridcolor": "#EBF0F8",
            "linecolor": "#EBF0F8",
            "ticks": ""
           },
           "bgcolor": "white",
           "radialaxis": {
            "gridcolor": "#EBF0F8",
            "linecolor": "#EBF0F8",
            "ticks": ""
           }
          },
          "scene": {
           "xaxis": {
            "backgroundcolor": "white",
            "gridcolor": "#DFE8F3",
            "gridwidth": 2,
            "linecolor": "#EBF0F8",
            "showbackground": true,
            "ticks": "",
            "zerolinecolor": "#EBF0F8"
           },
           "yaxis": {
            "backgroundcolor": "white",
            "gridcolor": "#DFE8F3",
            "gridwidth": 2,
            "linecolor": "#EBF0F8",
            "showbackground": true,
            "ticks": "",
            "zerolinecolor": "#EBF0F8"
           },
           "zaxis": {
            "backgroundcolor": "white",
            "gridcolor": "#DFE8F3",
            "gridwidth": 2,
            "linecolor": "#EBF0F8",
            "showbackground": true,
            "ticks": "",
            "zerolinecolor": "#EBF0F8"
           }
          },
          "shapedefaults": {
           "line": {
            "color": "#2a3f5f"
           }
          },
          "ternary": {
           "aaxis": {
            "gridcolor": "#DFE8F3",
            "linecolor": "#A2B1C6",
            "ticks": ""
           },
           "baxis": {
            "gridcolor": "#DFE8F3",
            "linecolor": "#A2B1C6",
            "ticks": ""
           },
           "bgcolor": "white",
           "caxis": {
            "gridcolor": "#DFE8F3",
            "linecolor": "#A2B1C6",
            "ticks": ""
           }
          },
          "title": {
           "x": 0.05
          },
          "xaxis": {
           "automargin": true,
           "gridcolor": "#EBF0F8",
           "linecolor": "#EBF0F8",
           "ticks": "",
           "title": {
            "standoff": 15
           },
           "zerolinecolor": "#EBF0F8",
           "zerolinewidth": 2
          },
          "yaxis": {
           "automargin": true,
           "gridcolor": "#EBF0F8",
           "linecolor": "#EBF0F8",
           "ticks": "",
           "title": {
            "standoff": 15
           },
           "zerolinecolor": "#EBF0F8",
           "zerolinewidth": 2
          }
         }
        },
        "title": {
         "text": "",
         "x": 0.5
        },
        "width": 500,
        "xaxis": {
         "linecolor": "Black",
         "linewidth": 0.5,
         "mirror": true,
         "range": [
          10,
          100
         ],
         "showline": true,
         "title": {
          "text": "#labeled data (%)"
         }
        },
        "yaxis": {
         "linecolor": "Black",
         "linewidth": 0.5,
         "mirror": true,
         "range": [
          20.888822349485018,
          100
         ],
         "showline": true,
         "title": {
          "text": "Accuracy (%)"
         }
        }
       }
      },
      "text/html": [
       "<div>                            <div id=\"2634f7e5-a101-463a-8b25-0aa9fe25f7ef\" class=\"plotly-graph-div\" style=\"height:400px; width:500px;\"></div>            <script type=\"text/javascript\">                require([\"plotly\"], function(Plotly) {                    window.PLOTLYENV=window.PLOTLYENV || {};                                    if (document.getElementById(\"2634f7e5-a101-463a-8b25-0aa9fe25f7ef\")) {                    Plotly.newPlot(                        \"2634f7e5-a101-463a-8b25-0aa9fe25f7ef\",                        [{\"fillcolor\": \"rgba(229, 134, 6, 0.3)\", \"line\": {\"color\": \"rgb(229, 134, 6)\"}, \"mode\": \"lines\", \"name\": \"GreedyCVXSampler\", \"showlegend\": false, \"type\": \"scatter\", \"x\": [10.0, 13.10344827586207, 16.20689655172414, 19.310344827586206, 22.413793103448278, 25.517241379310345, 28.620689655172413, 31.724137931034484, 34.827586206896555, 37.93103448275862, 41.03448275862069, 44.13793103448276, 47.241379310344826, 50.3448275862069, 53.44827586206897, 56.55172413793103, 59.6551724137931, 62.758620689655174, 65.86206896551724, 68.9655172413793, 72.06896551724138, 75.17241379310344, 78.27586206896552, 81.37931034482759, 84.48275862068965, 87.58620689655173, 90.6896551724138, 93.79310344827586, 96.89655172413794, 100.0], \"y\": [23.72365011623159, 45.70511574500253, 68.08900385672263, 77.0643082592721, 84.7473632350812, 86.47040254865362, 89.51236467282527, 89.26882134333339, 91.31273478654435, 91.32625919959818, 87.3506117554806, 90.63677927457732, 91.42656579915581, 91.37068433978226, 91.33567528029768, 90.94124685175161, 91.59440304233976, 90.62782688622657, 91.18721754476705, 90.23655795853833, 91.0640237648934, 91.13159163035598, 91.12581053398146, 91.47908588459912, 91.50799736177056, 91.59165598495879, 91.24012970289989, 91.40604544500829, 91.36581646277378, 91.27251255459173]}, {\"fill\": \"tonexty\", \"fillcolor\": \"rgba(229, 134, 6, 0.3)\", \"line\": {\"color\": \"rgb(229, 134, 6)\"}, \"mode\": \"lines\", \"name\": \"GreedyCVXSampler\", \"showlegend\": true, \"type\": \"scatter\", \"x\": [10.0, 13.10344827586207, 16.20689655172414, 19.310344827586206, 22.413793103448278, 25.517241379310345, 28.620689655172413, 31.724137931034484, 34.827586206896555, 37.93103448275862, 41.03448275862069, 44.13793103448276, 47.241379310344826, 50.3448275862069, 53.44827586206897, 56.55172413793103, 59.6551724137931, 62.758620689655174, 65.86206896551724, 68.9655172413793, 72.06896551724138, 75.17241379310344, 78.27586206896552, 81.37931034482759, 84.48275862068965, 87.58620689655173, 90.6896551724138, 93.79310344827586, 96.89655172413794, 100.0], \"y\": [55.42449803191656, 64.28407965729633, 85.20233713944597, 92.68036607022982, 95.19907354652801, 96.03886948199775, 98.34663915859235, 98.01189385462318, 99.28649892993076, 99.26224654752826, 97.88003958551559, 99.52362940996929, 99.30906638475227, 99.61220199482821, 99.65117018585813, 99.64125634109642, 99.62092262815833, 99.79822675362017, 99.68532396225721, 100.04032582179374, 99.9903823653748, 99.85461526619574, 99.83587528977331, 99.93164208474953, 99.73338194857426, 99.79531719511782, 99.88554079518438, 99.80314995729054, 99.8724977134714, 99.88304300096384]}, {\"fillcolor\": \"rgba(93, 105, 177, 0.3)\", \"line\": {\"color\": \"rgb(93, 105, 177)\"}, \"mode\": \"lines\", \"name\": \"GreedyCVXSampler+OnehotProb*\", \"showlegend\": false, \"type\": \"scatter\", \"x\": [10.0, 13.10344827586207, 16.20689655172414, 19.310344827586206, 22.413793103448278, 25.517241379310345, 28.620689655172413, 31.724137931034484, 34.827586206896555, 37.93103448275862, 41.03448275862069, 44.13793103448276, 47.241379310344826, 50.3448275862069, 53.44827586206897, 56.55172413793103, 59.6551724137931, 62.758620689655174, 65.86206896551724, 68.9655172413793, 72.06896551724138, 75.17241379310344, 78.27586206896552, 81.37931034482759, 84.48275862068965, 87.58620689655173, 90.6896551724138, 93.79310344827586, 96.89655172413794, 100.0], \"y\": [23.538485753510997, 33.8591954789824, 63.10498479844577, 76.32727894613834, 71.87741899612648, 73.05330247323448, 89.34394712519291, 84.29155951861283, 87.09049844297921, 87.17859321439225, 88.19621108983065, 89.99467421399687, 89.95072254449201, 90.58029124960665, 91.46811889966081, 91.61602642313882, 91.45423269654634, 91.33845972072334, 91.40747934351924, 91.45355214936772, 91.53839587009274, 91.59618667435566, 91.60095825271031, 91.3819782221592, 91.36294625352636, 91.298273931168, 91.21466599097178, 91.46392844613212, 91.44257121210248, 91.27251255459173]}, {\"fill\": \"tonexty\", \"fillcolor\": \"rgba(93, 105, 177, 0.3)\", \"line\": {\"color\": \"rgb(93, 105, 177)\"}, \"mode\": \"lines\", \"name\": \"GreedyCVXSampler+OnehotProb*\", \"showlegend\": true, \"type\": \"scatter\", \"x\": [10.0, 13.10344827586207, 16.20689655172414, 19.310344827586206, 22.413793103448278, 25.517241379310345, 28.620689655172413, 31.724137931034484, 34.827586206896555, 37.93103448275862, 41.03448275862069, 44.13793103448276, 47.241379310344826, 50.3448275862069, 53.44827586206897, 56.55172413793103, 59.6551724137931, 62.758620689655174, 65.86206896551724, 68.9655172413793, 72.06896551724138, 75.17241379310344, 78.27586206896552, 81.37931034482759, 84.48275862068965, 87.58620689655173, 90.6896551724138, 93.79310344827586, 96.89655172413794, 100.0], \"y\": [52.86151424648901, 57.15658996163063, 82.38538557192462, 92.91512207557304, 94.05361548663213, 99.03328756507969, 100.10662758745077, 102.18200369977795, 101.26735596315105, 101.21527651740853, 101.11055774797268, 100.65768849353826, 100.31811525882853, 100.07207145792849, 99.97121698795094, 99.97401189103745, 99.87373665211265, 99.706751007246, 99.69750149939262, 99.8399344406706, 99.74666160117162, 99.76422201019093, 99.8013405978644, 99.96208308052277, 99.94816485758474, 99.94617051327644, 99.81828420059907, 99.8157650404579, 99.85091537793582, 99.88304300096384]}, {\"fillcolor\": \"rgba(82, 188, 163, 0.3)\", \"line\": {\"color\": \"rgb(82, 188, 163)\"}, \"mode\": \"lines\", \"name\": \"GreedyCVXSampler+Prob*\", \"showlegend\": false, \"type\": \"scatter\", \"x\": [10.0, 13.10344827586207, 16.20689655172414, 19.310344827586206, 22.413793103448278, 25.517241379310345, 28.620689655172413, 31.724137931034484, 34.827586206896555, 37.93103448275862, 41.03448275862069, 44.13793103448276, 47.241379310344826, 50.3448275862069, 53.44827586206897, 56.55172413793103, 59.6551724137931, 62.758620689655174, 65.86206896551724, 68.9655172413793, 72.06896551724138, 75.17241379310344, 78.27586206896552, 81.37931034482759, 84.48275862068965, 87.58620689655173, 90.6896551724138, 93.79310344827586, 96.89655172413794, 100.0], \"y\": [20.888822349485018, 44.193506093566626, 71.30318770019824, 76.69860259305372, 85.07817421547706, 87.19431755088141, 89.24276743566628, 88.5405545003561, 88.59867796648167, 90.18412708041882, 85.87837925191194, 83.21991658345794, 87.64023581052496, 91.53389336785594, 91.46935276159708, 91.20857923902915, 91.3206985150044, 91.28959708587428, 90.89680376223933, 91.40497656068035, 91.62036603650822, 91.53656919034657, 91.38368673295302, 90.8613082891047, 91.41001404307612, 91.640771478271, 91.31152141458836, 91.4654590356761, 91.40355665939977, 91.27251255459171]}, {\"fill\": \"tonexty\", \"fillcolor\": \"rgba(82, 188, 163, 0.3)\", \"line\": {\"color\": \"rgb(82, 188, 163)\"}, \"mode\": \"lines\", \"name\": \"GreedyCVXSampler+Prob*\", \"showlegend\": true, \"type\": \"scatter\", \"x\": [10.0, 13.10344827586207, 16.20689655172414, 19.310344827586206, 22.413793103448278, 25.517241379310345, 28.620689655172413, 31.724137931034484, 34.827586206896555, 37.93103448275862, 41.03448275862069, 44.13793103448276, 47.241379310344826, 50.3448275862069, 53.44827586206897, 56.55172413793103, 59.6551724137931, 62.758620689655174, 65.86206896551724, 68.9655172413793, 72.06896551724138, 75.17241379310344, 78.27586206896552, 81.37931034482759, 84.48275862068965, 87.58620689655173, 90.6896551724138, 93.79310344827586, 96.89655172413794, 100.0], \"y\": [51.96673320607055, 71.10151306352148, 93.36858752330113, 94.73077160873427, 96.14839028005294, 97.53326865601514, 98.2756233689314, 98.34526925443318, 98.21026200797554, 99.39339526951733, 99.23119929214938, 99.54713322497119, 99.00599662881092, 99.8678946270355, 99.60896141464814, 99.56398781077925, 99.64379701500836, 99.72496230109891, 99.9430429810557, 99.89515115324045, 99.90683702862589, 99.80136184413618, 99.9113324241351, 100.0245154656846, 99.87734227876295, 99.85731281291672, 99.877750616063, 99.79584364631623, 99.83475751684541, 99.88304300096382]}],                        {\"font\": {\"size\": 15}, \"height\": 400, \"legend\": {\"bgcolor\": \"rgba(0,0,0,0)\", \"bordercolor\": \"Black\", \"borderwidth\": 1, \"x\": 0.98, \"xanchor\": \"right\", \"y\": 0.05, \"yanchor\": \"bottom\"}, \"margin\": {\"b\": 40, \"l\": 0, \"r\": 0, \"t\": 40}, \"template\": {\"data\": {\"bar\": [{\"error_x\": {\"color\": \"#2a3f5f\"}, \"error_y\": {\"color\": \"#2a3f5f\"}, \"marker\": {\"line\": {\"color\": \"white\", \"width\": 0.5}}, \"type\": \"bar\"}], \"barpolar\": [{\"marker\": {\"line\": {\"color\": \"white\", \"width\": 0.5}}, \"type\": \"barpolar\"}], \"carpet\": [{\"aaxis\": {\"endlinecolor\": \"#2a3f5f\", \"gridcolor\": \"#C8D4E3\", \"linecolor\": \"#C8D4E3\", \"minorgridcolor\": \"#C8D4E3\", \"startlinecolor\": \"#2a3f5f\"}, \"baxis\": {\"endlinecolor\": \"#2a3f5f\", \"gridcolor\": \"#C8D4E3\", \"linecolor\": \"#C8D4E3\", \"minorgridcolor\": \"#C8D4E3\", \"startlinecolor\": \"#2a3f5f\"}, \"type\": \"carpet\"}], \"choropleth\": [{\"colorbar\": {\"outlinewidth\": 0, \"ticks\": \"\"}, \"type\": \"choropleth\"}], \"contour\": [{\"colorbar\": {\"outlinewidth\": 0, \"ticks\": \"\"}, \"colorscale\": [[0.0, \"#0d0887\"], [0.1111111111111111, \"#46039f\"], [0.2222222222222222, \"#7201a8\"], [0.3333333333333333, \"#9c179e\"], [0.4444444444444444, \"#bd3786\"], [0.5555555555555556, \"#d8576b\"], [0.6666666666666666, \"#ed7953\"], [0.7777777777777778, \"#fb9f3a\"], [0.8888888888888888, \"#fdca26\"], [1.0, \"#f0f921\"]], \"type\": \"contour\"}], \"contourcarpet\": [{\"colorbar\": {\"outlinewidth\": 0, \"ticks\": \"\"}, \"type\": \"contourcarpet\"}], \"heatmap\": [{\"colorbar\": {\"outlinewidth\": 0, \"ticks\": \"\"}, \"colorscale\": [[0.0, \"#0d0887\"], [0.1111111111111111, \"#46039f\"], [0.2222222222222222, \"#7201a8\"], [0.3333333333333333, \"#9c179e\"], [0.4444444444444444, \"#bd3786\"], [0.5555555555555556, \"#d8576b\"], [0.6666666666666666, \"#ed7953\"], [0.7777777777777778, \"#fb9f3a\"], [0.8888888888888888, \"#fdca26\"], [1.0, \"#f0f921\"]], \"type\": \"heatmap\"}], \"heatmapgl\": [{\"colorbar\": {\"outlinewidth\": 0, \"ticks\": \"\"}, \"colorscale\": [[0.0, \"#0d0887\"], [0.1111111111111111, \"#46039f\"], [0.2222222222222222, \"#7201a8\"], [0.3333333333333333, \"#9c179e\"], [0.4444444444444444, \"#bd3786\"], [0.5555555555555556, \"#d8576b\"], [0.6666666666666666, \"#ed7953\"], [0.7777777777777778, \"#fb9f3a\"], [0.8888888888888888, \"#fdca26\"], [1.0, \"#f0f921\"]], \"type\": \"heatmapgl\"}], \"histogram\": [{\"marker\": {\"colorbar\": {\"outlinewidth\": 0, \"ticks\": \"\"}}, \"type\": \"histogram\"}], \"histogram2d\": [{\"colorbar\": {\"outlinewidth\": 0, \"ticks\": \"\"}, \"colorscale\": [[0.0, \"#0d0887\"], [0.1111111111111111, \"#46039f\"], [0.2222222222222222, \"#7201a8\"], [0.3333333333333333, \"#9c179e\"], [0.4444444444444444, \"#bd3786\"], [0.5555555555555556, \"#d8576b\"], [0.6666666666666666, \"#ed7953\"], [0.7777777777777778, \"#fb9f3a\"], [0.8888888888888888, \"#fdca26\"], [1.0, \"#f0f921\"]], \"type\": \"histogram2d\"}], \"histogram2dcontour\": [{\"colorbar\": {\"outlinewidth\": 0, \"ticks\": \"\"}, \"colorscale\": [[0.0, \"#0d0887\"], [0.1111111111111111, \"#46039f\"], [0.2222222222222222, \"#7201a8\"], [0.3333333333333333, \"#9c179e\"], [0.4444444444444444, \"#bd3786\"], [0.5555555555555556, \"#d8576b\"], [0.6666666666666666, \"#ed7953\"], [0.7777777777777778, \"#fb9f3a\"], [0.8888888888888888, \"#fdca26\"], [1.0, \"#f0f921\"]], \"type\": \"histogram2dcontour\"}], \"mesh3d\": [{\"colorbar\": {\"outlinewidth\": 0, \"ticks\": \"\"}, \"type\": \"mesh3d\"}], \"parcoords\": [{\"line\": {\"colorbar\": {\"outlinewidth\": 0, \"ticks\": \"\"}}, \"type\": \"parcoords\"}], \"pie\": [{\"automargin\": true, \"type\": \"pie\"}], \"scatter\": [{\"marker\": {\"colorbar\": {\"outlinewidth\": 0, \"ticks\": \"\"}}, \"type\": \"scatter\"}], \"scatter3d\": [{\"line\": {\"colorbar\": {\"outlinewidth\": 0, \"ticks\": \"\"}}, \"marker\": {\"colorbar\": {\"outlinewidth\": 0, \"ticks\": \"\"}}, \"type\": \"scatter3d\"}], \"scattercarpet\": [{\"marker\": {\"colorbar\": {\"outlinewidth\": 0, \"ticks\": \"\"}}, \"type\": \"scattercarpet\"}], \"scattergeo\": [{\"marker\": {\"colorbar\": {\"outlinewidth\": 0, \"ticks\": \"\"}}, \"type\": \"scattergeo\"}], \"scattergl\": [{\"marker\": {\"colorbar\": {\"outlinewidth\": 0, \"ticks\": \"\"}}, \"type\": \"scattergl\"}], \"scattermapbox\": [{\"marker\": {\"colorbar\": {\"outlinewidth\": 0, \"ticks\": \"\"}}, \"type\": \"scattermapbox\"}], \"scatterpolar\": [{\"marker\": {\"colorbar\": {\"outlinewidth\": 0, \"ticks\": \"\"}}, \"type\": \"scatterpolar\"}], \"scatterpolargl\": [{\"marker\": {\"colorbar\": {\"outlinewidth\": 0, \"ticks\": \"\"}}, \"type\": \"scatterpolargl\"}], \"scatterternary\": [{\"marker\": {\"colorbar\": {\"outlinewidth\": 0, \"ticks\": \"\"}}, \"type\": \"scatterternary\"}], \"surface\": [{\"colorbar\": {\"outlinewidth\": 0, \"ticks\": \"\"}, \"colorscale\": [[0.0, \"#0d0887\"], [0.1111111111111111, \"#46039f\"], [0.2222222222222222, \"#7201a8\"], [0.3333333333333333, \"#9c179e\"], [0.4444444444444444, \"#bd3786\"], [0.5555555555555556, \"#d8576b\"], [0.6666666666666666, \"#ed7953\"], [0.7777777777777778, \"#fb9f3a\"], [0.8888888888888888, \"#fdca26\"], [1.0, \"#f0f921\"]], \"type\": \"surface\"}], \"table\": [{\"cells\": {\"fill\": {\"color\": \"#EBF0F8\"}, \"line\": {\"color\": \"white\"}}, \"header\": {\"fill\": {\"color\": \"#C8D4E3\"}, \"line\": {\"color\": \"white\"}}, \"type\": \"table\"}]}, \"layout\": {\"annotationdefaults\": {\"arrowcolor\": \"#2a3f5f\", \"arrowhead\": 0, \"arrowwidth\": 1}, \"coloraxis\": {\"colorbar\": {\"outlinewidth\": 0, \"ticks\": \"\"}}, \"colorscale\": {\"diverging\": [[0, \"#8e0152\"], [0.1, \"#c51b7d\"], [0.2, \"#de77ae\"], [0.3, \"#f1b6da\"], [0.4, \"#fde0ef\"], [0.5, \"#f7f7f7\"], [0.6, \"#e6f5d0\"], [0.7, \"#b8e186\"], [0.8, \"#7fbc41\"], [0.9, \"#4d9221\"], [1, \"#276419\"]], \"sequential\": [[0.0, \"#0d0887\"], [0.1111111111111111, \"#46039f\"], [0.2222222222222222, \"#7201a8\"], [0.3333333333333333, \"#9c179e\"], [0.4444444444444444, \"#bd3786\"], [0.5555555555555556, \"#d8576b\"], [0.6666666666666666, \"#ed7953\"], [0.7777777777777778, \"#fb9f3a\"], [0.8888888888888888, \"#fdca26\"], [1.0, \"#f0f921\"]], \"sequentialminus\": [[0.0, \"#0d0887\"], [0.1111111111111111, \"#46039f\"], [0.2222222222222222, \"#7201a8\"], [0.3333333333333333, \"#9c179e\"], [0.4444444444444444, \"#bd3786\"], [0.5555555555555556, \"#d8576b\"], [0.6666666666666666, \"#ed7953\"], [0.7777777777777778, \"#fb9f3a\"], [0.8888888888888888, \"#fdca26\"], [1.0, \"#f0f921\"]]}, \"colorway\": [\"#636efa\", \"#EF553B\", \"#00cc96\", \"#ab63fa\", \"#FFA15A\", \"#19d3f3\", \"#FF6692\", \"#B6E880\", \"#FF97FF\", \"#FECB52\"], \"font\": {\"color\": \"#2a3f5f\"}, \"geo\": {\"bgcolor\": \"white\", \"lakecolor\": \"white\", \"landcolor\": \"white\", \"showlakes\": true, \"showland\": true, \"subunitcolor\": \"#C8D4E3\"}, \"hoverlabel\": {\"align\": \"left\"}, \"hovermode\": \"closest\", \"mapbox\": {\"style\": \"light\"}, \"paper_bgcolor\": \"white\", \"plot_bgcolor\": \"white\", \"polar\": {\"angularaxis\": {\"gridcolor\": \"#EBF0F8\", \"linecolor\": \"#EBF0F8\", \"ticks\": \"\"}, \"bgcolor\": \"white\", \"radialaxis\": {\"gridcolor\": \"#EBF0F8\", \"linecolor\": \"#EBF0F8\", \"ticks\": \"\"}}, \"scene\": {\"xaxis\": {\"backgroundcolor\": \"white\", \"gridcolor\": \"#DFE8F3\", \"gridwidth\": 2, \"linecolor\": \"#EBF0F8\", \"showbackground\": true, \"ticks\": \"\", \"zerolinecolor\": \"#EBF0F8\"}, \"yaxis\": {\"backgroundcolor\": \"white\", \"gridcolor\": \"#DFE8F3\", \"gridwidth\": 2, \"linecolor\": \"#EBF0F8\", \"showbackground\": true, \"ticks\": \"\", \"zerolinecolor\": \"#EBF0F8\"}, \"zaxis\": {\"backgroundcolor\": \"white\", \"gridcolor\": \"#DFE8F3\", \"gridwidth\": 2, \"linecolor\": \"#EBF0F8\", \"showbackground\": true, \"ticks\": \"\", \"zerolinecolor\": \"#EBF0F8\"}}, \"shapedefaults\": {\"line\": {\"color\": \"#2a3f5f\"}}, \"ternary\": {\"aaxis\": {\"gridcolor\": \"#DFE8F3\", \"linecolor\": \"#A2B1C6\", \"ticks\": \"\"}, \"baxis\": {\"gridcolor\": \"#DFE8F3\", \"linecolor\": \"#A2B1C6\", \"ticks\": \"\"}, \"bgcolor\": \"white\", \"caxis\": {\"gridcolor\": \"#DFE8F3\", \"linecolor\": \"#A2B1C6\", \"ticks\": \"\"}}, \"title\": {\"x\": 0.05}, \"xaxis\": {\"automargin\": true, \"gridcolor\": \"#EBF0F8\", \"linecolor\": \"#EBF0F8\", \"ticks\": \"\", \"title\": {\"standoff\": 15}, \"zerolinecolor\": \"#EBF0F8\", \"zerolinewidth\": 2}, \"yaxis\": {\"automargin\": true, \"gridcolor\": \"#EBF0F8\", \"linecolor\": \"#EBF0F8\", \"ticks\": \"\", \"title\": {\"standoff\": 15}, \"zerolinecolor\": \"#EBF0F8\", \"zerolinewidth\": 2}}}, \"title\": {\"text\": \"\", \"x\": 0.5}, \"width\": 500, \"xaxis\": {\"linecolor\": \"Black\", \"linewidth\": 0.5, \"mirror\": true, \"range\": [10, 100], \"showline\": true, \"title\": {\"text\": \"#labeled data (%)\"}}, \"yaxis\": {\"linecolor\": \"Black\", \"linewidth\": 0.5, \"mirror\": true, \"range\": [20.888822349485018, 100], \"showline\": true, \"title\": {\"text\": \"Accuracy (%)\"}}},                        {\"responsive\": true}                    ).then(function(){\n",
       "                            \n",
       "var gd = document.getElementById('2634f7e5-a101-463a-8b25-0aa9fe25f7ef');\n",
       "var x = new MutationObserver(function (mutations, observer) {{\n",
       "        var display = window.getComputedStyle(gd).display;\n",
       "        if (!display || display === 'none') {{\n",
       "            console.log([gd, 'removed!']);\n",
       "            Plotly.purge(gd);\n",
       "            observer.disconnect();\n",
       "        }}\n",
       "}});\n",
       "\n",
       "// Listen for the removal of the full notebook cells\n",
       "var notebookContainer = gd.closest('#notebook-container');\n",
       "if (notebookContainer) {{\n",
       "    x.observe(notebookContainer, {childList: true});\n",
       "}}\n",
       "\n",
       "// Listen for the clearing of the current output cell\n",
       "var outputEl = gd.closest('.output');\n",
       "if (outputEl) {{\n",
       "    x.observe(outputEl, {childList: true});\n",
       "}}\n",
       "\n",
       "                        })                };                });            </script>        </div>"
      ]
     },
     "metadata": {},
     "output_type": "display_data"
    }
   ],
   "source": [
    "plot([argmax, argmax_perfect_onehot, argmax_perfect_distributional], \n",
    "     [\"GreedyCVXSampler\", \"GreedyCVXSampler+OnehotProb*\", \"GreedyCVXSampler+Prob*\"], \n",
    "     filename=\"cvx_greedy_perfect_uncertainty_K={}_sigma={}_alpha={}.pdf\".format(K, sigma, alpha), \n",
    "     opacity=0.3)"
   ]
  },
  {
   "cell_type": "code",
   "execution_count": 109,
   "metadata": {},
   "outputs": [
    {
     "data": {
      "application/vnd.plotly.v1+json": {
       "config": {
        "plotlyServerURL": "https://plot.ly"
       },
       "data": [
        {
         "fillcolor": "rgba(229, 134, 6, 0.3)",
         "line": {
          "color": "rgb(229, 134, 6)"
         },
         "mode": "lines",
         "name": "ClusterCVXSampler",
         "showlegend": false,
         "type": "scatter",
         "x": [
          10,
          13.10344827586207,
          16.20689655172414,
          19.310344827586206,
          22.413793103448278,
          25.517241379310345,
          28.620689655172413,
          31.724137931034484,
          34.827586206896555,
          37.93103448275862,
          41.03448275862069,
          44.13793103448276,
          47.241379310344826,
          50.3448275862069,
          53.44827586206897,
          56.55172413793103,
          59.6551724137931,
          62.758620689655174,
          65.86206896551724,
          68.9655172413793,
          72.06896551724138,
          75.17241379310344,
          78.27586206896552,
          81.37931034482759,
          84.48275862068965,
          87.58620689655173,
          90.6896551724138,
          93.79310344827586,
          96.89655172413794,
          100
         ],
         "y": [
          23.992826681094574,
          47.4646770390551,
          61.35249248726379,
          72.54936120378146,
          81.04855039024291,
          81.4811366087126,
          85.46776846386867,
          90.12738025379461,
          91.2433356046125,
          91.42152549666162,
          91.50328975968881,
          91.53011982742804,
          91.58756457931251,
          91.57236593138593,
          91.38561225306397,
          91.15968707269298,
          91.09924890228113,
          91.448877313102,
          91.58307408883881,
          91.67723386829769,
          91.72463139058912,
          91.82586719033606,
          91.69184618661188,
          91.46713303198858,
          91.42042967326081,
          91.38757632979507,
          91.34654561075178,
          91.32746315224736,
          91.27291250503671,
          91.27251255459173
         ]
        },
        {
         "fill": "tonexty",
         "fillcolor": "rgba(229, 134, 6, 0.3)",
         "line": {
          "color": "rgb(229, 134, 6)"
         },
         "mode": "lines",
         "name": "ClusterCVXSampler",
         "showlegend": true,
         "type": "scatter",
         "x": [
          10,
          13.10344827586207,
          16.20689655172414,
          19.310344827586206,
          22.413793103448278,
          25.517241379310345,
          28.620689655172413,
          31.724137931034484,
          34.827586206896555,
          37.93103448275862,
          41.03448275862069,
          44.13793103448276,
          47.241379310344826,
          50.3448275862069,
          53.44827586206897,
          56.55172413793103,
          59.6551724137931,
          62.758620689655174,
          65.86206896551724,
          68.9655172413793,
          72.06896551724138,
          75.17241379310344,
          78.27586206896552,
          81.37931034482759,
          84.48275862068965,
          87.58620689655173,
          90.6896551724138,
          93.79310344827586,
          96.89655172413794,
          100
         ],
         "y": [
          58.214580726312846,
          65.39969077703687,
          79.80551517557146,
          88.0782250031151,
          93.68708179366514,
          94.30016607327974,
          96.75384073153366,
          98.39323277302533,
          98.97398240305034,
          99.06123312402804,
          99.13977537441079,
          99.1751675288938,
          99.30255036321621,
          99.57744249773283,
          99.51277855153371,
          99.41747767826487,
          99.36818404791047,
          99.44123762942675,
          99.40987610273207,
          99.33548643821572,
          99.46678623393196,
          99.73275349931913,
          99.8163530471046,
          99.80060643161296,
          99.82830595892311,
          99.80253861273367,
          99.83904825898003,
          99.93813071748446,
          99.9197311731242,
          99.88304300096384
         ]
        },
        {
         "fillcolor": "rgba(93, 105, 177, 0.3)",
         "line": {
          "color": "rgb(93, 105, 177)"
         },
         "mode": "lines",
         "name": "ClusterCVXSampler+OnehotProb*",
         "showlegend": false,
         "type": "scatter",
         "x": [
          10,
          13.10344827586207,
          16.20689655172414,
          19.310344827586206,
          22.413793103448278,
          25.517241379310345,
          28.620689655172413,
          31.724137931034484,
          34.827586206896555,
          37.93103448275862,
          41.03448275862069,
          44.13793103448276,
          47.241379310344826,
          50.3448275862069,
          53.44827586206897,
          56.55172413793103,
          59.6551724137931,
          62.758620689655174,
          65.86206896551724,
          68.9655172413793,
          72.06896551724138,
          75.17241379310344,
          78.27586206896552,
          81.37931034482759,
          84.48275862068965,
          87.58620689655173,
          90.6896551724138,
          93.79310344827586,
          96.89655172413794,
          100
         ],
         "y": [
          23.15692665925699,
          31.06987924625831,
          60.09532757857888,
          77.38739373159383,
          79.45483464191923,
          75.93023457888802,
          83.1466734717283,
          90.03928198232325,
          88.18198020540115,
          85.01227469870722,
          84.71397284642144,
          90.124756902594,
          88.00732945931415,
          87.50686583884095,
          90.28641097250373,
          90.19061463864247,
          90.13207201030511,
          90.69812427767046,
          91.329509710316,
          91.30257818339695,
          91.37647570788141,
          91.39728503544819,
          91.41335628725011,
          91.43706957999156,
          91.44354062387899,
          91.39801366467563,
          91.37994971124601,
          91.36760830988086,
          91.2748790423991,
          91.27251255459171
         ]
        },
        {
         "fill": "tonexty",
         "fillcolor": "rgba(93, 105, 177, 0.3)",
         "line": {
          "color": "rgb(93, 105, 177)"
         },
         "mode": "lines",
         "name": "ClusterCVXSampler+OnehotProb*",
         "showlegend": true,
         "type": "scatter",
         "x": [
          10,
          13.10344827586207,
          16.20689655172414,
          19.310344827586206,
          22.413793103448278,
          25.517241379310345,
          28.620689655172413,
          31.724137931034484,
          34.827586206896555,
          37.93103448275862,
          41.03448275862069,
          44.13793103448276,
          47.241379310344826,
          50.3448275862069,
          53.44827586206897,
          56.55172413793103,
          59.6551724137931,
          62.758620689655174,
          65.86206896551724,
          68.9655172413793,
          72.06896551724138,
          75.17241379310344,
          78.27586206896552,
          81.37931034482759,
          84.48275862068965,
          87.58620689655173,
          90.6896551724138,
          93.79310344827586,
          96.89655172413794,
          100
         ],
         "y": [
          56.02085111852079,
          74.5429687741759,
          90.96947446484384,
          96.10997536163732,
          96.29750252283173,
          96.54424817973268,
          97.09263687309927,
          99.48171418625915,
          100.10499297467547,
          101.50011355161206,
          101.72801949074334,
          100.12076033878533,
          100.80891575141385,
          100.90662075119735,
          99.83083040680661,
          99.95967910337541,
          99.99880921574854,
          99.89850407481997,
          99.75868952340046,
          99.78125323422756,
          99.90475034575843,
          99.91198699520314,
          99.92863604991464,
          99.88515264223066,
          99.88550152171487,
          99.84704380658872,
          99.81116139986509,
          99.88388594299269,
          99.94688340970816,
          99.88304300096382
         ]
        },
        {
         "fillcolor": "rgba(82, 188, 163, 0.3)",
         "line": {
          "color": "rgb(82, 188, 163)"
         },
         "mode": "lines",
         "name": "ClusterCVXSampler+Prob*",
         "showlegend": false,
         "type": "scatter",
         "x": [
          10,
          13.10344827586207,
          16.20689655172414,
          19.310344827586206,
          22.413793103448278,
          25.517241379310345,
          28.620689655172413,
          31.724137931034484,
          34.827586206896555,
          37.93103448275862,
          41.03448275862069,
          44.13793103448276,
          47.241379310344826,
          50.3448275862069,
          53.44827586206897,
          56.55172413793103,
          59.6551724137931,
          62.758620689655174,
          65.86206896551724,
          68.9655172413793,
          72.06896551724138,
          75.17241379310344,
          78.27586206896552,
          81.37931034482759,
          84.48275862068965,
          87.58620689655173,
          90.6896551724138,
          93.79310344827586,
          96.89655172413794,
          100
         ],
         "y": [
          21.182653800676285,
          39.366518960906916,
          59.38001894251542,
          65.51938486574551,
          77.6533172216401,
          80.05404175583081,
          74.94329461193374,
          87.89800493681444,
          91.48977407888528,
          91.57839670307263,
          91.58011236819391,
          90.0561579698628,
          85.77125581071132,
          88.03126197271055,
          91.03725315151388,
          85.75250341354689,
          89.32514184486294,
          91.13163526690795,
          90.58828259030021,
          91.21344124379694,
          91.55836159530298,
          91.40474326190724,
          91.40752257930478,
          91.37140344871939,
          91.30266099360405,
          91.26839458225834,
          91.23008736376755,
          91.23129805987183,
          91.24064715115446,
          91.27251255459173
         ]
        },
        {
         "fill": "tonexty",
         "fillcolor": "rgba(82, 188, 163, 0.3)",
         "line": {
          "color": "rgb(82, 188, 163)"
         },
         "mode": "lines",
         "name": "ClusterCVXSampler+Prob*",
         "showlegend": true,
         "type": "scatter",
         "x": [
          10,
          13.10344827586207,
          16.20689655172414,
          19.310344827586206,
          22.413793103448278,
          25.517241379310345,
          28.620689655172413,
          31.724137931034484,
          34.827586206896555,
          37.93103448275862,
          41.03448275862069,
          44.13793103448276,
          47.241379310344826,
          50.3448275862069,
          53.44827586206897,
          56.55172413793103,
          59.6551724137931,
          62.758620689655174,
          65.86206896551724,
          68.9655172413793,
          72.06896551724138,
          75.17241379310344,
          78.27586206896552,
          81.37931034482759,
          84.48275862068965,
          87.58620689655173,
          90.6896551724138,
          93.79310344827586,
          96.89655172413794,
          100
         ],
         "y": [
          51.054383236360756,
          61.73130990243919,
          79.93441273053696,
          93.26168793118936,
          94.28287690351956,
          96.97898506409257,
          98.97678201641875,
          98.32825304530563,
          99.48302285598065,
          99.74543471455189,
          99.63582632912409,
          99.96024049757017,
          101.25679016630019,
          100.52475335295998,
          99.72673152281561,
          101.46849275503547,
          100.46604589460068,
          99.93518465646369,
          100.16819250548521,
          100.03437484815707,
          99.86248131657442,
          99.77318777257551,
          99.8733969609251,
          99.90062720262164,
          99.83143862325419,
          99.8427165288528,
          99.88102374734356,
          99.87981305123931,
          99.88732219750455,
          99.88304300096384
         ]
        }
       ],
       "layout": {
        "font": {
         "size": 15
        },
        "height": 400,
        "legend": {
         "bgcolor": "rgba(0,0,0,0)",
         "bordercolor": "Black",
         "borderwidth": 1,
         "x": 0.98,
         "xanchor": "right",
         "y": 0.05,
         "yanchor": "bottom"
        },
        "margin": {
         "b": 40,
         "l": 0,
         "r": 0,
         "t": 40
        },
        "template": {
         "data": {
          "bar": [
           {
            "error_x": {
             "color": "#2a3f5f"
            },
            "error_y": {
             "color": "#2a3f5f"
            },
            "marker": {
             "line": {
              "color": "white",
              "width": 0.5
             }
            },
            "type": "bar"
           }
          ],
          "barpolar": [
           {
            "marker": {
             "line": {
              "color": "white",
              "width": 0.5
             }
            },
            "type": "barpolar"
           }
          ],
          "carpet": [
           {
            "aaxis": {
             "endlinecolor": "#2a3f5f",
             "gridcolor": "#C8D4E3",
             "linecolor": "#C8D4E3",
             "minorgridcolor": "#C8D4E3",
             "startlinecolor": "#2a3f5f"
            },
            "baxis": {
             "endlinecolor": "#2a3f5f",
             "gridcolor": "#C8D4E3",
             "linecolor": "#C8D4E3",
             "minorgridcolor": "#C8D4E3",
             "startlinecolor": "#2a3f5f"
            },
            "type": "carpet"
           }
          ],
          "choropleth": [
           {
            "colorbar": {
             "outlinewidth": 0,
             "ticks": ""
            },
            "type": "choropleth"
           }
          ],
          "contour": [
           {
            "colorbar": {
             "outlinewidth": 0,
             "ticks": ""
            },
            "colorscale": [
             [
              0,
              "#0d0887"
             ],
             [
              0.1111111111111111,
              "#46039f"
             ],
             [
              0.2222222222222222,
              "#7201a8"
             ],
             [
              0.3333333333333333,
              "#9c179e"
             ],
             [
              0.4444444444444444,
              "#bd3786"
             ],
             [
              0.5555555555555556,
              "#d8576b"
             ],
             [
              0.6666666666666666,
              "#ed7953"
             ],
             [
              0.7777777777777778,
              "#fb9f3a"
             ],
             [
              0.8888888888888888,
              "#fdca26"
             ],
             [
              1,
              "#f0f921"
             ]
            ],
            "type": "contour"
           }
          ],
          "contourcarpet": [
           {
            "colorbar": {
             "outlinewidth": 0,
             "ticks": ""
            },
            "type": "contourcarpet"
           }
          ],
          "heatmap": [
           {
            "colorbar": {
             "outlinewidth": 0,
             "ticks": ""
            },
            "colorscale": [
             [
              0,
              "#0d0887"
             ],
             [
              0.1111111111111111,
              "#46039f"
             ],
             [
              0.2222222222222222,
              "#7201a8"
             ],
             [
              0.3333333333333333,
              "#9c179e"
             ],
             [
              0.4444444444444444,
              "#bd3786"
             ],
             [
              0.5555555555555556,
              "#d8576b"
             ],
             [
              0.6666666666666666,
              "#ed7953"
             ],
             [
              0.7777777777777778,
              "#fb9f3a"
             ],
             [
              0.8888888888888888,
              "#fdca26"
             ],
             [
              1,
              "#f0f921"
             ]
            ],
            "type": "heatmap"
           }
          ],
          "heatmapgl": [
           {
            "colorbar": {
             "outlinewidth": 0,
             "ticks": ""
            },
            "colorscale": [
             [
              0,
              "#0d0887"
             ],
             [
              0.1111111111111111,
              "#46039f"
             ],
             [
              0.2222222222222222,
              "#7201a8"
             ],
             [
              0.3333333333333333,
              "#9c179e"
             ],
             [
              0.4444444444444444,
              "#bd3786"
             ],
             [
              0.5555555555555556,
              "#d8576b"
             ],
             [
              0.6666666666666666,
              "#ed7953"
             ],
             [
              0.7777777777777778,
              "#fb9f3a"
             ],
             [
              0.8888888888888888,
              "#fdca26"
             ],
             [
              1,
              "#f0f921"
             ]
            ],
            "type": "heatmapgl"
           }
          ],
          "histogram": [
           {
            "marker": {
             "colorbar": {
              "outlinewidth": 0,
              "ticks": ""
             }
            },
            "type": "histogram"
           }
          ],
          "histogram2d": [
           {
            "colorbar": {
             "outlinewidth": 0,
             "ticks": ""
            },
            "colorscale": [
             [
              0,
              "#0d0887"
             ],
             [
              0.1111111111111111,
              "#46039f"
             ],
             [
              0.2222222222222222,
              "#7201a8"
             ],
             [
              0.3333333333333333,
              "#9c179e"
             ],
             [
              0.4444444444444444,
              "#bd3786"
             ],
             [
              0.5555555555555556,
              "#d8576b"
             ],
             [
              0.6666666666666666,
              "#ed7953"
             ],
             [
              0.7777777777777778,
              "#fb9f3a"
             ],
             [
              0.8888888888888888,
              "#fdca26"
             ],
             [
              1,
              "#f0f921"
             ]
            ],
            "type": "histogram2d"
           }
          ],
          "histogram2dcontour": [
           {
            "colorbar": {
             "outlinewidth": 0,
             "ticks": ""
            },
            "colorscale": [
             [
              0,
              "#0d0887"
             ],
             [
              0.1111111111111111,
              "#46039f"
             ],
             [
              0.2222222222222222,
              "#7201a8"
             ],
             [
              0.3333333333333333,
              "#9c179e"
             ],
             [
              0.4444444444444444,
              "#bd3786"
             ],
             [
              0.5555555555555556,
              "#d8576b"
             ],
             [
              0.6666666666666666,
              "#ed7953"
             ],
             [
              0.7777777777777778,
              "#fb9f3a"
             ],
             [
              0.8888888888888888,
              "#fdca26"
             ],
             [
              1,
              "#f0f921"
             ]
            ],
            "type": "histogram2dcontour"
           }
          ],
          "mesh3d": [
           {
            "colorbar": {
             "outlinewidth": 0,
             "ticks": ""
            },
            "type": "mesh3d"
           }
          ],
          "parcoords": [
           {
            "line": {
             "colorbar": {
              "outlinewidth": 0,
              "ticks": ""
             }
            },
            "type": "parcoords"
           }
          ],
          "pie": [
           {
            "automargin": true,
            "type": "pie"
           }
          ],
          "scatter": [
           {
            "marker": {
             "colorbar": {
              "outlinewidth": 0,
              "ticks": ""
             }
            },
            "type": "scatter"
           }
          ],
          "scatter3d": [
           {
            "line": {
             "colorbar": {
              "outlinewidth": 0,
              "ticks": ""
             }
            },
            "marker": {
             "colorbar": {
              "outlinewidth": 0,
              "ticks": ""
             }
            },
            "type": "scatter3d"
           }
          ],
          "scattercarpet": [
           {
            "marker": {
             "colorbar": {
              "outlinewidth": 0,
              "ticks": ""
             }
            },
            "type": "scattercarpet"
           }
          ],
          "scattergeo": [
           {
            "marker": {
             "colorbar": {
              "outlinewidth": 0,
              "ticks": ""
             }
            },
            "type": "scattergeo"
           }
          ],
          "scattergl": [
           {
            "marker": {
             "colorbar": {
              "outlinewidth": 0,
              "ticks": ""
             }
            },
            "type": "scattergl"
           }
          ],
          "scattermapbox": [
           {
            "marker": {
             "colorbar": {
              "outlinewidth": 0,
              "ticks": ""
             }
            },
            "type": "scattermapbox"
           }
          ],
          "scatterpolar": [
           {
            "marker": {
             "colorbar": {
              "outlinewidth": 0,
              "ticks": ""
             }
            },
            "type": "scatterpolar"
           }
          ],
          "scatterpolargl": [
           {
            "marker": {
             "colorbar": {
              "outlinewidth": 0,
              "ticks": ""
             }
            },
            "type": "scatterpolargl"
           }
          ],
          "scatterternary": [
           {
            "marker": {
             "colorbar": {
              "outlinewidth": 0,
              "ticks": ""
             }
            },
            "type": "scatterternary"
           }
          ],
          "surface": [
           {
            "colorbar": {
             "outlinewidth": 0,
             "ticks": ""
            },
            "colorscale": [
             [
              0,
              "#0d0887"
             ],
             [
              0.1111111111111111,
              "#46039f"
             ],
             [
              0.2222222222222222,
              "#7201a8"
             ],
             [
              0.3333333333333333,
              "#9c179e"
             ],
             [
              0.4444444444444444,
              "#bd3786"
             ],
             [
              0.5555555555555556,
              "#d8576b"
             ],
             [
              0.6666666666666666,
              "#ed7953"
             ],
             [
              0.7777777777777778,
              "#fb9f3a"
             ],
             [
              0.8888888888888888,
              "#fdca26"
             ],
             [
              1,
              "#f0f921"
             ]
            ],
            "type": "surface"
           }
          ],
          "table": [
           {
            "cells": {
             "fill": {
              "color": "#EBF0F8"
             },
             "line": {
              "color": "white"
             }
            },
            "header": {
             "fill": {
              "color": "#C8D4E3"
             },
             "line": {
              "color": "white"
             }
            },
            "type": "table"
           }
          ]
         },
         "layout": {
          "annotationdefaults": {
           "arrowcolor": "#2a3f5f",
           "arrowhead": 0,
           "arrowwidth": 1
          },
          "coloraxis": {
           "colorbar": {
            "outlinewidth": 0,
            "ticks": ""
           }
          },
          "colorscale": {
           "diverging": [
            [
             0,
             "#8e0152"
            ],
            [
             0.1,
             "#c51b7d"
            ],
            [
             0.2,
             "#de77ae"
            ],
            [
             0.3,
             "#f1b6da"
            ],
            [
             0.4,
             "#fde0ef"
            ],
            [
             0.5,
             "#f7f7f7"
            ],
            [
             0.6,
             "#e6f5d0"
            ],
            [
             0.7,
             "#b8e186"
            ],
            [
             0.8,
             "#7fbc41"
            ],
            [
             0.9,
             "#4d9221"
            ],
            [
             1,
             "#276419"
            ]
           ],
           "sequential": [
            [
             0,
             "#0d0887"
            ],
            [
             0.1111111111111111,
             "#46039f"
            ],
            [
             0.2222222222222222,
             "#7201a8"
            ],
            [
             0.3333333333333333,
             "#9c179e"
            ],
            [
             0.4444444444444444,
             "#bd3786"
            ],
            [
             0.5555555555555556,
             "#d8576b"
            ],
            [
             0.6666666666666666,
             "#ed7953"
            ],
            [
             0.7777777777777778,
             "#fb9f3a"
            ],
            [
             0.8888888888888888,
             "#fdca26"
            ],
            [
             1,
             "#f0f921"
            ]
           ],
           "sequentialminus": [
            [
             0,
             "#0d0887"
            ],
            [
             0.1111111111111111,
             "#46039f"
            ],
            [
             0.2222222222222222,
             "#7201a8"
            ],
            [
             0.3333333333333333,
             "#9c179e"
            ],
            [
             0.4444444444444444,
             "#bd3786"
            ],
            [
             0.5555555555555556,
             "#d8576b"
            ],
            [
             0.6666666666666666,
             "#ed7953"
            ],
            [
             0.7777777777777778,
             "#fb9f3a"
            ],
            [
             0.8888888888888888,
             "#fdca26"
            ],
            [
             1,
             "#f0f921"
            ]
           ]
          },
          "colorway": [
           "#636efa",
           "#EF553B",
           "#00cc96",
           "#ab63fa",
           "#FFA15A",
           "#19d3f3",
           "#FF6692",
           "#B6E880",
           "#FF97FF",
           "#FECB52"
          ],
          "font": {
           "color": "#2a3f5f"
          },
          "geo": {
           "bgcolor": "white",
           "lakecolor": "white",
           "landcolor": "white",
           "showlakes": true,
           "showland": true,
           "subunitcolor": "#C8D4E3"
          },
          "hoverlabel": {
           "align": "left"
          },
          "hovermode": "closest",
          "mapbox": {
           "style": "light"
          },
          "paper_bgcolor": "white",
          "plot_bgcolor": "white",
          "polar": {
           "angularaxis": {
            "gridcolor": "#EBF0F8",
            "linecolor": "#EBF0F8",
            "ticks": ""
           },
           "bgcolor": "white",
           "radialaxis": {
            "gridcolor": "#EBF0F8",
            "linecolor": "#EBF0F8",
            "ticks": ""
           }
          },
          "scene": {
           "xaxis": {
            "backgroundcolor": "white",
            "gridcolor": "#DFE8F3",
            "gridwidth": 2,
            "linecolor": "#EBF0F8",
            "showbackground": true,
            "ticks": "",
            "zerolinecolor": "#EBF0F8"
           },
           "yaxis": {
            "backgroundcolor": "white",
            "gridcolor": "#DFE8F3",
            "gridwidth": 2,
            "linecolor": "#EBF0F8",
            "showbackground": true,
            "ticks": "",
            "zerolinecolor": "#EBF0F8"
           },
           "zaxis": {
            "backgroundcolor": "white",
            "gridcolor": "#DFE8F3",
            "gridwidth": 2,
            "linecolor": "#EBF0F8",
            "showbackground": true,
            "ticks": "",
            "zerolinecolor": "#EBF0F8"
           }
          },
          "shapedefaults": {
           "line": {
            "color": "#2a3f5f"
           }
          },
          "ternary": {
           "aaxis": {
            "gridcolor": "#DFE8F3",
            "linecolor": "#A2B1C6",
            "ticks": ""
           },
           "baxis": {
            "gridcolor": "#DFE8F3",
            "linecolor": "#A2B1C6",
            "ticks": ""
           },
           "bgcolor": "white",
           "caxis": {
            "gridcolor": "#DFE8F3",
            "linecolor": "#A2B1C6",
            "ticks": ""
           }
          },
          "title": {
           "x": 0.05
          },
          "xaxis": {
           "automargin": true,
           "gridcolor": "#EBF0F8",
           "linecolor": "#EBF0F8",
           "ticks": "",
           "title": {
            "standoff": 15
           },
           "zerolinecolor": "#EBF0F8",
           "zerolinewidth": 2
          },
          "yaxis": {
           "automargin": true,
           "gridcolor": "#EBF0F8",
           "linecolor": "#EBF0F8",
           "ticks": "",
           "title": {
            "standoff": 15
           },
           "zerolinecolor": "#EBF0F8",
           "zerolinewidth": 2
          }
         }
        },
        "title": {
         "text": "",
         "x": 0.5
        },
        "width": 500,
        "xaxis": {
         "linecolor": "Black",
         "linewidth": 0.5,
         "mirror": true,
         "range": [
          10,
          100
         ],
         "showline": true,
         "title": {
          "text": "#labeled data (%)"
         }
        },
        "yaxis": {
         "linecolor": "Black",
         "linewidth": 0.5,
         "mirror": true,
         "range": [
          21.182653800676285,
          100
         ],
         "showline": true,
         "title": {
          "text": "Accuracy (%)"
         }
        }
       }
      },
      "text/html": [
       "<div>                            <div id=\"304cd221-7deb-4c17-99c1-fad93e6cd8b9\" class=\"plotly-graph-div\" style=\"height:400px; width:500px;\"></div>            <script type=\"text/javascript\">                require([\"plotly\"], function(Plotly) {                    window.PLOTLYENV=window.PLOTLYENV || {};                                    if (document.getElementById(\"304cd221-7deb-4c17-99c1-fad93e6cd8b9\")) {                    Plotly.newPlot(                        \"304cd221-7deb-4c17-99c1-fad93e6cd8b9\",                        [{\"fillcolor\": \"rgba(229, 134, 6, 0.3)\", \"line\": {\"color\": \"rgb(229, 134, 6)\"}, \"mode\": \"lines\", \"name\": \"ClusterCVXSampler\", \"showlegend\": false, \"type\": \"scatter\", \"x\": [10.0, 13.10344827586207, 16.20689655172414, 19.310344827586206, 22.413793103448278, 25.517241379310345, 28.620689655172413, 31.724137931034484, 34.827586206896555, 37.93103448275862, 41.03448275862069, 44.13793103448276, 47.241379310344826, 50.3448275862069, 53.44827586206897, 56.55172413793103, 59.6551724137931, 62.758620689655174, 65.86206896551724, 68.9655172413793, 72.06896551724138, 75.17241379310344, 78.27586206896552, 81.37931034482759, 84.48275862068965, 87.58620689655173, 90.6896551724138, 93.79310344827586, 96.89655172413794, 100.0], \"y\": [23.992826681094574, 47.4646770390551, 61.35249248726379, 72.54936120378146, 81.04855039024291, 81.4811366087126, 85.46776846386867, 90.12738025379461, 91.2433356046125, 91.42152549666162, 91.50328975968881, 91.53011982742804, 91.58756457931251, 91.57236593138593, 91.38561225306397, 91.15968707269298, 91.09924890228113, 91.448877313102, 91.58307408883881, 91.67723386829769, 91.72463139058912, 91.82586719033606, 91.69184618661188, 91.46713303198858, 91.42042967326081, 91.38757632979507, 91.34654561075178, 91.32746315224736, 91.27291250503671, 91.27251255459173]}, {\"fill\": \"tonexty\", \"fillcolor\": \"rgba(229, 134, 6, 0.3)\", \"line\": {\"color\": \"rgb(229, 134, 6)\"}, \"mode\": \"lines\", \"name\": \"ClusterCVXSampler\", \"showlegend\": true, \"type\": \"scatter\", \"x\": [10.0, 13.10344827586207, 16.20689655172414, 19.310344827586206, 22.413793103448278, 25.517241379310345, 28.620689655172413, 31.724137931034484, 34.827586206896555, 37.93103448275862, 41.03448275862069, 44.13793103448276, 47.241379310344826, 50.3448275862069, 53.44827586206897, 56.55172413793103, 59.6551724137931, 62.758620689655174, 65.86206896551724, 68.9655172413793, 72.06896551724138, 75.17241379310344, 78.27586206896552, 81.37931034482759, 84.48275862068965, 87.58620689655173, 90.6896551724138, 93.79310344827586, 96.89655172413794, 100.0], \"y\": [58.214580726312846, 65.39969077703687, 79.80551517557146, 88.0782250031151, 93.68708179366514, 94.30016607327974, 96.75384073153366, 98.39323277302533, 98.97398240305034, 99.06123312402804, 99.13977537441079, 99.1751675288938, 99.30255036321621, 99.57744249773283, 99.51277855153371, 99.41747767826487, 99.36818404791047, 99.44123762942675, 99.40987610273207, 99.33548643821572, 99.46678623393196, 99.73275349931913, 99.8163530471046, 99.80060643161296, 99.82830595892311, 99.80253861273367, 99.83904825898003, 99.93813071748446, 99.9197311731242, 99.88304300096384]}, {\"fillcolor\": \"rgba(93, 105, 177, 0.3)\", \"line\": {\"color\": \"rgb(93, 105, 177)\"}, \"mode\": \"lines\", \"name\": \"ClusterCVXSampler+OnehotProb*\", \"showlegend\": false, \"type\": \"scatter\", \"x\": [10.0, 13.10344827586207, 16.20689655172414, 19.310344827586206, 22.413793103448278, 25.517241379310345, 28.620689655172413, 31.724137931034484, 34.827586206896555, 37.93103448275862, 41.03448275862069, 44.13793103448276, 47.241379310344826, 50.3448275862069, 53.44827586206897, 56.55172413793103, 59.6551724137931, 62.758620689655174, 65.86206896551724, 68.9655172413793, 72.06896551724138, 75.17241379310344, 78.27586206896552, 81.37931034482759, 84.48275862068965, 87.58620689655173, 90.6896551724138, 93.79310344827586, 96.89655172413794, 100.0], \"y\": [23.15692665925699, 31.06987924625831, 60.09532757857888, 77.38739373159383, 79.45483464191923, 75.93023457888802, 83.1466734717283, 90.03928198232325, 88.18198020540115, 85.01227469870722, 84.71397284642144, 90.124756902594, 88.00732945931415, 87.50686583884095, 90.28641097250373, 90.19061463864247, 90.13207201030511, 90.69812427767046, 91.329509710316, 91.30257818339695, 91.37647570788141, 91.39728503544819, 91.41335628725011, 91.43706957999156, 91.44354062387899, 91.39801366467563, 91.37994971124601, 91.36760830988086, 91.2748790423991, 91.27251255459171]}, {\"fill\": \"tonexty\", \"fillcolor\": \"rgba(93, 105, 177, 0.3)\", \"line\": {\"color\": \"rgb(93, 105, 177)\"}, \"mode\": \"lines\", \"name\": \"ClusterCVXSampler+OnehotProb*\", \"showlegend\": true, \"type\": \"scatter\", \"x\": [10.0, 13.10344827586207, 16.20689655172414, 19.310344827586206, 22.413793103448278, 25.517241379310345, 28.620689655172413, 31.724137931034484, 34.827586206896555, 37.93103448275862, 41.03448275862069, 44.13793103448276, 47.241379310344826, 50.3448275862069, 53.44827586206897, 56.55172413793103, 59.6551724137931, 62.758620689655174, 65.86206896551724, 68.9655172413793, 72.06896551724138, 75.17241379310344, 78.27586206896552, 81.37931034482759, 84.48275862068965, 87.58620689655173, 90.6896551724138, 93.79310344827586, 96.89655172413794, 100.0], \"y\": [56.02085111852079, 74.5429687741759, 90.96947446484384, 96.10997536163732, 96.29750252283173, 96.54424817973268, 97.09263687309927, 99.48171418625915, 100.10499297467547, 101.50011355161206, 101.72801949074334, 100.12076033878533, 100.80891575141385, 100.90662075119735, 99.83083040680661, 99.95967910337541, 99.99880921574854, 99.89850407481997, 99.75868952340046, 99.78125323422756, 99.90475034575843, 99.91198699520314, 99.92863604991464, 99.88515264223066, 99.88550152171487, 99.84704380658872, 99.81116139986509, 99.88388594299269, 99.94688340970816, 99.88304300096382]}, {\"fillcolor\": \"rgba(82, 188, 163, 0.3)\", \"line\": {\"color\": \"rgb(82, 188, 163)\"}, \"mode\": \"lines\", \"name\": \"ClusterCVXSampler+Prob*\", \"showlegend\": false, \"type\": \"scatter\", \"x\": [10.0, 13.10344827586207, 16.20689655172414, 19.310344827586206, 22.413793103448278, 25.517241379310345, 28.620689655172413, 31.724137931034484, 34.827586206896555, 37.93103448275862, 41.03448275862069, 44.13793103448276, 47.241379310344826, 50.3448275862069, 53.44827586206897, 56.55172413793103, 59.6551724137931, 62.758620689655174, 65.86206896551724, 68.9655172413793, 72.06896551724138, 75.17241379310344, 78.27586206896552, 81.37931034482759, 84.48275862068965, 87.58620689655173, 90.6896551724138, 93.79310344827586, 96.89655172413794, 100.0], \"y\": [21.182653800676285, 39.366518960906916, 59.38001894251542, 65.51938486574551, 77.6533172216401, 80.05404175583081, 74.94329461193374, 87.89800493681444, 91.48977407888528, 91.57839670307263, 91.58011236819391, 90.0561579698628, 85.77125581071132, 88.03126197271055, 91.03725315151388, 85.75250341354689, 89.32514184486294, 91.13163526690795, 90.58828259030021, 91.21344124379694, 91.55836159530298, 91.40474326190724, 91.40752257930478, 91.37140344871939, 91.30266099360405, 91.26839458225834, 91.23008736376755, 91.23129805987183, 91.24064715115446, 91.27251255459173]}, {\"fill\": \"tonexty\", \"fillcolor\": \"rgba(82, 188, 163, 0.3)\", \"line\": {\"color\": \"rgb(82, 188, 163)\"}, \"mode\": \"lines\", \"name\": \"ClusterCVXSampler+Prob*\", \"showlegend\": true, \"type\": \"scatter\", \"x\": [10.0, 13.10344827586207, 16.20689655172414, 19.310344827586206, 22.413793103448278, 25.517241379310345, 28.620689655172413, 31.724137931034484, 34.827586206896555, 37.93103448275862, 41.03448275862069, 44.13793103448276, 47.241379310344826, 50.3448275862069, 53.44827586206897, 56.55172413793103, 59.6551724137931, 62.758620689655174, 65.86206896551724, 68.9655172413793, 72.06896551724138, 75.17241379310344, 78.27586206896552, 81.37931034482759, 84.48275862068965, 87.58620689655173, 90.6896551724138, 93.79310344827586, 96.89655172413794, 100.0], \"y\": [51.054383236360756, 61.73130990243919, 79.93441273053696, 93.26168793118936, 94.28287690351956, 96.97898506409257, 98.97678201641875, 98.32825304530563, 99.48302285598065, 99.74543471455189, 99.63582632912409, 99.96024049757017, 101.25679016630019, 100.52475335295998, 99.72673152281561, 101.46849275503547, 100.46604589460068, 99.93518465646369, 100.16819250548521, 100.03437484815707, 99.86248131657442, 99.77318777257551, 99.8733969609251, 99.90062720262164, 99.83143862325419, 99.8427165288528, 99.88102374734356, 99.87981305123931, 99.88732219750455, 99.88304300096384]}],                        {\"font\": {\"size\": 15}, \"height\": 400, \"legend\": {\"bgcolor\": \"rgba(0,0,0,0)\", \"bordercolor\": \"Black\", \"borderwidth\": 1, \"x\": 0.98, \"xanchor\": \"right\", \"y\": 0.05, \"yanchor\": \"bottom\"}, \"margin\": {\"b\": 40, \"l\": 0, \"r\": 0, \"t\": 40}, \"template\": {\"data\": {\"bar\": [{\"error_x\": {\"color\": \"#2a3f5f\"}, \"error_y\": {\"color\": \"#2a3f5f\"}, \"marker\": {\"line\": {\"color\": \"white\", \"width\": 0.5}}, \"type\": \"bar\"}], \"barpolar\": [{\"marker\": {\"line\": {\"color\": \"white\", \"width\": 0.5}}, \"type\": \"barpolar\"}], \"carpet\": [{\"aaxis\": {\"endlinecolor\": \"#2a3f5f\", \"gridcolor\": \"#C8D4E3\", \"linecolor\": \"#C8D4E3\", \"minorgridcolor\": \"#C8D4E3\", \"startlinecolor\": \"#2a3f5f\"}, \"baxis\": {\"endlinecolor\": \"#2a3f5f\", \"gridcolor\": \"#C8D4E3\", \"linecolor\": \"#C8D4E3\", \"minorgridcolor\": \"#C8D4E3\", \"startlinecolor\": \"#2a3f5f\"}, \"type\": \"carpet\"}], \"choropleth\": [{\"colorbar\": {\"outlinewidth\": 0, \"ticks\": \"\"}, \"type\": \"choropleth\"}], \"contour\": [{\"colorbar\": {\"outlinewidth\": 0, \"ticks\": \"\"}, \"colorscale\": [[0.0, \"#0d0887\"], [0.1111111111111111, \"#46039f\"], [0.2222222222222222, \"#7201a8\"], [0.3333333333333333, \"#9c179e\"], [0.4444444444444444, \"#bd3786\"], [0.5555555555555556, \"#d8576b\"], [0.6666666666666666, \"#ed7953\"], [0.7777777777777778, \"#fb9f3a\"], [0.8888888888888888, \"#fdca26\"], [1.0, \"#f0f921\"]], \"type\": \"contour\"}], \"contourcarpet\": [{\"colorbar\": {\"outlinewidth\": 0, \"ticks\": \"\"}, \"type\": \"contourcarpet\"}], \"heatmap\": [{\"colorbar\": {\"outlinewidth\": 0, \"ticks\": \"\"}, \"colorscale\": [[0.0, \"#0d0887\"], [0.1111111111111111, \"#46039f\"], [0.2222222222222222, \"#7201a8\"], [0.3333333333333333, \"#9c179e\"], [0.4444444444444444, \"#bd3786\"], [0.5555555555555556, \"#d8576b\"], [0.6666666666666666, \"#ed7953\"], [0.7777777777777778, \"#fb9f3a\"], [0.8888888888888888, \"#fdca26\"], [1.0, \"#f0f921\"]], \"type\": \"heatmap\"}], \"heatmapgl\": [{\"colorbar\": {\"outlinewidth\": 0, \"ticks\": \"\"}, \"colorscale\": [[0.0, \"#0d0887\"], [0.1111111111111111, \"#46039f\"], [0.2222222222222222, \"#7201a8\"], [0.3333333333333333, \"#9c179e\"], [0.4444444444444444, \"#bd3786\"], [0.5555555555555556, \"#d8576b\"], [0.6666666666666666, \"#ed7953\"], [0.7777777777777778, \"#fb9f3a\"], [0.8888888888888888, \"#fdca26\"], [1.0, \"#f0f921\"]], \"type\": \"heatmapgl\"}], \"histogram\": [{\"marker\": {\"colorbar\": {\"outlinewidth\": 0, \"ticks\": \"\"}}, \"type\": \"histogram\"}], \"histogram2d\": [{\"colorbar\": {\"outlinewidth\": 0, \"ticks\": \"\"}, \"colorscale\": [[0.0, \"#0d0887\"], [0.1111111111111111, \"#46039f\"], [0.2222222222222222, \"#7201a8\"], [0.3333333333333333, \"#9c179e\"], [0.4444444444444444, \"#bd3786\"], [0.5555555555555556, \"#d8576b\"], [0.6666666666666666, \"#ed7953\"], [0.7777777777777778, \"#fb9f3a\"], [0.8888888888888888, \"#fdca26\"], [1.0, \"#f0f921\"]], \"type\": \"histogram2d\"}], \"histogram2dcontour\": [{\"colorbar\": {\"outlinewidth\": 0, \"ticks\": \"\"}, \"colorscale\": [[0.0, \"#0d0887\"], [0.1111111111111111, \"#46039f\"], [0.2222222222222222, \"#7201a8\"], [0.3333333333333333, \"#9c179e\"], [0.4444444444444444, \"#bd3786\"], [0.5555555555555556, \"#d8576b\"], [0.6666666666666666, \"#ed7953\"], [0.7777777777777778, \"#fb9f3a\"], [0.8888888888888888, \"#fdca26\"], [1.0, \"#f0f921\"]], \"type\": \"histogram2dcontour\"}], \"mesh3d\": [{\"colorbar\": {\"outlinewidth\": 0, \"ticks\": \"\"}, \"type\": \"mesh3d\"}], \"parcoords\": [{\"line\": {\"colorbar\": {\"outlinewidth\": 0, \"ticks\": \"\"}}, \"type\": \"parcoords\"}], \"pie\": [{\"automargin\": true, \"type\": \"pie\"}], \"scatter\": [{\"marker\": {\"colorbar\": {\"outlinewidth\": 0, \"ticks\": \"\"}}, \"type\": \"scatter\"}], \"scatter3d\": [{\"line\": {\"colorbar\": {\"outlinewidth\": 0, \"ticks\": \"\"}}, \"marker\": {\"colorbar\": {\"outlinewidth\": 0, \"ticks\": \"\"}}, \"type\": \"scatter3d\"}], \"scattercarpet\": [{\"marker\": {\"colorbar\": {\"outlinewidth\": 0, \"ticks\": \"\"}}, \"type\": \"scattercarpet\"}], \"scattergeo\": [{\"marker\": {\"colorbar\": {\"outlinewidth\": 0, \"ticks\": \"\"}}, \"type\": \"scattergeo\"}], \"scattergl\": [{\"marker\": {\"colorbar\": {\"outlinewidth\": 0, \"ticks\": \"\"}}, \"type\": \"scattergl\"}], \"scattermapbox\": [{\"marker\": {\"colorbar\": {\"outlinewidth\": 0, \"ticks\": \"\"}}, \"type\": \"scattermapbox\"}], \"scatterpolar\": [{\"marker\": {\"colorbar\": {\"outlinewidth\": 0, \"ticks\": \"\"}}, \"type\": \"scatterpolar\"}], \"scatterpolargl\": [{\"marker\": {\"colorbar\": {\"outlinewidth\": 0, \"ticks\": \"\"}}, \"type\": \"scatterpolargl\"}], \"scatterternary\": [{\"marker\": {\"colorbar\": {\"outlinewidth\": 0, \"ticks\": \"\"}}, \"type\": \"scatterternary\"}], \"surface\": [{\"colorbar\": {\"outlinewidth\": 0, \"ticks\": \"\"}, \"colorscale\": [[0.0, \"#0d0887\"], [0.1111111111111111, \"#46039f\"], [0.2222222222222222, \"#7201a8\"], [0.3333333333333333, \"#9c179e\"], [0.4444444444444444, \"#bd3786\"], [0.5555555555555556, \"#d8576b\"], [0.6666666666666666, \"#ed7953\"], [0.7777777777777778, \"#fb9f3a\"], [0.8888888888888888, \"#fdca26\"], [1.0, \"#f0f921\"]], \"type\": \"surface\"}], \"table\": [{\"cells\": {\"fill\": {\"color\": \"#EBF0F8\"}, \"line\": {\"color\": \"white\"}}, \"header\": {\"fill\": {\"color\": \"#C8D4E3\"}, \"line\": {\"color\": \"white\"}}, \"type\": \"table\"}]}, \"layout\": {\"annotationdefaults\": {\"arrowcolor\": \"#2a3f5f\", \"arrowhead\": 0, \"arrowwidth\": 1}, \"coloraxis\": {\"colorbar\": {\"outlinewidth\": 0, \"ticks\": \"\"}}, \"colorscale\": {\"diverging\": [[0, \"#8e0152\"], [0.1, \"#c51b7d\"], [0.2, \"#de77ae\"], [0.3, \"#f1b6da\"], [0.4, \"#fde0ef\"], [0.5, \"#f7f7f7\"], [0.6, \"#e6f5d0\"], [0.7, \"#b8e186\"], [0.8, \"#7fbc41\"], [0.9, \"#4d9221\"], [1, \"#276419\"]], \"sequential\": [[0.0, \"#0d0887\"], [0.1111111111111111, \"#46039f\"], [0.2222222222222222, \"#7201a8\"], [0.3333333333333333, \"#9c179e\"], [0.4444444444444444, \"#bd3786\"], [0.5555555555555556, \"#d8576b\"], [0.6666666666666666, \"#ed7953\"], [0.7777777777777778, \"#fb9f3a\"], [0.8888888888888888, \"#fdca26\"], [1.0, \"#f0f921\"]], \"sequentialminus\": [[0.0, \"#0d0887\"], [0.1111111111111111, \"#46039f\"], [0.2222222222222222, \"#7201a8\"], [0.3333333333333333, \"#9c179e\"], [0.4444444444444444, \"#bd3786\"], [0.5555555555555556, \"#d8576b\"], [0.6666666666666666, \"#ed7953\"], [0.7777777777777778, \"#fb9f3a\"], [0.8888888888888888, \"#fdca26\"], [1.0, \"#f0f921\"]]}, \"colorway\": [\"#636efa\", \"#EF553B\", \"#00cc96\", \"#ab63fa\", \"#FFA15A\", \"#19d3f3\", \"#FF6692\", \"#B6E880\", \"#FF97FF\", \"#FECB52\"], \"font\": {\"color\": \"#2a3f5f\"}, \"geo\": {\"bgcolor\": \"white\", \"lakecolor\": \"white\", \"landcolor\": \"white\", \"showlakes\": true, \"showland\": true, \"subunitcolor\": \"#C8D4E3\"}, \"hoverlabel\": {\"align\": \"left\"}, \"hovermode\": \"closest\", \"mapbox\": {\"style\": \"light\"}, \"paper_bgcolor\": \"white\", \"plot_bgcolor\": \"white\", \"polar\": {\"angularaxis\": {\"gridcolor\": \"#EBF0F8\", \"linecolor\": \"#EBF0F8\", \"ticks\": \"\"}, \"bgcolor\": \"white\", \"radialaxis\": {\"gridcolor\": \"#EBF0F8\", \"linecolor\": \"#EBF0F8\", \"ticks\": \"\"}}, \"scene\": {\"xaxis\": {\"backgroundcolor\": \"white\", \"gridcolor\": \"#DFE8F3\", \"gridwidth\": 2, \"linecolor\": \"#EBF0F8\", \"showbackground\": true, \"ticks\": \"\", \"zerolinecolor\": \"#EBF0F8\"}, \"yaxis\": {\"backgroundcolor\": \"white\", \"gridcolor\": \"#DFE8F3\", \"gridwidth\": 2, \"linecolor\": \"#EBF0F8\", \"showbackground\": true, \"ticks\": \"\", \"zerolinecolor\": \"#EBF0F8\"}, \"zaxis\": {\"backgroundcolor\": \"white\", \"gridcolor\": \"#DFE8F3\", \"gridwidth\": 2, \"linecolor\": \"#EBF0F8\", \"showbackground\": true, \"ticks\": \"\", \"zerolinecolor\": \"#EBF0F8\"}}, \"shapedefaults\": {\"line\": {\"color\": \"#2a3f5f\"}}, \"ternary\": {\"aaxis\": {\"gridcolor\": \"#DFE8F3\", \"linecolor\": \"#A2B1C6\", \"ticks\": \"\"}, \"baxis\": {\"gridcolor\": \"#DFE8F3\", \"linecolor\": \"#A2B1C6\", \"ticks\": \"\"}, \"bgcolor\": \"white\", \"caxis\": {\"gridcolor\": \"#DFE8F3\", \"linecolor\": \"#A2B1C6\", \"ticks\": \"\"}}, \"title\": {\"x\": 0.05}, \"xaxis\": {\"automargin\": true, \"gridcolor\": \"#EBF0F8\", \"linecolor\": \"#EBF0F8\", \"ticks\": \"\", \"title\": {\"standoff\": 15}, \"zerolinecolor\": \"#EBF0F8\", \"zerolinewidth\": 2}, \"yaxis\": {\"automargin\": true, \"gridcolor\": \"#EBF0F8\", \"linecolor\": \"#EBF0F8\", \"ticks\": \"\", \"title\": {\"standoff\": 15}, \"zerolinecolor\": \"#EBF0F8\", \"zerolinewidth\": 2}}}, \"title\": {\"text\": \"\", \"x\": 0.5}, \"width\": 500, \"xaxis\": {\"linecolor\": \"Black\", \"linewidth\": 0.5, \"mirror\": true, \"range\": [10, 100], \"showline\": true, \"title\": {\"text\": \"#labeled data (%)\"}}, \"yaxis\": {\"linecolor\": \"Black\", \"linewidth\": 0.5, \"mirror\": true, \"range\": [21.182653800676285, 100], \"showline\": true, \"title\": {\"text\": \"Accuracy (%)\"}}},                        {\"responsive\": true}                    ).then(function(){\n",
       "                            \n",
       "var gd = document.getElementById('304cd221-7deb-4c17-99c1-fad93e6cd8b9');\n",
       "var x = new MutationObserver(function (mutations, observer) {{\n",
       "        var display = window.getComputedStyle(gd).display;\n",
       "        if (!display || display === 'none') {{\n",
       "            console.log([gd, 'removed!']);\n",
       "            Plotly.purge(gd);\n",
       "            observer.disconnect();\n",
       "        }}\n",
       "}});\n",
       "\n",
       "// Listen for the removal of the full notebook cells\n",
       "var notebookContainer = gd.closest('#notebook-container');\n",
       "if (notebookContainer) {{\n",
       "    x.observe(notebookContainer, {childList: true});\n",
       "}}\n",
       "\n",
       "// Listen for the clearing of the current output cell\n",
       "var outputEl = gd.closest('.output');\n",
       "if (outputEl) {{\n",
       "    x.observe(outputEl, {childList: true});\n",
       "}}\n",
       "\n",
       "                        })                };                });            </script>        </div>"
      ]
     },
     "metadata": {},
     "output_type": "display_data"
    }
   ],
   "source": [
    "plot([spectral, spectral_perfect_onehot, spectral_perfect_distributional], \n",
    "     [\"ClusterCVXSampler\", \"ClusterCVXSampler+OnehotProb*\", \"ClusterCVXSampler+Prob*\"], \n",
    "     filename=\"cvx_cluster_perfect_uncertainty_K={}_sigma={}_alpha={}.pdf\".format(K, sigma, alpha), \n",
    "     opacity=0.3)"
   ]
  },
  {
   "cell_type": "code",
   "execution_count": 110,
   "metadata": {},
   "outputs": [
    {
     "data": {
      "application/vnd.plotly.v1+json": {
       "config": {
        "plotlyServerURL": "https://plot.ly"
       },
       "data": [
        {
         "fillcolor": "rgba(229, 134, 6, 0.3)",
         "line": {
          "color": "rgb(229, 134, 6)"
         },
         "mode": "lines",
         "name": "GreedyCVXSampler",
         "showlegend": false,
         "type": "scatter",
         "x": [
          10,
          13.10344827586207,
          16.20689655172414,
          19.310344827586206,
          22.413793103448278,
          25.517241379310345,
          28.620689655172413,
          31.724137931034484,
          34.827586206896555,
          37.93103448275862,
          41.03448275862069,
          44.13793103448276,
          47.241379310344826,
          50.3448275862069,
          53.44827586206897,
          56.55172413793103,
          59.6551724137931,
          62.758620689655174,
          65.86206896551724,
          68.9655172413793,
          72.06896551724138,
          75.17241379310344,
          78.27586206896552,
          81.37931034482759,
          84.48275862068965,
          87.58620689655173,
          90.6896551724138,
          93.79310344827586,
          96.89655172413794,
          100
         ],
         "y": [
          23.72365011623159,
          45.70511574500253,
          68.08900385672263,
          77.0643082592721,
          84.7473632350812,
          86.47040254865362,
          89.51236467282527,
          89.26882134333339,
          91.31273478654435,
          91.32625919959818,
          87.3506117554806,
          90.63677927457732,
          91.42656579915581,
          91.37068433978226,
          91.33567528029768,
          90.94124685175161,
          91.59440304233976,
          90.62782688622657,
          91.18721754476705,
          90.23655795853833,
          91.0640237648934,
          91.13159163035598,
          91.12581053398146,
          91.47908588459912,
          91.50799736177056,
          91.59165598495879,
          91.24012970289989,
          91.40604544500829,
          91.36581646277378,
          91.27251255459173
         ]
        },
        {
         "fill": "tonexty",
         "fillcolor": "rgba(229, 134, 6, 0.3)",
         "line": {
          "color": "rgb(229, 134, 6)"
         },
         "mode": "lines",
         "name": "GreedyCVXSampler",
         "showlegend": true,
         "type": "scatter",
         "x": [
          10,
          13.10344827586207,
          16.20689655172414,
          19.310344827586206,
          22.413793103448278,
          25.517241379310345,
          28.620689655172413,
          31.724137931034484,
          34.827586206896555,
          37.93103448275862,
          41.03448275862069,
          44.13793103448276,
          47.241379310344826,
          50.3448275862069,
          53.44827586206897,
          56.55172413793103,
          59.6551724137931,
          62.758620689655174,
          65.86206896551724,
          68.9655172413793,
          72.06896551724138,
          75.17241379310344,
          78.27586206896552,
          81.37931034482759,
          84.48275862068965,
          87.58620689655173,
          90.6896551724138,
          93.79310344827586,
          96.89655172413794,
          100
         ],
         "y": [
          55.42449803191656,
          64.28407965729633,
          85.20233713944597,
          92.68036607022982,
          95.19907354652801,
          96.03886948199775,
          98.34663915859235,
          98.01189385462318,
          99.28649892993076,
          99.26224654752826,
          97.88003958551559,
          99.52362940996929,
          99.30906638475227,
          99.61220199482821,
          99.65117018585813,
          99.64125634109642,
          99.62092262815833,
          99.79822675362017,
          99.68532396225721,
          100.04032582179374,
          99.9903823653748,
          99.85461526619574,
          99.83587528977331,
          99.93164208474953,
          99.73338194857426,
          99.79531719511782,
          99.88554079518438,
          99.80314995729054,
          99.8724977134714,
          99.88304300096384
         ]
        },
        {
         "fillcolor": "rgba(93, 105, 177, 0.3)",
         "line": {
          "color": "rgb(93, 105, 177)"
         },
         "mode": "lines",
         "name": "GreedyCVXSampler+Diversity*",
         "showlegend": false,
         "type": "scatter",
         "x": [
          10,
          13.10344827586207,
          16.20689655172414,
          19.310344827586206,
          22.413793103448278,
          25.517241379310345,
          28.620689655172413,
          31.724137931034484,
          34.827586206896555,
          37.93103448275862,
          41.03448275862069,
          44.13793103448276,
          47.241379310344826,
          50.3448275862069,
          53.44827586206897,
          56.55172413793103,
          59.6551724137931,
          62.758620689655174,
          65.86206896551724,
          68.9655172413793,
          72.06896551724138,
          75.17241379310344,
          78.27586206896552,
          81.37931034482759,
          84.48275862068965,
          87.58620689655173,
          90.6896551724138,
          93.79310344827586,
          96.89655172413794,
          100
         ],
         "y": [
          24.973261912225446,
          49.72354575646532,
          69.10449165625,
          77.6007986568675,
          80.95444348253736,
          81.50931854200167,
          85.45012107977163,
          86.86489346370965,
          88.22611238194462,
          90.66210209521432,
          89.87444594718187,
          87.52697990987892,
          87.69663573706521,
          90.05060012426313,
          90.50741390952257,
          91.46456518174996,
          90.60454739524707,
          90.50470337747774,
          90.50030858410737,
          91.45712386771245,
          90.73593873294963,
          90.81021986308271,
          91.21689488152302,
          91.01495490465926,
          90.2888564632539,
          91.15429446988568,
          91.08249513744121,
          91.4595402466442,
          91.44257121210248,
          91.27251255459174
         ]
        },
        {
         "fill": "tonexty",
         "fillcolor": "rgba(93, 105, 177, 0.3)",
         "line": {
          "color": "rgb(93, 105, 177)"
         },
         "mode": "lines",
         "name": "GreedyCVXSampler+Diversity*",
         "showlegend": true,
         "type": "scatter",
         "x": [
          10,
          13.10344827586207,
          16.20689655172414,
          19.310344827586206,
          22.413793103448278,
          25.517241379310345,
          28.620689655172413,
          31.724137931034484,
          34.827586206896555,
          37.93103448275862,
          41.03448275862069,
          44.13793103448276,
          47.241379310344826,
          50.3448275862069,
          53.44827586206897,
          56.55172413793103,
          59.6551724137931,
          62.758620689655174,
          65.86206896551724,
          68.9655172413793,
          72.06896551724138,
          75.17241379310344,
          78.27586206896552,
          81.37931034482759,
          84.48275862068965,
          87.58620689655173,
          90.6896551724138,
          93.79310344827586,
          96.89655172413794,
          100
         ],
         "y": [
          54.01340475444123,
          67.8833507952588,
          84.88761562344347,
          93.46433544274934,
          93.65015421861207,
          93.98370827792172,
          97.38505133402148,
          97.82501713654577,
          97.68921328855349,
          99.25820441819565,
          98.05799338870577,
          98.12397794452721,
          97.96052901389265,
          98.22687114010466,
          99.9928415183191,
          99.87221642744545,
          99.98855605302879,
          100.03399394052994,
          99.84681785267422,
          99.70762709014198,
          99.96444440881281,
          100.06487592235793,
          99.9700782985536,
          99.842899501471,
          100.08010905398748,
          99.92463273317944,
          99.90064662501086,
          99.8684291020148,
          99.85091537793582,
          99.88304300096385
         ]
        }
       ],
       "layout": {
        "font": {
         "size": 15
        },
        "height": 400,
        "legend": {
         "bgcolor": "rgba(0,0,0,0)",
         "bordercolor": "Black",
         "borderwidth": 1,
         "x": 0.98,
         "xanchor": "right",
         "y": 0.05,
         "yanchor": "bottom"
        },
        "margin": {
         "b": 40,
         "l": 0,
         "r": 0,
         "t": 40
        },
        "template": {
         "data": {
          "bar": [
           {
            "error_x": {
             "color": "#2a3f5f"
            },
            "error_y": {
             "color": "#2a3f5f"
            },
            "marker": {
             "line": {
              "color": "white",
              "width": 0.5
             }
            },
            "type": "bar"
           }
          ],
          "barpolar": [
           {
            "marker": {
             "line": {
              "color": "white",
              "width": 0.5
             }
            },
            "type": "barpolar"
           }
          ],
          "carpet": [
           {
            "aaxis": {
             "endlinecolor": "#2a3f5f",
             "gridcolor": "#C8D4E3",
             "linecolor": "#C8D4E3",
             "minorgridcolor": "#C8D4E3",
             "startlinecolor": "#2a3f5f"
            },
            "baxis": {
             "endlinecolor": "#2a3f5f",
             "gridcolor": "#C8D4E3",
             "linecolor": "#C8D4E3",
             "minorgridcolor": "#C8D4E3",
             "startlinecolor": "#2a3f5f"
            },
            "type": "carpet"
           }
          ],
          "choropleth": [
           {
            "colorbar": {
             "outlinewidth": 0,
             "ticks": ""
            },
            "type": "choropleth"
           }
          ],
          "contour": [
           {
            "colorbar": {
             "outlinewidth": 0,
             "ticks": ""
            },
            "colorscale": [
             [
              0,
              "#0d0887"
             ],
             [
              0.1111111111111111,
              "#46039f"
             ],
             [
              0.2222222222222222,
              "#7201a8"
             ],
             [
              0.3333333333333333,
              "#9c179e"
             ],
             [
              0.4444444444444444,
              "#bd3786"
             ],
             [
              0.5555555555555556,
              "#d8576b"
             ],
             [
              0.6666666666666666,
              "#ed7953"
             ],
             [
              0.7777777777777778,
              "#fb9f3a"
             ],
             [
              0.8888888888888888,
              "#fdca26"
             ],
             [
              1,
              "#f0f921"
             ]
            ],
            "type": "contour"
           }
          ],
          "contourcarpet": [
           {
            "colorbar": {
             "outlinewidth": 0,
             "ticks": ""
            },
            "type": "contourcarpet"
           }
          ],
          "heatmap": [
           {
            "colorbar": {
             "outlinewidth": 0,
             "ticks": ""
            },
            "colorscale": [
             [
              0,
              "#0d0887"
             ],
             [
              0.1111111111111111,
              "#46039f"
             ],
             [
              0.2222222222222222,
              "#7201a8"
             ],
             [
              0.3333333333333333,
              "#9c179e"
             ],
             [
              0.4444444444444444,
              "#bd3786"
             ],
             [
              0.5555555555555556,
              "#d8576b"
             ],
             [
              0.6666666666666666,
              "#ed7953"
             ],
             [
              0.7777777777777778,
              "#fb9f3a"
             ],
             [
              0.8888888888888888,
              "#fdca26"
             ],
             [
              1,
              "#f0f921"
             ]
            ],
            "type": "heatmap"
           }
          ],
          "heatmapgl": [
           {
            "colorbar": {
             "outlinewidth": 0,
             "ticks": ""
            },
            "colorscale": [
             [
              0,
              "#0d0887"
             ],
             [
              0.1111111111111111,
              "#46039f"
             ],
             [
              0.2222222222222222,
              "#7201a8"
             ],
             [
              0.3333333333333333,
              "#9c179e"
             ],
             [
              0.4444444444444444,
              "#bd3786"
             ],
             [
              0.5555555555555556,
              "#d8576b"
             ],
             [
              0.6666666666666666,
              "#ed7953"
             ],
             [
              0.7777777777777778,
              "#fb9f3a"
             ],
             [
              0.8888888888888888,
              "#fdca26"
             ],
             [
              1,
              "#f0f921"
             ]
            ],
            "type": "heatmapgl"
           }
          ],
          "histogram": [
           {
            "marker": {
             "colorbar": {
              "outlinewidth": 0,
              "ticks": ""
             }
            },
            "type": "histogram"
           }
          ],
          "histogram2d": [
           {
            "colorbar": {
             "outlinewidth": 0,
             "ticks": ""
            },
            "colorscale": [
             [
              0,
              "#0d0887"
             ],
             [
              0.1111111111111111,
              "#46039f"
             ],
             [
              0.2222222222222222,
              "#7201a8"
             ],
             [
              0.3333333333333333,
              "#9c179e"
             ],
             [
              0.4444444444444444,
              "#bd3786"
             ],
             [
              0.5555555555555556,
              "#d8576b"
             ],
             [
              0.6666666666666666,
              "#ed7953"
             ],
             [
              0.7777777777777778,
              "#fb9f3a"
             ],
             [
              0.8888888888888888,
              "#fdca26"
             ],
             [
              1,
              "#f0f921"
             ]
            ],
            "type": "histogram2d"
           }
          ],
          "histogram2dcontour": [
           {
            "colorbar": {
             "outlinewidth": 0,
             "ticks": ""
            },
            "colorscale": [
             [
              0,
              "#0d0887"
             ],
             [
              0.1111111111111111,
              "#46039f"
             ],
             [
              0.2222222222222222,
              "#7201a8"
             ],
             [
              0.3333333333333333,
              "#9c179e"
             ],
             [
              0.4444444444444444,
              "#bd3786"
             ],
             [
              0.5555555555555556,
              "#d8576b"
             ],
             [
              0.6666666666666666,
              "#ed7953"
             ],
             [
              0.7777777777777778,
              "#fb9f3a"
             ],
             [
              0.8888888888888888,
              "#fdca26"
             ],
             [
              1,
              "#f0f921"
             ]
            ],
            "type": "histogram2dcontour"
           }
          ],
          "mesh3d": [
           {
            "colorbar": {
             "outlinewidth": 0,
             "ticks": ""
            },
            "type": "mesh3d"
           }
          ],
          "parcoords": [
           {
            "line": {
             "colorbar": {
              "outlinewidth": 0,
              "ticks": ""
             }
            },
            "type": "parcoords"
           }
          ],
          "pie": [
           {
            "automargin": true,
            "type": "pie"
           }
          ],
          "scatter": [
           {
            "marker": {
             "colorbar": {
              "outlinewidth": 0,
              "ticks": ""
             }
            },
            "type": "scatter"
           }
          ],
          "scatter3d": [
           {
            "line": {
             "colorbar": {
              "outlinewidth": 0,
              "ticks": ""
             }
            },
            "marker": {
             "colorbar": {
              "outlinewidth": 0,
              "ticks": ""
             }
            },
            "type": "scatter3d"
           }
          ],
          "scattercarpet": [
           {
            "marker": {
             "colorbar": {
              "outlinewidth": 0,
              "ticks": ""
             }
            },
            "type": "scattercarpet"
           }
          ],
          "scattergeo": [
           {
            "marker": {
             "colorbar": {
              "outlinewidth": 0,
              "ticks": ""
             }
            },
            "type": "scattergeo"
           }
          ],
          "scattergl": [
           {
            "marker": {
             "colorbar": {
              "outlinewidth": 0,
              "ticks": ""
             }
            },
            "type": "scattergl"
           }
          ],
          "scattermapbox": [
           {
            "marker": {
             "colorbar": {
              "outlinewidth": 0,
              "ticks": ""
             }
            },
            "type": "scattermapbox"
           }
          ],
          "scatterpolar": [
           {
            "marker": {
             "colorbar": {
              "outlinewidth": 0,
              "ticks": ""
             }
            },
            "type": "scatterpolar"
           }
          ],
          "scatterpolargl": [
           {
            "marker": {
             "colorbar": {
              "outlinewidth": 0,
              "ticks": ""
             }
            },
            "type": "scatterpolargl"
           }
          ],
          "scatterternary": [
           {
            "marker": {
             "colorbar": {
              "outlinewidth": 0,
              "ticks": ""
             }
            },
            "type": "scatterternary"
           }
          ],
          "surface": [
           {
            "colorbar": {
             "outlinewidth": 0,
             "ticks": ""
            },
            "colorscale": [
             [
              0,
              "#0d0887"
             ],
             [
              0.1111111111111111,
              "#46039f"
             ],
             [
              0.2222222222222222,
              "#7201a8"
             ],
             [
              0.3333333333333333,
              "#9c179e"
             ],
             [
              0.4444444444444444,
              "#bd3786"
             ],
             [
              0.5555555555555556,
              "#d8576b"
             ],
             [
              0.6666666666666666,
              "#ed7953"
             ],
             [
              0.7777777777777778,
              "#fb9f3a"
             ],
             [
              0.8888888888888888,
              "#fdca26"
             ],
             [
              1,
              "#f0f921"
             ]
            ],
            "type": "surface"
           }
          ],
          "table": [
           {
            "cells": {
             "fill": {
              "color": "#EBF0F8"
             },
             "line": {
              "color": "white"
             }
            },
            "header": {
             "fill": {
              "color": "#C8D4E3"
             },
             "line": {
              "color": "white"
             }
            },
            "type": "table"
           }
          ]
         },
         "layout": {
          "annotationdefaults": {
           "arrowcolor": "#2a3f5f",
           "arrowhead": 0,
           "arrowwidth": 1
          },
          "coloraxis": {
           "colorbar": {
            "outlinewidth": 0,
            "ticks": ""
           }
          },
          "colorscale": {
           "diverging": [
            [
             0,
             "#8e0152"
            ],
            [
             0.1,
             "#c51b7d"
            ],
            [
             0.2,
             "#de77ae"
            ],
            [
             0.3,
             "#f1b6da"
            ],
            [
             0.4,
             "#fde0ef"
            ],
            [
             0.5,
             "#f7f7f7"
            ],
            [
             0.6,
             "#e6f5d0"
            ],
            [
             0.7,
             "#b8e186"
            ],
            [
             0.8,
             "#7fbc41"
            ],
            [
             0.9,
             "#4d9221"
            ],
            [
             1,
             "#276419"
            ]
           ],
           "sequential": [
            [
             0,
             "#0d0887"
            ],
            [
             0.1111111111111111,
             "#46039f"
            ],
            [
             0.2222222222222222,
             "#7201a8"
            ],
            [
             0.3333333333333333,
             "#9c179e"
            ],
            [
             0.4444444444444444,
             "#bd3786"
            ],
            [
             0.5555555555555556,
             "#d8576b"
            ],
            [
             0.6666666666666666,
             "#ed7953"
            ],
            [
             0.7777777777777778,
             "#fb9f3a"
            ],
            [
             0.8888888888888888,
             "#fdca26"
            ],
            [
             1,
             "#f0f921"
            ]
           ],
           "sequentialminus": [
            [
             0,
             "#0d0887"
            ],
            [
             0.1111111111111111,
             "#46039f"
            ],
            [
             0.2222222222222222,
             "#7201a8"
            ],
            [
             0.3333333333333333,
             "#9c179e"
            ],
            [
             0.4444444444444444,
             "#bd3786"
            ],
            [
             0.5555555555555556,
             "#d8576b"
            ],
            [
             0.6666666666666666,
             "#ed7953"
            ],
            [
             0.7777777777777778,
             "#fb9f3a"
            ],
            [
             0.8888888888888888,
             "#fdca26"
            ],
            [
             1,
             "#f0f921"
            ]
           ]
          },
          "colorway": [
           "#636efa",
           "#EF553B",
           "#00cc96",
           "#ab63fa",
           "#FFA15A",
           "#19d3f3",
           "#FF6692",
           "#B6E880",
           "#FF97FF",
           "#FECB52"
          ],
          "font": {
           "color": "#2a3f5f"
          },
          "geo": {
           "bgcolor": "white",
           "lakecolor": "white",
           "landcolor": "white",
           "showlakes": true,
           "showland": true,
           "subunitcolor": "#C8D4E3"
          },
          "hoverlabel": {
           "align": "left"
          },
          "hovermode": "closest",
          "mapbox": {
           "style": "light"
          },
          "paper_bgcolor": "white",
          "plot_bgcolor": "white",
          "polar": {
           "angularaxis": {
            "gridcolor": "#EBF0F8",
            "linecolor": "#EBF0F8",
            "ticks": ""
           },
           "bgcolor": "white",
           "radialaxis": {
            "gridcolor": "#EBF0F8",
            "linecolor": "#EBF0F8",
            "ticks": ""
           }
          },
          "scene": {
           "xaxis": {
            "backgroundcolor": "white",
            "gridcolor": "#DFE8F3",
            "gridwidth": 2,
            "linecolor": "#EBF0F8",
            "showbackground": true,
            "ticks": "",
            "zerolinecolor": "#EBF0F8"
           },
           "yaxis": {
            "backgroundcolor": "white",
            "gridcolor": "#DFE8F3",
            "gridwidth": 2,
            "linecolor": "#EBF0F8",
            "showbackground": true,
            "ticks": "",
            "zerolinecolor": "#EBF0F8"
           },
           "zaxis": {
            "backgroundcolor": "white",
            "gridcolor": "#DFE8F3",
            "gridwidth": 2,
            "linecolor": "#EBF0F8",
            "showbackground": true,
            "ticks": "",
            "zerolinecolor": "#EBF0F8"
           }
          },
          "shapedefaults": {
           "line": {
            "color": "#2a3f5f"
           }
          },
          "ternary": {
           "aaxis": {
            "gridcolor": "#DFE8F3",
            "linecolor": "#A2B1C6",
            "ticks": ""
           },
           "baxis": {
            "gridcolor": "#DFE8F3",
            "linecolor": "#A2B1C6",
            "ticks": ""
           },
           "bgcolor": "white",
           "caxis": {
            "gridcolor": "#DFE8F3",
            "linecolor": "#A2B1C6",
            "ticks": ""
           }
          },
          "title": {
           "x": 0.05
          },
          "xaxis": {
           "automargin": true,
           "gridcolor": "#EBF0F8",
           "linecolor": "#EBF0F8",
           "ticks": "",
           "title": {
            "standoff": 15
           },
           "zerolinecolor": "#EBF0F8",
           "zerolinewidth": 2
          },
          "yaxis": {
           "automargin": true,
           "gridcolor": "#EBF0F8",
           "linecolor": "#EBF0F8",
           "ticks": "",
           "title": {
            "standoff": 15
           },
           "zerolinecolor": "#EBF0F8",
           "zerolinewidth": 2
          }
         }
        },
        "title": {
         "text": "",
         "x": 0.5
        },
        "width": 500,
        "xaxis": {
         "linecolor": "Black",
         "linewidth": 0.5,
         "mirror": true,
         "range": [
          10,
          100
         ],
         "showline": true,
         "title": {
          "text": "#labeled data (%)"
         }
        },
        "yaxis": {
         "linecolor": "Black",
         "linewidth": 0.5,
         "mirror": true,
         "range": [
          23.72365011623159,
          100
         ],
         "showline": true,
         "title": {
          "text": "Accuracy (%)"
         }
        }
       }
      },
      "text/html": [
       "<div>                            <div id=\"5019c939-ebfe-43fe-a909-bf75e5817603\" class=\"plotly-graph-div\" style=\"height:400px; width:500px;\"></div>            <script type=\"text/javascript\">                require([\"plotly\"], function(Plotly) {                    window.PLOTLYENV=window.PLOTLYENV || {};                                    if (document.getElementById(\"5019c939-ebfe-43fe-a909-bf75e5817603\")) {                    Plotly.newPlot(                        \"5019c939-ebfe-43fe-a909-bf75e5817603\",                        [{\"fillcolor\": \"rgba(229, 134, 6, 0.3)\", \"line\": {\"color\": \"rgb(229, 134, 6)\"}, \"mode\": \"lines\", \"name\": \"GreedyCVXSampler\", \"showlegend\": false, \"type\": \"scatter\", \"x\": [10.0, 13.10344827586207, 16.20689655172414, 19.310344827586206, 22.413793103448278, 25.517241379310345, 28.620689655172413, 31.724137931034484, 34.827586206896555, 37.93103448275862, 41.03448275862069, 44.13793103448276, 47.241379310344826, 50.3448275862069, 53.44827586206897, 56.55172413793103, 59.6551724137931, 62.758620689655174, 65.86206896551724, 68.9655172413793, 72.06896551724138, 75.17241379310344, 78.27586206896552, 81.37931034482759, 84.48275862068965, 87.58620689655173, 90.6896551724138, 93.79310344827586, 96.89655172413794, 100.0], \"y\": [23.72365011623159, 45.70511574500253, 68.08900385672263, 77.0643082592721, 84.7473632350812, 86.47040254865362, 89.51236467282527, 89.26882134333339, 91.31273478654435, 91.32625919959818, 87.3506117554806, 90.63677927457732, 91.42656579915581, 91.37068433978226, 91.33567528029768, 90.94124685175161, 91.59440304233976, 90.62782688622657, 91.18721754476705, 90.23655795853833, 91.0640237648934, 91.13159163035598, 91.12581053398146, 91.47908588459912, 91.50799736177056, 91.59165598495879, 91.24012970289989, 91.40604544500829, 91.36581646277378, 91.27251255459173]}, {\"fill\": \"tonexty\", \"fillcolor\": \"rgba(229, 134, 6, 0.3)\", \"line\": {\"color\": \"rgb(229, 134, 6)\"}, \"mode\": \"lines\", \"name\": \"GreedyCVXSampler\", \"showlegend\": true, \"type\": \"scatter\", \"x\": [10.0, 13.10344827586207, 16.20689655172414, 19.310344827586206, 22.413793103448278, 25.517241379310345, 28.620689655172413, 31.724137931034484, 34.827586206896555, 37.93103448275862, 41.03448275862069, 44.13793103448276, 47.241379310344826, 50.3448275862069, 53.44827586206897, 56.55172413793103, 59.6551724137931, 62.758620689655174, 65.86206896551724, 68.9655172413793, 72.06896551724138, 75.17241379310344, 78.27586206896552, 81.37931034482759, 84.48275862068965, 87.58620689655173, 90.6896551724138, 93.79310344827586, 96.89655172413794, 100.0], \"y\": [55.42449803191656, 64.28407965729633, 85.20233713944597, 92.68036607022982, 95.19907354652801, 96.03886948199775, 98.34663915859235, 98.01189385462318, 99.28649892993076, 99.26224654752826, 97.88003958551559, 99.52362940996929, 99.30906638475227, 99.61220199482821, 99.65117018585813, 99.64125634109642, 99.62092262815833, 99.79822675362017, 99.68532396225721, 100.04032582179374, 99.9903823653748, 99.85461526619574, 99.83587528977331, 99.93164208474953, 99.73338194857426, 99.79531719511782, 99.88554079518438, 99.80314995729054, 99.8724977134714, 99.88304300096384]}, {\"fillcolor\": \"rgba(93, 105, 177, 0.3)\", \"line\": {\"color\": \"rgb(93, 105, 177)\"}, \"mode\": \"lines\", \"name\": \"GreedyCVXSampler+Diversity*\", \"showlegend\": false, \"type\": \"scatter\", \"x\": [10.0, 13.10344827586207, 16.20689655172414, 19.310344827586206, 22.413793103448278, 25.517241379310345, 28.620689655172413, 31.724137931034484, 34.827586206896555, 37.93103448275862, 41.03448275862069, 44.13793103448276, 47.241379310344826, 50.3448275862069, 53.44827586206897, 56.55172413793103, 59.6551724137931, 62.758620689655174, 65.86206896551724, 68.9655172413793, 72.06896551724138, 75.17241379310344, 78.27586206896552, 81.37931034482759, 84.48275862068965, 87.58620689655173, 90.6896551724138, 93.79310344827586, 96.89655172413794, 100.0], \"y\": [24.973261912225446, 49.72354575646532, 69.10449165625, 77.6007986568675, 80.95444348253736, 81.50931854200167, 85.45012107977163, 86.86489346370965, 88.22611238194462, 90.66210209521432, 89.87444594718187, 87.52697990987892, 87.69663573706521, 90.05060012426313, 90.50741390952257, 91.46456518174996, 90.60454739524707, 90.50470337747774, 90.50030858410737, 91.45712386771245, 90.73593873294963, 90.81021986308271, 91.21689488152302, 91.01495490465926, 90.2888564632539, 91.15429446988568, 91.08249513744121, 91.4595402466442, 91.44257121210248, 91.27251255459174]}, {\"fill\": \"tonexty\", \"fillcolor\": \"rgba(93, 105, 177, 0.3)\", \"line\": {\"color\": \"rgb(93, 105, 177)\"}, \"mode\": \"lines\", \"name\": \"GreedyCVXSampler+Diversity*\", \"showlegend\": true, \"type\": \"scatter\", \"x\": [10.0, 13.10344827586207, 16.20689655172414, 19.310344827586206, 22.413793103448278, 25.517241379310345, 28.620689655172413, 31.724137931034484, 34.827586206896555, 37.93103448275862, 41.03448275862069, 44.13793103448276, 47.241379310344826, 50.3448275862069, 53.44827586206897, 56.55172413793103, 59.6551724137931, 62.758620689655174, 65.86206896551724, 68.9655172413793, 72.06896551724138, 75.17241379310344, 78.27586206896552, 81.37931034482759, 84.48275862068965, 87.58620689655173, 90.6896551724138, 93.79310344827586, 96.89655172413794, 100.0], \"y\": [54.01340475444123, 67.8833507952588, 84.88761562344347, 93.46433544274934, 93.65015421861207, 93.98370827792172, 97.38505133402148, 97.82501713654577, 97.68921328855349, 99.25820441819565, 98.05799338870577, 98.12397794452721, 97.96052901389265, 98.22687114010466, 99.9928415183191, 99.87221642744545, 99.98855605302879, 100.03399394052994, 99.84681785267422, 99.70762709014198, 99.96444440881281, 100.06487592235793, 99.9700782985536, 99.842899501471, 100.08010905398748, 99.92463273317944, 99.90064662501086, 99.8684291020148, 99.85091537793582, 99.88304300096385]}],                        {\"font\": {\"size\": 15}, \"height\": 400, \"legend\": {\"bgcolor\": \"rgba(0,0,0,0)\", \"bordercolor\": \"Black\", \"borderwidth\": 1, \"x\": 0.98, \"xanchor\": \"right\", \"y\": 0.05, \"yanchor\": \"bottom\"}, \"margin\": {\"b\": 40, \"l\": 0, \"r\": 0, \"t\": 40}, \"template\": {\"data\": {\"bar\": [{\"error_x\": {\"color\": \"#2a3f5f\"}, \"error_y\": {\"color\": \"#2a3f5f\"}, \"marker\": {\"line\": {\"color\": \"white\", \"width\": 0.5}}, \"type\": \"bar\"}], \"barpolar\": [{\"marker\": {\"line\": {\"color\": \"white\", \"width\": 0.5}}, \"type\": \"barpolar\"}], \"carpet\": [{\"aaxis\": {\"endlinecolor\": \"#2a3f5f\", \"gridcolor\": \"#C8D4E3\", \"linecolor\": \"#C8D4E3\", \"minorgridcolor\": \"#C8D4E3\", \"startlinecolor\": \"#2a3f5f\"}, \"baxis\": {\"endlinecolor\": \"#2a3f5f\", \"gridcolor\": \"#C8D4E3\", \"linecolor\": \"#C8D4E3\", \"minorgridcolor\": \"#C8D4E3\", \"startlinecolor\": \"#2a3f5f\"}, \"type\": \"carpet\"}], \"choropleth\": [{\"colorbar\": {\"outlinewidth\": 0, \"ticks\": \"\"}, \"type\": \"choropleth\"}], \"contour\": [{\"colorbar\": {\"outlinewidth\": 0, \"ticks\": \"\"}, \"colorscale\": [[0.0, \"#0d0887\"], [0.1111111111111111, \"#46039f\"], [0.2222222222222222, \"#7201a8\"], [0.3333333333333333, \"#9c179e\"], [0.4444444444444444, \"#bd3786\"], [0.5555555555555556, \"#d8576b\"], [0.6666666666666666, \"#ed7953\"], [0.7777777777777778, \"#fb9f3a\"], [0.8888888888888888, \"#fdca26\"], [1.0, \"#f0f921\"]], \"type\": \"contour\"}], \"contourcarpet\": [{\"colorbar\": {\"outlinewidth\": 0, \"ticks\": \"\"}, \"type\": \"contourcarpet\"}], \"heatmap\": [{\"colorbar\": {\"outlinewidth\": 0, \"ticks\": \"\"}, \"colorscale\": [[0.0, \"#0d0887\"], [0.1111111111111111, \"#46039f\"], [0.2222222222222222, \"#7201a8\"], [0.3333333333333333, \"#9c179e\"], [0.4444444444444444, \"#bd3786\"], [0.5555555555555556, \"#d8576b\"], [0.6666666666666666, \"#ed7953\"], [0.7777777777777778, \"#fb9f3a\"], [0.8888888888888888, \"#fdca26\"], [1.0, \"#f0f921\"]], \"type\": \"heatmap\"}], \"heatmapgl\": [{\"colorbar\": {\"outlinewidth\": 0, \"ticks\": \"\"}, \"colorscale\": [[0.0, \"#0d0887\"], [0.1111111111111111, \"#46039f\"], [0.2222222222222222, \"#7201a8\"], [0.3333333333333333, \"#9c179e\"], [0.4444444444444444, \"#bd3786\"], [0.5555555555555556, \"#d8576b\"], [0.6666666666666666, \"#ed7953\"], [0.7777777777777778, \"#fb9f3a\"], [0.8888888888888888, \"#fdca26\"], [1.0, \"#f0f921\"]], \"type\": \"heatmapgl\"}], \"histogram\": [{\"marker\": {\"colorbar\": {\"outlinewidth\": 0, \"ticks\": \"\"}}, \"type\": \"histogram\"}], \"histogram2d\": [{\"colorbar\": {\"outlinewidth\": 0, \"ticks\": \"\"}, \"colorscale\": [[0.0, \"#0d0887\"], [0.1111111111111111, \"#46039f\"], [0.2222222222222222, \"#7201a8\"], [0.3333333333333333, \"#9c179e\"], [0.4444444444444444, \"#bd3786\"], [0.5555555555555556, \"#d8576b\"], [0.6666666666666666, \"#ed7953\"], [0.7777777777777778, \"#fb9f3a\"], [0.8888888888888888, \"#fdca26\"], [1.0, \"#f0f921\"]], \"type\": \"histogram2d\"}], \"histogram2dcontour\": [{\"colorbar\": {\"outlinewidth\": 0, \"ticks\": \"\"}, \"colorscale\": [[0.0, \"#0d0887\"], [0.1111111111111111, \"#46039f\"], [0.2222222222222222, \"#7201a8\"], [0.3333333333333333, \"#9c179e\"], [0.4444444444444444, \"#bd3786\"], [0.5555555555555556, \"#d8576b\"], [0.6666666666666666, \"#ed7953\"], [0.7777777777777778, \"#fb9f3a\"], [0.8888888888888888, \"#fdca26\"], [1.0, \"#f0f921\"]], \"type\": \"histogram2dcontour\"}], \"mesh3d\": [{\"colorbar\": {\"outlinewidth\": 0, \"ticks\": \"\"}, \"type\": \"mesh3d\"}], \"parcoords\": [{\"line\": {\"colorbar\": {\"outlinewidth\": 0, \"ticks\": \"\"}}, \"type\": \"parcoords\"}], \"pie\": [{\"automargin\": true, \"type\": \"pie\"}], \"scatter\": [{\"marker\": {\"colorbar\": {\"outlinewidth\": 0, \"ticks\": \"\"}}, \"type\": \"scatter\"}], \"scatter3d\": [{\"line\": {\"colorbar\": {\"outlinewidth\": 0, \"ticks\": \"\"}}, \"marker\": {\"colorbar\": {\"outlinewidth\": 0, \"ticks\": \"\"}}, \"type\": \"scatter3d\"}], \"scattercarpet\": [{\"marker\": {\"colorbar\": {\"outlinewidth\": 0, \"ticks\": \"\"}}, \"type\": \"scattercarpet\"}], \"scattergeo\": [{\"marker\": {\"colorbar\": {\"outlinewidth\": 0, \"ticks\": \"\"}}, \"type\": \"scattergeo\"}], \"scattergl\": [{\"marker\": {\"colorbar\": {\"outlinewidth\": 0, \"ticks\": \"\"}}, \"type\": \"scattergl\"}], \"scattermapbox\": [{\"marker\": {\"colorbar\": {\"outlinewidth\": 0, \"ticks\": \"\"}}, \"type\": \"scattermapbox\"}], \"scatterpolar\": [{\"marker\": {\"colorbar\": {\"outlinewidth\": 0, \"ticks\": \"\"}}, \"type\": \"scatterpolar\"}], \"scatterpolargl\": [{\"marker\": {\"colorbar\": {\"outlinewidth\": 0, \"ticks\": \"\"}}, \"type\": \"scatterpolargl\"}], \"scatterternary\": [{\"marker\": {\"colorbar\": {\"outlinewidth\": 0, \"ticks\": \"\"}}, \"type\": \"scatterternary\"}], \"surface\": [{\"colorbar\": {\"outlinewidth\": 0, \"ticks\": \"\"}, \"colorscale\": [[0.0, \"#0d0887\"], [0.1111111111111111, \"#46039f\"], [0.2222222222222222, \"#7201a8\"], [0.3333333333333333, \"#9c179e\"], [0.4444444444444444, \"#bd3786\"], [0.5555555555555556, \"#d8576b\"], [0.6666666666666666, \"#ed7953\"], [0.7777777777777778, \"#fb9f3a\"], [0.8888888888888888, \"#fdca26\"], [1.0, \"#f0f921\"]], \"type\": \"surface\"}], \"table\": [{\"cells\": {\"fill\": {\"color\": \"#EBF0F8\"}, \"line\": {\"color\": \"white\"}}, \"header\": {\"fill\": {\"color\": \"#C8D4E3\"}, \"line\": {\"color\": \"white\"}}, \"type\": \"table\"}]}, \"layout\": {\"annotationdefaults\": {\"arrowcolor\": \"#2a3f5f\", \"arrowhead\": 0, \"arrowwidth\": 1}, \"coloraxis\": {\"colorbar\": {\"outlinewidth\": 0, \"ticks\": \"\"}}, \"colorscale\": {\"diverging\": [[0, \"#8e0152\"], [0.1, \"#c51b7d\"], [0.2, \"#de77ae\"], [0.3, \"#f1b6da\"], [0.4, \"#fde0ef\"], [0.5, \"#f7f7f7\"], [0.6, \"#e6f5d0\"], [0.7, \"#b8e186\"], [0.8, \"#7fbc41\"], [0.9, \"#4d9221\"], [1, \"#276419\"]], \"sequential\": [[0.0, \"#0d0887\"], [0.1111111111111111, \"#46039f\"], [0.2222222222222222, \"#7201a8\"], [0.3333333333333333, \"#9c179e\"], [0.4444444444444444, \"#bd3786\"], [0.5555555555555556, \"#d8576b\"], [0.6666666666666666, \"#ed7953\"], [0.7777777777777778, \"#fb9f3a\"], [0.8888888888888888, \"#fdca26\"], [1.0, \"#f0f921\"]], \"sequentialminus\": [[0.0, \"#0d0887\"], [0.1111111111111111, \"#46039f\"], [0.2222222222222222, \"#7201a8\"], [0.3333333333333333, \"#9c179e\"], [0.4444444444444444, \"#bd3786\"], [0.5555555555555556, \"#d8576b\"], [0.6666666666666666, \"#ed7953\"], [0.7777777777777778, \"#fb9f3a\"], [0.8888888888888888, \"#fdca26\"], [1.0, \"#f0f921\"]]}, \"colorway\": [\"#636efa\", \"#EF553B\", \"#00cc96\", \"#ab63fa\", \"#FFA15A\", \"#19d3f3\", \"#FF6692\", \"#B6E880\", \"#FF97FF\", \"#FECB52\"], \"font\": {\"color\": \"#2a3f5f\"}, \"geo\": {\"bgcolor\": \"white\", \"lakecolor\": \"white\", \"landcolor\": \"white\", \"showlakes\": true, \"showland\": true, \"subunitcolor\": \"#C8D4E3\"}, \"hoverlabel\": {\"align\": \"left\"}, \"hovermode\": \"closest\", \"mapbox\": {\"style\": \"light\"}, \"paper_bgcolor\": \"white\", \"plot_bgcolor\": \"white\", \"polar\": {\"angularaxis\": {\"gridcolor\": \"#EBF0F8\", \"linecolor\": \"#EBF0F8\", \"ticks\": \"\"}, \"bgcolor\": \"white\", \"radialaxis\": {\"gridcolor\": \"#EBF0F8\", \"linecolor\": \"#EBF0F8\", \"ticks\": \"\"}}, \"scene\": {\"xaxis\": {\"backgroundcolor\": \"white\", \"gridcolor\": \"#DFE8F3\", \"gridwidth\": 2, \"linecolor\": \"#EBF0F8\", \"showbackground\": true, \"ticks\": \"\", \"zerolinecolor\": \"#EBF0F8\"}, \"yaxis\": {\"backgroundcolor\": \"white\", \"gridcolor\": \"#DFE8F3\", \"gridwidth\": 2, \"linecolor\": \"#EBF0F8\", \"showbackground\": true, \"ticks\": \"\", \"zerolinecolor\": \"#EBF0F8\"}, \"zaxis\": {\"backgroundcolor\": \"white\", \"gridcolor\": \"#DFE8F3\", \"gridwidth\": 2, \"linecolor\": \"#EBF0F8\", \"showbackground\": true, \"ticks\": \"\", \"zerolinecolor\": \"#EBF0F8\"}}, \"shapedefaults\": {\"line\": {\"color\": \"#2a3f5f\"}}, \"ternary\": {\"aaxis\": {\"gridcolor\": \"#DFE8F3\", \"linecolor\": \"#A2B1C6\", \"ticks\": \"\"}, \"baxis\": {\"gridcolor\": \"#DFE8F3\", \"linecolor\": \"#A2B1C6\", \"ticks\": \"\"}, \"bgcolor\": \"white\", \"caxis\": {\"gridcolor\": \"#DFE8F3\", \"linecolor\": \"#A2B1C6\", \"ticks\": \"\"}}, \"title\": {\"x\": 0.05}, \"xaxis\": {\"automargin\": true, \"gridcolor\": \"#EBF0F8\", \"linecolor\": \"#EBF0F8\", \"ticks\": \"\", \"title\": {\"standoff\": 15}, \"zerolinecolor\": \"#EBF0F8\", \"zerolinewidth\": 2}, \"yaxis\": {\"automargin\": true, \"gridcolor\": \"#EBF0F8\", \"linecolor\": \"#EBF0F8\", \"ticks\": \"\", \"title\": {\"standoff\": 15}, \"zerolinecolor\": \"#EBF0F8\", \"zerolinewidth\": 2}}}, \"title\": {\"text\": \"\", \"x\": 0.5}, \"width\": 500, \"xaxis\": {\"linecolor\": \"Black\", \"linewidth\": 0.5, \"mirror\": true, \"range\": [10, 100], \"showline\": true, \"title\": {\"text\": \"#labeled data (%)\"}}, \"yaxis\": {\"linecolor\": \"Black\", \"linewidth\": 0.5, \"mirror\": true, \"range\": [23.72365011623159, 100], \"showline\": true, \"title\": {\"text\": \"Accuracy (%)\"}}},                        {\"responsive\": true}                    ).then(function(){\n",
       "                            \n",
       "var gd = document.getElementById('5019c939-ebfe-43fe-a909-bf75e5817603');\n",
       "var x = new MutationObserver(function (mutations, observer) {{\n",
       "        var display = window.getComputedStyle(gd).display;\n",
       "        if (!display || display === 'none') {{\n",
       "            console.log([gd, 'removed!']);\n",
       "            Plotly.purge(gd);\n",
       "            observer.disconnect();\n",
       "        }}\n",
       "}});\n",
       "\n",
       "// Listen for the removal of the full notebook cells\n",
       "var notebookContainer = gd.closest('#notebook-container');\n",
       "if (notebookContainer) {{\n",
       "    x.observe(notebookContainer, {childList: true});\n",
       "}}\n",
       "\n",
       "// Listen for the clearing of the current output cell\n",
       "var outputEl = gd.closest('.output');\n",
       "if (outputEl) {{\n",
       "    x.observe(outputEl, {childList: true});\n",
       "}}\n",
       "\n",
       "                        })                };                });            </script>        </div>"
      ]
     },
     "metadata": {},
     "output_type": "display_data"
    }
   ],
   "source": [
    "plot([argmax, argmax_perfect_diversity], \n",
    "     [\"GreedyCVXSampler\", \"GreedyCVXSampler+Diversity*\"], \n",
    "     filename=\"cvx_greedy_perfect_diversity_K={}_sigma={}_alpha={}.pdf\".format(K, sigma, alpha), \n",
    "     opacity=0.3)"
   ]
  },
  {
   "cell_type": "code",
   "execution_count": 111,
   "metadata": {},
   "outputs": [
    {
     "data": {
      "application/vnd.plotly.v1+json": {
       "config": {
        "plotlyServerURL": "https://plot.ly"
       },
       "data": [
        {
         "fillcolor": "rgba(229, 134, 6, 0.3)",
         "line": {
          "color": "rgb(229, 134, 6)"
         },
         "mode": "lines",
         "name": "ClusterCVXSampler",
         "showlegend": false,
         "type": "scatter",
         "x": [
          10,
          13.10344827586207,
          16.20689655172414,
          19.310344827586206,
          22.413793103448278,
          25.517241379310345,
          28.620689655172413,
          31.724137931034484,
          34.827586206896555,
          37.93103448275862,
          41.03448275862069,
          44.13793103448276,
          47.241379310344826,
          50.3448275862069,
          53.44827586206897,
          56.55172413793103,
          59.6551724137931,
          62.758620689655174,
          65.86206896551724,
          68.9655172413793,
          72.06896551724138,
          75.17241379310344,
          78.27586206896552,
          81.37931034482759,
          84.48275862068965,
          87.58620689655173,
          90.6896551724138,
          93.79310344827586,
          96.89655172413794,
          100
         ],
         "y": [
          23.992826681094574,
          47.4646770390551,
          61.35249248726379,
          72.54936120378146,
          81.04855039024291,
          81.4811366087126,
          85.46776846386867,
          90.12738025379461,
          91.2433356046125,
          91.42152549666162,
          91.50328975968881,
          91.53011982742804,
          91.58756457931251,
          91.57236593138593,
          91.38561225306397,
          91.15968707269298,
          91.09924890228113,
          91.448877313102,
          91.58307408883881,
          91.67723386829769,
          91.72463139058912,
          91.82586719033606,
          91.69184618661188,
          91.46713303198858,
          91.42042967326081,
          91.38757632979507,
          91.34654561075178,
          91.32746315224736,
          91.27291250503671,
          91.27251255459173
         ]
        },
        {
         "fill": "tonexty",
         "fillcolor": "rgba(229, 134, 6, 0.3)",
         "line": {
          "color": "rgb(229, 134, 6)"
         },
         "mode": "lines",
         "name": "ClusterCVXSampler",
         "showlegend": true,
         "type": "scatter",
         "x": [
          10,
          13.10344827586207,
          16.20689655172414,
          19.310344827586206,
          22.413793103448278,
          25.517241379310345,
          28.620689655172413,
          31.724137931034484,
          34.827586206896555,
          37.93103448275862,
          41.03448275862069,
          44.13793103448276,
          47.241379310344826,
          50.3448275862069,
          53.44827586206897,
          56.55172413793103,
          59.6551724137931,
          62.758620689655174,
          65.86206896551724,
          68.9655172413793,
          72.06896551724138,
          75.17241379310344,
          78.27586206896552,
          81.37931034482759,
          84.48275862068965,
          87.58620689655173,
          90.6896551724138,
          93.79310344827586,
          96.89655172413794,
          100
         ],
         "y": [
          58.214580726312846,
          65.39969077703687,
          79.80551517557146,
          88.0782250031151,
          93.68708179366514,
          94.30016607327974,
          96.75384073153366,
          98.39323277302533,
          98.97398240305034,
          99.06123312402804,
          99.13977537441079,
          99.1751675288938,
          99.30255036321621,
          99.57744249773283,
          99.51277855153371,
          99.41747767826487,
          99.36818404791047,
          99.44123762942675,
          99.40987610273207,
          99.33548643821572,
          99.46678623393196,
          99.73275349931913,
          99.8163530471046,
          99.80060643161296,
          99.82830595892311,
          99.80253861273367,
          99.83904825898003,
          99.93813071748446,
          99.9197311731242,
          99.88304300096384
         ]
        },
        {
         "fillcolor": "rgba(93, 105, 177, 0.3)",
         "line": {
          "color": "rgb(93, 105, 177)"
         },
         "mode": "lines",
         "name": "ClusterCVXSampler+Diversity*",
         "showlegend": false,
         "type": "scatter",
         "x": [
          10,
          13.10344827586207,
          16.20689655172414,
          19.310344827586206,
          22.413793103448278,
          25.517241379310345,
          28.620689655172413,
          31.724137931034484,
          34.827586206896555,
          37.93103448275862,
          41.03448275862069,
          44.13793103448276,
          47.241379310344826,
          50.3448275862069,
          53.44827586206897,
          56.55172413793103,
          59.6551724137931,
          62.758620689655174,
          65.86206896551724,
          68.9655172413793,
          72.06896551724138,
          75.17241379310344,
          78.27586206896552,
          81.37931034482759,
          84.48275862068965,
          87.58620689655173,
          90.6896551724138,
          93.79310344827586,
          96.89655172413794,
          100
         ],
         "y": [
          23.009904741654,
          50.562835111136565,
          66.64292102589043,
          71.24053851900777,
          71.73317233736194,
          78.37029212514908,
          85.51330032138927,
          86.0479955910417,
          87.18370130028516,
          87.65447161877867,
          87.1463403694029,
          87.07521295478632,
          88.38341417203664,
          90.1920315457621,
          90.38697093031895,
          90.46886675336394,
          90.41075795694393,
          90.24857612617662,
          90.32499872615375,
          90.63979377379401,
          90.48545180536671,
          90.92680681727852,
          91.52712548322499,
          90.85679004395158,
          90.93633787101183,
          91.16813524071881,
          91.34200526611198,
          91.3675949173903,
          91.31329103389848,
          91.27251255459173
         ]
        },
        {
         "fill": "tonexty",
         "fillcolor": "rgba(93, 105, 177, 0.3)",
         "line": {
          "color": "rgb(93, 105, 177)"
         },
         "mode": "lines",
         "name": "ClusterCVXSampler+Diversity*",
         "showlegend": true,
         "type": "scatter",
         "x": [
          10,
          13.10344827586207,
          16.20689655172414,
          19.310344827586206,
          22.413793103448278,
          25.517241379310345,
          28.620689655172413,
          31.724137931034484,
          34.827586206896555,
          37.93103448275862,
          41.03448275862069,
          44.13793103448276,
          47.241379310344826,
          50.3448275862069,
          53.44827586206897,
          56.55172413793103,
          59.6551724137931,
          62.758620689655174,
          65.86206896551724,
          68.9655172413793,
          72.06896551724138,
          75.17241379310344,
          78.27586206896552,
          81.37931034482759,
          84.48275862068965,
          87.58620689655173,
          90.6896551724138,
          93.79310344827586,
          96.89655172413794,
          100
         ],
         "y": [
          55.656761925012674,
          62.51693500380597,
          81.57171498943525,
          92.05279481432555,
          95.97870505727408,
          94.33614465646009,
          95.02731270543066,
          95.30015255710644,
          96.83813778017459,
          97.45817205938226,
          97.66198657823438,
          98.03308845006681,
          98.3689996210668,
          99.45693397147927,
          99.88873788194157,
          99.78592251866674,
          99.43997001240474,
          99.37571506156284,
          99.51622732748609,
          99.97384607294929,
          100.0344715662808,
          99.95549203329621,
          99.89570976581719,
          99.97294175681469,
          99.86764680331765,
          99.713397326331,
          99.66642385266195,
          99.71654301364418,
          99.90877793161877,
          99.88304300096384
         ]
        }
       ],
       "layout": {
        "font": {
         "size": 15
        },
        "height": 400,
        "legend": {
         "bgcolor": "rgba(0,0,0,0)",
         "bordercolor": "Black",
         "borderwidth": 1,
         "x": 0.98,
         "xanchor": "right",
         "y": 0.05,
         "yanchor": "bottom"
        },
        "margin": {
         "b": 40,
         "l": 0,
         "r": 0,
         "t": 40
        },
        "template": {
         "data": {
          "bar": [
           {
            "error_x": {
             "color": "#2a3f5f"
            },
            "error_y": {
             "color": "#2a3f5f"
            },
            "marker": {
             "line": {
              "color": "white",
              "width": 0.5
             }
            },
            "type": "bar"
           }
          ],
          "barpolar": [
           {
            "marker": {
             "line": {
              "color": "white",
              "width": 0.5
             }
            },
            "type": "barpolar"
           }
          ],
          "carpet": [
           {
            "aaxis": {
             "endlinecolor": "#2a3f5f",
             "gridcolor": "#C8D4E3",
             "linecolor": "#C8D4E3",
             "minorgridcolor": "#C8D4E3",
             "startlinecolor": "#2a3f5f"
            },
            "baxis": {
             "endlinecolor": "#2a3f5f",
             "gridcolor": "#C8D4E3",
             "linecolor": "#C8D4E3",
             "minorgridcolor": "#C8D4E3",
             "startlinecolor": "#2a3f5f"
            },
            "type": "carpet"
           }
          ],
          "choropleth": [
           {
            "colorbar": {
             "outlinewidth": 0,
             "ticks": ""
            },
            "type": "choropleth"
           }
          ],
          "contour": [
           {
            "colorbar": {
             "outlinewidth": 0,
             "ticks": ""
            },
            "colorscale": [
             [
              0,
              "#0d0887"
             ],
             [
              0.1111111111111111,
              "#46039f"
             ],
             [
              0.2222222222222222,
              "#7201a8"
             ],
             [
              0.3333333333333333,
              "#9c179e"
             ],
             [
              0.4444444444444444,
              "#bd3786"
             ],
             [
              0.5555555555555556,
              "#d8576b"
             ],
             [
              0.6666666666666666,
              "#ed7953"
             ],
             [
              0.7777777777777778,
              "#fb9f3a"
             ],
             [
              0.8888888888888888,
              "#fdca26"
             ],
             [
              1,
              "#f0f921"
             ]
            ],
            "type": "contour"
           }
          ],
          "contourcarpet": [
           {
            "colorbar": {
             "outlinewidth": 0,
             "ticks": ""
            },
            "type": "contourcarpet"
           }
          ],
          "heatmap": [
           {
            "colorbar": {
             "outlinewidth": 0,
             "ticks": ""
            },
            "colorscale": [
             [
              0,
              "#0d0887"
             ],
             [
              0.1111111111111111,
              "#46039f"
             ],
             [
              0.2222222222222222,
              "#7201a8"
             ],
             [
              0.3333333333333333,
              "#9c179e"
             ],
             [
              0.4444444444444444,
              "#bd3786"
             ],
             [
              0.5555555555555556,
              "#d8576b"
             ],
             [
              0.6666666666666666,
              "#ed7953"
             ],
             [
              0.7777777777777778,
              "#fb9f3a"
             ],
             [
              0.8888888888888888,
              "#fdca26"
             ],
             [
              1,
              "#f0f921"
             ]
            ],
            "type": "heatmap"
           }
          ],
          "heatmapgl": [
           {
            "colorbar": {
             "outlinewidth": 0,
             "ticks": ""
            },
            "colorscale": [
             [
              0,
              "#0d0887"
             ],
             [
              0.1111111111111111,
              "#46039f"
             ],
             [
              0.2222222222222222,
              "#7201a8"
             ],
             [
              0.3333333333333333,
              "#9c179e"
             ],
             [
              0.4444444444444444,
              "#bd3786"
             ],
             [
              0.5555555555555556,
              "#d8576b"
             ],
             [
              0.6666666666666666,
              "#ed7953"
             ],
             [
              0.7777777777777778,
              "#fb9f3a"
             ],
             [
              0.8888888888888888,
              "#fdca26"
             ],
             [
              1,
              "#f0f921"
             ]
            ],
            "type": "heatmapgl"
           }
          ],
          "histogram": [
           {
            "marker": {
             "colorbar": {
              "outlinewidth": 0,
              "ticks": ""
             }
            },
            "type": "histogram"
           }
          ],
          "histogram2d": [
           {
            "colorbar": {
             "outlinewidth": 0,
             "ticks": ""
            },
            "colorscale": [
             [
              0,
              "#0d0887"
             ],
             [
              0.1111111111111111,
              "#46039f"
             ],
             [
              0.2222222222222222,
              "#7201a8"
             ],
             [
              0.3333333333333333,
              "#9c179e"
             ],
             [
              0.4444444444444444,
              "#bd3786"
             ],
             [
              0.5555555555555556,
              "#d8576b"
             ],
             [
              0.6666666666666666,
              "#ed7953"
             ],
             [
              0.7777777777777778,
              "#fb9f3a"
             ],
             [
              0.8888888888888888,
              "#fdca26"
             ],
             [
              1,
              "#f0f921"
             ]
            ],
            "type": "histogram2d"
           }
          ],
          "histogram2dcontour": [
           {
            "colorbar": {
             "outlinewidth": 0,
             "ticks": ""
            },
            "colorscale": [
             [
              0,
              "#0d0887"
             ],
             [
              0.1111111111111111,
              "#46039f"
             ],
             [
              0.2222222222222222,
              "#7201a8"
             ],
             [
              0.3333333333333333,
              "#9c179e"
             ],
             [
              0.4444444444444444,
              "#bd3786"
             ],
             [
              0.5555555555555556,
              "#d8576b"
             ],
             [
              0.6666666666666666,
              "#ed7953"
             ],
             [
              0.7777777777777778,
              "#fb9f3a"
             ],
             [
              0.8888888888888888,
              "#fdca26"
             ],
             [
              1,
              "#f0f921"
             ]
            ],
            "type": "histogram2dcontour"
           }
          ],
          "mesh3d": [
           {
            "colorbar": {
             "outlinewidth": 0,
             "ticks": ""
            },
            "type": "mesh3d"
           }
          ],
          "parcoords": [
           {
            "line": {
             "colorbar": {
              "outlinewidth": 0,
              "ticks": ""
             }
            },
            "type": "parcoords"
           }
          ],
          "pie": [
           {
            "automargin": true,
            "type": "pie"
           }
          ],
          "scatter": [
           {
            "marker": {
             "colorbar": {
              "outlinewidth": 0,
              "ticks": ""
             }
            },
            "type": "scatter"
           }
          ],
          "scatter3d": [
           {
            "line": {
             "colorbar": {
              "outlinewidth": 0,
              "ticks": ""
             }
            },
            "marker": {
             "colorbar": {
              "outlinewidth": 0,
              "ticks": ""
             }
            },
            "type": "scatter3d"
           }
          ],
          "scattercarpet": [
           {
            "marker": {
             "colorbar": {
              "outlinewidth": 0,
              "ticks": ""
             }
            },
            "type": "scattercarpet"
           }
          ],
          "scattergeo": [
           {
            "marker": {
             "colorbar": {
              "outlinewidth": 0,
              "ticks": ""
             }
            },
            "type": "scattergeo"
           }
          ],
          "scattergl": [
           {
            "marker": {
             "colorbar": {
              "outlinewidth": 0,
              "ticks": ""
             }
            },
            "type": "scattergl"
           }
          ],
          "scattermapbox": [
           {
            "marker": {
             "colorbar": {
              "outlinewidth": 0,
              "ticks": ""
             }
            },
            "type": "scattermapbox"
           }
          ],
          "scatterpolar": [
           {
            "marker": {
             "colorbar": {
              "outlinewidth": 0,
              "ticks": ""
             }
            },
            "type": "scatterpolar"
           }
          ],
          "scatterpolargl": [
           {
            "marker": {
             "colorbar": {
              "outlinewidth": 0,
              "ticks": ""
             }
            },
            "type": "scatterpolargl"
           }
          ],
          "scatterternary": [
           {
            "marker": {
             "colorbar": {
              "outlinewidth": 0,
              "ticks": ""
             }
            },
            "type": "scatterternary"
           }
          ],
          "surface": [
           {
            "colorbar": {
             "outlinewidth": 0,
             "ticks": ""
            },
            "colorscale": [
             [
              0,
              "#0d0887"
             ],
             [
              0.1111111111111111,
              "#46039f"
             ],
             [
              0.2222222222222222,
              "#7201a8"
             ],
             [
              0.3333333333333333,
              "#9c179e"
             ],
             [
              0.4444444444444444,
              "#bd3786"
             ],
             [
              0.5555555555555556,
              "#d8576b"
             ],
             [
              0.6666666666666666,
              "#ed7953"
             ],
             [
              0.7777777777777778,
              "#fb9f3a"
             ],
             [
              0.8888888888888888,
              "#fdca26"
             ],
             [
              1,
              "#f0f921"
             ]
            ],
            "type": "surface"
           }
          ],
          "table": [
           {
            "cells": {
             "fill": {
              "color": "#EBF0F8"
             },
             "line": {
              "color": "white"
             }
            },
            "header": {
             "fill": {
              "color": "#C8D4E3"
             },
             "line": {
              "color": "white"
             }
            },
            "type": "table"
           }
          ]
         },
         "layout": {
          "annotationdefaults": {
           "arrowcolor": "#2a3f5f",
           "arrowhead": 0,
           "arrowwidth": 1
          },
          "coloraxis": {
           "colorbar": {
            "outlinewidth": 0,
            "ticks": ""
           }
          },
          "colorscale": {
           "diverging": [
            [
             0,
             "#8e0152"
            ],
            [
             0.1,
             "#c51b7d"
            ],
            [
             0.2,
             "#de77ae"
            ],
            [
             0.3,
             "#f1b6da"
            ],
            [
             0.4,
             "#fde0ef"
            ],
            [
             0.5,
             "#f7f7f7"
            ],
            [
             0.6,
             "#e6f5d0"
            ],
            [
             0.7,
             "#b8e186"
            ],
            [
             0.8,
             "#7fbc41"
            ],
            [
             0.9,
             "#4d9221"
            ],
            [
             1,
             "#276419"
            ]
           ],
           "sequential": [
            [
             0,
             "#0d0887"
            ],
            [
             0.1111111111111111,
             "#46039f"
            ],
            [
             0.2222222222222222,
             "#7201a8"
            ],
            [
             0.3333333333333333,
             "#9c179e"
            ],
            [
             0.4444444444444444,
             "#bd3786"
            ],
            [
             0.5555555555555556,
             "#d8576b"
            ],
            [
             0.6666666666666666,
             "#ed7953"
            ],
            [
             0.7777777777777778,
             "#fb9f3a"
            ],
            [
             0.8888888888888888,
             "#fdca26"
            ],
            [
             1,
             "#f0f921"
            ]
           ],
           "sequentialminus": [
            [
             0,
             "#0d0887"
            ],
            [
             0.1111111111111111,
             "#46039f"
            ],
            [
             0.2222222222222222,
             "#7201a8"
            ],
            [
             0.3333333333333333,
             "#9c179e"
            ],
            [
             0.4444444444444444,
             "#bd3786"
            ],
            [
             0.5555555555555556,
             "#d8576b"
            ],
            [
             0.6666666666666666,
             "#ed7953"
            ],
            [
             0.7777777777777778,
             "#fb9f3a"
            ],
            [
             0.8888888888888888,
             "#fdca26"
            ],
            [
             1,
             "#f0f921"
            ]
           ]
          },
          "colorway": [
           "#636efa",
           "#EF553B",
           "#00cc96",
           "#ab63fa",
           "#FFA15A",
           "#19d3f3",
           "#FF6692",
           "#B6E880",
           "#FF97FF",
           "#FECB52"
          ],
          "font": {
           "color": "#2a3f5f"
          },
          "geo": {
           "bgcolor": "white",
           "lakecolor": "white",
           "landcolor": "white",
           "showlakes": true,
           "showland": true,
           "subunitcolor": "#C8D4E3"
          },
          "hoverlabel": {
           "align": "left"
          },
          "hovermode": "closest",
          "mapbox": {
           "style": "light"
          },
          "paper_bgcolor": "white",
          "plot_bgcolor": "white",
          "polar": {
           "angularaxis": {
            "gridcolor": "#EBF0F8",
            "linecolor": "#EBF0F8",
            "ticks": ""
           },
           "bgcolor": "white",
           "radialaxis": {
            "gridcolor": "#EBF0F8",
            "linecolor": "#EBF0F8",
            "ticks": ""
           }
          },
          "scene": {
           "xaxis": {
            "backgroundcolor": "white",
            "gridcolor": "#DFE8F3",
            "gridwidth": 2,
            "linecolor": "#EBF0F8",
            "showbackground": true,
            "ticks": "",
            "zerolinecolor": "#EBF0F8"
           },
           "yaxis": {
            "backgroundcolor": "white",
            "gridcolor": "#DFE8F3",
            "gridwidth": 2,
            "linecolor": "#EBF0F8",
            "showbackground": true,
            "ticks": "",
            "zerolinecolor": "#EBF0F8"
           },
           "zaxis": {
            "backgroundcolor": "white",
            "gridcolor": "#DFE8F3",
            "gridwidth": 2,
            "linecolor": "#EBF0F8",
            "showbackground": true,
            "ticks": "",
            "zerolinecolor": "#EBF0F8"
           }
          },
          "shapedefaults": {
           "line": {
            "color": "#2a3f5f"
           }
          },
          "ternary": {
           "aaxis": {
            "gridcolor": "#DFE8F3",
            "linecolor": "#A2B1C6",
            "ticks": ""
           },
           "baxis": {
            "gridcolor": "#DFE8F3",
            "linecolor": "#A2B1C6",
            "ticks": ""
           },
           "bgcolor": "white",
           "caxis": {
            "gridcolor": "#DFE8F3",
            "linecolor": "#A2B1C6",
            "ticks": ""
           }
          },
          "title": {
           "x": 0.05
          },
          "xaxis": {
           "automargin": true,
           "gridcolor": "#EBF0F8",
           "linecolor": "#EBF0F8",
           "ticks": "",
           "title": {
            "standoff": 15
           },
           "zerolinecolor": "#EBF0F8",
           "zerolinewidth": 2
          },
          "yaxis": {
           "automargin": true,
           "gridcolor": "#EBF0F8",
           "linecolor": "#EBF0F8",
           "ticks": "",
           "title": {
            "standoff": 15
           },
           "zerolinecolor": "#EBF0F8",
           "zerolinewidth": 2
          }
         }
        },
        "title": {
         "text": "",
         "x": 0.5
        },
        "width": 500,
        "xaxis": {
         "linecolor": "Black",
         "linewidth": 0.5,
         "mirror": true,
         "range": [
          10,
          100
         ],
         "showline": true,
         "title": {
          "text": "#labeled data (%)"
         }
        },
        "yaxis": {
         "linecolor": "Black",
         "linewidth": 0.5,
         "mirror": true,
         "range": [
          23.009904741654,
          100
         ],
         "showline": true,
         "title": {
          "text": "Accuracy (%)"
         }
        }
       }
      },
      "text/html": [
       "<div>                            <div id=\"8b199572-d182-4144-b0ff-501f51d39079\" class=\"plotly-graph-div\" style=\"height:400px; width:500px;\"></div>            <script type=\"text/javascript\">                require([\"plotly\"], function(Plotly) {                    window.PLOTLYENV=window.PLOTLYENV || {};                                    if (document.getElementById(\"8b199572-d182-4144-b0ff-501f51d39079\")) {                    Plotly.newPlot(                        \"8b199572-d182-4144-b0ff-501f51d39079\",                        [{\"fillcolor\": \"rgba(229, 134, 6, 0.3)\", \"line\": {\"color\": \"rgb(229, 134, 6)\"}, \"mode\": \"lines\", \"name\": \"ClusterCVXSampler\", \"showlegend\": false, \"type\": \"scatter\", \"x\": [10.0, 13.10344827586207, 16.20689655172414, 19.310344827586206, 22.413793103448278, 25.517241379310345, 28.620689655172413, 31.724137931034484, 34.827586206896555, 37.93103448275862, 41.03448275862069, 44.13793103448276, 47.241379310344826, 50.3448275862069, 53.44827586206897, 56.55172413793103, 59.6551724137931, 62.758620689655174, 65.86206896551724, 68.9655172413793, 72.06896551724138, 75.17241379310344, 78.27586206896552, 81.37931034482759, 84.48275862068965, 87.58620689655173, 90.6896551724138, 93.79310344827586, 96.89655172413794, 100.0], \"y\": [23.992826681094574, 47.4646770390551, 61.35249248726379, 72.54936120378146, 81.04855039024291, 81.4811366087126, 85.46776846386867, 90.12738025379461, 91.2433356046125, 91.42152549666162, 91.50328975968881, 91.53011982742804, 91.58756457931251, 91.57236593138593, 91.38561225306397, 91.15968707269298, 91.09924890228113, 91.448877313102, 91.58307408883881, 91.67723386829769, 91.72463139058912, 91.82586719033606, 91.69184618661188, 91.46713303198858, 91.42042967326081, 91.38757632979507, 91.34654561075178, 91.32746315224736, 91.27291250503671, 91.27251255459173]}, {\"fill\": \"tonexty\", \"fillcolor\": \"rgba(229, 134, 6, 0.3)\", \"line\": {\"color\": \"rgb(229, 134, 6)\"}, \"mode\": \"lines\", \"name\": \"ClusterCVXSampler\", \"showlegend\": true, \"type\": \"scatter\", \"x\": [10.0, 13.10344827586207, 16.20689655172414, 19.310344827586206, 22.413793103448278, 25.517241379310345, 28.620689655172413, 31.724137931034484, 34.827586206896555, 37.93103448275862, 41.03448275862069, 44.13793103448276, 47.241379310344826, 50.3448275862069, 53.44827586206897, 56.55172413793103, 59.6551724137931, 62.758620689655174, 65.86206896551724, 68.9655172413793, 72.06896551724138, 75.17241379310344, 78.27586206896552, 81.37931034482759, 84.48275862068965, 87.58620689655173, 90.6896551724138, 93.79310344827586, 96.89655172413794, 100.0], \"y\": [58.214580726312846, 65.39969077703687, 79.80551517557146, 88.0782250031151, 93.68708179366514, 94.30016607327974, 96.75384073153366, 98.39323277302533, 98.97398240305034, 99.06123312402804, 99.13977537441079, 99.1751675288938, 99.30255036321621, 99.57744249773283, 99.51277855153371, 99.41747767826487, 99.36818404791047, 99.44123762942675, 99.40987610273207, 99.33548643821572, 99.46678623393196, 99.73275349931913, 99.8163530471046, 99.80060643161296, 99.82830595892311, 99.80253861273367, 99.83904825898003, 99.93813071748446, 99.9197311731242, 99.88304300096384]}, {\"fillcolor\": \"rgba(93, 105, 177, 0.3)\", \"line\": {\"color\": \"rgb(93, 105, 177)\"}, \"mode\": \"lines\", \"name\": \"ClusterCVXSampler+Diversity*\", \"showlegend\": false, \"type\": \"scatter\", \"x\": [10.0, 13.10344827586207, 16.20689655172414, 19.310344827586206, 22.413793103448278, 25.517241379310345, 28.620689655172413, 31.724137931034484, 34.827586206896555, 37.93103448275862, 41.03448275862069, 44.13793103448276, 47.241379310344826, 50.3448275862069, 53.44827586206897, 56.55172413793103, 59.6551724137931, 62.758620689655174, 65.86206896551724, 68.9655172413793, 72.06896551724138, 75.17241379310344, 78.27586206896552, 81.37931034482759, 84.48275862068965, 87.58620689655173, 90.6896551724138, 93.79310344827586, 96.89655172413794, 100.0], \"y\": [23.009904741654, 50.562835111136565, 66.64292102589043, 71.24053851900777, 71.73317233736194, 78.37029212514908, 85.51330032138927, 86.0479955910417, 87.18370130028516, 87.65447161877867, 87.1463403694029, 87.07521295478632, 88.38341417203664, 90.1920315457621, 90.38697093031895, 90.46886675336394, 90.41075795694393, 90.24857612617662, 90.32499872615375, 90.63979377379401, 90.48545180536671, 90.92680681727852, 91.52712548322499, 90.85679004395158, 90.93633787101183, 91.16813524071881, 91.34200526611198, 91.3675949173903, 91.31329103389848, 91.27251255459173]}, {\"fill\": \"tonexty\", \"fillcolor\": \"rgba(93, 105, 177, 0.3)\", \"line\": {\"color\": \"rgb(93, 105, 177)\"}, \"mode\": \"lines\", \"name\": \"ClusterCVXSampler+Diversity*\", \"showlegend\": true, \"type\": \"scatter\", \"x\": [10.0, 13.10344827586207, 16.20689655172414, 19.310344827586206, 22.413793103448278, 25.517241379310345, 28.620689655172413, 31.724137931034484, 34.827586206896555, 37.93103448275862, 41.03448275862069, 44.13793103448276, 47.241379310344826, 50.3448275862069, 53.44827586206897, 56.55172413793103, 59.6551724137931, 62.758620689655174, 65.86206896551724, 68.9655172413793, 72.06896551724138, 75.17241379310344, 78.27586206896552, 81.37931034482759, 84.48275862068965, 87.58620689655173, 90.6896551724138, 93.79310344827586, 96.89655172413794, 100.0], \"y\": [55.656761925012674, 62.51693500380597, 81.57171498943525, 92.05279481432555, 95.97870505727408, 94.33614465646009, 95.02731270543066, 95.30015255710644, 96.83813778017459, 97.45817205938226, 97.66198657823438, 98.03308845006681, 98.3689996210668, 99.45693397147927, 99.88873788194157, 99.78592251866674, 99.43997001240474, 99.37571506156284, 99.51622732748609, 99.97384607294929, 100.0344715662808, 99.95549203329621, 99.89570976581719, 99.97294175681469, 99.86764680331765, 99.713397326331, 99.66642385266195, 99.71654301364418, 99.90877793161877, 99.88304300096384]}],                        {\"font\": {\"size\": 15}, \"height\": 400, \"legend\": {\"bgcolor\": \"rgba(0,0,0,0)\", \"bordercolor\": \"Black\", \"borderwidth\": 1, \"x\": 0.98, \"xanchor\": \"right\", \"y\": 0.05, \"yanchor\": \"bottom\"}, \"margin\": {\"b\": 40, \"l\": 0, \"r\": 0, \"t\": 40}, \"template\": {\"data\": {\"bar\": [{\"error_x\": {\"color\": \"#2a3f5f\"}, \"error_y\": {\"color\": \"#2a3f5f\"}, \"marker\": {\"line\": {\"color\": \"white\", \"width\": 0.5}}, \"type\": \"bar\"}], \"barpolar\": [{\"marker\": {\"line\": {\"color\": \"white\", \"width\": 0.5}}, \"type\": \"barpolar\"}], \"carpet\": [{\"aaxis\": {\"endlinecolor\": \"#2a3f5f\", \"gridcolor\": \"#C8D4E3\", \"linecolor\": \"#C8D4E3\", \"minorgridcolor\": \"#C8D4E3\", \"startlinecolor\": \"#2a3f5f\"}, \"baxis\": {\"endlinecolor\": \"#2a3f5f\", \"gridcolor\": \"#C8D4E3\", \"linecolor\": \"#C8D4E3\", \"minorgridcolor\": \"#C8D4E3\", \"startlinecolor\": \"#2a3f5f\"}, \"type\": \"carpet\"}], \"choropleth\": [{\"colorbar\": {\"outlinewidth\": 0, \"ticks\": \"\"}, \"type\": \"choropleth\"}], \"contour\": [{\"colorbar\": {\"outlinewidth\": 0, \"ticks\": \"\"}, \"colorscale\": [[0.0, \"#0d0887\"], [0.1111111111111111, \"#46039f\"], [0.2222222222222222, \"#7201a8\"], [0.3333333333333333, \"#9c179e\"], [0.4444444444444444, \"#bd3786\"], [0.5555555555555556, \"#d8576b\"], [0.6666666666666666, \"#ed7953\"], [0.7777777777777778, \"#fb9f3a\"], [0.8888888888888888, \"#fdca26\"], [1.0, \"#f0f921\"]], \"type\": \"contour\"}], \"contourcarpet\": [{\"colorbar\": {\"outlinewidth\": 0, \"ticks\": \"\"}, \"type\": \"contourcarpet\"}], \"heatmap\": [{\"colorbar\": {\"outlinewidth\": 0, \"ticks\": \"\"}, \"colorscale\": [[0.0, \"#0d0887\"], [0.1111111111111111, \"#46039f\"], [0.2222222222222222, \"#7201a8\"], [0.3333333333333333, \"#9c179e\"], [0.4444444444444444, \"#bd3786\"], [0.5555555555555556, \"#d8576b\"], [0.6666666666666666, \"#ed7953\"], [0.7777777777777778, \"#fb9f3a\"], [0.8888888888888888, \"#fdca26\"], [1.0, \"#f0f921\"]], \"type\": \"heatmap\"}], \"heatmapgl\": [{\"colorbar\": {\"outlinewidth\": 0, \"ticks\": \"\"}, \"colorscale\": [[0.0, \"#0d0887\"], [0.1111111111111111, \"#46039f\"], [0.2222222222222222, \"#7201a8\"], [0.3333333333333333, \"#9c179e\"], [0.4444444444444444, \"#bd3786\"], [0.5555555555555556, \"#d8576b\"], [0.6666666666666666, \"#ed7953\"], [0.7777777777777778, \"#fb9f3a\"], [0.8888888888888888, \"#fdca26\"], [1.0, \"#f0f921\"]], \"type\": \"heatmapgl\"}], \"histogram\": [{\"marker\": {\"colorbar\": {\"outlinewidth\": 0, \"ticks\": \"\"}}, \"type\": \"histogram\"}], \"histogram2d\": [{\"colorbar\": {\"outlinewidth\": 0, \"ticks\": \"\"}, \"colorscale\": [[0.0, \"#0d0887\"], [0.1111111111111111, \"#46039f\"], [0.2222222222222222, \"#7201a8\"], [0.3333333333333333, \"#9c179e\"], [0.4444444444444444, \"#bd3786\"], [0.5555555555555556, \"#d8576b\"], [0.6666666666666666, \"#ed7953\"], [0.7777777777777778, \"#fb9f3a\"], [0.8888888888888888, \"#fdca26\"], [1.0, \"#f0f921\"]], \"type\": \"histogram2d\"}], \"histogram2dcontour\": [{\"colorbar\": {\"outlinewidth\": 0, \"ticks\": \"\"}, \"colorscale\": [[0.0, \"#0d0887\"], [0.1111111111111111, \"#46039f\"], [0.2222222222222222, \"#7201a8\"], [0.3333333333333333, \"#9c179e\"], [0.4444444444444444, \"#bd3786\"], [0.5555555555555556, \"#d8576b\"], [0.6666666666666666, \"#ed7953\"], [0.7777777777777778, \"#fb9f3a\"], [0.8888888888888888, \"#fdca26\"], [1.0, \"#f0f921\"]], \"type\": \"histogram2dcontour\"}], \"mesh3d\": [{\"colorbar\": {\"outlinewidth\": 0, \"ticks\": \"\"}, \"type\": \"mesh3d\"}], \"parcoords\": [{\"line\": {\"colorbar\": {\"outlinewidth\": 0, \"ticks\": \"\"}}, \"type\": \"parcoords\"}], \"pie\": [{\"automargin\": true, \"type\": \"pie\"}], \"scatter\": [{\"marker\": {\"colorbar\": {\"outlinewidth\": 0, \"ticks\": \"\"}}, \"type\": \"scatter\"}], \"scatter3d\": [{\"line\": {\"colorbar\": {\"outlinewidth\": 0, \"ticks\": \"\"}}, \"marker\": {\"colorbar\": {\"outlinewidth\": 0, \"ticks\": \"\"}}, \"type\": \"scatter3d\"}], \"scattercarpet\": [{\"marker\": {\"colorbar\": {\"outlinewidth\": 0, \"ticks\": \"\"}}, \"type\": \"scattercarpet\"}], \"scattergeo\": [{\"marker\": {\"colorbar\": {\"outlinewidth\": 0, \"ticks\": \"\"}}, \"type\": \"scattergeo\"}], \"scattergl\": [{\"marker\": {\"colorbar\": {\"outlinewidth\": 0, \"ticks\": \"\"}}, \"type\": \"scattergl\"}], \"scattermapbox\": [{\"marker\": {\"colorbar\": {\"outlinewidth\": 0, \"ticks\": \"\"}}, \"type\": \"scattermapbox\"}], \"scatterpolar\": [{\"marker\": {\"colorbar\": {\"outlinewidth\": 0, \"ticks\": \"\"}}, \"type\": \"scatterpolar\"}], \"scatterpolargl\": [{\"marker\": {\"colorbar\": {\"outlinewidth\": 0, \"ticks\": \"\"}}, \"type\": \"scatterpolargl\"}], \"scatterternary\": [{\"marker\": {\"colorbar\": {\"outlinewidth\": 0, \"ticks\": \"\"}}, \"type\": \"scatterternary\"}], \"surface\": [{\"colorbar\": {\"outlinewidth\": 0, \"ticks\": \"\"}, \"colorscale\": [[0.0, \"#0d0887\"], [0.1111111111111111, \"#46039f\"], [0.2222222222222222, \"#7201a8\"], [0.3333333333333333, \"#9c179e\"], [0.4444444444444444, \"#bd3786\"], [0.5555555555555556, \"#d8576b\"], [0.6666666666666666, \"#ed7953\"], [0.7777777777777778, \"#fb9f3a\"], [0.8888888888888888, \"#fdca26\"], [1.0, \"#f0f921\"]], \"type\": \"surface\"}], \"table\": [{\"cells\": {\"fill\": {\"color\": \"#EBF0F8\"}, \"line\": {\"color\": \"white\"}}, \"header\": {\"fill\": {\"color\": \"#C8D4E3\"}, \"line\": {\"color\": \"white\"}}, \"type\": \"table\"}]}, \"layout\": {\"annotationdefaults\": {\"arrowcolor\": \"#2a3f5f\", \"arrowhead\": 0, \"arrowwidth\": 1}, \"coloraxis\": {\"colorbar\": {\"outlinewidth\": 0, \"ticks\": \"\"}}, \"colorscale\": {\"diverging\": [[0, \"#8e0152\"], [0.1, \"#c51b7d\"], [0.2, \"#de77ae\"], [0.3, \"#f1b6da\"], [0.4, \"#fde0ef\"], [0.5, \"#f7f7f7\"], [0.6, \"#e6f5d0\"], [0.7, \"#b8e186\"], [0.8, \"#7fbc41\"], [0.9, \"#4d9221\"], [1, \"#276419\"]], \"sequential\": [[0.0, \"#0d0887\"], [0.1111111111111111, \"#46039f\"], [0.2222222222222222, \"#7201a8\"], [0.3333333333333333, \"#9c179e\"], [0.4444444444444444, \"#bd3786\"], [0.5555555555555556, \"#d8576b\"], [0.6666666666666666, \"#ed7953\"], [0.7777777777777778, \"#fb9f3a\"], [0.8888888888888888, \"#fdca26\"], [1.0, \"#f0f921\"]], \"sequentialminus\": [[0.0, \"#0d0887\"], [0.1111111111111111, \"#46039f\"], [0.2222222222222222, \"#7201a8\"], [0.3333333333333333, \"#9c179e\"], [0.4444444444444444, \"#bd3786\"], [0.5555555555555556, \"#d8576b\"], [0.6666666666666666, \"#ed7953\"], [0.7777777777777778, \"#fb9f3a\"], [0.8888888888888888, \"#fdca26\"], [1.0, \"#f0f921\"]]}, \"colorway\": [\"#636efa\", \"#EF553B\", \"#00cc96\", \"#ab63fa\", \"#FFA15A\", \"#19d3f3\", \"#FF6692\", \"#B6E880\", \"#FF97FF\", \"#FECB52\"], \"font\": {\"color\": \"#2a3f5f\"}, \"geo\": {\"bgcolor\": \"white\", \"lakecolor\": \"white\", \"landcolor\": \"white\", \"showlakes\": true, \"showland\": true, \"subunitcolor\": \"#C8D4E3\"}, \"hoverlabel\": {\"align\": \"left\"}, \"hovermode\": \"closest\", \"mapbox\": {\"style\": \"light\"}, \"paper_bgcolor\": \"white\", \"plot_bgcolor\": \"white\", \"polar\": {\"angularaxis\": {\"gridcolor\": \"#EBF0F8\", \"linecolor\": \"#EBF0F8\", \"ticks\": \"\"}, \"bgcolor\": \"white\", \"radialaxis\": {\"gridcolor\": \"#EBF0F8\", \"linecolor\": \"#EBF0F8\", \"ticks\": \"\"}}, \"scene\": {\"xaxis\": {\"backgroundcolor\": \"white\", \"gridcolor\": \"#DFE8F3\", \"gridwidth\": 2, \"linecolor\": \"#EBF0F8\", \"showbackground\": true, \"ticks\": \"\", \"zerolinecolor\": \"#EBF0F8\"}, \"yaxis\": {\"backgroundcolor\": \"white\", \"gridcolor\": \"#DFE8F3\", \"gridwidth\": 2, \"linecolor\": \"#EBF0F8\", \"showbackground\": true, \"ticks\": \"\", \"zerolinecolor\": \"#EBF0F8\"}, \"zaxis\": {\"backgroundcolor\": \"white\", \"gridcolor\": \"#DFE8F3\", \"gridwidth\": 2, \"linecolor\": \"#EBF0F8\", \"showbackground\": true, \"ticks\": \"\", \"zerolinecolor\": \"#EBF0F8\"}}, \"shapedefaults\": {\"line\": {\"color\": \"#2a3f5f\"}}, \"ternary\": {\"aaxis\": {\"gridcolor\": \"#DFE8F3\", \"linecolor\": \"#A2B1C6\", \"ticks\": \"\"}, \"baxis\": {\"gridcolor\": \"#DFE8F3\", \"linecolor\": \"#A2B1C6\", \"ticks\": \"\"}, \"bgcolor\": \"white\", \"caxis\": {\"gridcolor\": \"#DFE8F3\", \"linecolor\": \"#A2B1C6\", \"ticks\": \"\"}}, \"title\": {\"x\": 0.05}, \"xaxis\": {\"automargin\": true, \"gridcolor\": \"#EBF0F8\", \"linecolor\": \"#EBF0F8\", \"ticks\": \"\", \"title\": {\"standoff\": 15}, \"zerolinecolor\": \"#EBF0F8\", \"zerolinewidth\": 2}, \"yaxis\": {\"automargin\": true, \"gridcolor\": \"#EBF0F8\", \"linecolor\": \"#EBF0F8\", \"ticks\": \"\", \"title\": {\"standoff\": 15}, \"zerolinecolor\": \"#EBF0F8\", \"zerolinewidth\": 2}}}, \"title\": {\"text\": \"\", \"x\": 0.5}, \"width\": 500, \"xaxis\": {\"linecolor\": \"Black\", \"linewidth\": 0.5, \"mirror\": true, \"range\": [10, 100], \"showline\": true, \"title\": {\"text\": \"#labeled data (%)\"}}, \"yaxis\": {\"linecolor\": \"Black\", \"linewidth\": 0.5, \"mirror\": true, \"range\": [23.009904741654, 100], \"showline\": true, \"title\": {\"text\": \"Accuracy (%)\"}}},                        {\"responsive\": true}                    ).then(function(){\n",
       "                            \n",
       "var gd = document.getElementById('8b199572-d182-4144-b0ff-501f51d39079');\n",
       "var x = new MutationObserver(function (mutations, observer) {{\n",
       "        var display = window.getComputedStyle(gd).display;\n",
       "        if (!display || display === 'none') {{\n",
       "            console.log([gd, 'removed!']);\n",
       "            Plotly.purge(gd);\n",
       "            observer.disconnect();\n",
       "        }}\n",
       "}});\n",
       "\n",
       "// Listen for the removal of the full notebook cells\n",
       "var notebookContainer = gd.closest('#notebook-container');\n",
       "if (notebookContainer) {{\n",
       "    x.observe(notebookContainer, {childList: true});\n",
       "}}\n",
       "\n",
       "// Listen for the clearing of the current output cell\n",
       "var outputEl = gd.closest('.output');\n",
       "if (outputEl) {{\n",
       "    x.observe(outputEl, {childList: true});\n",
       "}}\n",
       "\n",
       "                        })                };                });            </script>        </div>"
      ]
     },
     "metadata": {},
     "output_type": "display_data"
    }
   ],
   "source": [
    "plot([spectral, spectral_perfect_diversity], \n",
    "     [\"ClusterCVXSampler\", \"ClusterCVXSampler+Diversity*\"], \n",
    "     filename=\"cvx_cluster_perfect_diversity_K={}_sigma={}_alpha={}.pdf\".format(K, sigma, alpha), \n",
    "     opacity=0.3)"
   ]
  },
  {
   "cell_type": "code",
   "execution_count": null,
   "metadata": {},
   "outputs": [],
   "source": []
  },
  {
   "cell_type": "code",
   "execution_count": null,
   "metadata": {},
   "outputs": [],
   "source": []
  }
 ],
 "metadata": {
  "kernelspec": {
   "display_name": "Python 3",
   "language": "python",
   "name": "python3"
  },
  "language_info": {
   "codemirror_mode": {
    "name": "ipython",
    "version": 3
   },
   "file_extension": ".py",
   "mimetype": "text/x-python",
   "name": "python",
   "nbconvert_exporter": "python",
   "pygments_lexer": "ipython3",
   "version": "3.7.7"
  }
 },
 "nbformat": 4,
 "nbformat_minor": 4
}
